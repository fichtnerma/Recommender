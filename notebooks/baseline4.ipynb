{
 "cells": [
  {
   "cell_type": "markdown",
   "metadata": {},
   "source": [
    "# Baseline - Most popular\n",
    "Use max count of user ratings in test set for precision and recall calculation"
   ]
  },
  {
   "cell_type": "code",
   "execution_count": 1,
   "outputs": [
    {
     "name": "stderr",
     "output_type": "stream",
     "text": [
      "/Users/johannes/Studium/MMT/1. Semester/Fächer/Recommender Systems/Abschlussprojekt/code/recommender-systems/bibrec/server/Utils.py:398: DtypeWarning: Columns (4) have mixed types. Specify dtype option on import or set low_memory=False.\n",
      "  ratings = pd.read_csv(ratings_path, sep=\",\", encoding=\"utf-8\", na_filter=False)\n"
     ]
    }
   ],
   "source": [
    "import importlib\n",
    "from collections import defaultdict\n",
    "\n",
    "import pandas as pd\n",
    "from sklearn.model_selection import train_test_split\n",
    "\n",
    "import bibrec.server.Utils as Utils\n",
    "import bibrec.server.evaluation as eval\n",
    "from bibrec.server.Utils import assign_popular_based_score\n",
    "\n",
    "importlib.reload(eval)\n",
    "importlib.reload(Utils)\n",
    "\n",
    "books, users, ratings = Utils.get_normalized_data(books_path=\"../data/normalized_books.csv\",\n",
    "                                                  users_path=\"../data/normalized_users.csv\",\n",
    "                                                  ratings_path=\"../data/normalized_ratings.csv\")"
   ],
   "metadata": {
    "collapsed": false,
    "pycharm": {
     "name": "#%%\n"
    }
   }
  },
  {
   "cell_type": "code",
   "execution_count": 2,
   "outputs": [],
   "source": [
    "users_with_ratings = ratings[\"user_id\"].unique()\n",
    "\n",
    "# normal splitting since user specific splitting doesn't make that much of a difference and takes a long time\n",
    "train, test = train_test_split(ratings, test_size=0.25)"
   ],
   "metadata": {
    "collapsed": false,
    "pycharm": {
     "name": "#%%\n"
    }
   }
  },
  {
   "cell_type": "code",
   "execution_count": 3,
   "outputs": [
    {
     "name": "stdout",
     "output_type": "stream",
     "text": [
      "Total Ratings Count: 383962\n",
      "Train Data Ratings Count: 287971\n",
      "Test Data Ratings Count: 95991\n"
     ]
    }
   ],
   "source": [
    "print(\"Total Ratings Count:\", len(train) + len(test))\n",
    "print(\"Train Data Ratings Count:\", len(train))\n",
    "print(\"Test Data Ratings Count:\", len(test))"
   ],
   "metadata": {
    "collapsed": false,
    "pycharm": {
     "name": "#%%\n"
    }
   }
  },
  {
   "cell_type": "code",
   "execution_count": 4,
   "outputs": [],
   "source": [
    "book_ratings_dict = {\n",
    "    'user_id': train['user_id'].values,\n",
    "    'isbn13': train['isbn13'].values,\n",
    "    'book_rating': train['book_rating'].values\n",
    "}\n",
    "\n",
    "book_rating_df = train[['user_id', 'isbn13', 'book_rating']]"
   ],
   "metadata": {
    "collapsed": false,
    "pycharm": {
     "name": "#%%\n"
    }
   }
  },
  {
   "cell_type": "code",
   "execution_count": 5,
   "outputs": [
    {
     "name": "stdout",
     "output_type": "stream",
     "text": [
      "              isbn13  vote_count  avg_rating  weighted_rating\n",
      "9052   9780316666343         547    8.170018         8.167693\n",
      "33525  9780971880108         409    4.435208         4.450276\n",
      "14199  9780385504201         373    8.388740         8.384169\n",
      "7943   9780312195519         282    8.170213         8.165717\n",
      "4608   9780060928339         240    7.920833         7.917618\n",
      "1725    978044667227         231    8.125541         8.120444\n",
      "23405  9780590353427         228    8.942982         8.930711\n",
      "7007   9780142001745         224    8.366071         8.358688\n",
      "24603  9780671027360         210    8.119048         8.113507\n",
      "20298  9780452282155         206    8.058252         8.053190\n",
      "9033   9780316601955         204    7.421569         7.422638\n",
      "16938  9780440237228         199    7.326633         7.328674\n",
      "26726  9780679764021         188    7.851064         7.847703\n",
      "29789  9780786868711         184    7.885870         7.882062\n",
      "9091   9780316769488         179    7.597765         7.597036\n",
      "28372  9780743418171         177    8.073446         8.067394\n",
      "7272   9780156027328         176    7.948864         7.944177\n",
      "8119   9780312278588         175    7.422857         7.424088\n",
      "4643   9780060930530         168    8.160714         8.153315\n",
      "9738   9780345337665         166    7.734940         7.732521\n"
     ]
    }
   ],
   "source": [
    "train[\"isbn13\"] = train[\"isbn13\"].astype(\"int\")\n",
    "books[\"isbn13\"] = books[\"isbn13\"].astype(\"int\")\n",
    "popular_books = assign_popular_based_score(train, books, \"user_id\", \"isbn13\", \"book_rating\")\n",
    "popular_books = popular_books.sort_values(\"vote_count\", ascending=False)\n",
    "\n",
    "print(popular_books[:20])"
   ],
   "metadata": {
    "collapsed": false,
    "pycharm": {
     "name": "#%%\n"
    }
   }
  },
  {
   "cell_type": "code",
   "execution_count": 6,
   "outputs": [],
   "source": [
    "pop_dict = {\n",
    "    'item_id': popular_books['isbn13'].values,\n",
    "    'est_r': popular_books['avg_rating'].values,\n",
    "}\n",
    "\n",
    "pop_df = pd.DataFrame.from_dict(pop_dict)\n",
    "\n",
    "ratings_dict = {\n",
    "    'user_id': test['user_id'].values,\n",
    "    'item_id': test['isbn13'].values,\n",
    "    'rating': test['book_rating'].values\n",
    "}\n",
    "\n",
    "ratings_df = pd.DataFrame.from_dict(ratings_dict)"
   ],
   "metadata": {
    "collapsed": false,
    "pycharm": {
     "name": "#%%\n"
    }
   }
  },
  {
   "cell_type": "code",
   "execution_count": 7,
   "outputs": [
    {
     "name": "stdout",
     "output_type": "stream",
     "text": [
      "User Count: 29857\n"
     ]
    }
   ],
   "source": [
    "test_uids = ratings_df[\"user_id\"].unique()\n",
    "\n",
    "print(\"User Count:\", len(test_uids))"
   ],
   "metadata": {
    "collapsed": false,
    "pycharm": {
     "name": "#%%\n"
    }
   }
  },
  {
   "cell_type": "code",
   "execution_count": 8,
   "outputs": [],
   "source": [
    "def def_value():\n",
    "    return \"Not Present\"\n",
    "\n",
    "\n",
    "top_n = defaultdict(def_value)\n",
    "for uid in test_uids:\n",
    "    top_n[uid] = pop_df"
   ],
   "metadata": {
    "collapsed": false,
    "pycharm": {
     "name": "#%%\n"
    }
   }
  },
  {
   "cell_type": "code",
   "execution_count": 9,
   "outputs": [
    {
     "name": "stdout",
     "output_type": "stream",
     "text": [
      "Average Precision: 0.018975924835369744\n",
      "--- Calculation time: 52.31079387664795 seconds ---\n"
     ]
    }
   ],
   "source": [
    "import time\n",
    "\n",
    "importlib.reload(eval)\n",
    "importlib.reload(Utils)\n",
    "start_time = time.time()\n",
    "# use_max_val specifies whether the calculation should use the max count of user ratings as denominator if the recommendation count is higher\n",
    "avg_precision = eval.get_avg_precision(ratings_df, top_n, k=50, use_max_val=True)\n",
    "\n",
    "print(\"Average Precision:\", avg_precision)\n",
    "print(\"--- Calculation time: %s seconds ---\" % (time.time() - start_time))"
   ],
   "metadata": {
    "collapsed": false,
    "pycharm": {
     "name": "#%%\n"
    }
   }
  },
  {
   "cell_type": "code",
   "execution_count": 10,
   "outputs": [
    {
     "name": "stdout",
     "output_type": "stream",
     "text": [
      "Average Recall: 0.022382074528103858\n",
      "--- Calculation time: 102.24447202682495 seconds ---\n"
     ]
    }
   ],
   "source": [
    "importlib.reload(eval)\n",
    "importlib.reload(Utils)\n",
    "# use_max_val specifies whether the calculation should use the max count of user ratings as denominator if the relevant item count is higher\n",
    "avg_recall = eval.get_avg_recall(ratings_df, top_n, k=50, use_max_val=True)\n",
    "\n",
    "print(\"Average Recall:\", avg_recall)\n",
    "print(\"--- Calculation time: %s seconds ---\" % (time.time() - start_time))"
   ],
   "metadata": {
    "collapsed": false,
    "pycharm": {
     "name": "#%%\n"
    }
   }
  }
 ],
 "metadata": {
  "kernelspec": {
   "display_name": "Python 3.9.14 64-bit",
   "language": "python",
   "name": "python3"
  },
  "language_info": {
   "codemirror_mode": {
    "name": "ipython",
    "version": 3
   },
   "file_extension": ".py",
   "mimetype": "text/x-python",
   "name": "python",
   "nbconvert_exporter": "python",
   "pygments_lexer": "ipython3",
   "version": "3.9.14"
  },
  "orig_nbformat": 4,
  "vscode": {
   "interpreter": {
    "hash": "397704579725e15f5c7cb49fe5f0341eb7531c82d19f2c29d197e8b64ab5776b"
   }
  }
 },
 "nbformat": 4,
 "nbformat_minor": 2
}