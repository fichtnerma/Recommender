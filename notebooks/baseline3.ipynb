{
 "cells": [
  {
   "cell_type": "markdown",
   "metadata": {},
   "source": [
    "# Baseline - Most popular\n",
    "User individual splitting of ratings"
   ]
  },
  {
   "cell_type": "code",
   "execution_count": 1,
   "outputs": [
    {
     "name": "stderr",
     "output_type": "stream",
     "text": [
      "/Users/johannes/Studium/MMT/1. Semester/Fächer/Recommender Systems/Abschlussprojekt/code/recommender-systems/bibrec/server/Utils.py:398: DtypeWarning: Columns (4) have mixed types. Specify dtype option on import or set low_memory=False.\n",
      "  ratings = pd.read_csv(ratings_path, sep=\",\", encoding=\"utf-8\", na_filter=False)\n"
     ]
    }
   ],
   "source": [
    "from bibrec.server.Utils import assign_popular_based_score\n",
    "import pandas as pd\n",
    "import numpy as np\n",
    "import bibrec.server.evaluation as eval\n",
    "from collections import defaultdict\n",
    "import bibrec.server.Utils as Utils\n",
    "import importlib\n",
    "from sklearn.model_selection import train_test_split\n",
    "\n",
    "importlib.reload(eval)\n",
    "importlib.reload(Utils)\n",
    "\n",
    "books, users, ratings = Utils.get_normalized_data(books_path=\"../data/normalized_books.csv\",\n",
    "                                                  users_path=\"../data/normalized_users.csv\",\n",
    "                                                  ratings_path=\"../data/normalized_ratings.csv\")"
   ],
   "metadata": {
    "collapsed": false,
    "pycharm": {
     "name": "#%%\n"
    }
   }
  },
  {
   "cell_type": "code",
   "execution_count": 2,
   "outputs": [],
   "source": [
    "ratings = ratings[:150000]"
   ],
   "metadata": {
    "collapsed": false,
    "pycharm": {
     "name": "#%%\n"
    }
   }
  },
  {
   "cell_type": "code",
   "execution_count": 3,
   "outputs": [],
   "source": [
    "users_with_ratings = ratings[\"user_id\"].unique()\n",
    "\n",
    "train = pd.DataFrame(columns=ratings.columns)\n",
    "test = pd.DataFrame(columns=ratings.columns)\n",
    "\n",
    "# split data for each user individually\n",
    "for user_id in users_with_ratings:\n",
    "    mask = ratings[\"user_id\"] == user_id\n",
    "    user_ratings = ratings[mask]\n",
    "    if len(user_ratings) < 3:\n",
    "        continue\n",
    "    train_user, test_user = train_test_split(user_ratings, test_size=0.25)\n",
    "    train = pd.concat([train, train_user])\n",
    "    test = pd.concat([test, test_user])\n",
    "\n"
   ],
   "metadata": {
    "collapsed": false,
    "pycharm": {
     "name": "#%%\n"
    }
   }
  },
  {
   "cell_type": "code",
   "execution_count": 4,
   "outputs": [
    {
     "name": "stdout",
     "output_type": "stream",
     "text": [
      "Total Ratings Count: 129154\n",
      "Train Data Ratings Count: 94371\n",
      "Test Data Ratings Count: 34783\n"
     ]
    }
   ],
   "source": [
    "print(\"Total Ratings Count:\", len(train) + len(test))\n",
    "print(\"Train Data Ratings Count:\", len(train))\n",
    "print(\"Test Data Ratings Count:\", len(test))"
   ],
   "metadata": {
    "collapsed": false,
    "pycharm": {
     "name": "#%%\n"
    }
   }
  },
  {
   "cell_type": "code",
   "execution_count": 5,
   "outputs": [],
   "source": [
    "book_ratings_dict = {\n",
    "    'user_id': train['user_id'].values,\n",
    "    'isbn13': train['isbn13'].values,\n",
    "    'book_rating': train['book_rating'].values\n",
    "}\n",
    "\n",
    "book_rating_df = train[['user_id', 'isbn13', 'book_rating']]"
   ],
   "metadata": {
    "collapsed": false,
    "pycharm": {
     "name": "#%%\n"
    }
   }
  },
  {
   "cell_type": "code",
   "execution_count": 6,
   "outputs": [
    {
     "name": "stdout",
     "output_type": "stream",
     "text": [
      "              isbn13  vote_count  avg_rating  weighted_rating\n",
      "13480  9780316666343         123    8.097561         8.094197\n",
      "19862  9780385504201         110    8.554545         8.546671\n",
      "47952  9780971880108          83    4.301205         4.341434\n",
      "31790  9780590353427          73    9.123288         9.103790\n",
      "6979   9780060928339          70    7.714286         7.713809\n",
      "11769  9780312195519          64    8.390625         8.379699\n",
      "10034  9780142001745          61    8.360656         8.349685\n",
      "2393    978044667227          59    8.067797         8.061341\n",
      "33383  9780671027360          59    8.237288         8.228007\n",
      "38463  9780743418171          59    7.915254         7.911341\n",
      "27500  9780452282155          56    7.839286         7.836499\n",
      "10394  9780156027328          55    8.454545         8.440722\n",
      "24305  9780446310789          54    8.962963         8.939644\n",
      "35978  9780679764021          52    7.576923         7.578876\n",
      "40905  9780786868711          51    7.823529         7.820778\n",
      "23482  9780440237228          50    7.620000         7.621185\n",
      "17760  9780375727344          50    7.400000         7.405499\n",
      "13455  9780316601955          49    7.632653         7.633609\n",
      "23115  9780440211457          49    7.857143         7.853609\n",
      "14593  9780345370778          49    7.816327         7.813609\n"
     ]
    }
   ],
   "source": [
    "train[\"isbn13\"] = train[\"isbn13\"].astype(\"int\")\n",
    "books[\"isbn13\"] = books[\"isbn13\"].astype(\"int\")\n",
    "popular_books = assign_popular_based_score(train, books, \"user_id\", \"isbn13\", \"book_rating\")\n",
    "popular_books = popular_books.sort_values(\"vote_count\", ascending=False)\n",
    "\n",
    "print(popular_books[:20])"
   ],
   "metadata": {
    "collapsed": false,
    "pycharm": {
     "name": "#%%\n"
    }
   }
  },
  {
   "cell_type": "code",
   "execution_count": 7,
   "outputs": [],
   "source": [
    "pop_dict = {\n",
    "    'item_id': popular_books['isbn13'].values,\n",
    "    'est_r': popular_books['avg_rating'].values,\n",
    "}\n",
    "\n",
    "pop_df = pd.DataFrame.from_dict(pop_dict)\n",
    "\n",
    "ratings_dict = {\n",
    "    'user_id': test['user_id'].values,\n",
    "    'item_id': test['isbn13'].values,\n",
    "    'rating': test['book_rating'].values\n",
    "}\n",
    "\n",
    "ratings_df = pd.DataFrame.from_dict(ratings_dict)"
   ],
   "metadata": {
    "collapsed": false,
    "pycharm": {
     "name": "#%%\n"
    }
   }
  },
  {
   "cell_type": "code",
   "execution_count": 8,
   "outputs": [
    {
     "name": "stdout",
     "output_type": "stream",
     "text": [
      "User Count: 7547\n"
     ]
    }
   ],
   "source": [
    "test_uids = ratings_df[\"user_id\"].unique()\n",
    "\n",
    "print(\"User Count:\", len(test_uids))"
   ],
   "metadata": {
    "collapsed": false,
    "pycharm": {
     "name": "#%%\n"
    }
   }
  },
  {
   "cell_type": "code",
   "execution_count": 9,
   "outputs": [],
   "source": [
    "def def_value():\n",
    "    return \"Not Present\"\n",
    "\n",
    "\n",
    "top_n = defaultdict(def_value)\n",
    "for uid in test_uids:\n",
    "    top_n[uid] = pop_df"
   ],
   "metadata": {
    "collapsed": false,
    "pycharm": {
     "name": "#%%\n"
    }
   }
  },
  {
   "cell_type": "code",
   "execution_count": 10,
   "outputs": [
    {
     "name": "stdout",
     "output_type": "stream",
     "text": [
      "Average Precision: 0.001784418757095977\n",
      "--- Calculation time: 31.682682991027832 seconds ---\n"
     ]
    }
   ],
   "source": [
    "import time\n",
    "\n",
    "importlib.reload(eval)\n",
    "importlib.reload(Utils)\n",
    "start_time = time.time()\n",
    "avg_precision = eval.get_avg_precision(ratings_df, top_n, k=50)\n",
    "\n",
    "print(\"Average Precision:\", avg_precision)\n",
    "print(\"--- Calculation time: %s seconds ---\" % (time.time() - start_time))"
   ],
   "metadata": {
    "collapsed": false,
    "pycharm": {
     "name": "#%%\n"
    }
   }
  },
  {
   "cell_type": "code",
   "execution_count": 11,
   "outputs": [
    {
     "name": "stdout",
     "output_type": "stream",
     "text": [
      "Average Recall: 0.021852577433061477\n",
      "--- Calculation time: 62.42608594894409 seconds ---\n"
     ]
    }
   ],
   "source": [
    "avg_recall = eval.get_avg_recall(ratings_df, top_n, k=50)\n",
    "\n",
    "print(\"Average Recall:\", avg_recall)\n",
    "print(\"--- Calculation time: %s seconds ---\" % (time.time() - start_time))"
   ],
   "metadata": {
    "collapsed": false,
    "pycharm": {
     "name": "#%%\n"
    }
   }
  }
 ],
 "metadata": {
  "kernelspec": {
   "display_name": "Python 3.9.14 64-bit",
   "language": "python",
   "name": "python3"
  },
  "language_info": {
   "codemirror_mode": {
    "name": "ipython",
    "version": 3
   },
   "file_extension": ".py",
   "mimetype": "text/x-python",
   "name": "python",
   "nbconvert_exporter": "python",
   "pygments_lexer": "ipython3",
   "version": "3.9.14"
  },
  "orig_nbformat": 4,
  "vscode": {
   "interpreter": {
    "hash": "397704579725e15f5c7cb49fe5f0341eb7531c82d19f2c29d197e8b64ab5776b"
   }
  }
 },
 "nbformat": 4,
 "nbformat_minor": 2
}