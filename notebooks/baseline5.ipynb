{
 "cells": [
  {
   "cell_type": "markdown",
   "metadata": {},
   "source": [
    "# Baseline - Most popular\n",
    "Use normalized ratings for calculation"
   ]
  },
  {
   "cell_type": "code",
   "execution_count": 18,
   "outputs": [
    {
     "name": "stderr",
     "output_type": "stream",
     "text": [
      "/Users/johannes/Studium/MMT/1. Semester/Fächer/Recommender Systems/Abschlussprojekt/code/recommender-systems/bibrec/server/Utils.py:16: DtypeWarning: Columns (3) have mixed types. Specify dtype option on import or set low_memory=False.\n",
      "  df = pd.read_csv(path, sep=\";\", encoding=\"latin-1\")\n",
      "/Users/johannes/Studium/MMT/1. Semester/Fächer/Recommender Systems/Abschlussprojekt/code/recommender-systems/bibrec/server/Utils.py:98: FutureWarning: In a future version of pandas all arguments of StringMethods.split except for the argument 'pat' will be keyword-only.\n",
      "  location_seperated = users.location.str.split(',', 2, expand=True)\n"
     ]
    },
    {
     "name": "stdout",
     "output_type": "stream",
     "text": [
      "Normalized Ratings Count: 383962\n"
     ]
    }
   ],
   "source": [
    "import importlib\n",
    "from collections import defaultdict\n",
    "\n",
    "import pandas as pd\n",
    "from sklearn.model_selection import train_test_split\n",
    "\n",
    "import bibrec.server.Utils as Utils\n",
    "import bibrec.server.evaluation as eval\n",
    "from bibrec.server.Utils import assign_popular_based_score\n",
    "\n",
    "importlib.reload(eval)\n",
    "importlib.reload(Utils)\n",
    "\n",
    "books, users, ratings = Utils.get_normalized_data()"
   ],
   "metadata": {
    "collapsed": false,
    "pycharm": {
     "name": "#%%\n"
    }
   }
  },
  {
   "cell_type": "code",
   "execution_count": 19,
   "outputs": [],
   "source": [
    "users_with_ratings = ratings[\"user_id\"].unique()\n",
    "\n",
    "# normal splitting since user specific splitting doesn't make that much of a difference and takes a long time\n",
    "train, test = train_test_split(ratings, test_size=0.25)"
   ],
   "metadata": {
    "collapsed": false,
    "pycharm": {
     "name": "#%%\n"
    }
   }
  },
  {
   "cell_type": "code",
   "execution_count": 20,
   "outputs": [
    {
     "name": "stdout",
     "output_type": "stream",
     "text": [
      "Total Ratings Count: 383962\n",
      "Train Data Ratings Count: 287971\n",
      "Test Data Ratings Count: 95991\n"
     ]
    }
   ],
   "source": [
    "print(\"Total Ratings Count:\", len(train) + len(test))\n",
    "print(\"Train Data Ratings Count:\", len(train))\n",
    "print(\"Test Data Ratings Count:\", len(test))"
   ],
   "metadata": {
    "collapsed": false,
    "pycharm": {
     "name": "#%%\n"
    }
   }
  },
  {
   "cell_type": "code",
   "execution_count": 21,
   "outputs": [],
   "source": [
    "book_ratings_dict = {\n",
    "    'user_id': train['user_id'].values,\n",
    "    'isbn13': train['isbn13'].values,\n",
    "    'book_rating': train['normalized_rating'].values\n",
    "}\n",
    "\n",
    "book_rating_df = train[['user_id', 'isbn13', 'normalized_rating']]"
   ],
   "metadata": {
    "collapsed": false,
    "pycharm": {
     "name": "#%%\n"
    }
   }
  },
  {
   "cell_type": "code",
   "execution_count": 22,
   "outputs": [
    {
     "name": "stdout",
     "output_type": "stream",
     "text": [
      "              isbn13  vote_count  avg_rating  weighted_rating\n",
      "9194   9780316666343         521    0.379098         0.377289\n",
      "33517  9780971880108         432   -1.943317        -1.934795\n",
      "14284  9780385504201         370    0.687186         0.682986\n",
      "8042   9780312195519         291    0.506008         0.501912\n",
      "4666   9780060928339         251    0.261791         0.258978\n",
      "23540  9780590353427         245    0.718934         0.712351\n",
      "7104   9780142001745         229    0.660638         0.654104\n",
      "9176   9780316601955         217    0.025862         0.024767\n",
      "1721    978044667227         215    0.436349         0.431460\n",
      "20396  9780452282155         207    0.366009         0.361606\n",
      "24726  9780671027360         204    0.310097         0.306173\n",
      "17023  9780440237228         199    0.120899         0.118760\n",
      "26806  9780679764021         196    0.106604         0.104577\n",
      "28451  9780743418171         186    0.417827         0.412382\n",
      "29795  9780786868711         181    0.129948         0.127500\n",
      "12453  9780375727344         180    0.085879         0.083901\n",
      "9231   9780316769488         180   -0.073479        -0.073705\n",
      "24636  9780671021009         174    0.073480         0.071576\n",
      "8222   9780312278588         170    0.134261         0.131606\n",
      "9859   9780345337665         165   -0.071997        -0.072261\n"
     ]
    }
   ],
   "source": [
    "train[\"isbn13\"] = train[\"isbn13\"].astype(\"int\")\n",
    "books[\"isbn13\"] = books[\"isbn13\"].astype(\"int\")\n",
    "popular_books = assign_popular_based_score(train, books, \"user_id\", \"isbn13\", \"normalized_rating\")\n",
    "popular_books = popular_books.sort_values(\"vote_count\", ascending=False)\n",
    "\n",
    "print(popular_books[:20])"
   ],
   "metadata": {
    "collapsed": false,
    "pycharm": {
     "name": "#%%\n"
    }
   }
  },
  {
   "cell_type": "code",
   "execution_count": 23,
   "outputs": [],
   "source": [
    "pop_dict = {\n",
    "    'item_id': popular_books['isbn13'].values,\n",
    "    'est_r': popular_books['avg_rating'].values,\n",
    "}\n",
    "\n",
    "pop_df = pd.DataFrame.from_dict(pop_dict)\n",
    "\n",
    "ratings_dict = {\n",
    "    'user_id': test['user_id'].values,\n",
    "    'item_id': test['isbn13'].values,\n",
    "    'rating': test['normalized_rating'].values\n",
    "}\n",
    "\n",
    "ratings_df = pd.DataFrame.from_dict(ratings_dict)"
   ],
   "metadata": {
    "collapsed": false,
    "pycharm": {
     "name": "#%%\n"
    }
   }
  },
  {
   "cell_type": "code",
   "execution_count": 24,
   "outputs": [
    {
     "name": "stdout",
     "output_type": "stream",
     "text": [
      "User Count: 29864\n"
     ]
    }
   ],
   "source": [
    "test_uids = ratings_df[\"user_id\"].unique()\n",
    "\n",
    "print(\"User Count:\", len(test_uids))"
   ],
   "metadata": {
    "collapsed": false,
    "pycharm": {
     "name": "#%%\n"
    }
   }
  },
  {
   "cell_type": "code",
   "execution_count": 25,
   "outputs": [],
   "source": [
    "def def_value():\n",
    "    return \"Not Present\"\n",
    "\n",
    "\n",
    "top_n = defaultdict(def_value)\n",
    "for uid in test_uids:\n",
    "    top_n[uid] = pop_df"
   ],
   "metadata": {
    "collapsed": false,
    "pycharm": {
     "name": "#%%\n"
    }
   }
  },
  {
   "cell_type": "code",
   "execution_count": 26,
   "outputs": [
    {
     "name": "stdout",
     "output_type": "stream",
     "text": [
      "Average Precision: 0.0015227245483825495\n",
      "--- Calculation time: 61.55460524559021 seconds ---\n"
     ]
    }
   ],
   "source": [
    "import time\n",
    "\n",
    "importlib.reload(eval)\n",
    "importlib.reload(Utils)\n",
    "start_time = time.time()\n",
    "avg_precision = eval.get_avg_precision(ratings_df, top_n, k=50)\n",
    "\n",
    "print(\"Average Precision:\", avg_precision)\n",
    "print(\"--- Calculation time: %s seconds ---\" % (time.time() - start_time))"
   ],
   "metadata": {
    "collapsed": false,
    "pycharm": {
     "name": "#%%\n"
    }
   }
  },
  {
   "cell_type": "code",
   "execution_count": 27,
   "outputs": [
    {
     "name": "stdout",
     "output_type": "stream",
     "text": [
      "Average Recall: 0.0312002483568644\n",
      "--- Calculation time: 127.75377702713013 seconds ---\n"
     ]
    }
   ],
   "source": [
    "avg_recall = eval.get_avg_recall(ratings_df, top_n, k=50)\n",
    "\n",
    "print(\"Average Recall:\", avg_recall)\n",
    "print(\"--- Calculation time: %s seconds ---\" % (time.time() - start_time))"
   ],
   "metadata": {
    "collapsed": false,
    "pycharm": {
     "name": "#%%\n"
    }
   }
  }
 ],
 "metadata": {
  "kernelspec": {
   "display_name": "Python 3.9.14 64-bit",
   "language": "python",
   "name": "python3"
  },
  "language_info": {
   "codemirror_mode": {
    "name": "ipython",
    "version": 3
   },
   "file_extension": ".py",
   "mimetype": "text/x-python",
   "name": "python",
   "nbconvert_exporter": "python",
   "pygments_lexer": "ipython3",
   "version": "3.9.14"
  },
  "orig_nbformat": 4,
  "vscode": {
   "interpreter": {
    "hash": "397704579725e15f5c7cb49fe5f0341eb7531c82d19f2c29d197e8b64ab5776b"
   }
  }
 },
 "nbformat": 4,
 "nbformat_minor": 2
}
