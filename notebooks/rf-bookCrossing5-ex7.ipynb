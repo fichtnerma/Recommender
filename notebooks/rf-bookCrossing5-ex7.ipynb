{
 "cells": [
  {
   "cell_type": "markdown",
   "source": [
    "# BibRec: Training Random Forest Model"
   ],
   "metadata": {
    "collapsed": false
   }
  },
  {
   "cell_type": "markdown",
   "source": [
    "### Train Random Forest Model on all ratings\n",
    "RF Features: Country, State, Age, Year-of-Publication, Publisher\n"
   ],
   "metadata": {
    "collapsed": false
   }
  },
  {
   "cell_type": "code",
   "execution_count": null,
   "outputs": [],
   "source": [
    "# Specify where to save the model\n",
    "model_file = \"rf-model-ex7.pkl\""
   ],
   "metadata": {
    "collapsed": false
   }
  },
  {
   "cell_type": "code",
   "execution_count": null,
   "outputs": [],
   "source": [
    "from bibrec.server.Utils import *\n",
    "from sklearn.model_selection import train_test_split\n",
    "from sklearn.ensemble import RandomForestClassifier\n",
    "from sklearn.metrics import classification_report, accuracy_score\n",
    "\n",
    "books, users, ratings = get_normalized_data(books_path='../data/normalized_books.csv',\n",
    "                                            users_path='../data/normalized_users.csv',\n",
    "                                            ratings_path='../data/normalized_ratings.csv')"
   ],
   "metadata": {
    "collapsed": false
   }
  },
  {
   "cell_type": "code",
   "execution_count": null,
   "outputs": [],
   "source": [
    "users"
   ],
   "metadata": {
    "collapsed": false
   }
  },
  {
   "cell_type": "code",
   "execution_count": null,
   "outputs": [],
   "source": [
    "books = books.drop([\"isbn\"], axis=1)\n",
    "books"
   ],
   "metadata": {
    "collapsed": false
   }
  },
  {
   "cell_type": "code",
   "execution_count": null,
   "outputs": [],
   "source": [
    "ratings = ratings.drop([\"isbn\"], axis=1)\n",
    "ratings"
   ],
   "metadata": {
    "collapsed": false
   }
  },
  {
   "cell_type": "code",
   "execution_count": null,
   "outputs": [],
   "source": [
    "encoded_books = hot_encode_books(books)\n",
    "encoded_books"
   ],
   "metadata": {
    "collapsed": false
   }
  },
  {
   "cell_type": "code",
   "execution_count": null,
   "outputs": [],
   "source": [
    "encoded_users = hot_encode_users(users)\n",
    "encoded_users"
   ],
   "metadata": {
    "collapsed": false
   }
  },
  {
   "cell_type": "code",
   "execution_count": null,
   "outputs": [],
   "source": [
    "# RF Features: Country, State, Age, Year-of-Publication, Publisher\n",
    "df_books = encoded_books.filter(regex=\"isbn13|normalized_year_of_publication|publisher_\", axis=1)\n",
    "df_books"
   ],
   "metadata": {
    "collapsed": false
   }
  },
  {
   "cell_type": "code",
   "execution_count": null,
   "outputs": [],
   "source": [
    "df_users = encoded_users.filter(regex=\"user_id|age|country_|state_\", axis=1)\n",
    "df_users"
   ],
   "metadata": {
    "collapsed": false
   }
  },
  {
   "cell_type": "code",
   "execution_count": null,
   "outputs": [],
   "source": [
    "# TODO: normalized_rating doesn't make sense yet\n",
    "# df = df_ratings.filter(regex=\"isbn13|user_id|normalized_rating\", axis=1)\n",
    "df_ratings = ratings.filter(regex=\"isbn13|user_id|book_rating\", axis=1)\n",
    "df_ratings"
   ],
   "metadata": {
    "collapsed": false
   }
  },
  {
   "cell_type": "code",
   "execution_count": null,
   "outputs": [],
   "source": [
    "df = df_ratings\n",
    "df = df.merge(df_books, on=\"isbn13\", how=\"left\")\n",
    "df = df.merge(df_users, on=\"user_id\", how=\"left\")\n",
    "df"
   ],
   "metadata": {
    "collapsed": false
   }
  },
  {
   "cell_type": "code",
   "execution_count": null,
   "outputs": [],
   "source": [
    "# Features\n",
    "# X = df.drop(['user_id', 'isbn13', 'book_rating'], axis=1)\n",
    "X = df.drop(['user_id', 'book_rating'], axis=1)\n",
    "# Prediction\n",
    "Y = df['book_rating']"
   ],
   "metadata": {
    "collapsed": false
   }
  },
  {
   "cell_type": "code",
   "execution_count": null,
   "outputs": [],
   "source": [
    "X_train, X_test, y_train, y_test = train_test_split(X, Y, test_size=0.30, random_state=7)"
   ],
   "metadata": {
    "collapsed": false
   }
  },
  {
   "cell_type": "code",
   "execution_count": null,
   "outputs": [],
   "source": [
    "from os.path import exists\n",
    "import pickle\n",
    "\n",
    "if exists(model_file):\n",
    "    print(\"Loading file:\", model_file)\n",
    "    with open(model_file, \"rb\") as file:\n",
    "        rfc = pickle.load(file)\n",
    "else:\n",
    "    print(\"Creating new model:\", model_file)\n",
    "    rfc = RandomForestClassifier(n_estimators=100, min_weight_fraction_leaf=0, n_jobs=3, random_state=1, verbose=10, max_depth=3)"
   ],
   "metadata": {
    "collapsed": false
   }
  },
  {
   "cell_type": "code",
   "execution_count": null,
   "outputs": [],
   "source": [
    "rfc.fit(X_train, y_train)"
   ],
   "metadata": {
    "collapsed": false,
    "pycharm": {
     "is_executing": true
    }
   }
  },
  {
   "cell_type": "code",
   "execution_count": null,
   "outputs": [],
   "source": [
    "import pickle\n",
    "\n",
    "# Save the model to a file\n",
    "with open(model_file, \"wb\") as file:\n",
    "    pickle.dump(rfc, file)"
   ],
   "metadata": {
    "collapsed": false,
    "pycharm": {
     "is_executing": true
    }
   }
  },
  {
   "cell_type": "code",
   "execution_count": null,
   "outputs": [],
   "source": [
    "rfc_pred = rfc.predict(X_test)\n",
    "rfc_pred"
   ],
   "metadata": {
    "collapsed": false,
    "pycharm": {
     "is_executing": true
    }
   }
  },
  {
   "cell_type": "code",
   "execution_count": null,
   "outputs": [],
   "source": [
    "print(classification_report(y_test, rfc_pred))\n",
    "print(accuracy_score(y_test, rfc_pred) * 100)"
   ],
   "metadata": {
    "collapsed": false,
    "pycharm": {
     "is_executing": true
    }
   }
  },
  {
   "cell_type": "code",
   "execution_count": null,
   "outputs": [],
   "source": [
    "import numpy as np\n",
    "import pandas as pd\n",
    "import matplotlib.pyplot as plt\n",
    "from sklearn.metrics import ConfusionMatrixDisplay\n",
    "\n",
    "classifier = rfc\n",
    "\n",
    "np.set_printoptions(precision=2)\n",
    "\n",
    "# Plot non-normalized confusion matrix\n",
    "titles_options = [\n",
    "    (\"Confusion matrix, without normalization\", None),\n",
    "    (\"Normalized confusion matrix\", \"true\"),\n",
    "]\n",
    "for title, normalize in titles_options:\n",
    "    disp = ConfusionMatrixDisplay.from_estimator(\n",
    "        classifier,\n",
    "        X_test,\n",
    "        y_test,\n",
    "        # display_labels=class_names,\n",
    "        cmap=plt.cm.Blues,\n",
    "        normalize=normalize,\n",
    "    )\n",
    "    disp.ax_.set_title(title)\n",
    "\n",
    "    print(title)\n",
    "    print(disp.confusion_matrix)\n",
    "\n",
    "plt.show()"
   ],
   "metadata": {
    "collapsed": false,
    "pycharm": {
     "is_executing": true
    }
   }
  },
  {
   "cell_type": "code",
   "execution_count": null,
   "outputs": [],
   "source": [
    "rfc.score(X_train, y_train)"
   ],
   "metadata": {
    "collapsed": false,
    "pycharm": {
     "is_executing": true
    }
   }
  },
  {
   "cell_type": "code",
   "execution_count": null,
   "outputs": [],
   "source": [
    "feature_importance = pd.DataFrame({'Feature_names': X.columns, 'Importances': rfc.feature_importances_})\n",
    "feature_importance = feature_importance.sort_values(by='Importances', ascending=False)\n",
    "feature_importance"
   ],
   "metadata": {
    "collapsed": false,
    "pycharm": {
     "is_executing": true
    }
   }
  },
  {
   "cell_type": "code",
   "execution_count": null,
   "outputs": [],
   "source": [
    "plt.bar(feature_importance['Feature_names'], feature_importance['Importances'])\n",
    "plt.show()"
   ],
   "metadata": {
    "collapsed": false,
    "pycharm": {
     "is_executing": true
    }
   }
  },
  {
   "cell_type": "code",
   "execution_count": null,
   "outputs": [],
   "source": [
    "country_importance = feature_importance.loc[lambda x: x['Feature_names'].str.contains(\"^country\", regex=True)]\n",
    "country_importance"
   ],
   "metadata": {
    "collapsed": false,
    "pycharm": {
     "is_executing": true
    }
   }
  },
  {
   "cell_type": "code",
   "execution_count": null,
   "outputs": [],
   "source": [
    "state_importance = feature_importance.loc[lambda x: x['Feature_names'].str.contains(\"^state\", regex=True)]\n",
    "state_importance"
   ],
   "metadata": {
    "collapsed": false,
    "pycharm": {
     "is_executing": true
    }
   }
  },
  {
   "cell_type": "code",
   "execution_count": null,
   "outputs": [],
   "source": [
    "publisher_importance = feature_importance.loc[lambda x: x['Feature_names'].str.contains(\"^publisher\", regex=True)]\n",
    "publisher_importance"
   ],
   "metadata": {
    "collapsed": false,
    "pycharm": {
     "is_executing": true
    }
   }
  },
  {
   "cell_type": "code",
   "execution_count": null,
   "outputs": [],
   "source": [
    "age_importance = feature_importance.loc[lambda x: x['Feature_names'].str.contains(\"age\", regex=True)][\"Importances\"]\n",
    "print(\"age:\", age_importance)\n",
    "print(\"country_importance:\", country_importance[\"Importances\"].sum())\n",
    "print(\"state_importance:\", state_importance[\"Importances\"].sum())\n",
    "print(\"publisher_importance:\", publisher_importance[\"Importances\"].sum())"
   ],
   "metadata": {
    "collapsed": false,
    "pycharm": {
     "is_executing": true
    }
   }
  }
 ],
 "metadata": {
  "kernelspec": {
   "display_name": "Python 3 (ipykernel)",
   "language": "python",
   "name": "python3"
  },
  "language_info": {
   "codemirror_mode": {
    "name": "ipython",
    "version": 3
   },
   "file_extension": ".py",
   "mimetype": "text/x-python",
   "name": "python",
   "nbconvert_exporter": "python",
   "pygments_lexer": "ipython3",
   "version": "3.10.8"
  }
 },
 "nbformat": 4,
 "nbformat_minor": 5
}
