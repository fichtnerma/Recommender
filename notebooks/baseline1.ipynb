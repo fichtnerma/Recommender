{
 "cells": [
  {
   "cell_type": "markdown",
   "metadata": {},
   "source": [
    "# Baseline - Most popular\n",
    "Most popular books are a combination of vote count and the average rating"
   ]
  },
  {
   "cell_type": "code",
   "execution_count": 1,
   "outputs": [
    {
     "name": "stderr",
     "output_type": "stream",
     "text": [
      "/Users/johannes/Studium/MMT/1. Semester/Fächer/Recommender Systems/Abschlussprojekt/code/recommender-systems/bibrec/server/Utils.py:398: DtypeWarning: Columns (4) have mixed types. Specify dtype option on import or set low_memory=False.\n",
      "  ratings = pd.read_csv(ratings_path, sep=\",\", encoding=\"utf-8\", na_filter=False)\n"
     ]
    }
   ],
   "source": [
    "import importlib\n",
    "from collections import defaultdict\n",
    "\n",
    "import pandas as pd\n",
    "from sklearn.model_selection import train_test_split\n",
    "\n",
    "import bibrec.server.Utils as Utils\n",
    "import bibrec.server.evaluation as eval\n",
    "from bibrec.server.Utils import assign_popular_based_score\n",
    "\n",
    "importlib.reload(eval)\n",
    "importlib.reload(Utils)\n",
    "\n",
    "books, users, ratings = Utils.get_normalized_data(books_path=\"../data/normalized_books.csv\",\n",
    "                                                  users_path=\"../data/normalized_users.csv\",\n",
    "                                                  ratings_path=\"../data/normalized_ratings.csv\")"
   ],
   "metadata": {
    "collapsed": false,
    "pycharm": {
     "name": "#%%\n"
    }
   }
  },
  {
   "cell_type": "code",
   "execution_count": 2,
   "outputs": [],
   "source": [
    "train, test = train_test_split(ratings, test_size=0.25)"
   ],
   "metadata": {
    "collapsed": false,
    "pycharm": {
     "name": "#%%\n"
    }
   }
  },
  {
   "cell_type": "code",
   "execution_count": 3,
   "outputs": [
    {
     "name": "stdout",
     "output_type": "stream",
     "text": [
      "Total Ratings Count: 383962\n",
      "Train Data Ratings Count: 287971\n",
      "Test Data Ratings Count: 95991\n"
     ]
    }
   ],
   "source": [
    "print(\"Total Ratings Count:\", len(ratings))\n",
    "print(\"Train Data Ratings Count:\", len(train))\n",
    "print(\"Test Data Ratings Count:\", len(test))"
   ],
   "metadata": {
    "collapsed": false,
    "pycharm": {
     "name": "#%%\n"
    }
   }
  },
  {
   "cell_type": "code",
   "execution_count": 4,
   "outputs": [],
   "source": [
    "book_ratings_dict = {\n",
    "    'user_id': train['user_id'].values,\n",
    "    'isbn13': train['isbn13'].values,\n",
    "    'book_rating': train['book_rating'].values\n",
    "}\n",
    "\n",
    "book_rating_df = train[['user_id', 'isbn13', 'book_rating']]"
   ],
   "metadata": {
    "collapsed": false,
    "pycharm": {
     "name": "#%%\n"
    }
   }
  },
  {
   "cell_type": "code",
   "execution_count": 5,
   "outputs": [
    {
     "name": "stdout",
     "output_type": "stream",
     "text": [
      "Most popular books are:\n",
      "              isbn13  vote_count  avg_rating  weighted_rating\n",
      "16382  9780439139595         104    9.259615         9.227056\n",
      "16379  9780439136365         109    9.137615         9.108720\n",
      "16447  9780439358064         154    9.045455         9.026077\n",
      "1577    978043913961          80    9.037500         9.000829\n",
      "23596  9780590353403          91    8.978022         8.946967\n",
      "17737  9780446310789         162    8.969136         8.951634\n",
      "23597  9780590353427         244    8.954918         8.943366\n",
      "9873   9780345339706          94    8.914894         8.886125\n",
      "16341  9780439064866          92    8.891304         8.862425\n",
      "16378  9780439136358         100    8.890000         8.863411\n",
      "20190  9780451524935          72    8.847222         8.811729\n",
      "16342  9780439064873         147    8.823129         8.805825\n",
      "31044  9780812550702          96    8.791667         8.766000\n",
      "9872   9780345339683         124    8.701613         8.683079\n",
      "16799  9780440219071          72    8.652778         8.622540\n",
      "10000  9780345361790         137    8.605839         8.590417\n",
      "16710  9780440212560          88    8.590909         8.567422\n",
      "5796   9780070212572          67    8.567164         8.537217\n",
      "9895   9780345342966         122    8.565574         8.548935\n",
      "14197  9780385484510         157    8.560510         8.547597\n"
     ]
    }
   ],
   "source": [
    "train[\"isbn13\"] = train[\"isbn13\"].astype(\"int\")\n",
    "books[\"isbn13\"] = books[\"isbn13\"].astype(\"int\")\n",
    "popular_books = assign_popular_based_score(train, books, \"user_id\", \"isbn13\", \"book_rating\")\n",
    "popular_books = popular_books.sort_values(\"vote_count\", ascending=False)\n",
    "popular_books = popular_books[:200]\n",
    "popular_books = popular_books.sort_values(\"avg_rating\", ascending=False)\n",
    "\n",
    "print(\"Most popular books are:\")\n",
    "print(popular_books[:20])"
   ],
   "metadata": {
    "collapsed": false,
    "pycharm": {
     "name": "#%%\n"
    }
   }
  },
  {
   "cell_type": "code",
   "execution_count": 6,
   "outputs": [],
   "source": [
    "pop_dict = {\n",
    "    'item_id': popular_books['isbn13'].values,\n",
    "    'est_r': popular_books['avg_rating'].values,\n",
    "}\n",
    "\n",
    "pop_df = pd.DataFrame.from_dict(pop_dict)\n",
    "\n",
    "ratings_dict = {\n",
    "    'user_id': test['user_id'].values,\n",
    "    'item_id': test['isbn13'].values,\n",
    "    'rating': test['book_rating'].values\n",
    "}\n",
    "\n",
    "ratings_df = pd.DataFrame.from_dict(ratings_dict)"
   ],
   "metadata": {
    "collapsed": false,
    "pycharm": {
     "name": "#%%\n"
    }
   }
  },
  {
   "cell_type": "code",
   "execution_count": 7,
   "outputs": [
    {
     "name": "stdout",
     "output_type": "stream",
     "text": [
      "User Count: 29778\n"
     ]
    }
   ],
   "source": [
    "test_uids = ratings_df[\"user_id\"].unique()\n",
    "\n",
    "print(\"User Count:\", len(test_uids))"
   ],
   "metadata": {
    "collapsed": false,
    "pycharm": {
     "name": "#%%\n"
    }
   }
  },
  {
   "cell_type": "code",
   "execution_count": 8,
   "outputs": [],
   "source": [
    "def def_value():\n",
    "    return \"Not Present\"\n",
    "\n",
    "\n",
    "top_n = defaultdict(def_value)\n",
    "for uid in test_uids:\n",
    "    top_n[uid] = pop_df"
   ],
   "metadata": {
    "collapsed": false,
    "pycharm": {
     "name": "#%%\n"
    }
   }
  },
  {
   "cell_type": "code",
   "execution_count": 9,
   "outputs": [
    {
     "name": "stdout",
     "output_type": "stream",
     "text": [
      "Average Precision: 0.001052158578504444\n",
      "--- Calculation time: 68.47326898574829 seconds ---\n"
     ]
    }
   ],
   "source": [
    "import time\n",
    "\n",
    "start_time = time.time()\n",
    "avg_precision = eval.get_avg_precision(ratings_df, top_n, k=50)\n",
    "\n",
    "print(\"Average Precision:\", avg_precision)\n",
    "print(\"--- Calculation time: %s seconds ---\" % (time.time() - start_time))"
   ],
   "metadata": {
    "collapsed": false,
    "pycharm": {
     "name": "#%%\n"
    }
   }
  },
  {
   "cell_type": "code",
   "execution_count": 10,
   "outputs": [
    {
     "name": "stdout",
     "output_type": "stream",
     "text": [
      "Average Recall: 0.015872159384655613\n",
      "--- Calculation time: 129.53651404380798 seconds ---\n"
     ]
    }
   ],
   "source": [
    "avg_recall = eval.get_avg_recall(ratings_df, top_n, k=50)\n",
    "\n",
    "print(\"Average Recall:\", avg_recall)\n",
    "print(\"--- Calculation time: %s seconds ---\" % (time.time() - start_time))"
   ],
   "metadata": {
    "collapsed": false,
    "pycharm": {
     "name": "#%%\n"
    }
   }
  }
 ],
 "metadata": {
  "kernelspec": {
   "display_name": "Python 3.9.14 64-bit",
   "language": "python",
   "name": "python3"
  },
  "language_info": {
   "codemirror_mode": {
    "name": "ipython",
    "version": 3
   },
   "file_extension": ".py",
   "mimetype": "text/x-python",
   "name": "python",
   "nbconvert_exporter": "python",
   "pygments_lexer": "ipython3",
   "version": "3.9.14"
  },
  "orig_nbformat": 4,
  "vscode": {
   "interpreter": {
    "hash": "397704579725e15f5c7cb49fe5f0341eb7531c82d19f2c29d197e8b64ab5776b"
   }
  }
 },
 "nbformat": 4,
 "nbformat_minor": 2
}