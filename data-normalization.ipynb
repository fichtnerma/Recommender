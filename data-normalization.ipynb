{
 "cells": [
  {
   "cell_type": "markdown",
   "source": [
    "# BibRec"
   ],
   "metadata": {
    "collapsed": false
   }
  },
  {
   "cell_type": "markdown",
   "source": [
    "## Normalized BookCrossing Dataset"
   ],
   "metadata": {
    "collapsed": false
   }
  },
  {
   "cell_type": "code",
   "execution_count": 1,
   "outputs": [
    {
     "name": "stderr",
     "output_type": "stream",
     "text": [
      "/run/media/fab/Dev/repos/FH-SBG/MMT1/RES/recommender-systems/bibrec/server/Utils.py:7: DtypeWarning: Columns (3) have mixed types. Specify dtype option on import or set low_memory=False.\n",
      "  books = pd.read_csv(path, sep=\";\", encoding=\"latin-1\")\n",
      "/run/media/fab/Dev/repos/FH-SBG/MMT1/RES/recommender-systems/bibrec/server/Utils.py:24: FutureWarning: In a future version of pandas all arguments of StringMethods.split except for the argument 'pat' will be keyword-only.\n",
      "  location_seperated = users.location.str.split(',', 2, expand=True)\n"
     ]
    }
   ],
   "source": [
    "from bibrec.server.Utils import get_books, get_users, get_ratings\n",
    "\n",
    "books = get_books(\"data/BX-Books.csv\")\n",
    "users = get_users(\"data/BX-Users.csv\")\n",
    "ratings = get_ratings(\"data/BX-Book-Ratings.csv\")"
   ],
   "metadata": {
    "collapsed": false
   }
  },
  {
   "cell_type": "markdown",
   "source": [
    "### Books"
   ],
   "metadata": {
    "collapsed": false
   }
  },
  {
   "cell_type": "code",
   "execution_count": 2,
   "outputs": [
    {
     "data": {
      "text/plain": "         isbn                                         book_title  \\\n0  0195153448                                Classical Mythology   \n1  0002005018                                       Clara Callan   \n2  0060973129                               Decision in Normandy   \n3  0374157065  Flu: The Story of the Great Influenza Pandemic...   \n4  0393045218                             The Mummies of Urumchi   \n\n            book_author  year_of_publication                   publisher  \\\n0    Mark P. O. Morford               2002.0     Oxford University Press   \n1  Richard Bruce Wright               2001.0       HarperFlamingo Canada   \n2          Carlo D'Este               1991.0             HarperPerennial   \n3      Gina Bari Kolata               1999.0        Farrar Straus Giroux   \n4       E. J. W. Barber               1999.0  W. W. Norton &amp; Company   \n\n                                         image_url_s  \\\n0  http://images.amazon.com/images/P/0195153448.0...   \n1  http://images.amazon.com/images/P/0002005018.0...   \n2  http://images.amazon.com/images/P/0060973129.0...   \n3  http://images.amazon.com/images/P/0374157065.0...   \n4  http://images.amazon.com/images/P/0393045218.0...   \n\n                                         image_url_m  \\\n0  http://images.amazon.com/images/P/0195153448.0...   \n1  http://images.amazon.com/images/P/0002005018.0...   \n2  http://images.amazon.com/images/P/0060973129.0...   \n3  http://images.amazon.com/images/P/0374157065.0...   \n4  http://images.amazon.com/images/P/0393045218.0...   \n\n                                         image_url_l  \n0  http://images.amazon.com/images/P/0195153448.0...  \n1  http://images.amazon.com/images/P/0002005018.0...  \n2  http://images.amazon.com/images/P/0060973129.0...  \n3  http://images.amazon.com/images/P/0374157065.0...  \n4  http://images.amazon.com/images/P/0393045218.0...  ",
      "text/html": "<div>\n<style scoped>\n    .dataframe tbody tr th:only-of-type {\n        vertical-align: middle;\n    }\n\n    .dataframe tbody tr th {\n        vertical-align: top;\n    }\n\n    .dataframe thead th {\n        text-align: right;\n    }\n</style>\n<table border=\"1\" class=\"dataframe\">\n  <thead>\n    <tr style=\"text-align: right;\">\n      <th></th>\n      <th>isbn</th>\n      <th>book_title</th>\n      <th>book_author</th>\n      <th>year_of_publication</th>\n      <th>publisher</th>\n      <th>image_url_s</th>\n      <th>image_url_m</th>\n      <th>image_url_l</th>\n    </tr>\n  </thead>\n  <tbody>\n    <tr>\n      <th>0</th>\n      <td>0195153448</td>\n      <td>Classical Mythology</td>\n      <td>Mark P. O. Morford</td>\n      <td>2002.0</td>\n      <td>Oxford University Press</td>\n      <td>http://images.amazon.com/images/P/0195153448.0...</td>\n      <td>http://images.amazon.com/images/P/0195153448.0...</td>\n      <td>http://images.amazon.com/images/P/0195153448.0...</td>\n    </tr>\n    <tr>\n      <th>1</th>\n      <td>0002005018</td>\n      <td>Clara Callan</td>\n      <td>Richard Bruce Wright</td>\n      <td>2001.0</td>\n      <td>HarperFlamingo Canada</td>\n      <td>http://images.amazon.com/images/P/0002005018.0...</td>\n      <td>http://images.amazon.com/images/P/0002005018.0...</td>\n      <td>http://images.amazon.com/images/P/0002005018.0...</td>\n    </tr>\n    <tr>\n      <th>2</th>\n      <td>0060973129</td>\n      <td>Decision in Normandy</td>\n      <td>Carlo D'Este</td>\n      <td>1991.0</td>\n      <td>HarperPerennial</td>\n      <td>http://images.amazon.com/images/P/0060973129.0...</td>\n      <td>http://images.amazon.com/images/P/0060973129.0...</td>\n      <td>http://images.amazon.com/images/P/0060973129.0...</td>\n    </tr>\n    <tr>\n      <th>3</th>\n      <td>0374157065</td>\n      <td>Flu: The Story of the Great Influenza Pandemic...</td>\n      <td>Gina Bari Kolata</td>\n      <td>1999.0</td>\n      <td>Farrar Straus Giroux</td>\n      <td>http://images.amazon.com/images/P/0374157065.0...</td>\n      <td>http://images.amazon.com/images/P/0374157065.0...</td>\n      <td>http://images.amazon.com/images/P/0374157065.0...</td>\n    </tr>\n    <tr>\n      <th>4</th>\n      <td>0393045218</td>\n      <td>The Mummies of Urumchi</td>\n      <td>E. J. W. Barber</td>\n      <td>1999.0</td>\n      <td>W. W. Norton &amp;amp; Company</td>\n      <td>http://images.amazon.com/images/P/0393045218.0...</td>\n      <td>http://images.amazon.com/images/P/0393045218.0...</td>\n      <td>http://images.amazon.com/images/P/0393045218.0...</td>\n    </tr>\n  </tbody>\n</table>\n</div>"
     },
     "execution_count": 2,
     "metadata": {},
     "output_type": "execute_result"
    }
   ],
   "source": [
    "books.head()"
   ],
   "metadata": {
    "collapsed": false
   }
  },
  {
   "cell_type": "code",
   "execution_count": 3,
   "outputs": [
    {
     "name": "stdout",
     "output_type": "stream",
     "text": [
      "BOOKS DATA INFO\n",
      "<class 'pandas.core.frame.DataFrame'>\n",
      "RangeIndex: 271379 entries, 0 to 271378\n",
      "Data columns (total 8 columns):\n",
      " #   Column               Non-Null Count   Dtype  \n",
      "---  ------               --------------   -----  \n",
      " 0   isbn                 271379 non-null  object \n",
      " 1   book_title           271379 non-null  object \n",
      " 2   book_author          271378 non-null  object \n",
      " 3   year_of_publication  266757 non-null  float64\n",
      " 4   publisher            271377 non-null  object \n",
      " 5   image_url_s          271379 non-null  object \n",
      " 6   image_url_m          271379 non-null  object \n",
      " 7   image_url_l          271376 non-null  object \n",
      "dtypes: float64(1), object(7)\n",
      "memory usage: 16.6+ MB\n"
     ]
    }
   ],
   "source": [
    "print(\"BOOKS DATA INFO\")\n",
    "books.info()"
   ],
   "metadata": {
    "collapsed": false
   }
  },
  {
   "cell_type": "code",
   "execution_count": 4,
   "outputs": [
    {
     "name": "stdout",
     "output_type": "stream",
     "text": [
      "BOOKS DATA DESCRIBE\n"
     ]
    },
    {
     "data": {
      "text/plain": "       year_of_publication\ncount        266757.000000\nmean           1993.689515\nstd               8.326030\nmin            1376.000000\n25%            1989.000000\n50%            1996.000000\n75%            2000.000000\nmax            2050.000000",
      "text/html": "<div>\n<style scoped>\n    .dataframe tbody tr th:only-of-type {\n        vertical-align: middle;\n    }\n\n    .dataframe tbody tr th {\n        vertical-align: top;\n    }\n\n    .dataframe thead th {\n        text-align: right;\n    }\n</style>\n<table border=\"1\" class=\"dataframe\">\n  <thead>\n    <tr style=\"text-align: right;\">\n      <th></th>\n      <th>year_of_publication</th>\n    </tr>\n  </thead>\n  <tbody>\n    <tr>\n      <th>count</th>\n      <td>266757.000000</td>\n    </tr>\n    <tr>\n      <th>mean</th>\n      <td>1993.689515</td>\n    </tr>\n    <tr>\n      <th>std</th>\n      <td>8.326030</td>\n    </tr>\n    <tr>\n      <th>min</th>\n      <td>1376.000000</td>\n    </tr>\n    <tr>\n      <th>25%</th>\n      <td>1989.000000</td>\n    </tr>\n    <tr>\n      <th>50%</th>\n      <td>1996.000000</td>\n    </tr>\n    <tr>\n      <th>75%</th>\n      <td>2000.000000</td>\n    </tr>\n    <tr>\n      <th>max</th>\n      <td>2050.000000</td>\n    </tr>\n  </tbody>\n</table>\n</div>"
     },
     "execution_count": 4,
     "metadata": {},
     "output_type": "execute_result"
    }
   ],
   "source": [
    "print(\"BOOKS DATA DESCRIBE\")\n",
    "books.describe()"
   ],
   "metadata": {
    "collapsed": false
   }
  },
  {
   "cell_type": "markdown",
   "source": [
    "### Users"
   ],
   "metadata": {
    "collapsed": false
   }
  },
  {
   "cell_type": "code",
   "execution_count": 5,
   "outputs": [
    {
     "data": {
      "text/plain": "   user_id   age         city             state          country\n0        1   NaN          nyc          new york              usa\n1        2  18.0     stockton        california              usa\n2        3   NaN       moscow   yukon territory           russia\n3        4  17.0        porto          v.n.gaia         portugal\n4        5   NaN  farnborough             hants   united kingdom",
      "text/html": "<div>\n<style scoped>\n    .dataframe tbody tr th:only-of-type {\n        vertical-align: middle;\n    }\n\n    .dataframe tbody tr th {\n        vertical-align: top;\n    }\n\n    .dataframe thead th {\n        text-align: right;\n    }\n</style>\n<table border=\"1\" class=\"dataframe\">\n  <thead>\n    <tr style=\"text-align: right;\">\n      <th></th>\n      <th>user_id</th>\n      <th>age</th>\n      <th>city</th>\n      <th>state</th>\n      <th>country</th>\n    </tr>\n  </thead>\n  <tbody>\n    <tr>\n      <th>0</th>\n      <td>1</td>\n      <td>NaN</td>\n      <td>nyc</td>\n      <td>new york</td>\n      <td>usa</td>\n    </tr>\n    <tr>\n      <th>1</th>\n      <td>2</td>\n      <td>18.0</td>\n      <td>stockton</td>\n      <td>california</td>\n      <td>usa</td>\n    </tr>\n    <tr>\n      <th>2</th>\n      <td>3</td>\n      <td>NaN</td>\n      <td>moscow</td>\n      <td>yukon territory</td>\n      <td>russia</td>\n    </tr>\n    <tr>\n      <th>3</th>\n      <td>4</td>\n      <td>17.0</td>\n      <td>porto</td>\n      <td>v.n.gaia</td>\n      <td>portugal</td>\n    </tr>\n    <tr>\n      <th>4</th>\n      <td>5</td>\n      <td>NaN</td>\n      <td>farnborough</td>\n      <td>hants</td>\n      <td>united kingdom</td>\n    </tr>\n  </tbody>\n</table>\n</div>"
     },
     "execution_count": 5,
     "metadata": {},
     "output_type": "execute_result"
    }
   ],
   "source": [
    "users.head()"
   ],
   "metadata": {
    "collapsed": false
   }
  },
  {
   "cell_type": "code",
   "execution_count": 6,
   "outputs": [
    {
     "name": "stdout",
     "output_type": "stream",
     "text": [
      "USERS DATA INFO\n",
      "<class 'pandas.core.frame.DataFrame'>\n",
      "RangeIndex: 278858 entries, 0 to 278857\n",
      "Data columns (total 5 columns):\n",
      " #   Column   Non-Null Count   Dtype  \n",
      "---  ------   --------------   -----  \n",
      " 0   user_id  278858 non-null  int64  \n",
      " 1   age      167092 non-null  float64\n",
      " 2   city     278736 non-null  object \n",
      " 3   state    278605 non-null  object \n",
      " 4   country  274295 non-null  object \n",
      "dtypes: float64(1), int64(1), object(3)\n",
      "memory usage: 10.6+ MB\n"
     ]
    }
   ],
   "source": [
    "print(\"USERS DATA INFO\")\n",
    "users.info()"
   ],
   "metadata": {
    "collapsed": false
   }
  },
  {
   "cell_type": "code",
   "execution_count": 7,
   "outputs": [
    {
     "name": "stdout",
     "output_type": "stream",
     "text": [
      "USERS DATA DESCRIBE\n"
     ]
    },
    {
     "data": {
      "text/plain": "            user_id            age\ncount  278858.00000  167092.000000\nmean   139429.50000      34.862890\nstd     80499.51502      13.897839\nmin         1.00000       6.000000\n25%     69715.25000      24.000000\n50%    139429.50000      32.000000\n75%    209143.75000      44.000000\nmax    278858.00000     110.000000",
      "text/html": "<div>\n<style scoped>\n    .dataframe tbody tr th:only-of-type {\n        vertical-align: middle;\n    }\n\n    .dataframe tbody tr th {\n        vertical-align: top;\n    }\n\n    .dataframe thead th {\n        text-align: right;\n    }\n</style>\n<table border=\"1\" class=\"dataframe\">\n  <thead>\n    <tr style=\"text-align: right;\">\n      <th></th>\n      <th>user_id</th>\n      <th>age</th>\n    </tr>\n  </thead>\n  <tbody>\n    <tr>\n      <th>count</th>\n      <td>278858.00000</td>\n      <td>167092.000000</td>\n    </tr>\n    <tr>\n      <th>mean</th>\n      <td>139429.50000</td>\n      <td>34.862890</td>\n    </tr>\n    <tr>\n      <th>std</th>\n      <td>80499.51502</td>\n      <td>13.897839</td>\n    </tr>\n    <tr>\n      <th>min</th>\n      <td>1.00000</td>\n      <td>6.000000</td>\n    </tr>\n    <tr>\n      <th>25%</th>\n      <td>69715.25000</td>\n      <td>24.000000</td>\n    </tr>\n    <tr>\n      <th>50%</th>\n      <td>139429.50000</td>\n      <td>32.000000</td>\n    </tr>\n    <tr>\n      <th>75%</th>\n      <td>209143.75000</td>\n      <td>44.000000</td>\n    </tr>\n    <tr>\n      <th>max</th>\n      <td>278858.00000</td>\n      <td>110.000000</td>\n    </tr>\n  </tbody>\n</table>\n</div>"
     },
     "execution_count": 7,
     "metadata": {},
     "output_type": "execute_result"
    }
   ],
   "source": [
    "print(\"USERS DATA DESCRIBE\")\n",
    "users.describe()"
   ],
   "metadata": {
    "collapsed": false
   }
  },
  {
   "cell_type": "markdown",
   "source": [
    "### Ratings"
   ],
   "metadata": {
    "collapsed": false
   }
  },
  {
   "cell_type": "code",
   "execution_count": 8,
   "outputs": [
    {
     "data": {
      "text/plain": "   user_id        isbn  book_rating\n0   276725  034545104X            0\n1   276726  0155061224            5\n2   276727  0446520802            0\n3   276729  052165615X            3\n4   276729  0521795028            6",
      "text/html": "<div>\n<style scoped>\n    .dataframe tbody tr th:only-of-type {\n        vertical-align: middle;\n    }\n\n    .dataframe tbody tr th {\n        vertical-align: top;\n    }\n\n    .dataframe thead th {\n        text-align: right;\n    }\n</style>\n<table border=\"1\" class=\"dataframe\">\n  <thead>\n    <tr style=\"text-align: right;\">\n      <th></th>\n      <th>user_id</th>\n      <th>isbn</th>\n      <th>book_rating</th>\n    </tr>\n  </thead>\n  <tbody>\n    <tr>\n      <th>0</th>\n      <td>276725</td>\n      <td>034545104X</td>\n      <td>0</td>\n    </tr>\n    <tr>\n      <th>1</th>\n      <td>276726</td>\n      <td>0155061224</td>\n      <td>5</td>\n    </tr>\n    <tr>\n      <th>2</th>\n      <td>276727</td>\n      <td>0446520802</td>\n      <td>0</td>\n    </tr>\n    <tr>\n      <th>3</th>\n      <td>276729</td>\n      <td>052165615X</td>\n      <td>3</td>\n    </tr>\n    <tr>\n      <th>4</th>\n      <td>276729</td>\n      <td>0521795028</td>\n      <td>6</td>\n    </tr>\n  </tbody>\n</table>\n</div>"
     },
     "execution_count": 8,
     "metadata": {},
     "output_type": "execute_result"
    }
   ],
   "source": [
    "ratings.head()"
   ],
   "metadata": {
    "collapsed": false
   }
  },
  {
   "cell_type": "code",
   "execution_count": 9,
   "outputs": [
    {
     "name": "stdout",
     "output_type": "stream",
     "text": [
      "RATINGS DATA INFO\n",
      "<class 'pandas.core.frame.DataFrame'>\n",
      "RangeIndex: 1149780 entries, 0 to 1149779\n",
      "Data columns (total 3 columns):\n",
      " #   Column       Non-Null Count    Dtype \n",
      "---  ------       --------------    ----- \n",
      " 0   user_id      1149780 non-null  int64 \n",
      " 1   isbn         1149780 non-null  object\n",
      " 2   book_rating  1149780 non-null  int64 \n",
      "dtypes: int64(2), object(1)\n",
      "memory usage: 26.3+ MB\n"
     ]
    }
   ],
   "source": [
    "print(\"RATINGS DATA INFO\")\n",
    "ratings.info()"
   ],
   "metadata": {
    "collapsed": false
   }
  },
  {
   "cell_type": "code",
   "execution_count": 10,
   "outputs": [
    {
     "name": "stdout",
     "output_type": "stream",
     "text": [
      "RATINGS DATA DESCRIBE\n"
     ]
    },
    {
     "data": {
      "text/plain": "            user_id   book_rating\ncount  1.149780e+06  1.149780e+06\nmean   1.403864e+05  2.866950e+00\nstd    8.056228e+04  3.854184e+00\nmin    2.000000e+00  0.000000e+00\n25%    7.034500e+04  0.000000e+00\n50%    1.410100e+05  0.000000e+00\n75%    2.110280e+05  7.000000e+00\nmax    2.788540e+05  1.000000e+01",
      "text/html": "<div>\n<style scoped>\n    .dataframe tbody tr th:only-of-type {\n        vertical-align: middle;\n    }\n\n    .dataframe tbody tr th {\n        vertical-align: top;\n    }\n\n    .dataframe thead th {\n        text-align: right;\n    }\n</style>\n<table border=\"1\" class=\"dataframe\">\n  <thead>\n    <tr style=\"text-align: right;\">\n      <th></th>\n      <th>user_id</th>\n      <th>book_rating</th>\n    </tr>\n  </thead>\n  <tbody>\n    <tr>\n      <th>count</th>\n      <td>1.149780e+06</td>\n      <td>1.149780e+06</td>\n    </tr>\n    <tr>\n      <th>mean</th>\n      <td>1.403864e+05</td>\n      <td>2.866950e+00</td>\n    </tr>\n    <tr>\n      <th>std</th>\n      <td>8.056228e+04</td>\n      <td>3.854184e+00</td>\n    </tr>\n    <tr>\n      <th>min</th>\n      <td>2.000000e+00</td>\n      <td>0.000000e+00</td>\n    </tr>\n    <tr>\n      <th>25%</th>\n      <td>7.034500e+04</td>\n      <td>0.000000e+00</td>\n    </tr>\n    <tr>\n      <th>50%</th>\n      <td>1.410100e+05</td>\n      <td>0.000000e+00</td>\n    </tr>\n    <tr>\n      <th>75%</th>\n      <td>2.110280e+05</td>\n      <td>7.000000e+00</td>\n    </tr>\n    <tr>\n      <th>max</th>\n      <td>2.788540e+05</td>\n      <td>1.000000e+01</td>\n    </tr>\n  </tbody>\n</table>\n</div>"
     },
     "execution_count": 10,
     "metadata": {},
     "output_type": "execute_result"
    }
   ],
   "source": [
    "print(\"RATINGS DATA DESCRIBE\")\n",
    "ratings.describe()"
   ],
   "metadata": {
    "collapsed": false
   }
  }
 ],
 "metadata": {
  "kernelspec": {
   "display_name": "Python 3 (ipykernel)",
   "language": "python",
   "name": "python3"
  },
  "language_info": {
   "codemirror_mode": {
    "name": "ipython",
    "version": 3
   },
   "file_extension": ".py",
   "mimetype": "text/x-python",
   "name": "python",
   "nbconvert_exporter": "python",
   "pygments_lexer": "ipython3",
   "version": "3.10.8"
  }
 },
 "nbformat": 4,
 "nbformat_minor": 5
}
