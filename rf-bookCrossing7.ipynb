{
 "cells": [
  {
   "cell_type": "markdown",
   "source": [
    "# BibRec: Training Random Forest Model"
   ],
   "metadata": {
    "collapsed": false
   }
  },
  {
   "cell_type": "markdown",
   "source": [
    "### Evaluation API: Predict top rated books for given User with imported model\n",
    "Input for the model is a list of top rated books along with the user information"
   ],
   "metadata": {
    "collapsed": false
   }
  },
  {
   "cell_type": "code",
   "execution_count": 26,
   "outputs": [
    {
     "name": "stdout",
     "output_type": "stream",
     "text": [
      "With NaN values 34.862889904962536\n",
      "used mean values 34.86974551937334\n"
     ]
    },
    {
     "name": "stderr",
     "output_type": "stream",
     "text": [
      "/Dev/repos/FH-SBG/MMT1/RES/recommender-systems/bibrec/server/Utils.py:41: FutureWarning: In a future version of pandas all arguments of StringMethods.split except for the argument 'pat' will be keyword-only.\n",
      "  location_seperated = users.location.str.split(',', 2, expand=True)\n",
      "/Dev/repos/FH-SBG/MMT1/RES/recommender-systems/bibrec/server/Utils.py:152: SettingWithCopyWarning: \n",
      "A value is trying to be set on a copy of a slice from a DataFrame.\n",
      "Try using .loc[row_indexer,col_indexer] = value instead\n",
      "\n",
      "See the caveats in the documentation: https://pandas.pydata.org/pandas-docs/stable/user_guide/indexing.html#returning-a-view-versus-a-copy\n",
      "  explicit_filtered_ratings['isbn'] = explicit_filtered_ratings['isbn'].apply(lambda x: x.upper())\n",
      "/Dev/repos/FH-SBG/MMT1/RES/recommender-systems/bibrec/server/Utils.py:9: DtypeWarning: Columns (3) have mixed types. Specify dtype option on import or set low_memory=False.\n",
      "  books = pd.read_csv(path, sep=\";\", encoding=\"latin-1\")\n"
     ]
    },
    {
     "name": "stdout",
     "output_type": "stream",
     "text": [
      "With NaN values 34.862889904962536\n",
      "used mean values 34.8606971947035\n"
     ]
    },
    {
     "name": "stderr",
     "output_type": "stream",
     "text": [
      "/Dev/repos/FH-SBG/MMT1/RES/recommender-systems/bibrec/server/Utils.py:41: FutureWarning: In a future version of pandas all arguments of StringMethods.split except for the argument 'pat' will be keyword-only.\n",
      "  location_seperated = users.location.str.split(',', 2, expand=True)\n",
      "/Dev/repos/FH-SBG/MMT1/RES/recommender-systems/bibrec/server/Utils.py:152: SettingWithCopyWarning: \n",
      "A value is trying to be set on a copy of a slice from a DataFrame.\n",
      "Try using .loc[row_indexer,col_indexer] = value instead\n",
      "\n",
      "See the caveats in the documentation: https://pandas.pydata.org/pandas-docs/stable/user_guide/indexing.html#returning-a-view-versus-a-copy\n",
      "  explicit_filtered_ratings['isbn'] = explicit_filtered_ratings['isbn'].apply(lambda x: x.upper())\n"
     ]
    }
   ],
   "source": [
    "from bibrec.server.Utils import *\n",
    "\n",
    "books, users, ratings = get_normalized_data(books_path='data/BX-Books.csv',\n",
    "                                            users_path='data/BX-Users.csv',\n",
    "                                            ratings_path='data/BX-Book-Ratings.csv')\n",
    "books = books.drop([\"isbn\"], axis=1)\n",
    "ratings = ratings.drop([\"isbn\"], axis=1)"
   ],
   "metadata": {
    "collapsed": false
   }
  },
  {
   "cell_type": "code",
   "execution_count": 27,
   "outputs": [
    {
     "data": {
      "text/plain": "           isbn13\n0   9780971880108\n1   9780316666343\n2   9780385504201\n3   9780060928339\n4   9780312195519\n..            ...\n95  9780142000205\n96  9780804107532\n97  9780345351524\n98  9780449212608\n99  9780140280098\n\n[100 rows x 1 columns]",
      "text/html": "<div>\n<style scoped>\n    .dataframe tbody tr th:only-of-type {\n        vertical-align: middle;\n    }\n\n    .dataframe tbody tr th {\n        vertical-align: top;\n    }\n\n    .dataframe thead th {\n        text-align: right;\n    }\n</style>\n<table border=\"1\" class=\"dataframe\">\n  <thead>\n    <tr style=\"text-align: right;\">\n      <th></th>\n      <th>isbn13</th>\n    </tr>\n  </thead>\n  <tbody>\n    <tr>\n      <th>0</th>\n      <td>9780971880108</td>\n    </tr>\n    <tr>\n      <th>1</th>\n      <td>9780316666343</td>\n    </tr>\n    <tr>\n      <th>2</th>\n      <td>9780385504201</td>\n    </tr>\n    <tr>\n      <th>3</th>\n      <td>9780060928339</td>\n    </tr>\n    <tr>\n      <th>4</th>\n      <td>9780312195519</td>\n    </tr>\n    <tr>\n      <th>...</th>\n      <td>...</td>\n    </tr>\n    <tr>\n      <th>95</th>\n      <td>9780142000205</td>\n    </tr>\n    <tr>\n      <th>96</th>\n      <td>9780804107532</td>\n    </tr>\n    <tr>\n      <th>97</th>\n      <td>9780345351524</td>\n    </tr>\n    <tr>\n      <th>98</th>\n      <td>9780449212608</td>\n    </tr>\n    <tr>\n      <th>99</th>\n      <td>9780140280098</td>\n    </tr>\n  </tbody>\n</table>\n<p>100 rows × 1 columns</p>\n</div>"
     },
     "execution_count": 27,
     "metadata": {},
     "output_type": "execute_result"
    }
   ],
   "source": [
    "# limit data to top-rated books only\n",
    "top_ratings = ratings.groupby('isbn13').user_id.count().sort_values(ascending=False)\n",
    "top_ratings = top_ratings[:100]\n",
    "top_ratings = top_ratings.reset_index()\n",
    "# user_id => nr of ratings\n",
    "top_ratings = top_ratings.drop('user_id', axis=1)\n",
    "top_ratings"
   ],
   "metadata": {
    "collapsed": false
   }
  },
  {
   "cell_type": "code",
   "execution_count": 28,
   "outputs": [
    {
     "data": {
      "text/plain": "              isbn13  user_id  book_rating\n0      9780971880108   277042            2\n1      9780971880108   278176            9\n2      9780971880108      899            2\n3      9780971880108     1435            5\n4      9780971880108     1486            5\n...              ...      ...          ...\n18866  9780140280098   265784            5\n18867  9780140280098   268657            9\n18868  9780140280098   269831            7\n18869  9780140280098   272573            8\n18870  9780140280098   273307            5\n\n[18871 rows x 3 columns]",
      "text/html": "<div>\n<style scoped>\n    .dataframe tbody tr th:only-of-type {\n        vertical-align: middle;\n    }\n\n    .dataframe tbody tr th {\n        vertical-align: top;\n    }\n\n    .dataframe thead th {\n        text-align: right;\n    }\n</style>\n<table border=\"1\" class=\"dataframe\">\n  <thead>\n    <tr style=\"text-align: right;\">\n      <th></th>\n      <th>isbn13</th>\n      <th>user_id</th>\n      <th>book_rating</th>\n    </tr>\n  </thead>\n  <tbody>\n    <tr>\n      <th>0</th>\n      <td>9780971880108</td>\n      <td>277042</td>\n      <td>2</td>\n    </tr>\n    <tr>\n      <th>1</th>\n      <td>9780971880108</td>\n      <td>278176</td>\n      <td>9</td>\n    </tr>\n    <tr>\n      <th>2</th>\n      <td>9780971880108</td>\n      <td>899</td>\n      <td>2</td>\n    </tr>\n    <tr>\n      <th>3</th>\n      <td>9780971880108</td>\n      <td>1435</td>\n      <td>5</td>\n    </tr>\n    <tr>\n      <th>4</th>\n      <td>9780971880108</td>\n      <td>1486</td>\n      <td>5</td>\n    </tr>\n    <tr>\n      <th>...</th>\n      <td>...</td>\n      <td>...</td>\n      <td>...</td>\n    </tr>\n    <tr>\n      <th>18866</th>\n      <td>9780140280098</td>\n      <td>265784</td>\n      <td>5</td>\n    </tr>\n    <tr>\n      <th>18867</th>\n      <td>9780140280098</td>\n      <td>268657</td>\n      <td>9</td>\n    </tr>\n    <tr>\n      <th>18868</th>\n      <td>9780140280098</td>\n      <td>269831</td>\n      <td>7</td>\n    </tr>\n    <tr>\n      <th>18869</th>\n      <td>9780140280098</td>\n      <td>272573</td>\n      <td>8</td>\n    </tr>\n    <tr>\n      <th>18870</th>\n      <td>9780140280098</td>\n      <td>273307</td>\n      <td>5</td>\n    </tr>\n  </tbody>\n</table>\n<p>18871 rows × 3 columns</p>\n</div>"
     },
     "execution_count": 28,
     "metadata": {},
     "output_type": "execute_result"
    }
   ],
   "source": [
    "explicit_ratings = ratings[ratings.book_rating != 0]\n",
    "top_ratings = top_ratings.merge(explicit_ratings, on='isbn13', how='inner')\n",
    "top_ratings"
   ],
   "metadata": {
    "collapsed": false
   }
  },
  {
   "cell_type": "code",
   "execution_count": 29,
   "outputs": [
    {
     "data": {
      "text/plain": "                                               book_title  \\\n18                                          The Testament   \n26                                            Wild Animus   \n28                                               Timeline   \n37                                  To Kill a Mockingbird   \n52                                      The Street Lawyer   \n...                                                   ...   \n152675  The Perfect Storm : A True Story of Men Agains...   \n188832                                    A Painted House   \n192189                      The Bridges of Madison County   \n203629  Harry Potter and the Order of the Phoenix (Boo...   \n220686                                      The Rainmaker   \n\n                book_author  year_of_publication         publisher  \\\n18             John Grisham                 1999             other   \n26             Rich Shapero                 2004             other   \n28         MICHAEL CRICHTON                 2000  ballantine_books   \n37               Harper Lee                 1988             other   \n52             JOHN GRISHAM                 1999             other   \n...                     ...                  ...               ...   \n152675     Sebastian Junger                 1998             other   \n188832         John Grisham                 2001             other   \n192189  Robert James Waller                 1992      warner_books   \n203629        J. K. Rowling                 2003        scholastic   \n220686         JOHN GRISHAM                 1996             other   \n\n                                              image_url_s  \\\n18      http://images.amazon.com/images/P/0440234743.0...   \n26      http://images.amazon.com/images/P/0971880107.0...   \n28      http://images.amazon.com/images/P/0345417623.0...   \n37      http://images.amazon.com/images/P/0446310786.0...   \n52      http://images.amazon.com/images/P/0440225701.0...   \n...                                                   ...   \n152675  http://images.amazon.com/images/P/006101351X.0...   \n188832  http://images.amazon.com/images/P/044023722X.0...   \n192189  http://images.amazon.com/images/P/044651652X.0...   \n203629  http://images.amazon.com/images/P/043935806X.0...   \n220686  http://images.amazon.com/images/P/044022165X.0...   \n\n                                              image_url_m  \\\n18      http://images.amazon.com/images/P/0440234743.0...   \n26      http://images.amazon.com/images/P/0971880107.0...   \n28      http://images.amazon.com/images/P/0345417623.0...   \n37      http://images.amazon.com/images/P/0446310786.0...   \n52      http://images.amazon.com/images/P/0440225701.0...   \n...                                                   ...   \n152675  http://images.amazon.com/images/P/006101351X.0...   \n188832  http://images.amazon.com/images/P/044023722X.0...   \n192189  http://images.amazon.com/images/P/044651652X.0...   \n203629  http://images.amazon.com/images/P/043935806X.0...   \n220686  http://images.amazon.com/images/P/044022165X.0...   \n\n                                              image_url_l         isbn13  \\\n18      http://images.amazon.com/images/P/0440234743.0...  9780440234746   \n26      http://images.amazon.com/images/P/0971880107.0...  9780971880108   \n28      http://images.amazon.com/images/P/0345417623.0...  9780345417626   \n37      http://images.amazon.com/images/P/0446310786.0...  9780446310789   \n52      http://images.amazon.com/images/P/0440225701.0...  9780440225706   \n...                                                   ...            ...   \n152675  http://images.amazon.com/images/P/006101351X.0...  9780061013515   \n188832  http://images.amazon.com/images/P/044023722X.0...  9780440237228   \n192189  http://images.amazon.com/images/P/044651652X.0...  9780446516525   \n203629  http://images.amazon.com/images/P/043935806X.0...  9780439358064   \n220686  http://images.amazon.com/images/P/044022165X.0...  9780440221654   \n\n        rating_mean  rating_count  normalized_year_of_publication  \n18         7.694118         170.0                               6  \n26         4.390706         581.0                               1  \n28         7.851282         195.0                               5  \n37         8.943925         214.0                              17  \n52         7.624060         133.0                               6  \n...             ...           ...                             ...  \n152675     7.386555         119.0                               7  \n188832     7.340426         282.0                               4  \n192189     7.506579         152.0                              13  \n203629     9.038647         207.0                               2  \n220686     7.453237         139.0                               9  \n\n[109 rows x 11 columns]",
      "text/html": "<div>\n<style scoped>\n    .dataframe tbody tr th:only-of-type {\n        vertical-align: middle;\n    }\n\n    .dataframe tbody tr th {\n        vertical-align: top;\n    }\n\n    .dataframe thead th {\n        text-align: right;\n    }\n</style>\n<table border=\"1\" class=\"dataframe\">\n  <thead>\n    <tr style=\"text-align: right;\">\n      <th></th>\n      <th>book_title</th>\n      <th>book_author</th>\n      <th>year_of_publication</th>\n      <th>publisher</th>\n      <th>image_url_s</th>\n      <th>image_url_m</th>\n      <th>image_url_l</th>\n      <th>isbn13</th>\n      <th>rating_mean</th>\n      <th>rating_count</th>\n      <th>normalized_year_of_publication</th>\n    </tr>\n  </thead>\n  <tbody>\n    <tr>\n      <th>18</th>\n      <td>The Testament</td>\n      <td>John Grisham</td>\n      <td>1999</td>\n      <td>other</td>\n      <td>http://images.amazon.com/images/P/0440234743.0...</td>\n      <td>http://images.amazon.com/images/P/0440234743.0...</td>\n      <td>http://images.amazon.com/images/P/0440234743.0...</td>\n      <td>9780440234746</td>\n      <td>7.694118</td>\n      <td>170.0</td>\n      <td>6</td>\n    </tr>\n    <tr>\n      <th>26</th>\n      <td>Wild Animus</td>\n      <td>Rich Shapero</td>\n      <td>2004</td>\n      <td>other</td>\n      <td>http://images.amazon.com/images/P/0971880107.0...</td>\n      <td>http://images.amazon.com/images/P/0971880107.0...</td>\n      <td>http://images.amazon.com/images/P/0971880107.0...</td>\n      <td>9780971880108</td>\n      <td>4.390706</td>\n      <td>581.0</td>\n      <td>1</td>\n    </tr>\n    <tr>\n      <th>28</th>\n      <td>Timeline</td>\n      <td>MICHAEL CRICHTON</td>\n      <td>2000</td>\n      <td>ballantine_books</td>\n      <td>http://images.amazon.com/images/P/0345417623.0...</td>\n      <td>http://images.amazon.com/images/P/0345417623.0...</td>\n      <td>http://images.amazon.com/images/P/0345417623.0...</td>\n      <td>9780345417626</td>\n      <td>7.851282</td>\n      <td>195.0</td>\n      <td>5</td>\n    </tr>\n    <tr>\n      <th>37</th>\n      <td>To Kill a Mockingbird</td>\n      <td>Harper Lee</td>\n      <td>1988</td>\n      <td>other</td>\n      <td>http://images.amazon.com/images/P/0446310786.0...</td>\n      <td>http://images.amazon.com/images/P/0446310786.0...</td>\n      <td>http://images.amazon.com/images/P/0446310786.0...</td>\n      <td>9780446310789</td>\n      <td>8.943925</td>\n      <td>214.0</td>\n      <td>17</td>\n    </tr>\n    <tr>\n      <th>52</th>\n      <td>The Street Lawyer</td>\n      <td>JOHN GRISHAM</td>\n      <td>1999</td>\n      <td>other</td>\n      <td>http://images.amazon.com/images/P/0440225701.0...</td>\n      <td>http://images.amazon.com/images/P/0440225701.0...</td>\n      <td>http://images.amazon.com/images/P/0440225701.0...</td>\n      <td>9780440225706</td>\n      <td>7.624060</td>\n      <td>133.0</td>\n      <td>6</td>\n    </tr>\n    <tr>\n      <th>...</th>\n      <td>...</td>\n      <td>...</td>\n      <td>...</td>\n      <td>...</td>\n      <td>...</td>\n      <td>...</td>\n      <td>...</td>\n      <td>...</td>\n      <td>...</td>\n      <td>...</td>\n      <td>...</td>\n    </tr>\n    <tr>\n      <th>152675</th>\n      <td>The Perfect Storm : A True Story of Men Agains...</td>\n      <td>Sebastian Junger</td>\n      <td>1998</td>\n      <td>other</td>\n      <td>http://images.amazon.com/images/P/006101351X.0...</td>\n      <td>http://images.amazon.com/images/P/006101351X.0...</td>\n      <td>http://images.amazon.com/images/P/006101351X.0...</td>\n      <td>9780061013515</td>\n      <td>7.386555</td>\n      <td>119.0</td>\n      <td>7</td>\n    </tr>\n    <tr>\n      <th>188832</th>\n      <td>A Painted House</td>\n      <td>John Grisham</td>\n      <td>2001</td>\n      <td>other</td>\n      <td>http://images.amazon.com/images/P/044023722X.0...</td>\n      <td>http://images.amazon.com/images/P/044023722X.0...</td>\n      <td>http://images.amazon.com/images/P/044023722X.0...</td>\n      <td>9780440237228</td>\n      <td>7.340426</td>\n      <td>282.0</td>\n      <td>4</td>\n    </tr>\n    <tr>\n      <th>192189</th>\n      <td>The Bridges of Madison County</td>\n      <td>Robert James Waller</td>\n      <td>1992</td>\n      <td>warner_books</td>\n      <td>http://images.amazon.com/images/P/044651652X.0...</td>\n      <td>http://images.amazon.com/images/P/044651652X.0...</td>\n      <td>http://images.amazon.com/images/P/044651652X.0...</td>\n      <td>9780446516525</td>\n      <td>7.506579</td>\n      <td>152.0</td>\n      <td>13</td>\n    </tr>\n    <tr>\n      <th>203629</th>\n      <td>Harry Potter and the Order of the Phoenix (Boo...</td>\n      <td>J. K. Rowling</td>\n      <td>2003</td>\n      <td>scholastic</td>\n      <td>http://images.amazon.com/images/P/043935806X.0...</td>\n      <td>http://images.amazon.com/images/P/043935806X.0...</td>\n      <td>http://images.amazon.com/images/P/043935806X.0...</td>\n      <td>9780439358064</td>\n      <td>9.038647</td>\n      <td>207.0</td>\n      <td>2</td>\n    </tr>\n    <tr>\n      <th>220686</th>\n      <td>The Rainmaker</td>\n      <td>JOHN GRISHAM</td>\n      <td>1996</td>\n      <td>other</td>\n      <td>http://images.amazon.com/images/P/044022165X.0...</td>\n      <td>http://images.amazon.com/images/P/044022165X.0...</td>\n      <td>http://images.amazon.com/images/P/044022165X.0...</td>\n      <td>9780440221654</td>\n      <td>7.453237</td>\n      <td>139.0</td>\n      <td>9</td>\n    </tr>\n  </tbody>\n</table>\n<p>109 rows × 11 columns</p>\n</div>"
     },
     "execution_count": 29,
     "metadata": {},
     "output_type": "execute_result"
    }
   ],
   "source": [
    "filtered_books = books[books.isbn13.isin(top_ratings.isbn13)]\n",
    "filtered_books"
   ],
   "metadata": {
    "collapsed": false
   }
  },
  {
   "cell_type": "code",
   "execution_count": 30,
   "outputs": [
    {
     "data": {
      "text/plain": "               isbn13  normalized_year_of_publication  publisher_harlequin  \\\n18      9780440234746                               6                    0   \n26      9780971880108                               1                    0   \n28      9780345417626                               5                    0   \n37      9780446310789                              17                    0   \n52      9780440225706                               6                    0   \n...               ...                             ...                  ...   \n152675  9780061013515                               7                    0   \n188832  9780440237228                               4                    0   \n192189  9780446516525                              13                    0   \n203629  9780439358064                               2                    0   \n220686  9780440221654                               9                    0   \n\n        publisher_silhouette  publisher_pocket  publisher_ballantine_books  \\\n18                         0                 0                           0   \n26                         0                 0                           0   \n28                         0                 0                           1   \n37                         0                 0                           0   \n52                         0                 0                           0   \n...                      ...               ...                         ...   \n152675                     0                 0                           0   \n188832                     0                 0                           0   \n192189                     0                 0                           0   \n203629                     0                 0                           0   \n220686                     0                 0                           0   \n\n        publisher_bantam_books  publisher_scholastic  \\\n18                           0                     0   \n26                           0                     0   \n28                           0                     0   \n37                           0                     0   \n52                           0                     0   \n...                        ...                   ...   \n152675                       0                     0   \n188832                       0                     0   \n192189                       0                     0   \n203629                       0                     1   \n220686                       0                     0   \n\n        publisher_simon_&amp;_schuster  publisher_penguin_books  ...  \\\n18                                   0                        0  ...   \n26                                   0                        0  ...   \n28                                   0                        0  ...   \n37                                   0                        0  ...   \n52                                   0                        0  ...   \n...                                ...                      ...  ...   \n152675                               0                        0  ...   \n188832                               0                        0  ...   \n192189                               0                        0  ...   \n203629                               0                        0  ...   \n220686                               0                        0  ...   \n\n        publisher_harpercollins  publisher_fawcett_books  \\\n18                            0                        0   \n26                            0                        0   \n28                            0                        0   \n37                            0                        0   \n52                            0                        0   \n...                         ...                      ...   \n152675                        0                        0   \n188832                        0                        0   \n192189                        0                        0   \n203629                        0                        0   \n220686                        0                        0   \n\n        publisher_signet_book  publisher_random_house_inc  \\\n18                          0                           0   \n26                          0                           0   \n28                          0                           0   \n37                          0                           0   \n52                          0                           0   \n...                       ...                         ...   \n152675                      0                           0   \n188832                      0                           0   \n192189                      0                           0   \n203629                      0                           0   \n220686                      0                           0   \n\n        publisher_st_martins_pr  publisher_st._martin's_press  \\\n18                            0                             0   \n26                            0                             0   \n28                            0                             0   \n37                            0                             0   \n52                            0                             0   \n...                         ...                           ...   \n152675                        0                             0   \n188832                        0                             0   \n192189                        0                             0   \n203629                        0                             0   \n220686                        0                             0   \n\n        publisher_tor_books  publisher_harpercollins_publishers  \\\n18                        0                                   0   \n26                        0                                   0   \n28                        0                                   0   \n37                        0                                   0   \n52                        0                                   0   \n...                     ...                                 ...   \n152675                    0                                   0   \n188832                    0                                   0   \n192189                    0                                   0   \n203629                    0                                   0   \n220686                    0                                   0   \n\n        publisher_zebra_books  publisher_other  \n18                          0                1  \n26                          0                1  \n28                          0                0  \n37                          0                1  \n52                          0                1  \n...                       ...              ...  \n152675                      0                1  \n188832                      0                1  \n192189                      0                0  \n203629                      0                0  \n220686                      0                1  \n\n[109 rows x 23 columns]",
      "text/html": "<div>\n<style scoped>\n    .dataframe tbody tr th:only-of-type {\n        vertical-align: middle;\n    }\n\n    .dataframe tbody tr th {\n        vertical-align: top;\n    }\n\n    .dataframe thead th {\n        text-align: right;\n    }\n</style>\n<table border=\"1\" class=\"dataframe\">\n  <thead>\n    <tr style=\"text-align: right;\">\n      <th></th>\n      <th>isbn13</th>\n      <th>normalized_year_of_publication</th>\n      <th>publisher_harlequin</th>\n      <th>publisher_silhouette</th>\n      <th>publisher_pocket</th>\n      <th>publisher_ballantine_books</th>\n      <th>publisher_bantam_books</th>\n      <th>publisher_scholastic</th>\n      <th>publisher_simon_&amp;amp;_schuster</th>\n      <th>publisher_penguin_books</th>\n      <th>...</th>\n      <th>publisher_harpercollins</th>\n      <th>publisher_fawcett_books</th>\n      <th>publisher_signet_book</th>\n      <th>publisher_random_house_inc</th>\n      <th>publisher_st_martins_pr</th>\n      <th>publisher_st._martin's_press</th>\n      <th>publisher_tor_books</th>\n      <th>publisher_harpercollins_publishers</th>\n      <th>publisher_zebra_books</th>\n      <th>publisher_other</th>\n    </tr>\n  </thead>\n  <tbody>\n    <tr>\n      <th>18</th>\n      <td>9780440234746</td>\n      <td>6</td>\n      <td>0</td>\n      <td>0</td>\n      <td>0</td>\n      <td>0</td>\n      <td>0</td>\n      <td>0</td>\n      <td>0</td>\n      <td>0</td>\n      <td>...</td>\n      <td>0</td>\n      <td>0</td>\n      <td>0</td>\n      <td>0</td>\n      <td>0</td>\n      <td>0</td>\n      <td>0</td>\n      <td>0</td>\n      <td>0</td>\n      <td>1</td>\n    </tr>\n    <tr>\n      <th>26</th>\n      <td>9780971880108</td>\n      <td>1</td>\n      <td>0</td>\n      <td>0</td>\n      <td>0</td>\n      <td>0</td>\n      <td>0</td>\n      <td>0</td>\n      <td>0</td>\n      <td>0</td>\n      <td>...</td>\n      <td>0</td>\n      <td>0</td>\n      <td>0</td>\n      <td>0</td>\n      <td>0</td>\n      <td>0</td>\n      <td>0</td>\n      <td>0</td>\n      <td>0</td>\n      <td>1</td>\n    </tr>\n    <tr>\n      <th>28</th>\n      <td>9780345417626</td>\n      <td>5</td>\n      <td>0</td>\n      <td>0</td>\n      <td>0</td>\n      <td>1</td>\n      <td>0</td>\n      <td>0</td>\n      <td>0</td>\n      <td>0</td>\n      <td>...</td>\n      <td>0</td>\n      <td>0</td>\n      <td>0</td>\n      <td>0</td>\n      <td>0</td>\n      <td>0</td>\n      <td>0</td>\n      <td>0</td>\n      <td>0</td>\n      <td>0</td>\n    </tr>\n    <tr>\n      <th>37</th>\n      <td>9780446310789</td>\n      <td>17</td>\n      <td>0</td>\n      <td>0</td>\n      <td>0</td>\n      <td>0</td>\n      <td>0</td>\n      <td>0</td>\n      <td>0</td>\n      <td>0</td>\n      <td>...</td>\n      <td>0</td>\n      <td>0</td>\n      <td>0</td>\n      <td>0</td>\n      <td>0</td>\n      <td>0</td>\n      <td>0</td>\n      <td>0</td>\n      <td>0</td>\n      <td>1</td>\n    </tr>\n    <tr>\n      <th>52</th>\n      <td>9780440225706</td>\n      <td>6</td>\n      <td>0</td>\n      <td>0</td>\n      <td>0</td>\n      <td>0</td>\n      <td>0</td>\n      <td>0</td>\n      <td>0</td>\n      <td>0</td>\n      <td>...</td>\n      <td>0</td>\n      <td>0</td>\n      <td>0</td>\n      <td>0</td>\n      <td>0</td>\n      <td>0</td>\n      <td>0</td>\n      <td>0</td>\n      <td>0</td>\n      <td>1</td>\n    </tr>\n    <tr>\n      <th>...</th>\n      <td>...</td>\n      <td>...</td>\n      <td>...</td>\n      <td>...</td>\n      <td>...</td>\n      <td>...</td>\n      <td>...</td>\n      <td>...</td>\n      <td>...</td>\n      <td>...</td>\n      <td>...</td>\n      <td>...</td>\n      <td>...</td>\n      <td>...</td>\n      <td>...</td>\n      <td>...</td>\n      <td>...</td>\n      <td>...</td>\n      <td>...</td>\n      <td>...</td>\n      <td>...</td>\n    </tr>\n    <tr>\n      <th>152675</th>\n      <td>9780061013515</td>\n      <td>7</td>\n      <td>0</td>\n      <td>0</td>\n      <td>0</td>\n      <td>0</td>\n      <td>0</td>\n      <td>0</td>\n      <td>0</td>\n      <td>0</td>\n      <td>...</td>\n      <td>0</td>\n      <td>0</td>\n      <td>0</td>\n      <td>0</td>\n      <td>0</td>\n      <td>0</td>\n      <td>0</td>\n      <td>0</td>\n      <td>0</td>\n      <td>1</td>\n    </tr>\n    <tr>\n      <th>188832</th>\n      <td>9780440237228</td>\n      <td>4</td>\n      <td>0</td>\n      <td>0</td>\n      <td>0</td>\n      <td>0</td>\n      <td>0</td>\n      <td>0</td>\n      <td>0</td>\n      <td>0</td>\n      <td>...</td>\n      <td>0</td>\n      <td>0</td>\n      <td>0</td>\n      <td>0</td>\n      <td>0</td>\n      <td>0</td>\n      <td>0</td>\n      <td>0</td>\n      <td>0</td>\n      <td>1</td>\n    </tr>\n    <tr>\n      <th>192189</th>\n      <td>9780446516525</td>\n      <td>13</td>\n      <td>0</td>\n      <td>0</td>\n      <td>0</td>\n      <td>0</td>\n      <td>0</td>\n      <td>0</td>\n      <td>0</td>\n      <td>0</td>\n      <td>...</td>\n      <td>0</td>\n      <td>0</td>\n      <td>0</td>\n      <td>0</td>\n      <td>0</td>\n      <td>0</td>\n      <td>0</td>\n      <td>0</td>\n      <td>0</td>\n      <td>0</td>\n    </tr>\n    <tr>\n      <th>203629</th>\n      <td>9780439358064</td>\n      <td>2</td>\n      <td>0</td>\n      <td>0</td>\n      <td>0</td>\n      <td>0</td>\n      <td>0</td>\n      <td>1</td>\n      <td>0</td>\n      <td>0</td>\n      <td>...</td>\n      <td>0</td>\n      <td>0</td>\n      <td>0</td>\n      <td>0</td>\n      <td>0</td>\n      <td>0</td>\n      <td>0</td>\n      <td>0</td>\n      <td>0</td>\n      <td>0</td>\n    </tr>\n    <tr>\n      <th>220686</th>\n      <td>9780440221654</td>\n      <td>9</td>\n      <td>0</td>\n      <td>0</td>\n      <td>0</td>\n      <td>0</td>\n      <td>0</td>\n      <td>0</td>\n      <td>0</td>\n      <td>0</td>\n      <td>...</td>\n      <td>0</td>\n      <td>0</td>\n      <td>0</td>\n      <td>0</td>\n      <td>0</td>\n      <td>0</td>\n      <td>0</td>\n      <td>0</td>\n      <td>0</td>\n      <td>1</td>\n    </tr>\n  </tbody>\n</table>\n<p>109 rows × 23 columns</p>\n</div>"
     },
     "execution_count": 30,
     "metadata": {},
     "output_type": "execute_result"
    }
   ],
   "source": [
    "encoded_books = hot_encode_books(filtered_books)\n",
    "df_books = encoded_books.filter(regex=\"isbn13|normalized_year_of_publication|publisher_\", axis=1)\n",
    "df_books"
   ],
   "metadata": {
    "collapsed": false
   }
  },
  {
   "cell_type": "code",
   "execution_count": 31,
   "outputs": [
    {
     "data": {
      "text/plain": "   age  country_usa  country_canada  country_united_kingdom  country_germany  \\\n0   20            0               0                       0                0   \n\n   country_spain  country_australia  country_italy  country_france  \\\n0              0                  0              0               0   \n\n   country_portugal  ...  state_ohio  state_michigan  state_oregon  \\\n0                 0  ...           0               0             0   \n\n   state_virginia  state_massachusetts  state_missouri  \\\n0               0                    0               0   \n\n   state_nordrhein-westfalen  state_north_carolina  state_  state_other  \n0                          0                     0       0            1  \n\n[1 rows x 43 columns]",
      "text/html": "<div>\n<style scoped>\n    .dataframe tbody tr th:only-of-type {\n        vertical-align: middle;\n    }\n\n    .dataframe tbody tr th {\n        vertical-align: top;\n    }\n\n    .dataframe thead th {\n        text-align: right;\n    }\n</style>\n<table border=\"1\" class=\"dataframe\">\n  <thead>\n    <tr style=\"text-align: right;\">\n      <th></th>\n      <th>age</th>\n      <th>country_usa</th>\n      <th>country_canada</th>\n      <th>country_united_kingdom</th>\n      <th>country_germany</th>\n      <th>country_spain</th>\n      <th>country_australia</th>\n      <th>country_italy</th>\n      <th>country_france</th>\n      <th>country_portugal</th>\n      <th>...</th>\n      <th>state_ohio</th>\n      <th>state_michigan</th>\n      <th>state_oregon</th>\n      <th>state_virginia</th>\n      <th>state_massachusetts</th>\n      <th>state_missouri</th>\n      <th>state_nordrhein-westfalen</th>\n      <th>state_north_carolina</th>\n      <th>state_</th>\n      <th>state_other</th>\n    </tr>\n  </thead>\n  <tbody>\n    <tr>\n      <th>0</th>\n      <td>20</td>\n      <td>0</td>\n      <td>0</td>\n      <td>0</td>\n      <td>0</td>\n      <td>0</td>\n      <td>0</td>\n      <td>0</td>\n      <td>0</td>\n      <td>0</td>\n      <td>...</td>\n      <td>0</td>\n      <td>0</td>\n      <td>0</td>\n      <td>0</td>\n      <td>0</td>\n      <td>0</td>\n      <td>0</td>\n      <td>0</td>\n      <td>0</td>\n      <td>1</td>\n    </tr>\n  </tbody>\n</table>\n<p>1 rows × 43 columns</p>\n</div>"
     },
     "execution_count": 31,
     "metadata": {},
     "output_type": "execute_result"
    }
   ],
   "source": [
    "df_user = pd.DataFrame([{\n",
    "    'age': 20,\n",
    "    'city': None,\n",
    "    'state': None,\n",
    "    'country': \"something\"\n",
    "}])\n",
    "df_user = normalize_country(df_user, users.country)\n",
    "df_user = normalize_state(df_user)\n",
    "df_user = hot_encode_users(df_user)\n",
    "df_user = df_user.filter(regex=\"age|country_|state_\", axis=1)\n",
    "df_user"
   ],
   "metadata": {
    "collapsed": false
   }
  },
  {
   "cell_type": "code",
   "execution_count": 32,
   "outputs": [
    {
     "data": {
      "text/plain": "               isbn13  normalized_year_of_publication  publisher_harlequin  \\\n18      9780440234746                               6                    0   \n26      9780971880108                               1                    0   \n28      9780345417626                               5                    0   \n37      9780446310789                              17                    0   \n52      9780440225706                               6                    0   \n...               ...                             ...                  ...   \n152675  9780061013515                               7                    0   \n188832  9780440237228                               4                    0   \n192189  9780446516525                              13                    0   \n203629  9780439358064                               2                    0   \n220686  9780440221654                               9                    0   \n\n        publisher_silhouette  publisher_pocket  publisher_ballantine_books  \\\n18                         0                 0                           0   \n26                         0                 0                           0   \n28                         0                 0                           1   \n37                         0                 0                           0   \n52                         0                 0                           0   \n...                      ...               ...                         ...   \n152675                     0                 0                           0   \n188832                     0                 0                           0   \n192189                     0                 0                           0   \n203629                     0                 0                           0   \n220686                     0                 0                           0   \n\n        publisher_bantam_books  publisher_scholastic  \\\n18                           0                     0   \n26                           0                     0   \n28                           0                     0   \n37                           0                     0   \n52                           0                     0   \n...                        ...                   ...   \n152675                       0                     0   \n188832                       0                     0   \n192189                       0                     0   \n203629                       0                     1   \n220686                       0                     0   \n\n        publisher_simon_&amp;_schuster  publisher_penguin_books  ...  \\\n18                                   0                        0  ...   \n26                                   0                        0  ...   \n28                                   0                        0  ...   \n37                                   0                        0  ...   \n52                                   0                        0  ...   \n...                                ...                      ...  ...   \n152675                               0                        0  ...   \n188832                               0                        0  ...   \n192189                               0                        0  ...   \n203629                               0                        0  ...   \n220686                               0                        0  ...   \n\n        state_ohio  state_michigan  state_oregon  state_virginia  \\\n18               0               0             0               0   \n26               0               0             0               0   \n28               0               0             0               0   \n37               0               0             0               0   \n52               0               0             0               0   \n...            ...             ...           ...             ...   \n152675           0               0             0               0   \n188832           0               0             0               0   \n192189           0               0             0               0   \n203629           0               0             0               0   \n220686           0               0             0               0   \n\n        state_massachusetts  state_missouri  state_nordrhein-westfalen  \\\n18                        0               0                          0   \n26                        0               0                          0   \n28                        0               0                          0   \n37                        0               0                          0   \n52                        0               0                          0   \n...                     ...             ...                        ...   \n152675                    0               0                          0   \n188832                    0               0                          0   \n192189                    0               0                          0   \n203629                    0               0                          0   \n220686                    0               0                          0   \n\n        state_north_carolina  state_  state_other  \n18                         0       0            1  \n26                         0       0            1  \n28                         0       0            1  \n37                         0       0            1  \n52                         0       0            1  \n...                      ...     ...          ...  \n152675                     0       0            1  \n188832                     0       0            1  \n192189                     0       0            1  \n203629                     0       0            1  \n220686                     0       0            1  \n\n[109 rows x 66 columns]",
      "text/html": "<div>\n<style scoped>\n    .dataframe tbody tr th:only-of-type {\n        vertical-align: middle;\n    }\n\n    .dataframe tbody tr th {\n        vertical-align: top;\n    }\n\n    .dataframe thead th {\n        text-align: right;\n    }\n</style>\n<table border=\"1\" class=\"dataframe\">\n  <thead>\n    <tr style=\"text-align: right;\">\n      <th></th>\n      <th>isbn13</th>\n      <th>normalized_year_of_publication</th>\n      <th>publisher_harlequin</th>\n      <th>publisher_silhouette</th>\n      <th>publisher_pocket</th>\n      <th>publisher_ballantine_books</th>\n      <th>publisher_bantam_books</th>\n      <th>publisher_scholastic</th>\n      <th>publisher_simon_&amp;amp;_schuster</th>\n      <th>publisher_penguin_books</th>\n      <th>...</th>\n      <th>state_ohio</th>\n      <th>state_michigan</th>\n      <th>state_oregon</th>\n      <th>state_virginia</th>\n      <th>state_massachusetts</th>\n      <th>state_missouri</th>\n      <th>state_nordrhein-westfalen</th>\n      <th>state_north_carolina</th>\n      <th>state_</th>\n      <th>state_other</th>\n    </tr>\n  </thead>\n  <tbody>\n    <tr>\n      <th>18</th>\n      <td>9780440234746</td>\n      <td>6</td>\n      <td>0</td>\n      <td>0</td>\n      <td>0</td>\n      <td>0</td>\n      <td>0</td>\n      <td>0</td>\n      <td>0</td>\n      <td>0</td>\n      <td>...</td>\n      <td>0</td>\n      <td>0</td>\n      <td>0</td>\n      <td>0</td>\n      <td>0</td>\n      <td>0</td>\n      <td>0</td>\n      <td>0</td>\n      <td>0</td>\n      <td>1</td>\n    </tr>\n    <tr>\n      <th>26</th>\n      <td>9780971880108</td>\n      <td>1</td>\n      <td>0</td>\n      <td>0</td>\n      <td>0</td>\n      <td>0</td>\n      <td>0</td>\n      <td>0</td>\n      <td>0</td>\n      <td>0</td>\n      <td>...</td>\n      <td>0</td>\n      <td>0</td>\n      <td>0</td>\n      <td>0</td>\n      <td>0</td>\n      <td>0</td>\n      <td>0</td>\n      <td>0</td>\n      <td>0</td>\n      <td>1</td>\n    </tr>\n    <tr>\n      <th>28</th>\n      <td>9780345417626</td>\n      <td>5</td>\n      <td>0</td>\n      <td>0</td>\n      <td>0</td>\n      <td>1</td>\n      <td>0</td>\n      <td>0</td>\n      <td>0</td>\n      <td>0</td>\n      <td>...</td>\n      <td>0</td>\n      <td>0</td>\n      <td>0</td>\n      <td>0</td>\n      <td>0</td>\n      <td>0</td>\n      <td>0</td>\n      <td>0</td>\n      <td>0</td>\n      <td>1</td>\n    </tr>\n    <tr>\n      <th>37</th>\n      <td>9780446310789</td>\n      <td>17</td>\n      <td>0</td>\n      <td>0</td>\n      <td>0</td>\n      <td>0</td>\n      <td>0</td>\n      <td>0</td>\n      <td>0</td>\n      <td>0</td>\n      <td>...</td>\n      <td>0</td>\n      <td>0</td>\n      <td>0</td>\n      <td>0</td>\n      <td>0</td>\n      <td>0</td>\n      <td>0</td>\n      <td>0</td>\n      <td>0</td>\n      <td>1</td>\n    </tr>\n    <tr>\n      <th>52</th>\n      <td>9780440225706</td>\n      <td>6</td>\n      <td>0</td>\n      <td>0</td>\n      <td>0</td>\n      <td>0</td>\n      <td>0</td>\n      <td>0</td>\n      <td>0</td>\n      <td>0</td>\n      <td>...</td>\n      <td>0</td>\n      <td>0</td>\n      <td>0</td>\n      <td>0</td>\n      <td>0</td>\n      <td>0</td>\n      <td>0</td>\n      <td>0</td>\n      <td>0</td>\n      <td>1</td>\n    </tr>\n    <tr>\n      <th>...</th>\n      <td>...</td>\n      <td>...</td>\n      <td>...</td>\n      <td>...</td>\n      <td>...</td>\n      <td>...</td>\n      <td>...</td>\n      <td>...</td>\n      <td>...</td>\n      <td>...</td>\n      <td>...</td>\n      <td>...</td>\n      <td>...</td>\n      <td>...</td>\n      <td>...</td>\n      <td>...</td>\n      <td>...</td>\n      <td>...</td>\n      <td>...</td>\n      <td>...</td>\n      <td>...</td>\n    </tr>\n    <tr>\n      <th>152675</th>\n      <td>9780061013515</td>\n      <td>7</td>\n      <td>0</td>\n      <td>0</td>\n      <td>0</td>\n      <td>0</td>\n      <td>0</td>\n      <td>0</td>\n      <td>0</td>\n      <td>0</td>\n      <td>...</td>\n      <td>0</td>\n      <td>0</td>\n      <td>0</td>\n      <td>0</td>\n      <td>0</td>\n      <td>0</td>\n      <td>0</td>\n      <td>0</td>\n      <td>0</td>\n      <td>1</td>\n    </tr>\n    <tr>\n      <th>188832</th>\n      <td>9780440237228</td>\n      <td>4</td>\n      <td>0</td>\n      <td>0</td>\n      <td>0</td>\n      <td>0</td>\n      <td>0</td>\n      <td>0</td>\n      <td>0</td>\n      <td>0</td>\n      <td>...</td>\n      <td>0</td>\n      <td>0</td>\n      <td>0</td>\n      <td>0</td>\n      <td>0</td>\n      <td>0</td>\n      <td>0</td>\n      <td>0</td>\n      <td>0</td>\n      <td>1</td>\n    </tr>\n    <tr>\n      <th>192189</th>\n      <td>9780446516525</td>\n      <td>13</td>\n      <td>0</td>\n      <td>0</td>\n      <td>0</td>\n      <td>0</td>\n      <td>0</td>\n      <td>0</td>\n      <td>0</td>\n      <td>0</td>\n      <td>...</td>\n      <td>0</td>\n      <td>0</td>\n      <td>0</td>\n      <td>0</td>\n      <td>0</td>\n      <td>0</td>\n      <td>0</td>\n      <td>0</td>\n      <td>0</td>\n      <td>1</td>\n    </tr>\n    <tr>\n      <th>203629</th>\n      <td>9780439358064</td>\n      <td>2</td>\n      <td>0</td>\n      <td>0</td>\n      <td>0</td>\n      <td>0</td>\n      <td>0</td>\n      <td>1</td>\n      <td>0</td>\n      <td>0</td>\n      <td>...</td>\n      <td>0</td>\n      <td>0</td>\n      <td>0</td>\n      <td>0</td>\n      <td>0</td>\n      <td>0</td>\n      <td>0</td>\n      <td>0</td>\n      <td>0</td>\n      <td>1</td>\n    </tr>\n    <tr>\n      <th>220686</th>\n      <td>9780440221654</td>\n      <td>9</td>\n      <td>0</td>\n      <td>0</td>\n      <td>0</td>\n      <td>0</td>\n      <td>0</td>\n      <td>0</td>\n      <td>0</td>\n      <td>0</td>\n      <td>...</td>\n      <td>0</td>\n      <td>0</td>\n      <td>0</td>\n      <td>0</td>\n      <td>0</td>\n      <td>0</td>\n      <td>0</td>\n      <td>0</td>\n      <td>0</td>\n      <td>1</td>\n    </tr>\n  </tbody>\n</table>\n<p>109 rows × 66 columns</p>\n</div>"
     },
     "execution_count": 32,
     "metadata": {},
     "output_type": "execute_result"
    }
   ],
   "source": [
    "df_input = df_books.assign(**df_user.iloc[0])\n",
    "df_input"
   ],
   "metadata": {
    "collapsed": false
   }
  },
  {
   "cell_type": "code",
   "execution_count": 33,
   "outputs": [
    {
     "name": "stdout",
     "output_type": "stream",
     "text": [
      "Loading file: rf5.pkl\n"
     ]
    },
    {
     "ename": "FileNotFoundError",
     "evalue": "[Errno 2] No such file or directory: 'rf5.pkl'",
     "output_type": "error",
     "traceback": [
      "\u001B[0;31m---------------------------------------------------------------------------\u001B[0m",
      "\u001B[0;31mFileNotFoundError\u001B[0m                         Traceback (most recent call last)",
      "Cell \u001B[0;32mIn[33], line 11\u001B[0m\n\u001B[1;32m      8\u001B[0m     exit(\u001B[38;5;124m\"\u001B[39m\u001B[38;5;124mNo model found\u001B[39m\u001B[38;5;124m\"\u001B[39m)\n\u001B[1;32m     10\u001B[0m \u001B[38;5;28mprint\u001B[39m(\u001B[38;5;124m\"\u001B[39m\u001B[38;5;124mLoading file:\u001B[39m\u001B[38;5;124m\"\u001B[39m, model_file)\n\u001B[0;32m---> 11\u001B[0m \u001B[38;5;28;01mwith\u001B[39;00m \u001B[38;5;28;43mopen\u001B[39;49m\u001B[43m(\u001B[49m\u001B[43mmodel_file\u001B[49m\u001B[43m,\u001B[49m\u001B[43m \u001B[49m\u001B[38;5;124;43m\"\u001B[39;49m\u001B[38;5;124;43mrb\u001B[39;49m\u001B[38;5;124;43m\"\u001B[39;49m\u001B[43m)\u001B[49m \u001B[38;5;28;01mas\u001B[39;00m file:\n\u001B[1;32m     12\u001B[0m     rfc \u001B[38;5;241m=\u001B[39m pickle\u001B[38;5;241m.\u001B[39mload(file)\n",
      "File \u001B[0;32m/usr/lib/python3.10/site-packages/IPython/core/interactiveshell.py:282\u001B[0m, in \u001B[0;36m_modified_open\u001B[0;34m(file, *args, **kwargs)\u001B[0m\n\u001B[1;32m    275\u001B[0m \u001B[38;5;28;01mif\u001B[39;00m file \u001B[38;5;129;01min\u001B[39;00m {\u001B[38;5;241m0\u001B[39m, \u001B[38;5;241m1\u001B[39m, \u001B[38;5;241m2\u001B[39m}:\n\u001B[1;32m    276\u001B[0m     \u001B[38;5;28;01mraise\u001B[39;00m \u001B[38;5;167;01mValueError\u001B[39;00m(\n\u001B[1;32m    277\u001B[0m         \u001B[38;5;124mf\u001B[39m\u001B[38;5;124m\"\u001B[39m\u001B[38;5;124mIPython won\u001B[39m\u001B[38;5;124m'\u001B[39m\u001B[38;5;124mt let you open fd=\u001B[39m\u001B[38;5;132;01m{\u001B[39;00mfile\u001B[38;5;132;01m}\u001B[39;00m\u001B[38;5;124m by default \u001B[39m\u001B[38;5;124m\"\u001B[39m\n\u001B[1;32m    278\u001B[0m         \u001B[38;5;124m\"\u001B[39m\u001B[38;5;124mas it is likely to crash IPython. If you know what you are doing, \u001B[39m\u001B[38;5;124m\"\u001B[39m\n\u001B[1;32m    279\u001B[0m         \u001B[38;5;124m\"\u001B[39m\u001B[38;5;124myou can use builtins\u001B[39m\u001B[38;5;124m'\u001B[39m\u001B[38;5;124m open.\u001B[39m\u001B[38;5;124m\"\u001B[39m\n\u001B[1;32m    280\u001B[0m     )\n\u001B[0;32m--> 282\u001B[0m \u001B[38;5;28;01mreturn\u001B[39;00m \u001B[43mio_open\u001B[49m\u001B[43m(\u001B[49m\u001B[43mfile\u001B[49m\u001B[43m,\u001B[49m\u001B[43m \u001B[49m\u001B[38;5;241;43m*\u001B[39;49m\u001B[43margs\u001B[49m\u001B[43m,\u001B[49m\u001B[43m \u001B[49m\u001B[38;5;241;43m*\u001B[39;49m\u001B[38;5;241;43m*\u001B[39;49m\u001B[43mkwargs\u001B[49m\u001B[43m)\u001B[49m\n",
      "\u001B[0;31mFileNotFoundError\u001B[0m: [Errno 2] No such file or directory: 'rf5.pkl'"
     ]
    }
   ],
   "source": [
    "from os.path import exists\n",
    "import pickle\n",
    "\n",
    "# Load the model from the file\n",
    "model_file = \"rf5.pkl\"\n",
    "\n",
    "if not exists(model_file):\n",
    "    exit(\"No model found\")\n",
    "\n",
    "print(\"Loading file:\", model_file)\n",
    "with open(model_file, \"rb\") as file:\n",
    "    rfc = pickle.load(file)\n"
   ],
   "metadata": {
    "collapsed": false
   }
  },
  {
   "cell_type": "code",
   "execution_count": null,
   "outputs": [],
   "source": [
    "rfc_predict = rfc.predict(df_input)\n",
    "pd.DataFrame(rfc_predict)"
   ],
   "metadata": {
    "collapsed": false
   }
  },
  {
   "cell_type": "code",
   "execution_count": null,
   "outputs": [],
   "source": [
    "import seaborn as sns\n",
    "sns.countplot(x = rfc_predict)"
   ],
   "metadata": {
    "collapsed": false
   }
  },
  {
   "cell_type": "code",
   "execution_count": null,
   "outputs": [],
   "source": [
    "predictions = df_books.filter(regex=\"isbn13\", axis=1)\n",
    "predictions = predictions.reset_index()\n",
    "predicted_ratings = pd.DataFrame(rfc_predict, columns=[\"predicted_book_rating\"])\n",
    "predictions = predictions.join(predicted_ratings)\n",
    "predictions = predictions.join(predicted_ratings)\n",
    "predictions"
   ],
   "metadata": {
    "collapsed": false
   }
  },
  {
   "cell_type": "code",
   "execution_count": null,
   "outputs": [],
   "source": [
    "predictions = predictions.sort_values(\"predicted_book_rating\", na_position=\"first\", ascending=False)\n",
    "predictions"
   ],
   "metadata": {
    "collapsed": false
   }
  },
  {
   "cell_type": "code",
   "execution_count": null,
   "outputs": [],
   "source": [
    "predictions.merge(books, on=\"isbn13\", how=\"left\")"
   ],
   "metadata": {
    "collapsed": false
   }
  }
 ],
 "metadata": {
  "kernelspec": {
   "display_name": "Python 3 (ipykernel)",
   "language": "python",
   "name": "python3"
  },
  "language_info": {
   "codemirror_mode": {
    "name": "ipython",
    "version": 3
   },
   "file_extension": ".py",
   "mimetype": "text/x-python",
   "name": "python",
   "nbconvert_exporter": "python",
   "pygments_lexer": "ipython3",
   "version": "3.10.8"
  }
 },
 "nbformat": 4,
 "nbformat_minor": 5
}
