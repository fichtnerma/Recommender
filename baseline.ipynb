{
 "cells": [
  {
   "cell_type": "markdown",
   "metadata": {},
   "source": [
    "# Baseline - Most popular"
   ]
  },
  {
   "cell_type": "markdown",
   "source": [
    "## Case Recommender Implementation"
   ],
   "metadata": {
    "collapsed": false,
    "pycharm": {
     "name": "#%% md\n"
    }
   }
  },
  {
   "cell_type": "code",
   "execution_count": 1,
   "metadata": {},
   "outputs": [
    {
     "name": "stdout",
     "output_type": "stream",
     "text": [
      "With NaN values 34.862889904962536\n",
      "used mean values 34.870185865015245\n"
     ]
    },
    {
     "name": "stderr",
     "output_type": "stream",
     "text": [
      "/Users/johannes/Studium/MMT/1. Semester/Fächer/Recommender Systems/Abschlussprojekt/code/recommender-systems/bibrec/server/Utils.py:37: FutureWarning: In a future version of pandas all arguments of StringMethods.split except for the argument 'pat' will be keyword-only.\n",
      "  location_seperated = users.location.str.split(',', 2, expand=True)\n",
      "/Users/johannes/Studium/MMT/1. Semester/Fächer/Recommender Systems/Abschlussprojekt/code/recommender-systems/bibrec/server/Utils.py:6: DtypeWarning: Columns (3) have mixed types. Specify dtype option on import or set low_memory=False.\n",
      "  books = pd.read_csv(\"./data/BX-Books.csv\", sep=\";\", encoding=\"latin-1\")\n"
     ]
    }
   ],
   "source": [
    "import pandas as pd\n",
    "from sklearn.model_selection import train_test_split\n",
    "import bibrec.server.data_exploration as data_exploration\n",
    "\n",
    "\n",
    "def prepare_string(string):\n",
    "    return str(string).strip().lower().replace('-', '_')\n",
    "\n",
    "\n",
    "book_ratings = data_exploration.filtered_ratings[:100000]\n",
    "books = data_exploration.books\n",
    "\n",
    "ratings_dict = {\n",
    "    'userId': book_ratings['user_id'].values,\n",
    "    'isbn13': book_ratings['isbn13'].values,\n",
    "    'book_rating': book_ratings['book_rating'].values\n",
    "}\n",
    "\n",
    "df = pd.DataFrame.from_dict(ratings_dict)\n",
    "\n",
    "train_bx, test_bx = train_test_split(df, test_size=0.2)\n",
    "\n",
    "pd.DataFrame(train_bx).to_csv(\"./data/bx_ratings_train.csv\", index=False, header=False)\n",
    "pd.DataFrame(test_bx).to_csv(\"./data/bx_rating_test.csv\", index=False, header=False)"
   ]
  },
  {
   "cell_type": "code",
   "execution_count": 2,
   "metadata": {},
   "outputs": [
    {
     "name": "stdout",
     "output_type": "stream",
     "text": [
      "[Case Recommender: Item Recommendation > Most Popular]\n",
      "\n",
      "train data:: 15452 users and 48517 items (80000 interactions) | sparsity:: 99.99%\n",
      "test data:: 6679 users and 15554 items (20000 interactions) | sparsity:: 99.98%\n",
      "\n",
      "prediction_time:: 1312.260658 sec\n",
      "\n",
      "\n",
      "Eval:: PREC@1: 0.004342 PREC@3: 0.002845 PREC@5: 0.003174 PREC@10: 0.00271 RECALL@1: 0.001193 RECALL@3: 0.002994 RECALL@5: 0.006785 RECALL@10: 0.011249 MAP@1: 0.004342 MAP@3: 0.006214 MAP@5: 0.007801 MAP@10: 0.009065 NDCG@1: 0.004342 NDCG@3: 0.008037 NDCG@5: 0.011302 NDCG@10: 0.014704 \n"
     ]
    }
   ],
   "source": [
    "from caserec.recommenders.item_recommendation.most_popular import MostPopular\n",
    "\n",
    "MostPopular(\"./data/bx_ratings_train.csv\", \"./data/bx_rating_test.csv\", output_file=\"./data/bx_rating_mp.csv\",\n",
    "            sep=\",\").compute()"
   ]
  },
  {
   "cell_type": "code",
   "execution_count": 6,
   "metadata": {},
   "outputs": [],
   "source": [
    "mp = pd.read_csv(\"./data/bx_rating_mp.csv\", sep=\",\", encoding=\"latin-1\")"
   ]
  },
  {
   "cell_type": "code",
   "execution_count": 7,
   "metadata": {},
   "outputs": [
    {
     "name": "stdout",
     "output_type": "stream",
     "text": [
      "PREC@1\tPREC@3\tPREC@5\tPREC@10\tRECALL@1\tRECALL@3\tRECALL@5\tRECALL@10\t\n",
      "0.004342\t0.002845\t0.003174\t0.00271\t0.001193\t0.002994\t0.006785\t0.011249\t\n"
     ]
    }
   ],
   "source": [
    "from caserec.evaluation.item_recommendation import ItemRecommendationEvaluation\n",
    "\n",
    "evaluation = ItemRecommendationEvaluation(n_ranks=[1, 3, 5, 10], metrics=['PREC', 'RECALL'], sep=\",\",\n",
    "                                          as_table=True).evaluate_with_files(\"./data/bx_rating_mp.csv\",\n",
    "                                                                             \"./data/bx_rating_test.csv\")"
   ]
  },
  {
   "cell_type": "markdown",
   "source": [
    "## Own Implementation"
   ],
   "metadata": {
    "collapsed": false
   }
  },
  {
   "cell_type": "code",
   "execution_count": 8,
   "outputs": [
    {
     "name": "stdout",
     "output_type": "stream",
     "text": [
      "With NaN values 34.862889904962536\n",
      "used mean values 34.881596148928175\n"
     ]
    },
    {
     "name": "stderr",
     "output_type": "stream",
     "text": [
      "/Users/johannes/Studium/MMT/1. Semester/Fächer/Recommender Systems/Abschlussprojekt/code/recommender-systems/bibrec/server/Utils.py:37: FutureWarning: In a future version of pandas all arguments of StringMethods.split except for the argument 'pat' will be keyword-only.\n",
      "  location_seperated = users.location.str.split(',', 2, expand=True)\n",
      "/Users/johannes/Studium/MMT/1. Semester/Fächer/Recommender Systems/Abschlussprojekt/code/recommender-systems/bibrec/server/Utils.py:6: DtypeWarning: Columns (3) have mixed types. Specify dtype option on import or set low_memory=False.\n",
      "  books = pd.read_csv(\"./data/BX-Books.csv\", sep=\";\", encoding=\"latin-1\")\n"
     ]
    }
   ],
   "source": [
    "from bibrec.server.Utils import assign_popular_based_score\n",
    "import pandas as pd\n",
    "import numpy as np\n",
    "import bibrec.server.evaluation as eval\n",
    "from collections import defaultdict\n",
    "import bibrec.server.data_exploration as data_exploration\n",
    "import importlib\n",
    "from sklearn.model_selection import train_test_split\n",
    "\n",
    "importlib.reload(eval)\n",
    "importlib.reload(data_exploration)\n",
    "\n",
    "books = data_exploration.books\n",
    "ratings = data_exploration.filtered_ratings\n",
    "\n",
    "train, test = train_test_split(ratings, test_size=0.20)"
   ],
   "metadata": {
    "collapsed": false,
    "pycharm": {
     "name": "#%%\n"
    }
   }
  },
  {
   "cell_type": "code",
   "execution_count": 9,
   "outputs": [
    {
     "name": "stdout",
     "output_type": "stream",
     "text": [
      "Ratings Count: 383963\n",
      "Train Data Ratings Count: 307170\n",
      "Test Data Ratings Count: 76793\n"
     ]
    }
   ],
   "source": [
    "print(\"Ratings Count:\", len(ratings))\n",
    "print(\"Train Data Ratings Count:\", len(train))\n",
    "print(\"Test Data Ratings Count:\", len(test))"
   ],
   "metadata": {
    "collapsed": false,
    "pycharm": {
     "name": "#%%\n"
    }
   }
  },
  {
   "cell_type": "code",
   "execution_count": 10,
   "outputs": [],
   "source": [
    "book_ratings_dict = {\n",
    "    'user_id': train['user_id'].values,\n",
    "    'isbn13': train['isbn13'].values,\n",
    "    'book_rating': train['book_rating'].values\n",
    "}\n",
    "\n",
    "book_rating_df = pd.DataFrame.from_dict(book_ratings_dict)"
   ],
   "metadata": {
    "collapsed": false,
    "pycharm": {
     "name": "#%%\n"
    }
   }
  },
  {
   "cell_type": "code",
   "execution_count": 11,
   "outputs": [
    {
     "name": "stdout",
     "output_type": "stream",
     "text": [
      "              isbn13  vote_count  avg_rating  weighted_rating\n",
      "6493   9780316666343         566    8.173145         8.170880\n",
      "35163  9780971880108         460    4.360870         4.374588\n",
      "12560  9780385504201         379    8.395778         8.391233\n",
      "5146   9780312195519         302    8.178808         8.174539\n",
      "23418  9780590353427         251    8.872510         8.861896\n",
      "23419  9780590353427         251    8.872510         8.861896\n",
      "17456   978044667227         244    8.147541         8.142519\n",
      "1254   9780060928339         243    7.909465         7.906366\n",
      "4022   9780142001745         239    8.401674         8.394439\n",
      "15833  9780440237228         229    7.318777         7.320605\n",
      "15834  9780440237228         229    7.318777         7.320605\n",
      "24828  9780671027360         226    8.110619         8.105525\n",
      "19765  9780452282155         226    8.000000         7.995876\n",
      "6472   9780316601955         224    7.562500         7.562211\n",
      "30794  9780786868711         197    8.071066         8.065627\n",
      "27232  9780679764021         196    7.750000         7.747776\n",
      "27231  9780679764021         196    7.750000         7.747776\n",
      "4336   9780156027328         195    7.979487         7.974922\n",
      "6540   9780316769488         193    7.766839         7.764409\n",
      "29153  9780743418171         186    8.096774         8.090743\n"
     ]
    }
   ],
   "source": [
    "popular_books = assign_popular_based_score(train, books, \"user_id\", \"isbn13\", \"book_rating\")\n",
    "popular_books = popular_books.sort_values(\"vote_count\", ascending=False)\n",
    "\n",
    "print(popular_books[:20])"
   ],
   "metadata": {
    "collapsed": false,
    "pycharm": {
     "name": "#%%\n"
    }
   }
  },
  {
   "cell_type": "code",
   "execution_count": 12,
   "outputs": [],
   "source": [
    "pop_dict = {\n",
    "    'itemId': popular_books['isbn13'].values,\n",
    "    'est_r': popular_books['avg_rating'].values,\n",
    "}\n",
    "\n",
    "pop_df = pd.DataFrame.from_dict(pop_dict)\n",
    "\n",
    "ratings_dict = {\n",
    "    'userId': test['user_id'].values,\n",
    "    'itemId': test['isbn13'].values,\n",
    "    'rating': test['book_rating'].values\n",
    "}\n",
    "\n",
    "ratings_df = pd.DataFrame.from_dict(ratings_dict)"
   ],
   "metadata": {
    "collapsed": false,
    "pycharm": {
     "name": "#%%\n"
    }
   }
  },
  {
   "cell_type": "code",
   "execution_count": 13,
   "outputs": [
    {
     "name": "stdout",
     "output_type": "stream",
     "text": [
      "User Count: 25881\n"
     ]
    }
   ],
   "source": [
    "uids = ratings_df[\"userId\"].unique()\n",
    "\n",
    "print(\"User Count:\", len(uids))"
   ],
   "metadata": {
    "collapsed": false,
    "pycharm": {
     "name": "#%%\n"
    }
   }
  },
  {
   "cell_type": "code",
   "execution_count": 14,
   "outputs": [],
   "source": [
    "def def_value():\n",
    "    return \"Not Present\"\n",
    "\n",
    "\n",
    "top_n = defaultdict(def_value)\n",
    "for uid in uids:\n",
    "    top_n[uid] = pop_df"
   ],
   "metadata": {
    "collapsed": false,
    "pycharm": {
     "name": "#%%\n"
    }
   }
  },
  {
   "cell_type": "code",
   "execution_count": 15,
   "outputs": [
    {
     "name": "stdout",
     "output_type": "stream",
     "text": [
      "Average Rating: 7.630435065696092\n"
     ]
    }
   ],
   "source": [
    "mean_rating_test = np.mean(ratings_df[\"rating\"])\n",
    "\n",
    "print(\"Average Rating:\", mean_rating_test)"
   ],
   "metadata": {
    "collapsed": false,
    "pycharm": {
     "name": "#%%\n"
    }
   }
  },
  {
   "cell_type": "code",
   "execution_count": 16,
   "outputs": [
    {
     "name": "stdout",
     "output_type": "stream",
     "text": [
      "Average Precision: 0.00190294038097446\n",
      "--- Calculation time: 49.03213095664978 seconds ---\n"
     ]
    }
   ],
   "source": [
    "import time\n",
    "\n",
    "start_time = time.time()\n",
    "avg_precision = eval.get_avg_precision(ratings_df, top_n, k=20, threshold=mean_rating_test)\n",
    "\n",
    "print(\"Average Precision:\", avg_precision)\n",
    "print(\"--- Calculation time: %s seconds ---\" % (time.time() - start_time))"
   ],
   "metadata": {
    "collapsed": false,
    "pycharm": {
     "name": "#%%\n"
    }
   }
  },
  {
   "cell_type": "code",
   "execution_count": 17,
   "outputs": [
    {
     "name": "stdout",
     "output_type": "stream",
     "text": [
      "Average Recall: 0.016136531546655578\n",
      "--- Calculation time: 44.69033885002136 seconds ---\n"
     ]
    }
   ],
   "source": [
    "avg_recall = eval.get_avg_recall(ratings_df, top_n, k=20, threshold=mean_rating_test)\n",
    "\n",
    "print(\"Average Recall:\", avg_recall)\n",
    "print(\"--- Calculation time: %s seconds ---\" % (time.time() - start_time))"
   ],
   "metadata": {
    "collapsed": false,
    "pycharm": {
     "name": "#%%\n"
    }
   }
  }
 ],
 "metadata": {
  "kernelspec": {
   "display_name": "Python 3.9.14 64-bit",
   "language": "python",
   "name": "python3"
  },
  "language_info": {
   "codemirror_mode": {
    "name": "ipython",
    "version": 3
   },
   "file_extension": ".py",
   "mimetype": "text/x-python",
   "name": "python",
   "nbconvert_exporter": "python",
   "pygments_lexer": "ipython3",
   "version": "3.9.14"
  },
  "orig_nbformat": 4,
  "vscode": {
   "interpreter": {
    "hash": "397704579725e15f5c7cb49fe5f0341eb7531c82d19f2c29d197e8b64ab5776b"
   }
  }
 },
 "nbformat": 4,
 "nbformat_minor": 2
}