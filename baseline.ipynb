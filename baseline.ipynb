{
 "cells": [
  {
   "cell_type": "markdown",
   "metadata": {},
   "source": [
    "# Baseline - Most popular"
   ]
  },
  {
   "cell_type": "code",
   "execution_count": 8,
   "metadata": {},
   "outputs": [],
   "source": [
    "import pandas as pd\n",
    "from sklearn.model_selection import train_test_split\n",
    "\n",
    "\n",
    "def prepare_string(string):\n",
    "    return str(string).strip().lower().replace('-', '_')\n",
    "\n",
    "\n",
    "movie_ratings = pd.read_csv(\"./data/ratings.csv\", sep=\",\", encoding=\"latin-1\")\n",
    "movies = pd.read_csv(\"./data/movies.csv\", sep=\",\", encoding=\"latin-1\")\n",
    "#ratings.columns = ratings.columns.map(prepare_string)\n",
    "\n",
    "ratings_dict = {\n",
    "    'userId': movie_ratings['userId'].values,\n",
    "    'movieId': movie_ratings['movieId'].values,\n",
    "    'rating': movie_ratings['rating'].values\n",
    "}\n",
    "\n",
    "df = pd.DataFrame.from_dict(ratings_dict)\n",
    "\n",
    "train_ml, test_ml = train_test_split(df, test_size=0.2)\n",
    "\n",
    "pd.DataFrame(train_ml).to_csv(\"./data/ml_ratings_train.csv\", index=False, header=False)\n",
    "pd.DataFrame(test_ml).to_csv(\"./data/ml_rating_test.csv\", index=False, header=False)"
   ]
  },
  {
   "cell_type": "code",
   "execution_count": 9,
   "metadata": {},
   "outputs": [
    {
     "name": "stdout",
     "output_type": "stream",
     "text": [
      "[Case Recommender: Item Recommendation > Most Popular]\n",
      "\n",
      "train data:: 610 users and 8974 items (80668 interactions) | sparsity:: 98.53%\n",
      "test data:: 610 users and 5173 items (20168 interactions) | sparsity:: 99.36%\n",
      "\n",
      "prediction_time:: 19.990337 sec\n",
      "\n",
      "\n",
      "Eval:: PREC@1: 0.265574 PREC@3: 0.214208 PREC@5: 0.191475 PREC@10: 0.161311 RECALL@1: 0.016724 RECALL@3: 0.033105 RECALL@5: 0.04809 RECALL@10: 0.076972 MAP@1: 0.265574 MAP@3: 0.335792 MAP@5: 0.339133 MAP@10: 0.326335 NDCG@1: 0.265574 NDCG@3: 0.398905 NDCG@5: 0.417667 NDCG@10: 0.426227 \n"
     ]
    }
   ],
   "source": [
    "from caserec.recommenders.item_recommendation.most_popular import MostPopular\n",
    "\n",
    "MostPopular(\"./data/ml_ratings_train.csv\", \"./data/ml_rating_test.csv\", output_file=\"./data/ml_rating_mp.csv\",\n",
    "            sep=\",\").compute()"
   ]
  },
  {
   "cell_type": "code",
   "execution_count": 10,
   "metadata": {},
   "outputs": [
    {
     "data": {
      "text/plain": "        1   318  1104.000000\n0       1   356       1087.0\n1       1   593        885.5\n2       1   589        727.5\n3       1  1198        701.5\n4       1   858        658.0\n...   ...   ...          ...\n6094  610   364        556.5\n6095  610  4226        556.5\n6096  610  4306        528.0\n6097  610   590        503.0\n6098  610  1580        476.0\n\n[6099 rows x 3 columns]",
      "text/html": "<div>\n<style scoped>\n    .dataframe tbody tr th:only-of-type {\n        vertical-align: middle;\n    }\n\n    .dataframe tbody tr th {\n        vertical-align: top;\n    }\n\n    .dataframe thead th {\n        text-align: right;\n    }\n</style>\n<table border=\"1\" class=\"dataframe\">\n  <thead>\n    <tr style=\"text-align: right;\">\n      <th></th>\n      <th>1</th>\n      <th>318</th>\n      <th>1104.000000</th>\n    </tr>\n  </thead>\n  <tbody>\n    <tr>\n      <th>0</th>\n      <td>1</td>\n      <td>356</td>\n      <td>1087.0</td>\n    </tr>\n    <tr>\n      <th>1</th>\n      <td>1</td>\n      <td>593</td>\n      <td>885.5</td>\n    </tr>\n    <tr>\n      <th>2</th>\n      <td>1</td>\n      <td>589</td>\n      <td>727.5</td>\n    </tr>\n    <tr>\n      <th>3</th>\n      <td>1</td>\n      <td>1198</td>\n      <td>701.5</td>\n    </tr>\n    <tr>\n      <th>4</th>\n      <td>1</td>\n      <td>858</td>\n      <td>658.0</td>\n    </tr>\n    <tr>\n      <th>...</th>\n      <td>...</td>\n      <td>...</td>\n      <td>...</td>\n    </tr>\n    <tr>\n      <th>6094</th>\n      <td>610</td>\n      <td>364</td>\n      <td>556.5</td>\n    </tr>\n    <tr>\n      <th>6095</th>\n      <td>610</td>\n      <td>4226</td>\n      <td>556.5</td>\n    </tr>\n    <tr>\n      <th>6096</th>\n      <td>610</td>\n      <td>4306</td>\n      <td>528.0</td>\n    </tr>\n    <tr>\n      <th>6097</th>\n      <td>610</td>\n      <td>590</td>\n      <td>503.0</td>\n    </tr>\n    <tr>\n      <th>6098</th>\n      <td>610</td>\n      <td>1580</td>\n      <td>476.0</td>\n    </tr>\n  </tbody>\n</table>\n<p>6099 rows × 3 columns</p>\n</div>"
     },
     "execution_count": 10,
     "metadata": {},
     "output_type": "execute_result"
    }
   ],
   "source": [
    "mp = pd.read_csv(\"./data/ml_rating_mp.csv\", sep=\",\", encoding=\"latin-1\")\n",
    "mp"
   ]
  },
  {
   "cell_type": "code",
   "execution_count": 11,
   "metadata": {},
   "outputs": [
    {
     "name": "stdout",
     "output_type": "stream",
     "text": [
      "PREC@1\tPREC@3\tPREC@5\tPREC@10\tRECALL@1\tRECALL@3\tRECALL@5\tRECALL@10\t\n",
      "0.265574\t0.214208\t0.191475\t0.161311\t0.016724\t0.033105\t0.04809\t0.076972\t\n"
     ]
    },
    {
     "data": {
      "text/plain": "{'PREC@1': 0.265574,\n 'RECALL@1': 0.016724,\n 'NDCG@1': 0.265574,\n 'MAP@1': 0.265574,\n 'MAP': 0.326335,\n 'PREC@3': 0.214208,\n 'RECALL@3': 0.033105,\n 'NDCG@3': 0.398905,\n 'MAP@3': 0.335792,\n 'PREC@5': 0.191475,\n 'RECALL@5': 0.04809,\n 'NDCG@5': 0.417667,\n 'MAP@5': 0.339133,\n 'PREC@10': 0.161311,\n 'RECALL@10': 0.076972,\n 'NDCG@10': 0.426227,\n 'MAP@10': 0.326335}"
     },
     "execution_count": 11,
     "metadata": {},
     "output_type": "execute_result"
    }
   ],
   "source": [
    "from caserec.evaluation.item_recommendation import ItemRecommendationEvaluation\n",
    "\n",
    "ItemRecommendationEvaluation(n_ranks=[1, 3, 5, 10], metrics=['PREC', 'RECALL'], sep=\",\",\n",
    "                             as_table=True).evaluate_with_files(\"./data/ml_rating_mp.csv\",\n",
    "                                                                \"./data/ml_rating_test.csv\")"
   ]
  },
  {
   "cell_type": "code",
   "execution_count": 5,
   "metadata": {},
   "outputs": [
    {
     "ename": "NameError",
     "evalue": "name 'train_ml' is not defined",
     "output_type": "error",
     "traceback": [
      "\u001B[0;31m---------------------------------------------------------------------------\u001B[0m",
      "\u001B[0;31mNameError\u001B[0m                                 Traceback (most recent call last)",
      "Cell \u001B[0;32mIn [5], line 63\u001B[0m\n\u001B[1;32m     58\u001B[0m RATING_COL \u001B[38;5;241m=\u001B[39m \u001B[38;5;124m\"\u001B[39m\u001B[38;5;124mrating\u001B[39m\u001B[38;5;124m\"\u001B[39m\n\u001B[1;32m     60\u001B[0m \u001B[38;5;66;03m# print(pd.DataFrame(train))\u001B[39;00m\n\u001B[1;32m     61\u001B[0m \n\u001B[1;32m     62\u001B[0m \u001B[38;5;66;03m# calcualte popularity based\u001B[39;00m\n\u001B[0;32m---> 63\u001B[0m pop_items \u001B[38;5;241m=\u001B[39m assign_popular_based_score(\u001B[43mtrain_ml\u001B[49m, movies, USER_COL, ITEM_COL, RATING_COL)\n\u001B[1;32m     64\u001B[0m pop_items \u001B[38;5;241m=\u001B[39m pop_items\u001B[38;5;241m.\u001B[39msort_values(\u001B[38;5;124m\"\u001B[39m\u001B[38;5;124mweighted_rating\u001B[39m\u001B[38;5;124m\"\u001B[39m, ascending\u001B[38;5;241m=\u001B[39m\u001B[38;5;28;01mFalse\u001B[39;00m)\n\u001B[1;32m     65\u001B[0m pop_10_items \u001B[38;5;241m=\u001B[39m pop_items[:\u001B[38;5;241m10\u001B[39m]\n",
      "\u001B[0;31mNameError\u001B[0m: name 'train_ml' is not defined"
     ]
    }
   ],
   "source": [
    "import numpy as np\n",
    "\n",
    "\n",
    "def weighted_rating(v, m, R, C):\n",
    "    \"\"\"\n",
    "    Calculate the weighted rating\n",
    "\n",
    "    Args:\n",
    "    v -> average rating for each item (float)\n",
    "    m -> minimum votes required to be classified as popular (float)\n",
    "    R -> average rating for the item (pd.Series)\n",
    "    C -> average rating for the whole dataset (pd.Series)\n",
    "\n",
    "    Returns:\n",
    "    pd.Series\n",
    "    \"\"\"\n",
    "    return ((v / (v + m)) * R) + ((m / (v + m)) * C)\n",
    "\n",
    "\n",
    "def assign_popular_based_score(rating_df, item_df, user_col, item_col, rating_col):\n",
    "    \"\"\"\n",
    "\n",
    "    Assigned popular based score based on the IMDB weighted average.\n",
    "\n",
    "    Args:\n",
    "    rating -> pd.DataFrame contains ['item_id', 'rating'] for each user.\n",
    "\n",
    "    Returns\n",
    "    popular_items -> pd.DataFrame contains item and IMDB weighted score.\n",
    "    \"\"\"\n",
    "\n",
    "    # pre processing\n",
    "    vote_count = rating_df.groupby(item_col, as_index=False).agg(\n",
    "        {user_col: \"count\", rating_col: \"mean\"}\n",
    "    )\n",
    "    vote_count.columns = [item_col, \"vote_count\", \"avg_rating\"]\n",
    "\n",
    "    # calcuate input parameters\n",
    "    C = np.mean(vote_count[\"avg_rating\"])\n",
    "    m = np.percentile(vote_count[\"vote_count\"], 70)\n",
    "    vote_count = vote_count[vote_count[\"vote_count\"] >= m]\n",
    "    R = vote_count[\"avg_rating\"]\n",
    "    v = vote_count[\"vote_count\"]\n",
    "    vote_count[\"weighted_rating\"] = weighted_rating(v, m, R, C)\n",
    "\n",
    "    # post processing\n",
    "    vote_count = vote_count.merge(item_df, on=[item_col], how=\"left\")\n",
    "    popular_items = vote_count.loc[\n",
    "                    :, [item_col, \"vote_count\", \"avg_rating\", \"weighted_rating\"]\n",
    "                    ]\n",
    "\n",
    "    return popular_items\n",
    "\n",
    "\n",
    "# init constant\n",
    "USER_COL = \"userId\"\n",
    "ITEM_COL = \"movieId\"\n",
    "RATING_COL = \"rating\"\n",
    "\n",
    "# print(pd.DataFrame(train))\n",
    "\n",
    "# calcualte popularity based\n",
    "pop_items = assign_popular_based_score(train_ml, movies, USER_COL, ITEM_COL, RATING_COL)\n",
    "pop_items = pop_items.sort_values(\"weighted_rating\", ascending=False)\n",
    "pop_10_items = pop_items[:10]\n",
    "\n",
    "print(pop_items[:10])\n"
   ]
  },
  {
   "cell_type": "code",
   "execution_count": 13,
   "metadata": {},
   "outputs": [
    {
     "name": "stdout",
     "output_type": "stream",
     "text": [
      "Average Precision Movielens: 0.24672131147540952\n",
      "Average Recall Movielens: 0.0021269078575466274\n"
     ]
    }
   ],
   "source": [
    "import bibrec.server.evaluation as eval\n",
    "from collections import defaultdict\n",
    "import importlib\n",
    "\n",
    "importlib.reload(eval)\n",
    "\n",
    "pop_dict = {\n",
    "    'itemId': pop_items['movieId'].values,\n",
    "    'est_r': pop_items['weighted_rating'].values,\n",
    "}\n",
    "\n",
    "pop_df = pd.DataFrame.from_dict(pop_dict)\n",
    "\n",
    "train_dict = {\n",
    "    'userId': movie_ratings['userId'].values,\n",
    "    'itemId': movie_ratings['movieId'].values,\n",
    "    'rating': movie_ratings['rating'].values\n",
    "}\n",
    "\n",
    "train_df = pd.DataFrame.from_dict(train_dict)\n",
    "\n",
    "uids = train_df[\"userId\"].unique()\n",
    "\n",
    "\n",
    "def def_value():\n",
    "    return \"Not Present\"\n",
    "\n",
    "\n",
    "top_n = defaultdict(def_value)\n",
    "for uid in uids:\n",
    "    top_n[uid] = pop_df\n",
    "\n",
    "avg_precision_ml = eval.get_avg_precision(train_df, top_n, k=10, threshold=3.5)\n",
    "\n",
    "avg_recall_ml = eval.get_avg_recall(train_df, top_n, k=10, threshold=3.5)\n",
    "\n",
    "print(\"Average Precision Movielens:\", avg_precision_ml)\n",
    "print(\"Average Recall Movielens:\", avg_recall_ml)"
   ]
  },
  {
   "cell_type": "markdown",
   "source": [
    "## Book Crossing Dataset"
   ],
   "metadata": {
    "collapsed": false
   }
  },
  {
   "cell_type": "code",
   "execution_count": 1,
   "outputs": [
    {
     "name": "stderr",
     "output_type": "stream",
     "text": [
      "/Users/johannes/Studium/MMT/1. Semester/Fächer/Recommender Systems/Abschlussprojekt/code/recommender-systems/bibrec/server/Utils.py:6: DtypeWarning: Columns (3) have mixed types. Specify dtype option on import or set low_memory=False.\n",
      "  books = pd.read_csv(path, sep=\";\", encoding=\"latin-1\")\n"
     ]
    },
    {
     "name": "stdout",
     "output_type": "stream",
     "text": [
      "With NaN values 34.862889904962536\n",
      "used mean values 34.88044058303103\n"
     ]
    },
    {
     "name": "stderr",
     "output_type": "stream",
     "text": [
      "/Users/johannes/Studium/MMT/1. Semester/Fächer/Recommender Systems/Abschlussprojekt/code/recommender-systems/bibrec/server/Utils.py:37: FutureWarning: In a future version of pandas all arguments of StringMethods.split except for the argument 'pat' will be keyword-only.\n",
      "  location_seperated = users.location.str.split(',', 2, expand=True)\n"
     ]
    },
    {
     "name": "stdout",
     "output_type": "stream",
     "text": [
      "0         9780195153446\n",
      "1         9780002005012\n",
      "2         9780060973124\n",
      "3         9780374157067\n",
      "4         9780393045215\n",
      "              ...      \n",
      "271374     978044040095\n",
      "271375     978052544763\n",
      "271376    9780060086671\n",
      "271377    9780192126047\n",
      "271378    9780767409759\n",
      "Name: isbn13, Length: 271264, dtype: object\n",
      "         user_id        isbn  book_rating         isbn13\n",
      "0         276725  034545104X            0  9780345451040\n",
      "1         276726  0155061224            5  9780155061224\n",
      "2         276727  0446520802            0  9780446520805\n",
      "3         276729  052165615X            3  9780521656153\n",
      "4         276729  0521795028            6  9780521795029\n",
      "...          ...         ...          ...            ...\n",
      "1149774   276704  0876044011            0   978087604401\n",
      "1149775   276704  1563526298            9  9781563526299\n",
      "1149776   276706  0679447156            0  9780679447153\n",
      "1149777   276709  0515107662           10  9780515107661\n",
      "1149778   276721  0590442449           10  9780590442442\n",
      "\n",
      "[1140241 rows x 4 columns]\n",
      "user_id        710861\n",
      "isbn           710861\n",
      "book_rating    710861\n",
      "isbn13         710861\n",
      "dtype: int64\n",
      "user_id        647518\n",
      "isbn           647518\n",
      "book_rating    647518\n",
      "isbn13         647518\n",
      "dtype: int64\n",
      "user_id        429380\n",
      "isbn           429380\n",
      "book_rating    429380\n",
      "isbn13         429380\n",
      "dtype: int64\n",
      "user_id        384081\n",
      "isbn           384081\n",
      "book_rating    384081\n",
      "isbn13         384081\n",
      "dtype: int64\n",
      "isbn13                 270063\n",
      "book_rating            270063\n",
      "isbn                   270063\n",
      "book_title             270063\n",
      "book_author            270062\n",
      "year_of_publication    265490\n",
      "publisher              270061\n",
      "image_url_s            270063\n",
      "image_url_m            270063\n",
      "image_url_l            270060\n",
      "dtype: int64\n",
      "isbn                   271264\n",
      "book_title             271264\n",
      "book_author            271263\n",
      "year_of_publication    266671\n",
      "publisher              271262\n",
      "image_url_s            271264\n",
      "image_url_m            271264\n",
      "image_url_l            271261\n",
      "isbn13                 271264\n",
      "dtype: int64\n"
     ]
    },
    {
     "name": "stderr",
     "output_type": "stream",
     "text": [
      "/Users/johannes/Studium/MMT/1. Semester/Fächer/Recommender Systems/Abschlussprojekt/code/recommender-systems/bibrec/server/Utils.py:6: DtypeWarning: Columns (3) have mixed types. Specify dtype option on import or set low_memory=False.\n",
      "  books = pd.read_csv(path, sep=\";\", encoding=\"latin-1\")\n"
     ]
    },
    {
     "name": "stdout",
     "output_type": "stream",
     "text": [
      "isbn                    object\n",
      "book_title              object\n",
      "book_author             object\n",
      "year_of_publication    float64\n",
      "publisher               object\n",
      "image_url_s             object\n",
      "image_url_m             object\n",
      "image_url_l             object\n",
      "isbn13                  object\n",
      "dtype: object\n",
      "user_id         int64\n",
      "isbn           object\n",
      "book_rating     int64\n",
      "isbn13         object\n",
      "dtype: object\n"
     ]
    }
   ],
   "source": [
    "import pandas as pd\n",
    "from sklearn.model_selection import train_test_split\n",
    "from bibrec.server.Utils import get_books\n",
    "import bibrec.server.evaluation as eval\n",
    "from collections import defaultdict\n",
    "from bibrec.server.data_exploration import get_stripped_data\n",
    "import importlib\n",
    "\n",
    "importlib.reload(eval)\n",
    "\n",
    "books = get_books(\"./data/BX-Books.csv\")\n",
    "ratings = get_stripped_data()\n",
    "\n",
    "print(books.dtypes)\n",
    "print(ratings.dtypes)"
   ],
   "metadata": {
    "collapsed": false,
    "pycharm": {
     "name": "#%%\n"
    }
   }
  },
  {
   "cell_type": "code",
   "execution_count": 2,
   "outputs": [
    {
     "name": "stdout",
     "output_type": "stream",
     "text": [
      "384081\n"
     ]
    }
   ],
   "source": [
    "print(len(ratings['book_rating'].values))\n"
   ],
   "metadata": {
    "collapsed": false,
    "pycharm": {
     "name": "#%%\n"
    }
   }
  },
  {
   "cell_type": "code",
   "execution_count": 3,
   "outputs": [
    {
     "name": "stdout",
     "output_type": "stream",
     "text": [
      "        user_id         isbn13  book_rating\n",
      "75841     50859  9781563893421            8\n",
      "176826   120817  9780553572216            8\n",
      "371120   266149  9780553566031            7\n",
      "33356     20309  9780446527019            5\n",
      "298586   212664  9780765300171            7\n",
      "...         ...            ...          ...\n",
      "175741   119806  9780515126778           10\n",
      "171750   115754  9781558744158            8\n",
      "23281     12538  9780553263213            6\n",
      "64456     40764  9780688112431            9\n",
      "69260     44696  9780385492089            5\n",
      "\n",
      "[307264 rows x 3 columns]\n"
     ]
    }
   ],
   "source": [
    "book_ratings_dict = {\n",
    "    'user_id': ratings['user_id'].values,\n",
    "    'isbn13': ratings['isbn13'].values,\n",
    "    'book_rating': ratings['book_rating'].values\n",
    "}\n",
    "\n",
    "book_rating_df = pd.DataFrame.from_dict(book_ratings_dict)\n",
    "\n",
    "train, test = train_test_split(book_rating_df, test_size=0.2)\n",
    "\n",
    "print(train)"
   ],
   "metadata": {
    "collapsed": false,
    "pycharm": {
     "name": "#%%\n"
    }
   }
  },
  {
   "cell_type": "code",
   "execution_count": 21,
   "outputs": [
    {
     "name": "stdout",
     "output_type": "stream",
     "text": [
      "              isbn13  vote_count  avg_rating  weighted_rating\n",
      "18249  9780439425223          23    9.869565         9.682201\n",
      "46483  9781888054552          11   10.000000         9.619616\n",
      "39688  9780836213317          13    9.923077         9.603668\n",
      "28975  9780618002238          25    9.720000         9.557593\n",
      "899    9780060256654          20    9.750000         9.547955\n",
      "15963  9780394800899           8   10.000000         9.505501\n",
      "15959  9780394800387          14    9.785714         9.503438\n",
      "41634  9780894718380           7   10.000000         9.450557\n",
      "44698   978157145698           7   10.000000         9.450557\n",
      "39749  9780836220889          24    9.583333         9.425193\n"
     ]
    }
   ],
   "source": [
    "popular_books = assign_popular_based_score(book_rating_df, books, \"user_id\", \"isbn13\", \"book_rating\")\n",
    "popular_books = popular_books.sort_values(\"weighted_rating\", ascending=False)\n",
    "pop_10_books = popular_books[:10]\n",
    "\n",
    "print(pop_10_books)"
   ],
   "metadata": {
    "collapsed": false,
    "pycharm": {
     "name": "#%%\n"
    }
   }
  },
  {
   "cell_type": "code",
   "execution_count": 32,
   "outputs": [
    {
     "name": "stdout",
     "output_type": "stream",
     "text": [
      "              itemId     est_r\n",
      "0      9780439425223  9.682201\n",
      "1      9781888054552  9.619616\n",
      "2      9780836213317  9.603668\n",
      "3      9780618002238  9.557593\n",
      "4      9780060256654  9.547955\n",
      "...              ...       ...\n",
      "50712  9780971880108  4.401467\n",
      "50713  9780689855511  4.263753\n",
      "50714  9780060616595  4.263753\n",
      "50715  9780345361882  4.263753\n",
      "50716   978188098507  3.823183\n",
      "\n",
      "[50717 rows x 2 columns]\n",
      "        userId         itemId  rating\n",
      "0       276726  9780155061224       5\n",
      "1       276729  9780521656153       3\n",
      "2       276729  9780521795029       6\n",
      "3       276744  9780385501200       7\n",
      "4       276747  9780060517793       9\n",
      "...        ...            ...     ...\n",
      "384076  276704  9780743211383       7\n",
      "384077  276704  9780806917696       5\n",
      "384078  276704  9781563526299       9\n",
      "384079  276709  9780515107661      10\n",
      "384080  276721  9780590442442      10\n",
      "\n",
      "[384081 rows x 3 columns]\n"
     ]
    }
   ],
   "source": [
    "pop_dict = {\n",
    "    'itemId': popular_books['isbn13'].values,\n",
    "    'est_r': popular_books['weighted_rating'].values,\n",
    "}\n",
    "\n",
    "pop_df = pd.DataFrame.from_dict(pop_dict)\n",
    "\n",
    "ratings_dict = {\n",
    "    'userId': ratings['user_id'].values,\n",
    "    'itemId': ratings['isbn13'].values,\n",
    "    'rating': ratings['book_rating'].values\n",
    "}\n",
    "\n",
    "ratings_df = pd.DataFrame.from_dict(ratings_dict)\n",
    "\n",
    "print(pop_df)\n",
    "print(ratings_df)\n"
   ],
   "metadata": {
    "collapsed": false,
    "pycharm": {
     "name": "#%%\n"
    }
   }
  },
  {
   "cell_type": "code",
   "execution_count": 33,
   "outputs": [
    {
     "name": "stdout",
     "output_type": "stream",
     "text": [
      "User Count 68175\n",
      "[276726 276729 276744 ... 276704 276709 276721]\n"
     ]
    }
   ],
   "source": [
    "uids = ratings_df[\"userId\"].unique()\n",
    "\n",
    "print(\"User Count\", len(uids))\n",
    "print(uids)"
   ],
   "metadata": {
    "collapsed": false,
    "pycharm": {
     "name": "#%%\n"
    }
   }
  },
  {
   "cell_type": "code",
   "execution_count": 34,
   "outputs": [],
   "source": [
    "def def_value():\n",
    "    return \"Not Present\"\n",
    "\n",
    "\n",
    "top_n = defaultdict(def_value)\n",
    "for uid in uids:\n",
    "    top_n[uid] = pop_df"
   ],
   "metadata": {
    "collapsed": false,
    "pycharm": {
     "name": "#%%\n"
    }
   }
  },
  {
   "cell_type": "code",
   "execution_count": 35,
   "outputs": [
    {
     "name": "stdout",
     "output_type": "stream",
     "text": [
      "--- 270.4431748390198 seconds ---\n",
      "Average Precision: 0.00022295562889622245\n"
     ]
    }
   ],
   "source": [
    "import time\n",
    "\n",
    "start_time = time.time()\n",
    "avg_precision = eval.get_avg_precision(ratings_df, top_n, k=10, threshold=5)\n",
    "print(\"--- %s seconds ---\" % (time.time() - start_time))\n",
    "\n",
    "print(\"Average Precision:\", avg_precision)"
   ],
   "metadata": {
    "collapsed": false,
    "pycharm": {
     "name": "#%%\n"
    }
   }
  },
  {
   "cell_type": "code",
   "execution_count": 36,
   "outputs": [
    {
     "name": "stdout",
     "output_type": "stream",
     "text": [
      "--- 186.0507779121399 seconds ---\n",
      "Average Recall: 0.00024626284494808765\n"
     ]
    }
   ],
   "source": [
    "importlib.reload(eval)\n",
    "start_time = time.time()\n",
    "\n",
    "avg_recall = eval.get_avg_recall(ratings_df, top_n, k=10, threshold=5)\n",
    "print(\"--- %s seconds ---\" % (time.time() - start_time))\n",
    "\n",
    "print(\"Average Recall:\", avg_recall)\n",
    "\n"
   ],
   "metadata": {
    "collapsed": false,
    "pycharm": {
     "name": "#%%\n"
    }
   }
  }
 ],
 "metadata": {
  "kernelspec": {
   "display_name": "Python 3.9.14 64-bit",
   "language": "python",
   "name": "python3"
  },
  "language_info": {
   "codemirror_mode": {
    "name": "ipython",
    "version": 3
   },
   "file_extension": ".py",
   "mimetype": "text/x-python",
   "name": "python",
   "nbconvert_exporter": "python",
   "pygments_lexer": "ipython3",
   "version": "3.9.14"
  },
  "orig_nbformat": 4,
  "vscode": {
   "interpreter": {
    "hash": "397704579725e15f5c7cb49fe5f0341eb7531c82d19f2c29d197e8b64ab5776b"
   }
  }
 },
 "nbformat": 4,
 "nbformat_minor": 2
}