{
 "cells": [
  {
   "cell_type": "markdown",
   "metadata": {},
   "source": [
    "# Baseline - Most popular"
   ]
  },
  {
   "cell_type": "markdown",
   "source": [
    "## Movie Lens Dataset"
   ],
   "metadata": {
    "collapsed": false,
    "pycharm": {
     "name": "#%% md\n"
    }
   }
  },
  {
   "cell_type": "code",
   "execution_count": 1,
   "metadata": {},
   "outputs": [],
   "source": [
    "import pandas as pd\n",
    "from sklearn.model_selection import train_test_split\n",
    "\n",
    "\n",
    "def prepare_string(string):\n",
    "    return str(string).strip().lower().replace('-', '_')\n",
    "\n",
    "\n",
    "movie_ratings = pd.read_csv(\"./data/ratings.csv\", sep=\",\", encoding=\"latin-1\")\n",
    "movies = pd.read_csv(\"./data/movies.csv\", sep=\",\", encoding=\"latin-1\")\n",
    "\n",
    "ratings_dict = {\n",
    "    'userId': movie_ratings['userId'].values,\n",
    "    'movieId': movie_ratings['movieId'].values,\n",
    "    'rating': movie_ratings['rating'].values\n",
    "}\n",
    "\n",
    "df = pd.DataFrame.from_dict(ratings_dict)\n",
    "\n",
    "train_ml, test_ml = train_test_split(df, test_size=0.2)\n",
    "\n",
    "pd.DataFrame(train_ml).to_csv(\"./data/ml_ratings_train.csv\", index=False, header=False)\n",
    "pd.DataFrame(test_ml).to_csv(\"./data/ml_rating_test.csv\", index=False, header=False)"
   ]
  },
  {
   "cell_type": "code",
   "execution_count": 2,
   "metadata": {},
   "outputs": [
    {
     "name": "stdout",
     "output_type": "stream",
     "text": [
      "[Case Recommender: Item Recommendation > Most Popular]\n",
      "\n",
      "train data:: 610 users and 8963 items (80668 interactions) | sparsity:: 98.52%\n",
      "test data:: 610 users and 5157 items (20168 interactions) | sparsity:: 99.36%\n",
      "\n",
      "prediction_time:: 23.169007 sec\n",
      "\n",
      "\n",
      "Eval:: PREC@1: 0.272131 PREC@3: 0.222951 PREC@5: 0.198689 PREC@10: 0.168197 RECALL@1: 0.014961 RECALL@3: 0.035595 RECALL@5: 0.049174 RECALL@10: 0.08018 MAP@1: 0.272131 MAP@3: 0.336612 MAP@5: 0.344362 MAP@10: 0.336662 NDCG@1: 0.272131 NDCG@3: 0.396456 NDCG@5: 0.41846 NDCG@10: 0.435217 \n"
     ]
    }
   ],
   "source": [
    "from caserec.recommenders.item_recommendation.most_popular import MostPopular\n",
    "\n",
    "MostPopular(\"./data/ml_ratings_train.csv\", \"./data/ml_rating_test.csv\", output_file=\"./data/ml_rating_mp.csv\",\n",
    "            sep=\",\").compute()"
   ]
  },
  {
   "cell_type": "code",
   "execution_count": 3,
   "metadata": {},
   "outputs": [
    {
     "data": {
      "text/plain": "        1   318  1082.500000\n0       1   593        905.0\n1       1   480        710.5\n2       1   589        697.0\n3       1    50        678.5\n4       1  4993        654.5\n...   ...   ...          ...\n6094  610   150        640.5\n6095  610  2028        639.5\n6096  610   608        612.5\n6097  610   588        565.5\n6098  610    32        558.5\n\n[6099 rows x 3 columns]",
      "text/html": "<div>\n<style scoped>\n    .dataframe tbody tr th:only-of-type {\n        vertical-align: middle;\n    }\n\n    .dataframe tbody tr th {\n        vertical-align: top;\n    }\n\n    .dataframe thead th {\n        text-align: right;\n    }\n</style>\n<table border=\"1\" class=\"dataframe\">\n  <thead>\n    <tr style=\"text-align: right;\">\n      <th></th>\n      <th>1</th>\n      <th>318</th>\n      <th>1082.500000</th>\n    </tr>\n  </thead>\n  <tbody>\n    <tr>\n      <th>0</th>\n      <td>1</td>\n      <td>593</td>\n      <td>905.0</td>\n    </tr>\n    <tr>\n      <th>1</th>\n      <td>1</td>\n      <td>480</td>\n      <td>710.5</td>\n    </tr>\n    <tr>\n      <th>2</th>\n      <td>1</td>\n      <td>589</td>\n      <td>697.0</td>\n    </tr>\n    <tr>\n      <th>3</th>\n      <td>1</td>\n      <td>50</td>\n      <td>678.5</td>\n    </tr>\n    <tr>\n      <th>4</th>\n      <td>1</td>\n      <td>4993</td>\n      <td>654.5</td>\n    </tr>\n    <tr>\n      <th>...</th>\n      <td>...</td>\n      <td>...</td>\n      <td>...</td>\n    </tr>\n    <tr>\n      <th>6094</th>\n      <td>610</td>\n      <td>150</td>\n      <td>640.5</td>\n    </tr>\n    <tr>\n      <th>6095</th>\n      <td>610</td>\n      <td>2028</td>\n      <td>639.5</td>\n    </tr>\n    <tr>\n      <th>6096</th>\n      <td>610</td>\n      <td>608</td>\n      <td>612.5</td>\n    </tr>\n    <tr>\n      <th>6097</th>\n      <td>610</td>\n      <td>588</td>\n      <td>565.5</td>\n    </tr>\n    <tr>\n      <th>6098</th>\n      <td>610</td>\n      <td>32</td>\n      <td>558.5</td>\n    </tr>\n  </tbody>\n</table>\n<p>6099 rows × 3 columns</p>\n</div>"
     },
     "execution_count": 3,
     "metadata": {},
     "output_type": "execute_result"
    }
   ],
   "source": [
    "mp = pd.read_csv(\"./data/ml_rating_mp.csv\", sep=\",\", encoding=\"latin-1\")\n",
    "mp"
   ]
  },
  {
   "cell_type": "code",
   "execution_count": 4,
   "metadata": {},
   "outputs": [
    {
     "name": "stdout",
     "output_type": "stream",
     "text": [
      "PREC@1\tPREC@3\tPREC@5\tPREC@10\tRECALL@1\tRECALL@3\tRECALL@5\tRECALL@10\t\n",
      "0.272131\t0.222951\t0.198689\t0.168197\t0.014961\t0.035595\t0.049174\t0.08018\t\n"
     ]
    },
    {
     "data": {
      "text/plain": "{'PREC@1': 0.272131,\n 'RECALL@1': 0.014961,\n 'NDCG@1': 0.272131,\n 'MAP@1': 0.272131,\n 'MAP': 0.336662,\n 'PREC@3': 0.222951,\n 'RECALL@3': 0.035595,\n 'NDCG@3': 0.396456,\n 'MAP@3': 0.336612,\n 'PREC@5': 0.198689,\n 'RECALL@5': 0.049174,\n 'NDCG@5': 0.41846,\n 'MAP@5': 0.344362,\n 'PREC@10': 0.168197,\n 'RECALL@10': 0.08018,\n 'NDCG@10': 0.435217,\n 'MAP@10': 0.336662}"
     },
     "execution_count": 4,
     "metadata": {},
     "output_type": "execute_result"
    }
   ],
   "source": [
    "from caserec.evaluation.item_recommendation import ItemRecommendationEvaluation\n",
    "\n",
    "ItemRecommendationEvaluation(n_ranks=[1, 3, 5, 10], metrics=['PREC', 'RECALL'], sep=\",\",\n",
    "                             as_table=True).evaluate_with_files(\"./data/ml_rating_mp.csv\",\n",
    "                                                                \"./data/ml_rating_test.csv\")"
   ]
  },
  {
   "cell_type": "code",
   "execution_count": 5,
   "outputs": [],
   "source": [
    "from bibrec.server.Utils import assign_popular_based_score"
   ],
   "metadata": {
    "collapsed": false,
    "pycharm": {
     "name": "#%%\n"
    }
   }
  },
  {
   "cell_type": "code",
   "execution_count": 6,
   "outputs": [
    {
     "name": "stdout",
     "output_type": "stream",
     "text": [
      "      movieId  vote_count  avg_rating  weighted_rating\n",
      "184       318         244    4.436475         4.408244\n",
      "2259    48516          86    4.331395         4.261534\n",
      "399       858         150    4.280000         4.240776\n",
      "551      1213         103    4.296117         4.239093\n",
      "1104     2571         220    4.250000         4.223722\n",
      "543      1204          37    4.378378         4.222352\n",
      "1239     2959         182    4.252747         4.221070\n",
      "152       260         202    4.242574         4.214236\n",
      "585      1252          45    4.333333         4.207081\n",
      "607      1276          48    4.322917         4.204835\n"
     ]
    }
   ],
   "source": [
    "# init constant\n",
    "USER_COL = \"userId\"\n",
    "ITEM_COL = \"movieId\"\n",
    "RATING_COL = \"rating\"\n",
    "\n",
    "# print(pd.DataFrame(train))\n",
    "\n",
    "# calcualte popularity based\n",
    "pop_items = assign_popular_based_score(train_ml, movies, USER_COL, ITEM_COL, RATING_COL)\n",
    "pop_items = pop_items.sort_values(\"weighted_rating\", ascending=False)\n",
    "pop_10_items = pop_items[:10]\n",
    "\n",
    "print(pop_items[:10])\n"
   ],
   "metadata": {
    "collapsed": false,
    "pycharm": {
     "name": "#%%\n"
    }
   }
  },
  {
   "cell_type": "code",
   "execution_count": 7,
   "metadata": {},
   "outputs": [
    {
     "name": "stdout",
     "output_type": "stream",
     "text": [
      "Average Precision Movielens: 0.2413114754098358\n",
      "Average Recall Movielens: 0.03754385981640022\n"
     ]
    }
   ],
   "source": [
    "import bibrec.server.evaluation as eval\n",
    "from collections import defaultdict\n",
    "import importlib\n",
    "\n",
    "importlib.reload(eval)\n",
    "\n",
    "pop_dict = {\n",
    "    'itemId': pop_items['movieId'].values,\n",
    "    'est_r': pop_items['weighted_rating'].values,\n",
    "}\n",
    "\n",
    "pop_df = pd.DataFrame.from_dict(pop_dict)\n",
    "\n",
    "train_dict = {\n",
    "    'userId': movie_ratings['userId'].values,\n",
    "    'itemId': movie_ratings['movieId'].values,\n",
    "    'rating': movie_ratings['rating'].values\n",
    "}\n",
    "\n",
    "train_df = pd.DataFrame.from_dict(train_dict)\n",
    "\n",
    "uids = train_df[\"userId\"].unique()\n",
    "\n",
    "\n",
    "def def_value():\n",
    "    return \"Not Present\"\n",
    "\n",
    "\n",
    "top_n = defaultdict(def_value)\n",
    "for uid in uids:\n",
    "    top_n[uid] = pop_df\n",
    "\n",
    "avg_precision_ml = eval.get_avg_precision(train_df, top_n, k=10, threshold=3.5)\n",
    "\n",
    "avg_recall_ml = eval.get_avg_recall(train_df, top_n, k=10, threshold=3.5)\n",
    "\n",
    "print(\"Average Precision Movielens:\", avg_precision_ml)\n",
    "print(\"Average Recall Movielens:\", avg_recall_ml)"
   ]
  },
  {
   "cell_type": "markdown",
   "source": [
    "## Book Crossing Dataset"
   ],
   "metadata": {
    "collapsed": false
   }
  },
  {
   "cell_type": "code",
   "execution_count": 3,
   "outputs": [
    {
     "name": "stdout",
     "output_type": "stream",
     "text": [
      "With NaN values 34.862889904962536\n",
      "used mean values 34.866379950089126\n"
     ]
    },
    {
     "name": "stderr",
     "output_type": "stream",
     "text": [
      "/Users/johannes/Studium/MMT/1. Semester/Fächer/Recommender Systems/Abschlussprojekt/code/recommender-systems/bibrec/server/Utils.py:37: FutureWarning: In a future version of pandas all arguments of StringMethods.split except for the argument 'pat' will be keyword-only.\n",
      "  location_seperated = users.location.str.split(',', 2, expand=True)\n",
      "/Users/johannes/Studium/MMT/1. Semester/Fächer/Recommender Systems/Abschlussprojekt/code/recommender-systems/bibrec/server/Utils.py:6: DtypeWarning: Columns (3) have mixed types. Specify dtype option on import or set low_memory=False.\n",
      "  books = pd.read_csv(\"./data/BX-Books.csv\", sep=\";\", encoding=\"latin-1\")\n"
     ]
    },
    {
     "name": "stdout",
     "output_type": "stream",
     "text": [
      "isbn                    object\n",
      "book_title              object\n",
      "book_author             object\n",
      "year_of_publication    float64\n",
      "publisher               object\n",
      "image_url_s             object\n",
      "image_url_m             object\n",
      "image_url_l             object\n",
      "isbn13                  object\n",
      "rating_mean            float64\n",
      "rating_count           float64\n",
      "age                    float64\n",
      "dtype: object\n",
      "user_id         int64\n",
      "isbn           object\n",
      "book_rating     int64\n",
      "isbn13         object\n",
      "dtype: object\n"
     ]
    }
   ],
   "source": [
    "import pandas as pd\n",
    "import bibrec.server.evaluation as eval\n",
    "from collections import defaultdict\n",
    "import bibrec.server.data_exploration as data_exploration\n",
    "import importlib\n",
    "\n",
    "importlib.reload(eval)\n",
    "importlib.reload(data_exploration)\n",
    "\n",
    "books = data_exploration.books\n",
    "ratings = data_exploration.filtered_ratings\n",
    "\n",
    "print(books.dtypes)\n",
    "print(ratings.dtypes)"
   ],
   "metadata": {
    "collapsed": false,
    "pycharm": {
     "name": "#%%\n"
    }
   }
  },
  {
   "cell_type": "code",
   "execution_count": 4,
   "outputs": [
    {
     "name": "stdout",
     "output_type": "stream",
     "text": [
      "384081\n"
     ]
    }
   ],
   "source": [
    "print(len(ratings['book_rating'].values))\n"
   ],
   "metadata": {
    "collapsed": false,
    "pycharm": {
     "name": "#%%\n"
    }
   }
  },
  {
   "cell_type": "code",
   "execution_count": 5,
   "outputs": [
    {
     "name": "stdout",
     "output_type": "stream",
     "text": [
      "        user_id         isbn13  book_rating\n",
      "108892    75875  9780671677640           10\n",
      "48451     30610  9780446602730            5\n",
      "200068   137918  9780684801469           10\n",
      "259638   182838  9780345428691            8\n",
      "34391     21252  9780898154900           10\n",
      "...         ...            ...          ...\n",
      "207337   143175  9780787118556            7\n",
      "123581    86243  9780807282595            8\n",
      "349903   249695  9780440237228            7\n",
      "177621   121517  9780345417626            7\n",
      "179919   123517  9783499137907            7\n",
      "\n",
      "[307264 rows x 3 columns]\n"
     ]
    }
   ],
   "source": [
    "book_ratings_dict = {\n",
    "    'user_id': ratings['user_id'].values,\n",
    "    'isbn13': ratings['isbn13'].values,\n",
    "    'book_rating': ratings['book_rating'].values\n",
    "}\n",
    "\n",
    "book_rating_df = pd.DataFrame.from_dict(book_ratings_dict)"
   ],
   "metadata": {
    "collapsed": false,
    "pycharm": {
     "name": "#%%\n"
    }
   }
  },
  {
   "cell_type": "code",
   "execution_count": 6,
   "outputs": [
    {
     "name": "stdout",
     "output_type": "stream",
     "text": [
      "              isbn13  vote_count  avg_rating  weighted_rating\n",
      "18249  9780439425223          23    9.869565         9.682201\n",
      "46483  9781888054552          11   10.000000         9.619616\n",
      "39688  9780836213317          13    9.923077         9.603668\n",
      "28975  9780618002238          25    9.720000         9.557593\n",
      "899    9780060256654          20    9.750000         9.547955\n",
      "15963  9780394800899           8   10.000000         9.505501\n",
      "15959  9780394800387          14    9.785714         9.503438\n",
      "41634  9780894718380           7   10.000000         9.450557\n",
      "44698   978157145698           7   10.000000         9.450557\n",
      "39749  9780836220889          24    9.583333         9.425193\n"
     ]
    }
   ],
   "source": [
    "popular_books = assign_popular_based_score(book_rating_df, books, \"user_id\", \"isbn13\", \"book_rating\")\n",
    "popular_books = popular_books.sort_values(\"weighted_rating\", ascending=False)\n",
    "pop_10_books = popular_books[:10]\n",
    "\n",
    "print(pop_10_books)"
   ],
   "metadata": {
    "collapsed": false,
    "pycharm": {
     "name": "#%%\n"
    }
   }
  },
  {
   "cell_type": "code",
   "execution_count": 7,
   "outputs": [
    {
     "name": "stdout",
     "output_type": "stream",
     "text": [
      "              itemId     est_r\n",
      "0      9780439425223  9.682201\n",
      "1      9781888054552  9.619616\n",
      "2      9780836213317  9.603668\n",
      "3      9780618002238  9.557593\n",
      "4      9780060256654  9.547955\n",
      "...              ...       ...\n",
      "50712  9780971880108  4.401467\n",
      "50713  9780689855511  4.263753\n",
      "50714  9780060616595  4.263753\n",
      "50715  9780345361882  4.263753\n",
      "50716   978188098507  3.823183\n",
      "\n",
      "[50717 rows x 2 columns]\n",
      "        userId         itemId  rating\n",
      "0       276726  9780155061224       5\n",
      "1       276729  9780521656153       3\n",
      "2       276729  9780521795029       6\n",
      "3       276744  9780385501200       7\n",
      "4       276747  9780060517793       9\n",
      "...        ...            ...     ...\n",
      "384076  276704  9780743211383       7\n",
      "384077  276704  9780806917696       5\n",
      "384078  276704  9781563526299       9\n",
      "384079  276709  9780515107661      10\n",
      "384080  276721  9780590442442      10\n",
      "\n",
      "[384081 rows x 3 columns]\n"
     ]
    }
   ],
   "source": [
    "pop_dict = {\n",
    "    'itemId': popular_books['isbn13'].values,\n",
    "    'est_r': popular_books['weighted_rating'].values,\n",
    "}\n",
    "\n",
    "pop_df = pd.DataFrame.from_dict(pop_dict)\n",
    "\n",
    "ratings_dict = {\n",
    "    'userId': ratings['user_id'].values,\n",
    "    'itemId': ratings['isbn13'].values,\n",
    "    'rating': ratings['book_rating'].values\n",
    "}\n",
    "\n",
    "ratings_df = pd.DataFrame.from_dict(ratings_dict)\n",
    "\n",
    "print(pop_df)\n",
    "print(ratings_df)\n"
   ],
   "metadata": {
    "collapsed": false,
    "pycharm": {
     "name": "#%%\n"
    }
   }
  },
  {
   "cell_type": "code",
   "execution_count": 8,
   "outputs": [
    {
     "name": "stdout",
     "output_type": "stream",
     "text": [
      "User Count 68175\n",
      "[276726 276729 276744 ... 276704 276709 276721]\n"
     ]
    }
   ],
   "source": [
    "uids = ratings_df[\"userId\"].unique()\n",
    "\n",
    "print(\"User Count\", len(uids))\n",
    "print(uids)"
   ],
   "metadata": {
    "collapsed": false,
    "pycharm": {
     "name": "#%%\n"
    }
   }
  },
  {
   "cell_type": "code",
   "execution_count": 9,
   "outputs": [],
   "source": [
    "def def_value():\n",
    "    return \"Not Present\"\n",
    "\n",
    "\n",
    "top_n = defaultdict(def_value)\n",
    "for uid in uids:\n",
    "    top_n[uid] = pop_df"
   ],
   "metadata": {
    "collapsed": false,
    "pycharm": {
     "name": "#%%\n"
    }
   }
  },
  {
   "cell_type": "code",
   "execution_count": 10,
   "outputs": [
    {
     "name": "stdout",
     "output_type": "stream",
     "text": [
      "--- 185.1832571029663 seconds ---\n",
      "Average Precision: 0.00022295562889622245\n"
     ]
    }
   ],
   "source": [
    "import time\n",
    "\n",
    "start_time = time.time()\n",
    "avg_precision = eval.get_avg_precision(ratings_df, top_n, k=10, threshold=5)\n",
    "print(\"--- %s seconds ---\" % (time.time() - start_time))\n",
    "\n",
    "print(\"Average Precision:\", avg_precision)"
   ],
   "metadata": {
    "collapsed": false,
    "pycharm": {
     "name": "#%%\n"
    }
   }
  },
  {
   "cell_type": "code",
   "execution_count": 11,
   "outputs": [
    {
     "name": "stdout",
     "output_type": "stream",
     "text": [
      "--- 193.45407891273499 seconds ---\n",
      "Average Recall: 0.00024626284494808765\n"
     ]
    }
   ],
   "source": [
    "importlib.reload(eval)\n",
    "start_time = time.time()\n",
    "\n",
    "avg_recall = eval.get_avg_recall(ratings_df, top_n, k=10, threshold=5)\n",
    "print(\"--- %s seconds ---\" % (time.time() - start_time))\n",
    "\n",
    "print(\"Average Recall:\", avg_recall)\n",
    "\n"
   ],
   "metadata": {
    "collapsed": false,
    "pycharm": {
     "name": "#%%\n"
    }
   }
  }
 ],
 "metadata": {
  "kernelspec": {
   "display_name": "Python 3.9.14 64-bit",
   "language": "python",
   "name": "python3"
  },
  "language_info": {
   "codemirror_mode": {
    "name": "ipython",
    "version": 3
   },
   "file_extension": ".py",
   "mimetype": "text/x-python",
   "name": "python",
   "nbconvert_exporter": "python",
   "pygments_lexer": "ipython3",
   "version": "3.9.14"
  },
  "orig_nbformat": 4,
  "vscode": {
   "interpreter": {
    "hash": "397704579725e15f5c7cb49fe5f0341eb7531c82d19f2c29d197e8b64ab5776b"
   }
  }
 },
 "nbformat": 4,
 "nbformat_minor": 2
}