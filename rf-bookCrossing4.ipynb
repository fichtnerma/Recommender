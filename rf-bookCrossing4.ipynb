{
 "cells": [
  {
   "cell_type": "markdown",
   "source": [
    "# BibRec"
   ],
   "metadata": {
    "collapsed": false
   }
  },
  {
   "cell_type": "markdown",
   "source": [
    "### RF Features: Country, State, Age, Year-of-Publication"
   ],
   "metadata": {
    "collapsed": false
   }
  },
  {
   "cell_type": "code",
   "execution_count": 18,
   "outputs": [
    {
     "name": "stderr",
     "output_type": "stream",
     "text": [
      "/run/media/fab/Dev/repos/FH-SBG/MMT1/RES/recommender-systems/bibrec/server/Utils.py:7: DtypeWarning: Columns (3) have mixed types. Specify dtype option on import or set low_memory=False.\n",
      "  books = pd.read_csv(path, sep=\";\", encoding=\"latin-1\")\n"
     ]
    },
    {
     "name": "stdout",
     "output_type": "stream",
     "text": [
      "With NaN values 34.862889904962536\n",
      "used mean values 34.87993394676011\n"
     ]
    },
    {
     "name": "stderr",
     "output_type": "stream",
     "text": [
      "/run/media/fab/Dev/repos/FH-SBG/MMT1/RES/recommender-systems/bibrec/server/Utils.py:38: FutureWarning: In a future version of pandas all arguments of StringMethods.split except for the argument 'pat' will be keyword-only.\n",
      "  location_seperated = users.location.str.split(',', 2, expand=True)\n"
     ]
    }
   ],
   "source": [
    "from bibrec.server.Utils import get_books, get_users, get_ratings\n",
    "\n",
    "books = get_books(\"data/BX-Books.csv\")\n",
    "users = get_users(\"data/BX-Users.csv\")\n",
    "ratings = get_ratings(\"data/BX-Book-Ratings.csv\")"
   ],
   "metadata": {
    "collapsed": false
   }
  },
  {
   "cell_type": "code",
   "execution_count": 19,
   "outputs": [],
   "source": [
    "import pandas as pd\n",
    "from sklearn.model_selection import train_test_split\n",
    "from sklearn.ensemble import RandomForestClassifier\n",
    "from sklearn.metrics import classification_report, accuracy_score"
   ],
   "metadata": {
    "collapsed": false
   }
  },
  {
   "cell_type": "code",
   "execution_count": 20,
   "outputs": [
    {
     "data": {
      "text/plain": "         user_id        isbn  book_rating         isbn13\n1         276726  0155061224            5  9780155061224\n3         276729  052165615X            3  9780521656153\n4         276729  0521795028            6  9780521795029\n6         276736  3257224281            8  9783257224283\n7         276737  0600570967            6  9780600570967\n...          ...         ...          ...            ...\n1149771   276704  0743211383            7  9780743211383\n1149773   276704  0806917695            5  9780806917696\n1149775   276704  1563526298            9  9781563526299\n1149777   276709  0515107662           10  9780515107661\n1149778   276721  0590442449           10  9780590442442\n\n[429380 rows x 4 columns]",
      "text/html": "<div>\n<style scoped>\n    .dataframe tbody tr th:only-of-type {\n        vertical-align: middle;\n    }\n\n    .dataframe tbody tr th {\n        vertical-align: top;\n    }\n\n    .dataframe thead th {\n        text-align: right;\n    }\n</style>\n<table border=\"1\" class=\"dataframe\">\n  <thead>\n    <tr style=\"text-align: right;\">\n      <th></th>\n      <th>user_id</th>\n      <th>isbn</th>\n      <th>book_rating</th>\n      <th>isbn13</th>\n    </tr>\n  </thead>\n  <tbody>\n    <tr>\n      <th>1</th>\n      <td>276726</td>\n      <td>0155061224</td>\n      <td>5</td>\n      <td>9780155061224</td>\n    </tr>\n    <tr>\n      <th>3</th>\n      <td>276729</td>\n      <td>052165615X</td>\n      <td>3</td>\n      <td>9780521656153</td>\n    </tr>\n    <tr>\n      <th>4</th>\n      <td>276729</td>\n      <td>0521795028</td>\n      <td>6</td>\n      <td>9780521795029</td>\n    </tr>\n    <tr>\n      <th>6</th>\n      <td>276736</td>\n      <td>3257224281</td>\n      <td>8</td>\n      <td>9783257224283</td>\n    </tr>\n    <tr>\n      <th>7</th>\n      <td>276737</td>\n      <td>0600570967</td>\n      <td>6</td>\n      <td>9780600570967</td>\n    </tr>\n    <tr>\n      <th>...</th>\n      <td>...</td>\n      <td>...</td>\n      <td>...</td>\n      <td>...</td>\n    </tr>\n    <tr>\n      <th>1149771</th>\n      <td>276704</td>\n      <td>0743211383</td>\n      <td>7</td>\n      <td>9780743211383</td>\n    </tr>\n    <tr>\n      <th>1149773</th>\n      <td>276704</td>\n      <td>0806917695</td>\n      <td>5</td>\n      <td>9780806917696</td>\n    </tr>\n    <tr>\n      <th>1149775</th>\n      <td>276704</td>\n      <td>1563526298</td>\n      <td>9</td>\n      <td>9781563526299</td>\n    </tr>\n    <tr>\n      <th>1149777</th>\n      <td>276709</td>\n      <td>0515107662</td>\n      <td>10</td>\n      <td>9780515107661</td>\n    </tr>\n    <tr>\n      <th>1149778</th>\n      <td>276721</td>\n      <td>0590442449</td>\n      <td>10</td>\n      <td>9780590442442</td>\n    </tr>\n  </tbody>\n</table>\n<p>429380 rows × 4 columns</p>\n</div>"
     },
     "execution_count": 20,
     "metadata": {},
     "output_type": "execute_result"
    }
   ],
   "source": [
    "explicit_ratings = ratings[ratings.book_rating != 0]\n",
    "explicit_ratings"
   ],
   "metadata": {
    "collapsed": false
   }
  },
  {
   "cell_type": "code",
   "execution_count": 21,
   "outputs": [
    {
     "data": {
      "text/plain": "          isbn13\n0  9780316666343",
      "text/html": "<div>\n<style scoped>\n    .dataframe tbody tr th:only-of-type {\n        vertical-align: middle;\n    }\n\n    .dataframe tbody tr th {\n        vertical-align: top;\n    }\n\n    .dataframe thead th {\n        text-align: right;\n    }\n</style>\n<table border=\"1\" class=\"dataframe\">\n  <thead>\n    <tr style=\"text-align: right;\">\n      <th></th>\n      <th>isbn13</th>\n    </tr>\n  </thead>\n  <tbody>\n    <tr>\n      <th>0</th>\n      <td>9780316666343</td>\n    </tr>\n  </tbody>\n</table>\n</div>"
     },
     "execution_count": 21,
     "metadata": {},
     "output_type": "execute_result"
    }
   ],
   "source": [
    "df_ratings = explicit_ratings.groupby('isbn13').user_id.count().sort_values(ascending=False)\n",
    "df_ratings = df_ratings[:1000]\n",
    "df_ratings = df_ratings.reset_index()\n",
    "# user_id => nr of ratings\n",
    "df_ratings = df_ratings.drop('user_id',axis=1)\n",
    "df_ratings"
   ],
   "metadata": {
    "collapsed": false
   }
  },
  {
   "cell_type": "code",
   "execution_count": 22,
   "outputs": [
    {
     "data": {
      "text/plain": "            isbn13  user_id        isbn  book_rating\n0    9780316666343   277439  0316666343            7\n1    9780316666343   277752  0316666343            7\n2    9780316666343   278633  0316666343            9\n3    9780316666343      638  0316666343           10\n4    9780316666343      709  0316666343            3\n..             ...      ...         ...          ...\n706  9780316666343   275933  0316666343            9\n707  9780316666343   276014  0316666343            5\n708  9780316666343   276545  0316666343            9\n709  9780316666343   276670  0316666343           10\n710  9780316666343   276680  0316666343            7\n\n[711 rows x 4 columns]",
      "text/html": "<div>\n<style scoped>\n    .dataframe tbody tr th:only-of-type {\n        vertical-align: middle;\n    }\n\n    .dataframe tbody tr th {\n        vertical-align: top;\n    }\n\n    .dataframe thead th {\n        text-align: right;\n    }\n</style>\n<table border=\"1\" class=\"dataframe\">\n  <thead>\n    <tr style=\"text-align: right;\">\n      <th></th>\n      <th>isbn13</th>\n      <th>user_id</th>\n      <th>isbn</th>\n      <th>book_rating</th>\n    </tr>\n  </thead>\n  <tbody>\n    <tr>\n      <th>0</th>\n      <td>9780316666343</td>\n      <td>277439</td>\n      <td>0316666343</td>\n      <td>7</td>\n    </tr>\n    <tr>\n      <th>1</th>\n      <td>9780316666343</td>\n      <td>277752</td>\n      <td>0316666343</td>\n      <td>7</td>\n    </tr>\n    <tr>\n      <th>2</th>\n      <td>9780316666343</td>\n      <td>278633</td>\n      <td>0316666343</td>\n      <td>9</td>\n    </tr>\n    <tr>\n      <th>3</th>\n      <td>9780316666343</td>\n      <td>638</td>\n      <td>0316666343</td>\n      <td>10</td>\n    </tr>\n    <tr>\n      <th>4</th>\n      <td>9780316666343</td>\n      <td>709</td>\n      <td>0316666343</td>\n      <td>3</td>\n    </tr>\n    <tr>\n      <th>...</th>\n      <td>...</td>\n      <td>...</td>\n      <td>...</td>\n      <td>...</td>\n    </tr>\n    <tr>\n      <th>706</th>\n      <td>9780316666343</td>\n      <td>275933</td>\n      <td>0316666343</td>\n      <td>9</td>\n    </tr>\n    <tr>\n      <th>707</th>\n      <td>9780316666343</td>\n      <td>276014</td>\n      <td>0316666343</td>\n      <td>5</td>\n    </tr>\n    <tr>\n      <th>708</th>\n      <td>9780316666343</td>\n      <td>276545</td>\n      <td>0316666343</td>\n      <td>9</td>\n    </tr>\n    <tr>\n      <th>709</th>\n      <td>9780316666343</td>\n      <td>276670</td>\n      <td>0316666343</td>\n      <td>10</td>\n    </tr>\n    <tr>\n      <th>710</th>\n      <td>9780316666343</td>\n      <td>276680</td>\n      <td>0316666343</td>\n      <td>7</td>\n    </tr>\n  </tbody>\n</table>\n<p>711 rows × 4 columns</p>\n</div>"
     },
     "execution_count": 22,
     "metadata": {},
     "output_type": "execute_result"
    }
   ],
   "source": [
    "df_ratings = df_ratings.merge(explicit_ratings, on='isbn13', how='left')\n",
    "df_ratings"
   ],
   "metadata": {
    "collapsed": false
   }
  },
  {
   "cell_type": "code",
   "execution_count": 23,
   "outputs": [
    {
     "data": {
      "text/plain": "            isbn13  user_id        isbn  book_rating  year_of_publication\n0    9780316666343   277439  0316666343            7               2002.0\n1    9780316666343   277752  0316666343            7               2002.0\n2    9780316666343   278633  0316666343            9               2002.0\n3    9780316666343      638  0316666343           10               2002.0\n4    9780316666343      709  0316666343            3               2002.0\n..             ...      ...         ...          ...                  ...\n706  9780316666343   275933  0316666343            9               2002.0\n707  9780316666343   276014  0316666343            5               2002.0\n708  9780316666343   276545  0316666343            9               2002.0\n709  9780316666343   276670  0316666343           10               2002.0\n710  9780316666343   276680  0316666343            7               2002.0\n\n[711 rows x 5 columns]",
      "text/html": "<div>\n<style scoped>\n    .dataframe tbody tr th:only-of-type {\n        vertical-align: middle;\n    }\n\n    .dataframe tbody tr th {\n        vertical-align: top;\n    }\n\n    .dataframe thead th {\n        text-align: right;\n    }\n</style>\n<table border=\"1\" class=\"dataframe\">\n  <thead>\n    <tr style=\"text-align: right;\">\n      <th></th>\n      <th>isbn13</th>\n      <th>user_id</th>\n      <th>isbn</th>\n      <th>book_rating</th>\n      <th>year_of_publication</th>\n    </tr>\n  </thead>\n  <tbody>\n    <tr>\n      <th>0</th>\n      <td>9780316666343</td>\n      <td>277439</td>\n      <td>0316666343</td>\n      <td>7</td>\n      <td>2002.0</td>\n    </tr>\n    <tr>\n      <th>1</th>\n      <td>9780316666343</td>\n      <td>277752</td>\n      <td>0316666343</td>\n      <td>7</td>\n      <td>2002.0</td>\n    </tr>\n    <tr>\n      <th>2</th>\n      <td>9780316666343</td>\n      <td>278633</td>\n      <td>0316666343</td>\n      <td>9</td>\n      <td>2002.0</td>\n    </tr>\n    <tr>\n      <th>3</th>\n      <td>9780316666343</td>\n      <td>638</td>\n      <td>0316666343</td>\n      <td>10</td>\n      <td>2002.0</td>\n    </tr>\n    <tr>\n      <th>4</th>\n      <td>9780316666343</td>\n      <td>709</td>\n      <td>0316666343</td>\n      <td>3</td>\n      <td>2002.0</td>\n    </tr>\n    <tr>\n      <th>...</th>\n      <td>...</td>\n      <td>...</td>\n      <td>...</td>\n      <td>...</td>\n      <td>...</td>\n    </tr>\n    <tr>\n      <th>706</th>\n      <td>9780316666343</td>\n      <td>275933</td>\n      <td>0316666343</td>\n      <td>9</td>\n      <td>2002.0</td>\n    </tr>\n    <tr>\n      <th>707</th>\n      <td>9780316666343</td>\n      <td>276014</td>\n      <td>0316666343</td>\n      <td>5</td>\n      <td>2002.0</td>\n    </tr>\n    <tr>\n      <th>708</th>\n      <td>9780316666343</td>\n      <td>276545</td>\n      <td>0316666343</td>\n      <td>9</td>\n      <td>2002.0</td>\n    </tr>\n    <tr>\n      <th>709</th>\n      <td>9780316666343</td>\n      <td>276670</td>\n      <td>0316666343</td>\n      <td>10</td>\n      <td>2002.0</td>\n    </tr>\n    <tr>\n      <th>710</th>\n      <td>9780316666343</td>\n      <td>276680</td>\n      <td>0316666343</td>\n      <td>7</td>\n      <td>2002.0</td>\n    </tr>\n  </tbody>\n</table>\n<p>711 rows × 5 columns</p>\n</div>"
     },
     "execution_count": 23,
     "metadata": {},
     "output_type": "execute_result"
    }
   ],
   "source": [
    "# merge book dataset\n",
    "df = df_ratings.merge(books[['isbn13', 'year_of_publication']])\n",
    "df"
   ],
   "metadata": {
    "collapsed": false
   }
  },
  {
   "cell_type": "code",
   "execution_count": 24,
   "outputs": [
    {
     "data": {
      "text/plain": "            isbn13  user_id        isbn  book_rating  country        state  \\\n0    9780316666343   277439  0316666343            7      usa       oregon   \n1    9780316666343   277752  0316666343            7      usa    louisiana   \n2    9780316666343   278633  0316666343            9      usa         utah   \n3    9780316666343      638  0316666343           10      usa   california   \n4    9780316666343      709  0316666343            3      usa     virginia   \n..             ...      ...         ...          ...      ...          ...   \n706  9780316666343   275933  0316666343            9      usa       kansas   \n707  9780316666343   276014  0316666343            5      usa   california   \n708  9780316666343   276545  0316666343            9      NaN   overijssel   \n709  9780316666343   276670  0316666343           10   canada      ontario   \n710  9780316666343   276680  0316666343            7      usa     new york   \n\n           age  \n0    65.000000  \n1    18.000000  \n2    35.705755  \n3    20.000000  \n4    14.000000  \n..         ...  \n706  29.000000  \n707  28.922584  \n708  38.000000  \n709  30.000000  \n710  55.000000  \n\n[711 rows x 7 columns]",
      "text/html": "<div>\n<style scoped>\n    .dataframe tbody tr th:only-of-type {\n        vertical-align: middle;\n    }\n\n    .dataframe tbody tr th {\n        vertical-align: top;\n    }\n\n    .dataframe thead th {\n        text-align: right;\n    }\n</style>\n<table border=\"1\" class=\"dataframe\">\n  <thead>\n    <tr style=\"text-align: right;\">\n      <th></th>\n      <th>isbn13</th>\n      <th>user_id</th>\n      <th>isbn</th>\n      <th>book_rating</th>\n      <th>country</th>\n      <th>state</th>\n      <th>age</th>\n    </tr>\n  </thead>\n  <tbody>\n    <tr>\n      <th>0</th>\n      <td>9780316666343</td>\n      <td>277439</td>\n      <td>0316666343</td>\n      <td>7</td>\n      <td>usa</td>\n      <td>oregon</td>\n      <td>65.000000</td>\n    </tr>\n    <tr>\n      <th>1</th>\n      <td>9780316666343</td>\n      <td>277752</td>\n      <td>0316666343</td>\n      <td>7</td>\n      <td>usa</td>\n      <td>louisiana</td>\n      <td>18.000000</td>\n    </tr>\n    <tr>\n      <th>2</th>\n      <td>9780316666343</td>\n      <td>278633</td>\n      <td>0316666343</td>\n      <td>9</td>\n      <td>usa</td>\n      <td>utah</td>\n      <td>35.705755</td>\n    </tr>\n    <tr>\n      <th>3</th>\n      <td>9780316666343</td>\n      <td>638</td>\n      <td>0316666343</td>\n      <td>10</td>\n      <td>usa</td>\n      <td>california</td>\n      <td>20.000000</td>\n    </tr>\n    <tr>\n      <th>4</th>\n      <td>9780316666343</td>\n      <td>709</td>\n      <td>0316666343</td>\n      <td>3</td>\n      <td>usa</td>\n      <td>virginia</td>\n      <td>14.000000</td>\n    </tr>\n    <tr>\n      <th>...</th>\n      <td>...</td>\n      <td>...</td>\n      <td>...</td>\n      <td>...</td>\n      <td>...</td>\n      <td>...</td>\n      <td>...</td>\n    </tr>\n    <tr>\n      <th>706</th>\n      <td>9780316666343</td>\n      <td>275933</td>\n      <td>0316666343</td>\n      <td>9</td>\n      <td>usa</td>\n      <td>kansas</td>\n      <td>29.000000</td>\n    </tr>\n    <tr>\n      <th>707</th>\n      <td>9780316666343</td>\n      <td>276014</td>\n      <td>0316666343</td>\n      <td>5</td>\n      <td>usa</td>\n      <td>california</td>\n      <td>28.922584</td>\n    </tr>\n    <tr>\n      <th>708</th>\n      <td>9780316666343</td>\n      <td>276545</td>\n      <td>0316666343</td>\n      <td>9</td>\n      <td>NaN</td>\n      <td>overijssel</td>\n      <td>38.000000</td>\n    </tr>\n    <tr>\n      <th>709</th>\n      <td>9780316666343</td>\n      <td>276670</td>\n      <td>0316666343</td>\n      <td>10</td>\n      <td>canada</td>\n      <td>ontario</td>\n      <td>30.000000</td>\n    </tr>\n    <tr>\n      <th>710</th>\n      <td>9780316666343</td>\n      <td>276680</td>\n      <td>0316666343</td>\n      <td>7</td>\n      <td>usa</td>\n      <td>new york</td>\n      <td>55.000000</td>\n    </tr>\n  </tbody>\n</table>\n<p>711 rows × 7 columns</p>\n</div>"
     },
     "execution_count": 24,
     "metadata": {},
     "output_type": "execute_result"
    }
   ],
   "source": [
    "# merge user dataset\n",
    "df = df_ratings.merge(users[['user_id', 'country', 'state', 'age']])\n",
    "df"
   ],
   "metadata": {
    "collapsed": false
   }
  },
  {
   "cell_type": "code",
   "execution_count": 25,
   "outputs": [
    {
     "data": {
      "text/plain": "      cambridgeshire, united kingdom   canada   china   finland   france  \\\n0                                  0        0       0         0        0   \n1                                  0        0       0         0        0   \n2                                  0        0       0         0        0   \n3                                  0        0       0         0        0   \n4                                  0        0       0         0        0   \n..                               ...      ...     ...       ...      ...   \n706                                0        0       0         0        0   \n707                                0        0       0         0        0   \n708                                0        0       0         0        0   \n709                                0        1       0         0        0   \n710                                0        0       0         0        0   \n\n      germany   iran   italy   malaysia   mexico  ...   netherlands  \\\n0           0      0       0          0        0  ...             0   \n1           0      0       0          0        0  ...             0   \n2           0      0       0          0        0  ...             0   \n3           0      0       0          0        0  ...             0   \n4           0      0       0          0        0  ...             0   \n..        ...    ...     ...        ...      ...  ...           ...   \n706         0      0       0          0        0  ...             0   \n707         0      0       0          0        0  ...             0   \n708         0      0       0          0        0  ...             0   \n709         0      0       0          0        0  ...             0   \n710         0      0       0          0        0  ...             0   \n\n      philippines   portugal   singapore   south korea   spain   switzerland  \\\n0               0          0           0             0       0             0   \n1               0          0           0             0       0             0   \n2               0          0           0             0       0             0   \n3               0          0           0             0       0             0   \n4               0          0           0             0       0             0   \n..            ...        ...         ...           ...     ...           ...   \n706             0          0           0             0       0             0   \n707             0          0           0             0       0             0   \n708             0          0           0             0       0             0   \n709             0          0           0             0       0             0   \n710             0          0           0             0       0             0   \n\n      united kingdom   us   usa  \n0                  0    0     1  \n1                  0    0     1  \n2                  0    0     1  \n3                  0    0     1  \n4                  0    0     1  \n..               ...  ...   ...  \n706                0    0     1  \n707                0    0     1  \n708                0    0     0  \n709                0    0     0  \n710                0    0     1  \n\n[711 rows x 21 columns]",
      "text/html": "<div>\n<style scoped>\n    .dataframe tbody tr th:only-of-type {\n        vertical-align: middle;\n    }\n\n    .dataframe tbody tr th {\n        vertical-align: top;\n    }\n\n    .dataframe thead th {\n        text-align: right;\n    }\n</style>\n<table border=\"1\" class=\"dataframe\">\n  <thead>\n    <tr style=\"text-align: right;\">\n      <th></th>\n      <th>cambridgeshire, united kingdom</th>\n      <th>canada</th>\n      <th>china</th>\n      <th>finland</th>\n      <th>france</th>\n      <th>germany</th>\n      <th>iran</th>\n      <th>italy</th>\n      <th>malaysia</th>\n      <th>mexico</th>\n      <th>...</th>\n      <th>netherlands</th>\n      <th>philippines</th>\n      <th>portugal</th>\n      <th>singapore</th>\n      <th>south korea</th>\n      <th>spain</th>\n      <th>switzerland</th>\n      <th>united kingdom</th>\n      <th>us</th>\n      <th>usa</th>\n    </tr>\n  </thead>\n  <tbody>\n    <tr>\n      <th>0</th>\n      <td>0</td>\n      <td>0</td>\n      <td>0</td>\n      <td>0</td>\n      <td>0</td>\n      <td>0</td>\n      <td>0</td>\n      <td>0</td>\n      <td>0</td>\n      <td>0</td>\n      <td>...</td>\n      <td>0</td>\n      <td>0</td>\n      <td>0</td>\n      <td>0</td>\n      <td>0</td>\n      <td>0</td>\n      <td>0</td>\n      <td>0</td>\n      <td>0</td>\n      <td>1</td>\n    </tr>\n    <tr>\n      <th>1</th>\n      <td>0</td>\n      <td>0</td>\n      <td>0</td>\n      <td>0</td>\n      <td>0</td>\n      <td>0</td>\n      <td>0</td>\n      <td>0</td>\n      <td>0</td>\n      <td>0</td>\n      <td>...</td>\n      <td>0</td>\n      <td>0</td>\n      <td>0</td>\n      <td>0</td>\n      <td>0</td>\n      <td>0</td>\n      <td>0</td>\n      <td>0</td>\n      <td>0</td>\n      <td>1</td>\n    </tr>\n    <tr>\n      <th>2</th>\n      <td>0</td>\n      <td>0</td>\n      <td>0</td>\n      <td>0</td>\n      <td>0</td>\n      <td>0</td>\n      <td>0</td>\n      <td>0</td>\n      <td>0</td>\n      <td>0</td>\n      <td>...</td>\n      <td>0</td>\n      <td>0</td>\n      <td>0</td>\n      <td>0</td>\n      <td>0</td>\n      <td>0</td>\n      <td>0</td>\n      <td>0</td>\n      <td>0</td>\n      <td>1</td>\n    </tr>\n    <tr>\n      <th>3</th>\n      <td>0</td>\n      <td>0</td>\n      <td>0</td>\n      <td>0</td>\n      <td>0</td>\n      <td>0</td>\n      <td>0</td>\n      <td>0</td>\n      <td>0</td>\n      <td>0</td>\n      <td>...</td>\n      <td>0</td>\n      <td>0</td>\n      <td>0</td>\n      <td>0</td>\n      <td>0</td>\n      <td>0</td>\n      <td>0</td>\n      <td>0</td>\n      <td>0</td>\n      <td>1</td>\n    </tr>\n    <tr>\n      <th>4</th>\n      <td>0</td>\n      <td>0</td>\n      <td>0</td>\n      <td>0</td>\n      <td>0</td>\n      <td>0</td>\n      <td>0</td>\n      <td>0</td>\n      <td>0</td>\n      <td>0</td>\n      <td>...</td>\n      <td>0</td>\n      <td>0</td>\n      <td>0</td>\n      <td>0</td>\n      <td>0</td>\n      <td>0</td>\n      <td>0</td>\n      <td>0</td>\n      <td>0</td>\n      <td>1</td>\n    </tr>\n    <tr>\n      <th>...</th>\n      <td>...</td>\n      <td>...</td>\n      <td>...</td>\n      <td>...</td>\n      <td>...</td>\n      <td>...</td>\n      <td>...</td>\n      <td>...</td>\n      <td>...</td>\n      <td>...</td>\n      <td>...</td>\n      <td>...</td>\n      <td>...</td>\n      <td>...</td>\n      <td>...</td>\n      <td>...</td>\n      <td>...</td>\n      <td>...</td>\n      <td>...</td>\n      <td>...</td>\n      <td>...</td>\n    </tr>\n    <tr>\n      <th>706</th>\n      <td>0</td>\n      <td>0</td>\n      <td>0</td>\n      <td>0</td>\n      <td>0</td>\n      <td>0</td>\n      <td>0</td>\n      <td>0</td>\n      <td>0</td>\n      <td>0</td>\n      <td>...</td>\n      <td>0</td>\n      <td>0</td>\n      <td>0</td>\n      <td>0</td>\n      <td>0</td>\n      <td>0</td>\n      <td>0</td>\n      <td>0</td>\n      <td>0</td>\n      <td>1</td>\n    </tr>\n    <tr>\n      <th>707</th>\n      <td>0</td>\n      <td>0</td>\n      <td>0</td>\n      <td>0</td>\n      <td>0</td>\n      <td>0</td>\n      <td>0</td>\n      <td>0</td>\n      <td>0</td>\n      <td>0</td>\n      <td>...</td>\n      <td>0</td>\n      <td>0</td>\n      <td>0</td>\n      <td>0</td>\n      <td>0</td>\n      <td>0</td>\n      <td>0</td>\n      <td>0</td>\n      <td>0</td>\n      <td>1</td>\n    </tr>\n    <tr>\n      <th>708</th>\n      <td>0</td>\n      <td>0</td>\n      <td>0</td>\n      <td>0</td>\n      <td>0</td>\n      <td>0</td>\n      <td>0</td>\n      <td>0</td>\n      <td>0</td>\n      <td>0</td>\n      <td>...</td>\n      <td>0</td>\n      <td>0</td>\n      <td>0</td>\n      <td>0</td>\n      <td>0</td>\n      <td>0</td>\n      <td>0</td>\n      <td>0</td>\n      <td>0</td>\n      <td>0</td>\n    </tr>\n    <tr>\n      <th>709</th>\n      <td>0</td>\n      <td>1</td>\n      <td>0</td>\n      <td>0</td>\n      <td>0</td>\n      <td>0</td>\n      <td>0</td>\n      <td>0</td>\n      <td>0</td>\n      <td>0</td>\n      <td>...</td>\n      <td>0</td>\n      <td>0</td>\n      <td>0</td>\n      <td>0</td>\n      <td>0</td>\n      <td>0</td>\n      <td>0</td>\n      <td>0</td>\n      <td>0</td>\n      <td>0</td>\n    </tr>\n    <tr>\n      <th>710</th>\n      <td>0</td>\n      <td>0</td>\n      <td>0</td>\n      <td>0</td>\n      <td>0</td>\n      <td>0</td>\n      <td>0</td>\n      <td>0</td>\n      <td>0</td>\n      <td>0</td>\n      <td>...</td>\n      <td>0</td>\n      <td>0</td>\n      <td>0</td>\n      <td>0</td>\n      <td>0</td>\n      <td>0</td>\n      <td>0</td>\n      <td>0</td>\n      <td>0</td>\n      <td>1</td>\n    </tr>\n  </tbody>\n</table>\n<p>711 rows × 21 columns</p>\n</div>"
     },
     "execution_count": 25,
     "metadata": {},
     "output_type": "execute_result"
    }
   ],
   "source": [
    "country = pd.get_dummies(df['country'],drop_first=True)\n",
    "country"
   ],
   "metadata": {
    "collapsed": false
   }
  },
  {
   "cell_type": "code",
   "execution_count": 26,
   "outputs": [
    {
     "data": {
      "text/plain": "      alabama   alaska   alberta   alentejo   ap   arizona   arkansas  \\\n0           0        0         0          0    0         0          0   \n1           0        0         0          0    0         0          0   \n2           0        0         0          0    0         0          0   \n3           0        0         0          0    0         0          0   \n4           0        0         0          0    0         0          0   \n..        ...      ...       ...        ...  ...       ...        ...   \n706         0        0         0          0    0         0          0   \n707         0        0         0          0    0         0          0   \n708         0        0         0          0    0         0          0   \n709         0        0         0          0    0         0          0   \n710         0        0         0          0    0         0          0   \n\n      baden-württemberg   barcelona   barreiro  ...   vermont   victoria  \\\n0                     0           0          0  ...         0          0   \n1                     0           0          0  ...         0          0   \n2                     0           0          0  ...         0          0   \n3                     0           0          0  ...         0          0   \n4                     0           0          0  ...         0          0   \n..                  ...         ...        ...  ...       ...        ...   \n706                   0           0          0  ...         0          0   \n707                   0           0          0  ...         0          0   \n708                   0           0          0  ...         0          0   \n709                   0           0          0  ...         0          0   \n710                   0           0          0  ...         0          0   \n\n      virginia   wales   washington   west virginia   western australia  \\\n0            0       0            0               0                   0   \n1            0       0            0               0                   0   \n2            0       0            0               0                   0   \n3            0       0            0               0                   0   \n4            1       0            0               0                   0   \n..         ...     ...          ...             ...                 ...   \n706          0       0            0               0                   0   \n707          0       0            0               0                   0   \n708          0       0            0               0                   0   \n709          0       0            0               0                   0   \n710          0       0            0               0                   0   \n\n      wisconsin   wyoming   zaragoza  \n0             0         0          0  \n1             0         0          0  \n2             0         0          0  \n3             0         0          0  \n4             0         0          0  \n..          ...       ...        ...  \n706           0         0          0  \n707           0         0          0  \n708           0         0          0  \n709           0         0          0  \n710           0         0          0  \n\n[711 rows x 104 columns]",
      "text/html": "<div>\n<style scoped>\n    .dataframe tbody tr th:only-of-type {\n        vertical-align: middle;\n    }\n\n    .dataframe tbody tr th {\n        vertical-align: top;\n    }\n\n    .dataframe thead th {\n        text-align: right;\n    }\n</style>\n<table border=\"1\" class=\"dataframe\">\n  <thead>\n    <tr style=\"text-align: right;\">\n      <th></th>\n      <th>alabama</th>\n      <th>alaska</th>\n      <th>alberta</th>\n      <th>alentejo</th>\n      <th>ap</th>\n      <th>arizona</th>\n      <th>arkansas</th>\n      <th>baden-württemberg</th>\n      <th>barcelona</th>\n      <th>barreiro</th>\n      <th>...</th>\n      <th>vermont</th>\n      <th>victoria</th>\n      <th>virginia</th>\n      <th>wales</th>\n      <th>washington</th>\n      <th>west virginia</th>\n      <th>western australia</th>\n      <th>wisconsin</th>\n      <th>wyoming</th>\n      <th>zaragoza</th>\n    </tr>\n  </thead>\n  <tbody>\n    <tr>\n      <th>0</th>\n      <td>0</td>\n      <td>0</td>\n      <td>0</td>\n      <td>0</td>\n      <td>0</td>\n      <td>0</td>\n      <td>0</td>\n      <td>0</td>\n      <td>0</td>\n      <td>0</td>\n      <td>...</td>\n      <td>0</td>\n      <td>0</td>\n      <td>0</td>\n      <td>0</td>\n      <td>0</td>\n      <td>0</td>\n      <td>0</td>\n      <td>0</td>\n      <td>0</td>\n      <td>0</td>\n    </tr>\n    <tr>\n      <th>1</th>\n      <td>0</td>\n      <td>0</td>\n      <td>0</td>\n      <td>0</td>\n      <td>0</td>\n      <td>0</td>\n      <td>0</td>\n      <td>0</td>\n      <td>0</td>\n      <td>0</td>\n      <td>...</td>\n      <td>0</td>\n      <td>0</td>\n      <td>0</td>\n      <td>0</td>\n      <td>0</td>\n      <td>0</td>\n      <td>0</td>\n      <td>0</td>\n      <td>0</td>\n      <td>0</td>\n    </tr>\n    <tr>\n      <th>2</th>\n      <td>0</td>\n      <td>0</td>\n      <td>0</td>\n      <td>0</td>\n      <td>0</td>\n      <td>0</td>\n      <td>0</td>\n      <td>0</td>\n      <td>0</td>\n      <td>0</td>\n      <td>...</td>\n      <td>0</td>\n      <td>0</td>\n      <td>0</td>\n      <td>0</td>\n      <td>0</td>\n      <td>0</td>\n      <td>0</td>\n      <td>0</td>\n      <td>0</td>\n      <td>0</td>\n    </tr>\n    <tr>\n      <th>3</th>\n      <td>0</td>\n      <td>0</td>\n      <td>0</td>\n      <td>0</td>\n      <td>0</td>\n      <td>0</td>\n      <td>0</td>\n      <td>0</td>\n      <td>0</td>\n      <td>0</td>\n      <td>...</td>\n      <td>0</td>\n      <td>0</td>\n      <td>0</td>\n      <td>0</td>\n      <td>0</td>\n      <td>0</td>\n      <td>0</td>\n      <td>0</td>\n      <td>0</td>\n      <td>0</td>\n    </tr>\n    <tr>\n      <th>4</th>\n      <td>0</td>\n      <td>0</td>\n      <td>0</td>\n      <td>0</td>\n      <td>0</td>\n      <td>0</td>\n      <td>0</td>\n      <td>0</td>\n      <td>0</td>\n      <td>0</td>\n      <td>...</td>\n      <td>0</td>\n      <td>0</td>\n      <td>1</td>\n      <td>0</td>\n      <td>0</td>\n      <td>0</td>\n      <td>0</td>\n      <td>0</td>\n      <td>0</td>\n      <td>0</td>\n    </tr>\n    <tr>\n      <th>...</th>\n      <td>...</td>\n      <td>...</td>\n      <td>...</td>\n      <td>...</td>\n      <td>...</td>\n      <td>...</td>\n      <td>...</td>\n      <td>...</td>\n      <td>...</td>\n      <td>...</td>\n      <td>...</td>\n      <td>...</td>\n      <td>...</td>\n      <td>...</td>\n      <td>...</td>\n      <td>...</td>\n      <td>...</td>\n      <td>...</td>\n      <td>...</td>\n      <td>...</td>\n      <td>...</td>\n    </tr>\n    <tr>\n      <th>706</th>\n      <td>0</td>\n      <td>0</td>\n      <td>0</td>\n      <td>0</td>\n      <td>0</td>\n      <td>0</td>\n      <td>0</td>\n      <td>0</td>\n      <td>0</td>\n      <td>0</td>\n      <td>...</td>\n      <td>0</td>\n      <td>0</td>\n      <td>0</td>\n      <td>0</td>\n      <td>0</td>\n      <td>0</td>\n      <td>0</td>\n      <td>0</td>\n      <td>0</td>\n      <td>0</td>\n    </tr>\n    <tr>\n      <th>707</th>\n      <td>0</td>\n      <td>0</td>\n      <td>0</td>\n      <td>0</td>\n      <td>0</td>\n      <td>0</td>\n      <td>0</td>\n      <td>0</td>\n      <td>0</td>\n      <td>0</td>\n      <td>...</td>\n      <td>0</td>\n      <td>0</td>\n      <td>0</td>\n      <td>0</td>\n      <td>0</td>\n      <td>0</td>\n      <td>0</td>\n      <td>0</td>\n      <td>0</td>\n      <td>0</td>\n    </tr>\n    <tr>\n      <th>708</th>\n      <td>0</td>\n      <td>0</td>\n      <td>0</td>\n      <td>0</td>\n      <td>0</td>\n      <td>0</td>\n      <td>0</td>\n      <td>0</td>\n      <td>0</td>\n      <td>0</td>\n      <td>...</td>\n      <td>0</td>\n      <td>0</td>\n      <td>0</td>\n      <td>0</td>\n      <td>0</td>\n      <td>0</td>\n      <td>0</td>\n      <td>0</td>\n      <td>0</td>\n      <td>0</td>\n    </tr>\n    <tr>\n      <th>709</th>\n      <td>0</td>\n      <td>0</td>\n      <td>0</td>\n      <td>0</td>\n      <td>0</td>\n      <td>0</td>\n      <td>0</td>\n      <td>0</td>\n      <td>0</td>\n      <td>0</td>\n      <td>...</td>\n      <td>0</td>\n      <td>0</td>\n      <td>0</td>\n      <td>0</td>\n      <td>0</td>\n      <td>0</td>\n      <td>0</td>\n      <td>0</td>\n      <td>0</td>\n      <td>0</td>\n    </tr>\n    <tr>\n      <th>710</th>\n      <td>0</td>\n      <td>0</td>\n      <td>0</td>\n      <td>0</td>\n      <td>0</td>\n      <td>0</td>\n      <td>0</td>\n      <td>0</td>\n      <td>0</td>\n      <td>0</td>\n      <td>...</td>\n      <td>0</td>\n      <td>0</td>\n      <td>0</td>\n      <td>0</td>\n      <td>0</td>\n      <td>0</td>\n      <td>0</td>\n      <td>0</td>\n      <td>0</td>\n      <td>0</td>\n    </tr>\n  </tbody>\n</table>\n<p>711 rows × 104 columns</p>\n</div>"
     },
     "execution_count": 26,
     "metadata": {},
     "output_type": "execute_result"
    }
   ],
   "source": [
    "state = pd.get_dummies(df['state'],drop_first=True)\n",
    "state"
   ],
   "metadata": {
    "collapsed": false
   }
  },
  {
   "cell_type": "code",
   "execution_count": 29,
   "outputs": [
    {
     "data": {
      "text/plain": "            isbn13  user_id        isbn  book_rating  country        state  \\\n0    9780316666343   277439  0316666343            7      usa       oregon   \n1    9780316666343   277752  0316666343            7      usa    louisiana   \n2    9780316666343   278633  0316666343            9      usa         utah   \n3    9780316666343      638  0316666343           10      usa   california   \n4    9780316666343      709  0316666343            3      usa     virginia   \n..             ...      ...         ...          ...      ...          ...   \n706  9780316666343   275933  0316666343            9      usa       kansas   \n707  9780316666343   276014  0316666343            5      usa   california   \n708  9780316666343   276545  0316666343            9      NaN   overijssel   \n709  9780316666343   276670  0316666343           10   canada      ontario   \n710  9780316666343   276680  0316666343            7      usa     new york   \n\n           age   cambridgeshire, united kingdom   canada   china  ...  \\\n0    65.000000                                0        0       0  ...   \n1    18.000000                                0        0       0  ...   \n2    35.705755                                0        0       0  ...   \n3    20.000000                                0        0       0  ...   \n4    14.000000                                0        0       0  ...   \n..         ...                              ...      ...     ...  ...   \n706  29.000000                                0        0       0  ...   \n707  28.922584                                0        0       0  ...   \n708  38.000000                                0        0       0  ...   \n709  30.000000                                0        1       0  ...   \n710  55.000000                                0        0       0  ...   \n\n      vermont   victoria   virginia   wales   washington   west virginia  \\\n0           0          0          0       0            0               0   \n1           0          0          0       0            0               0   \n2           0          0          0       0            0               0   \n3           0          0          0       0            0               0   \n4           0          0          1       0            0               0   \n..        ...        ...        ...     ...          ...             ...   \n706         0          0          0       0            0               0   \n707         0          0          0       0            0               0   \n708         0          0          0       0            0               0   \n709         0          0          0       0            0               0   \n710         0          0          0       0            0               0   \n\n      western australia   wisconsin   wyoming   zaragoza  \n0                     0           0         0          0  \n1                     0           0         0          0  \n2                     0           0         0          0  \n3                     0           0         0          0  \n4                     0           0         0          0  \n..                  ...         ...       ...        ...  \n706                   0           0         0          0  \n707                   0           0         0          0  \n708                   0           0         0          0  \n709                   0           0         0          0  \n710                   0           0         0          0  \n\n[711 rows x 132 columns]",
      "text/html": "<div>\n<style scoped>\n    .dataframe tbody tr th:only-of-type {\n        vertical-align: middle;\n    }\n\n    .dataframe tbody tr th {\n        vertical-align: top;\n    }\n\n    .dataframe thead th {\n        text-align: right;\n    }\n</style>\n<table border=\"1\" class=\"dataframe\">\n  <thead>\n    <tr style=\"text-align: right;\">\n      <th></th>\n      <th>isbn13</th>\n      <th>user_id</th>\n      <th>isbn</th>\n      <th>book_rating</th>\n      <th>country</th>\n      <th>state</th>\n      <th>age</th>\n      <th>cambridgeshire, united kingdom</th>\n      <th>canada</th>\n      <th>china</th>\n      <th>...</th>\n      <th>vermont</th>\n      <th>victoria</th>\n      <th>virginia</th>\n      <th>wales</th>\n      <th>washington</th>\n      <th>west virginia</th>\n      <th>western australia</th>\n      <th>wisconsin</th>\n      <th>wyoming</th>\n      <th>zaragoza</th>\n    </tr>\n  </thead>\n  <tbody>\n    <tr>\n      <th>0</th>\n      <td>9780316666343</td>\n      <td>277439</td>\n      <td>0316666343</td>\n      <td>7</td>\n      <td>usa</td>\n      <td>oregon</td>\n      <td>65.000000</td>\n      <td>0</td>\n      <td>0</td>\n      <td>0</td>\n      <td>...</td>\n      <td>0</td>\n      <td>0</td>\n      <td>0</td>\n      <td>0</td>\n      <td>0</td>\n      <td>0</td>\n      <td>0</td>\n      <td>0</td>\n      <td>0</td>\n      <td>0</td>\n    </tr>\n    <tr>\n      <th>1</th>\n      <td>9780316666343</td>\n      <td>277752</td>\n      <td>0316666343</td>\n      <td>7</td>\n      <td>usa</td>\n      <td>louisiana</td>\n      <td>18.000000</td>\n      <td>0</td>\n      <td>0</td>\n      <td>0</td>\n      <td>...</td>\n      <td>0</td>\n      <td>0</td>\n      <td>0</td>\n      <td>0</td>\n      <td>0</td>\n      <td>0</td>\n      <td>0</td>\n      <td>0</td>\n      <td>0</td>\n      <td>0</td>\n    </tr>\n    <tr>\n      <th>2</th>\n      <td>9780316666343</td>\n      <td>278633</td>\n      <td>0316666343</td>\n      <td>9</td>\n      <td>usa</td>\n      <td>utah</td>\n      <td>35.705755</td>\n      <td>0</td>\n      <td>0</td>\n      <td>0</td>\n      <td>...</td>\n      <td>0</td>\n      <td>0</td>\n      <td>0</td>\n      <td>0</td>\n      <td>0</td>\n      <td>0</td>\n      <td>0</td>\n      <td>0</td>\n      <td>0</td>\n      <td>0</td>\n    </tr>\n    <tr>\n      <th>3</th>\n      <td>9780316666343</td>\n      <td>638</td>\n      <td>0316666343</td>\n      <td>10</td>\n      <td>usa</td>\n      <td>california</td>\n      <td>20.000000</td>\n      <td>0</td>\n      <td>0</td>\n      <td>0</td>\n      <td>...</td>\n      <td>0</td>\n      <td>0</td>\n      <td>0</td>\n      <td>0</td>\n      <td>0</td>\n      <td>0</td>\n      <td>0</td>\n      <td>0</td>\n      <td>0</td>\n      <td>0</td>\n    </tr>\n    <tr>\n      <th>4</th>\n      <td>9780316666343</td>\n      <td>709</td>\n      <td>0316666343</td>\n      <td>3</td>\n      <td>usa</td>\n      <td>virginia</td>\n      <td>14.000000</td>\n      <td>0</td>\n      <td>0</td>\n      <td>0</td>\n      <td>...</td>\n      <td>0</td>\n      <td>0</td>\n      <td>1</td>\n      <td>0</td>\n      <td>0</td>\n      <td>0</td>\n      <td>0</td>\n      <td>0</td>\n      <td>0</td>\n      <td>0</td>\n    </tr>\n    <tr>\n      <th>...</th>\n      <td>...</td>\n      <td>...</td>\n      <td>...</td>\n      <td>...</td>\n      <td>...</td>\n      <td>...</td>\n      <td>...</td>\n      <td>...</td>\n      <td>...</td>\n      <td>...</td>\n      <td>...</td>\n      <td>...</td>\n      <td>...</td>\n      <td>...</td>\n      <td>...</td>\n      <td>...</td>\n      <td>...</td>\n      <td>...</td>\n      <td>...</td>\n      <td>...</td>\n      <td>...</td>\n    </tr>\n    <tr>\n      <th>706</th>\n      <td>9780316666343</td>\n      <td>275933</td>\n      <td>0316666343</td>\n      <td>9</td>\n      <td>usa</td>\n      <td>kansas</td>\n      <td>29.000000</td>\n      <td>0</td>\n      <td>0</td>\n      <td>0</td>\n      <td>...</td>\n      <td>0</td>\n      <td>0</td>\n      <td>0</td>\n      <td>0</td>\n      <td>0</td>\n      <td>0</td>\n      <td>0</td>\n      <td>0</td>\n      <td>0</td>\n      <td>0</td>\n    </tr>\n    <tr>\n      <th>707</th>\n      <td>9780316666343</td>\n      <td>276014</td>\n      <td>0316666343</td>\n      <td>5</td>\n      <td>usa</td>\n      <td>california</td>\n      <td>28.922584</td>\n      <td>0</td>\n      <td>0</td>\n      <td>0</td>\n      <td>...</td>\n      <td>0</td>\n      <td>0</td>\n      <td>0</td>\n      <td>0</td>\n      <td>0</td>\n      <td>0</td>\n      <td>0</td>\n      <td>0</td>\n      <td>0</td>\n      <td>0</td>\n    </tr>\n    <tr>\n      <th>708</th>\n      <td>9780316666343</td>\n      <td>276545</td>\n      <td>0316666343</td>\n      <td>9</td>\n      <td>NaN</td>\n      <td>overijssel</td>\n      <td>38.000000</td>\n      <td>0</td>\n      <td>0</td>\n      <td>0</td>\n      <td>...</td>\n      <td>0</td>\n      <td>0</td>\n      <td>0</td>\n      <td>0</td>\n      <td>0</td>\n      <td>0</td>\n      <td>0</td>\n      <td>0</td>\n      <td>0</td>\n      <td>0</td>\n    </tr>\n    <tr>\n      <th>709</th>\n      <td>9780316666343</td>\n      <td>276670</td>\n      <td>0316666343</td>\n      <td>10</td>\n      <td>canada</td>\n      <td>ontario</td>\n      <td>30.000000</td>\n      <td>0</td>\n      <td>1</td>\n      <td>0</td>\n      <td>...</td>\n      <td>0</td>\n      <td>0</td>\n      <td>0</td>\n      <td>0</td>\n      <td>0</td>\n      <td>0</td>\n      <td>0</td>\n      <td>0</td>\n      <td>0</td>\n      <td>0</td>\n    </tr>\n    <tr>\n      <th>710</th>\n      <td>9780316666343</td>\n      <td>276680</td>\n      <td>0316666343</td>\n      <td>7</td>\n      <td>usa</td>\n      <td>new york</td>\n      <td>55.000000</td>\n      <td>0</td>\n      <td>0</td>\n      <td>0</td>\n      <td>...</td>\n      <td>0</td>\n      <td>0</td>\n      <td>0</td>\n      <td>0</td>\n      <td>0</td>\n      <td>0</td>\n      <td>0</td>\n      <td>0</td>\n      <td>0</td>\n      <td>0</td>\n    </tr>\n  </tbody>\n</table>\n<p>711 rows × 132 columns</p>\n</div>"
     },
     "execution_count": 29,
     "metadata": {},
     "output_type": "execute_result"
    }
   ],
   "source": [
    "df = pd.concat([df, country, state], axis = 1)\n",
    "df"
   ],
   "metadata": {
    "collapsed": false
   }
  },
  {
   "cell_type": "code",
   "execution_count": 30,
   "outputs": [
    {
     "data": {
      "text/plain": "            isbn13  user_id        isbn  book_rating  country        state  \\\n0    9780316666343   277439  0316666343            7      usa       oregon   \n1    9780316666343   277752  0316666343            7      usa    louisiana   \n2    9780316666343   278633  0316666343            9      usa         utah   \n3    9780316666343      638  0316666343           10      usa   california   \n4    9780316666343      709  0316666343            3      usa     virginia   \n..             ...      ...         ...          ...      ...          ...   \n706  9780316666343   275933  0316666343            9      usa       kansas   \n707  9780316666343   276014  0316666343            5      usa   california   \n708  9780316666343   276545  0316666343            9      NaN   overijssel   \n709  9780316666343   276670  0316666343           10   canada      ontario   \n710  9780316666343   276680  0316666343            7      usa     new york   \n\n           age   cambridgeshire, united kingdom   canada   china  ...  \\\n0    65.000000                                0        0       0  ...   \n1    18.000000                                0        0       0  ...   \n2    35.705755                                0        0       0  ...   \n3    20.000000                                0        0       0  ...   \n4    14.000000                                0        0       0  ...   \n..         ...                              ...      ...     ...  ...   \n706  29.000000                                0        0       0  ...   \n707  28.922584                                0        0       0  ...   \n708  38.000000                                0        0       0  ...   \n709  30.000000                                0        1       0  ...   \n710  55.000000                                0        0       0  ...   \n\n      vermont   victoria   virginia   wales   washington   west virginia  \\\n0           0          0          0       0            0               0   \n1           0          0          0       0            0               0   \n2           0          0          0       0            0               0   \n3           0          0          0       0            0               0   \n4           0          0          1       0            0               0   \n..        ...        ...        ...     ...          ...             ...   \n706         0          0          0       0            0               0   \n707         0          0          0       0            0               0   \n708         0          0          0       0            0               0   \n709         0          0          0       0            0               0   \n710         0          0          0       0            0               0   \n\n      western australia   wisconsin   wyoming   zaragoza  \n0                     0           0         0          0  \n1                     0           0         0          0  \n2                     0           0         0          0  \n3                     0           0         0          0  \n4                     0           0         0          0  \n..                  ...         ...       ...        ...  \n706                   0           0         0          0  \n707                   0           0         0          0  \n708                   0           0         0          0  \n709                   0           0         0          0  \n710                   0           0         0          0  \n\n[711 rows x 131 columns]",
      "text/html": "<div>\n<style scoped>\n    .dataframe tbody tr th:only-of-type {\n        vertical-align: middle;\n    }\n\n    .dataframe tbody tr th {\n        vertical-align: top;\n    }\n\n    .dataframe thead th {\n        text-align: right;\n    }\n</style>\n<table border=\"1\" class=\"dataframe\">\n  <thead>\n    <tr style=\"text-align: right;\">\n      <th></th>\n      <th>isbn13</th>\n      <th>user_id</th>\n      <th>isbn</th>\n      <th>book_rating</th>\n      <th>country</th>\n      <th>state</th>\n      <th>age</th>\n      <th>cambridgeshire, united kingdom</th>\n      <th>canada</th>\n      <th>china</th>\n      <th>...</th>\n      <th>vermont</th>\n      <th>victoria</th>\n      <th>virginia</th>\n      <th>wales</th>\n      <th>washington</th>\n      <th>west virginia</th>\n      <th>western australia</th>\n      <th>wisconsin</th>\n      <th>wyoming</th>\n      <th>zaragoza</th>\n    </tr>\n  </thead>\n  <tbody>\n    <tr>\n      <th>0</th>\n      <td>9780316666343</td>\n      <td>277439</td>\n      <td>0316666343</td>\n      <td>7</td>\n      <td>usa</td>\n      <td>oregon</td>\n      <td>65.000000</td>\n      <td>0</td>\n      <td>0</td>\n      <td>0</td>\n      <td>...</td>\n      <td>0</td>\n      <td>0</td>\n      <td>0</td>\n      <td>0</td>\n      <td>0</td>\n      <td>0</td>\n      <td>0</td>\n      <td>0</td>\n      <td>0</td>\n      <td>0</td>\n    </tr>\n    <tr>\n      <th>1</th>\n      <td>9780316666343</td>\n      <td>277752</td>\n      <td>0316666343</td>\n      <td>7</td>\n      <td>usa</td>\n      <td>louisiana</td>\n      <td>18.000000</td>\n      <td>0</td>\n      <td>0</td>\n      <td>0</td>\n      <td>...</td>\n      <td>0</td>\n      <td>0</td>\n      <td>0</td>\n      <td>0</td>\n      <td>0</td>\n      <td>0</td>\n      <td>0</td>\n      <td>0</td>\n      <td>0</td>\n      <td>0</td>\n    </tr>\n    <tr>\n      <th>2</th>\n      <td>9780316666343</td>\n      <td>278633</td>\n      <td>0316666343</td>\n      <td>9</td>\n      <td>usa</td>\n      <td>utah</td>\n      <td>35.705755</td>\n      <td>0</td>\n      <td>0</td>\n      <td>0</td>\n      <td>...</td>\n      <td>0</td>\n      <td>0</td>\n      <td>0</td>\n      <td>0</td>\n      <td>0</td>\n      <td>0</td>\n      <td>0</td>\n      <td>0</td>\n      <td>0</td>\n      <td>0</td>\n    </tr>\n    <tr>\n      <th>3</th>\n      <td>9780316666343</td>\n      <td>638</td>\n      <td>0316666343</td>\n      <td>10</td>\n      <td>usa</td>\n      <td>california</td>\n      <td>20.000000</td>\n      <td>0</td>\n      <td>0</td>\n      <td>0</td>\n      <td>...</td>\n      <td>0</td>\n      <td>0</td>\n      <td>0</td>\n      <td>0</td>\n      <td>0</td>\n      <td>0</td>\n      <td>0</td>\n      <td>0</td>\n      <td>0</td>\n      <td>0</td>\n    </tr>\n    <tr>\n      <th>4</th>\n      <td>9780316666343</td>\n      <td>709</td>\n      <td>0316666343</td>\n      <td>3</td>\n      <td>usa</td>\n      <td>virginia</td>\n      <td>14.000000</td>\n      <td>0</td>\n      <td>0</td>\n      <td>0</td>\n      <td>...</td>\n      <td>0</td>\n      <td>0</td>\n      <td>1</td>\n      <td>0</td>\n      <td>0</td>\n      <td>0</td>\n      <td>0</td>\n      <td>0</td>\n      <td>0</td>\n      <td>0</td>\n    </tr>\n    <tr>\n      <th>...</th>\n      <td>...</td>\n      <td>...</td>\n      <td>...</td>\n      <td>...</td>\n      <td>...</td>\n      <td>...</td>\n      <td>...</td>\n      <td>...</td>\n      <td>...</td>\n      <td>...</td>\n      <td>...</td>\n      <td>...</td>\n      <td>...</td>\n      <td>...</td>\n      <td>...</td>\n      <td>...</td>\n      <td>...</td>\n      <td>...</td>\n      <td>...</td>\n      <td>...</td>\n      <td>...</td>\n    </tr>\n    <tr>\n      <th>706</th>\n      <td>9780316666343</td>\n      <td>275933</td>\n      <td>0316666343</td>\n      <td>9</td>\n      <td>usa</td>\n      <td>kansas</td>\n      <td>29.000000</td>\n      <td>0</td>\n      <td>0</td>\n      <td>0</td>\n      <td>...</td>\n      <td>0</td>\n      <td>0</td>\n      <td>0</td>\n      <td>0</td>\n      <td>0</td>\n      <td>0</td>\n      <td>0</td>\n      <td>0</td>\n      <td>0</td>\n      <td>0</td>\n    </tr>\n    <tr>\n      <th>707</th>\n      <td>9780316666343</td>\n      <td>276014</td>\n      <td>0316666343</td>\n      <td>5</td>\n      <td>usa</td>\n      <td>california</td>\n      <td>28.922584</td>\n      <td>0</td>\n      <td>0</td>\n      <td>0</td>\n      <td>...</td>\n      <td>0</td>\n      <td>0</td>\n      <td>0</td>\n      <td>0</td>\n      <td>0</td>\n      <td>0</td>\n      <td>0</td>\n      <td>0</td>\n      <td>0</td>\n      <td>0</td>\n    </tr>\n    <tr>\n      <th>708</th>\n      <td>9780316666343</td>\n      <td>276545</td>\n      <td>0316666343</td>\n      <td>9</td>\n      <td>NaN</td>\n      <td>overijssel</td>\n      <td>38.000000</td>\n      <td>0</td>\n      <td>0</td>\n      <td>0</td>\n      <td>...</td>\n      <td>0</td>\n      <td>0</td>\n      <td>0</td>\n      <td>0</td>\n      <td>0</td>\n      <td>0</td>\n      <td>0</td>\n      <td>0</td>\n      <td>0</td>\n      <td>0</td>\n    </tr>\n    <tr>\n      <th>709</th>\n      <td>9780316666343</td>\n      <td>276670</td>\n      <td>0316666343</td>\n      <td>10</td>\n      <td>canada</td>\n      <td>ontario</td>\n      <td>30.000000</td>\n      <td>0</td>\n      <td>1</td>\n      <td>0</td>\n      <td>...</td>\n      <td>0</td>\n      <td>0</td>\n      <td>0</td>\n      <td>0</td>\n      <td>0</td>\n      <td>0</td>\n      <td>0</td>\n      <td>0</td>\n      <td>0</td>\n      <td>0</td>\n    </tr>\n    <tr>\n      <th>710</th>\n      <td>9780316666343</td>\n      <td>276680</td>\n      <td>0316666343</td>\n      <td>7</td>\n      <td>usa</td>\n      <td>new york</td>\n      <td>55.000000</td>\n      <td>0</td>\n      <td>0</td>\n      <td>0</td>\n      <td>...</td>\n      <td>0</td>\n      <td>0</td>\n      <td>0</td>\n      <td>0</td>\n      <td>0</td>\n      <td>0</td>\n      <td>0</td>\n      <td>0</td>\n      <td>0</td>\n      <td>0</td>\n    </tr>\n  </tbody>\n</table>\n<p>711 rows × 131 columns</p>\n</div>"
     },
     "execution_count": 30,
     "metadata": {},
     "output_type": "execute_result"
    }
   ],
   "source": [
    "df = df.loc[:,~df.columns.duplicated()]\n",
    "df"
   ],
   "metadata": {
    "collapsed": false
   }
  },
  {
   "cell_type": "code",
   "execution_count": 31,
   "outputs": [
    {
     "data": {
      "text/plain": "     book_rating        age   cambridgeshire, united kingdom   canada   china  \\\n0              7  65.000000                                0        0       0   \n1              7  18.000000                                0        0       0   \n2              9  35.705755                                0        0       0   \n3             10  20.000000                                0        0       0   \n4              3  14.000000                                0        0       0   \n..           ...        ...                              ...      ...     ...   \n706            9  29.000000                                0        0       0   \n707            5  28.922584                                0        0       0   \n708            9  38.000000                                0        0       0   \n709           10  30.000000                                0        1       0   \n710            7  55.000000                                0        0       0   \n\n      finland   france   germany   iran   italy  ...   vermont   victoria  \\\n0           0        0         0      0       0  ...         0          0   \n1           0        0         0      0       0  ...         0          0   \n2           0        0         0      0       0  ...         0          0   \n3           0        0         0      0       0  ...         0          0   \n4           0        0         0      0       0  ...         0          0   \n..        ...      ...       ...    ...     ...  ...       ...        ...   \n706         0        0         0      0       0  ...         0          0   \n707         0        0         0      0       0  ...         0          0   \n708         0        0         0      0       0  ...         0          0   \n709         0        0         0      0       0  ...         0          0   \n710         0        0         0      0       0  ...         0          0   \n\n      virginia   wales   washington   west virginia   western australia  \\\n0            0       0            0               0                   0   \n1            0       0            0               0                   0   \n2            0       0            0               0                   0   \n3            0       0            0               0                   0   \n4            1       0            0               0                   0   \n..         ...     ...          ...             ...                 ...   \n706          0       0            0               0                   0   \n707          0       0            0               0                   0   \n708          0       0            0               0                   0   \n709          0       0            0               0                   0   \n710          0       0            0               0                   0   \n\n      wisconsin   wyoming   zaragoza  \n0             0         0          0  \n1             0         0          0  \n2             0         0          0  \n3             0         0          0  \n4             0         0          0  \n..          ...       ...        ...  \n706           0         0          0  \n707           0         0          0  \n708           0         0          0  \n709           0         0          0  \n710           0         0          0  \n\n[711 rows x 126 columns]",
      "text/html": "<div>\n<style scoped>\n    .dataframe tbody tr th:only-of-type {\n        vertical-align: middle;\n    }\n\n    .dataframe tbody tr th {\n        vertical-align: top;\n    }\n\n    .dataframe thead th {\n        text-align: right;\n    }\n</style>\n<table border=\"1\" class=\"dataframe\">\n  <thead>\n    <tr style=\"text-align: right;\">\n      <th></th>\n      <th>book_rating</th>\n      <th>age</th>\n      <th>cambridgeshire, united kingdom</th>\n      <th>canada</th>\n      <th>china</th>\n      <th>finland</th>\n      <th>france</th>\n      <th>germany</th>\n      <th>iran</th>\n      <th>italy</th>\n      <th>...</th>\n      <th>vermont</th>\n      <th>victoria</th>\n      <th>virginia</th>\n      <th>wales</th>\n      <th>washington</th>\n      <th>west virginia</th>\n      <th>western australia</th>\n      <th>wisconsin</th>\n      <th>wyoming</th>\n      <th>zaragoza</th>\n    </tr>\n  </thead>\n  <tbody>\n    <tr>\n      <th>0</th>\n      <td>7</td>\n      <td>65.000000</td>\n      <td>0</td>\n      <td>0</td>\n      <td>0</td>\n      <td>0</td>\n      <td>0</td>\n      <td>0</td>\n      <td>0</td>\n      <td>0</td>\n      <td>...</td>\n      <td>0</td>\n      <td>0</td>\n      <td>0</td>\n      <td>0</td>\n      <td>0</td>\n      <td>0</td>\n      <td>0</td>\n      <td>0</td>\n      <td>0</td>\n      <td>0</td>\n    </tr>\n    <tr>\n      <th>1</th>\n      <td>7</td>\n      <td>18.000000</td>\n      <td>0</td>\n      <td>0</td>\n      <td>0</td>\n      <td>0</td>\n      <td>0</td>\n      <td>0</td>\n      <td>0</td>\n      <td>0</td>\n      <td>...</td>\n      <td>0</td>\n      <td>0</td>\n      <td>0</td>\n      <td>0</td>\n      <td>0</td>\n      <td>0</td>\n      <td>0</td>\n      <td>0</td>\n      <td>0</td>\n      <td>0</td>\n    </tr>\n    <tr>\n      <th>2</th>\n      <td>9</td>\n      <td>35.705755</td>\n      <td>0</td>\n      <td>0</td>\n      <td>0</td>\n      <td>0</td>\n      <td>0</td>\n      <td>0</td>\n      <td>0</td>\n      <td>0</td>\n      <td>...</td>\n      <td>0</td>\n      <td>0</td>\n      <td>0</td>\n      <td>0</td>\n      <td>0</td>\n      <td>0</td>\n      <td>0</td>\n      <td>0</td>\n      <td>0</td>\n      <td>0</td>\n    </tr>\n    <tr>\n      <th>3</th>\n      <td>10</td>\n      <td>20.000000</td>\n      <td>0</td>\n      <td>0</td>\n      <td>0</td>\n      <td>0</td>\n      <td>0</td>\n      <td>0</td>\n      <td>0</td>\n      <td>0</td>\n      <td>...</td>\n      <td>0</td>\n      <td>0</td>\n      <td>0</td>\n      <td>0</td>\n      <td>0</td>\n      <td>0</td>\n      <td>0</td>\n      <td>0</td>\n      <td>0</td>\n      <td>0</td>\n    </tr>\n    <tr>\n      <th>4</th>\n      <td>3</td>\n      <td>14.000000</td>\n      <td>0</td>\n      <td>0</td>\n      <td>0</td>\n      <td>0</td>\n      <td>0</td>\n      <td>0</td>\n      <td>0</td>\n      <td>0</td>\n      <td>...</td>\n      <td>0</td>\n      <td>0</td>\n      <td>1</td>\n      <td>0</td>\n      <td>0</td>\n      <td>0</td>\n      <td>0</td>\n      <td>0</td>\n      <td>0</td>\n      <td>0</td>\n    </tr>\n    <tr>\n      <th>...</th>\n      <td>...</td>\n      <td>...</td>\n      <td>...</td>\n      <td>...</td>\n      <td>...</td>\n      <td>...</td>\n      <td>...</td>\n      <td>...</td>\n      <td>...</td>\n      <td>...</td>\n      <td>...</td>\n      <td>...</td>\n      <td>...</td>\n      <td>...</td>\n      <td>...</td>\n      <td>...</td>\n      <td>...</td>\n      <td>...</td>\n      <td>...</td>\n      <td>...</td>\n      <td>...</td>\n    </tr>\n    <tr>\n      <th>706</th>\n      <td>9</td>\n      <td>29.000000</td>\n      <td>0</td>\n      <td>0</td>\n      <td>0</td>\n      <td>0</td>\n      <td>0</td>\n      <td>0</td>\n      <td>0</td>\n      <td>0</td>\n      <td>...</td>\n      <td>0</td>\n      <td>0</td>\n      <td>0</td>\n      <td>0</td>\n      <td>0</td>\n      <td>0</td>\n      <td>0</td>\n      <td>0</td>\n      <td>0</td>\n      <td>0</td>\n    </tr>\n    <tr>\n      <th>707</th>\n      <td>5</td>\n      <td>28.922584</td>\n      <td>0</td>\n      <td>0</td>\n      <td>0</td>\n      <td>0</td>\n      <td>0</td>\n      <td>0</td>\n      <td>0</td>\n      <td>0</td>\n      <td>...</td>\n      <td>0</td>\n      <td>0</td>\n      <td>0</td>\n      <td>0</td>\n      <td>0</td>\n      <td>0</td>\n      <td>0</td>\n      <td>0</td>\n      <td>0</td>\n      <td>0</td>\n    </tr>\n    <tr>\n      <th>708</th>\n      <td>9</td>\n      <td>38.000000</td>\n      <td>0</td>\n      <td>0</td>\n      <td>0</td>\n      <td>0</td>\n      <td>0</td>\n      <td>0</td>\n      <td>0</td>\n      <td>0</td>\n      <td>...</td>\n      <td>0</td>\n      <td>0</td>\n      <td>0</td>\n      <td>0</td>\n      <td>0</td>\n      <td>0</td>\n      <td>0</td>\n      <td>0</td>\n      <td>0</td>\n      <td>0</td>\n    </tr>\n    <tr>\n      <th>709</th>\n      <td>10</td>\n      <td>30.000000</td>\n      <td>0</td>\n      <td>1</td>\n      <td>0</td>\n      <td>0</td>\n      <td>0</td>\n      <td>0</td>\n      <td>0</td>\n      <td>0</td>\n      <td>...</td>\n      <td>0</td>\n      <td>0</td>\n      <td>0</td>\n      <td>0</td>\n      <td>0</td>\n      <td>0</td>\n      <td>0</td>\n      <td>0</td>\n      <td>0</td>\n      <td>0</td>\n    </tr>\n    <tr>\n      <th>710</th>\n      <td>7</td>\n      <td>55.000000</td>\n      <td>0</td>\n      <td>0</td>\n      <td>0</td>\n      <td>0</td>\n      <td>0</td>\n      <td>0</td>\n      <td>0</td>\n      <td>0</td>\n      <td>...</td>\n      <td>0</td>\n      <td>0</td>\n      <td>0</td>\n      <td>0</td>\n      <td>0</td>\n      <td>0</td>\n      <td>0</td>\n      <td>0</td>\n      <td>0</td>\n      <td>0</td>\n    </tr>\n  </tbody>\n</table>\n<p>711 rows × 126 columns</p>\n</div>"
     },
     "execution_count": 31,
     "metadata": {},
     "output_type": "execute_result"
    }
   ],
   "source": [
    "df = df.drop(['isbn', 'isbn13', 'user_id', 'country', 'state'], axis = 1)\n",
    "df"
   ],
   "metadata": {
    "collapsed": false
   }
  },
  {
   "cell_type": "code",
   "execution_count": 32,
   "outputs": [
    {
     "data": {
      "text/plain": "           age   cambridgeshire, united kingdom   canada   china   finland  \\\n0    65.000000                                0        0       0         0   \n1    18.000000                                0        0       0         0   \n2    35.705755                                0        0       0         0   \n3    20.000000                                0        0       0         0   \n4    14.000000                                0        0       0         0   \n..         ...                              ...      ...     ...       ...   \n706  29.000000                                0        0       0         0   \n707  28.922584                                0        0       0         0   \n708  38.000000                                0        0       0         0   \n709  30.000000                                0        1       0         0   \n710  55.000000                                0        0       0         0   \n\n      france   germany   iran   italy   malaysia  ...   vermont   victoria  \\\n0          0         0      0       0          0  ...         0          0   \n1          0         0      0       0          0  ...         0          0   \n2          0         0      0       0          0  ...         0          0   \n3          0         0      0       0          0  ...         0          0   \n4          0         0      0       0          0  ...         0          0   \n..       ...       ...    ...     ...        ...  ...       ...        ...   \n706        0         0      0       0          0  ...         0          0   \n707        0         0      0       0          0  ...         0          0   \n708        0         0      0       0          0  ...         0          0   \n709        0         0      0       0          0  ...         0          0   \n710        0         0      0       0          0  ...         0          0   \n\n      virginia   wales   washington   west virginia   western australia  \\\n0            0       0            0               0                   0   \n1            0       0            0               0                   0   \n2            0       0            0               0                   0   \n3            0       0            0               0                   0   \n4            1       0            0               0                   0   \n..         ...     ...          ...             ...                 ...   \n706          0       0            0               0                   0   \n707          0       0            0               0                   0   \n708          0       0            0               0                   0   \n709          0       0            0               0                   0   \n710          0       0            0               0                   0   \n\n      wisconsin   wyoming   zaragoza  \n0             0         0          0  \n1             0         0          0  \n2             0         0          0  \n3             0         0          0  \n4             0         0          0  \n..          ...       ...        ...  \n706           0         0          0  \n707           0         0          0  \n708           0         0          0  \n709           0         0          0  \n710           0         0          0  \n\n[711 rows x 125 columns]",
      "text/html": "<div>\n<style scoped>\n    .dataframe tbody tr th:only-of-type {\n        vertical-align: middle;\n    }\n\n    .dataframe tbody tr th {\n        vertical-align: top;\n    }\n\n    .dataframe thead th {\n        text-align: right;\n    }\n</style>\n<table border=\"1\" class=\"dataframe\">\n  <thead>\n    <tr style=\"text-align: right;\">\n      <th></th>\n      <th>age</th>\n      <th>cambridgeshire, united kingdom</th>\n      <th>canada</th>\n      <th>china</th>\n      <th>finland</th>\n      <th>france</th>\n      <th>germany</th>\n      <th>iran</th>\n      <th>italy</th>\n      <th>malaysia</th>\n      <th>...</th>\n      <th>vermont</th>\n      <th>victoria</th>\n      <th>virginia</th>\n      <th>wales</th>\n      <th>washington</th>\n      <th>west virginia</th>\n      <th>western australia</th>\n      <th>wisconsin</th>\n      <th>wyoming</th>\n      <th>zaragoza</th>\n    </tr>\n  </thead>\n  <tbody>\n    <tr>\n      <th>0</th>\n      <td>65.000000</td>\n      <td>0</td>\n      <td>0</td>\n      <td>0</td>\n      <td>0</td>\n      <td>0</td>\n      <td>0</td>\n      <td>0</td>\n      <td>0</td>\n      <td>0</td>\n      <td>...</td>\n      <td>0</td>\n      <td>0</td>\n      <td>0</td>\n      <td>0</td>\n      <td>0</td>\n      <td>0</td>\n      <td>0</td>\n      <td>0</td>\n      <td>0</td>\n      <td>0</td>\n    </tr>\n    <tr>\n      <th>1</th>\n      <td>18.000000</td>\n      <td>0</td>\n      <td>0</td>\n      <td>0</td>\n      <td>0</td>\n      <td>0</td>\n      <td>0</td>\n      <td>0</td>\n      <td>0</td>\n      <td>0</td>\n      <td>...</td>\n      <td>0</td>\n      <td>0</td>\n      <td>0</td>\n      <td>0</td>\n      <td>0</td>\n      <td>0</td>\n      <td>0</td>\n      <td>0</td>\n      <td>0</td>\n      <td>0</td>\n    </tr>\n    <tr>\n      <th>2</th>\n      <td>35.705755</td>\n      <td>0</td>\n      <td>0</td>\n      <td>0</td>\n      <td>0</td>\n      <td>0</td>\n      <td>0</td>\n      <td>0</td>\n      <td>0</td>\n      <td>0</td>\n      <td>...</td>\n      <td>0</td>\n      <td>0</td>\n      <td>0</td>\n      <td>0</td>\n      <td>0</td>\n      <td>0</td>\n      <td>0</td>\n      <td>0</td>\n      <td>0</td>\n      <td>0</td>\n    </tr>\n    <tr>\n      <th>3</th>\n      <td>20.000000</td>\n      <td>0</td>\n      <td>0</td>\n      <td>0</td>\n      <td>0</td>\n      <td>0</td>\n      <td>0</td>\n      <td>0</td>\n      <td>0</td>\n      <td>0</td>\n      <td>...</td>\n      <td>0</td>\n      <td>0</td>\n      <td>0</td>\n      <td>0</td>\n      <td>0</td>\n      <td>0</td>\n      <td>0</td>\n      <td>0</td>\n      <td>0</td>\n      <td>0</td>\n    </tr>\n    <tr>\n      <th>4</th>\n      <td>14.000000</td>\n      <td>0</td>\n      <td>0</td>\n      <td>0</td>\n      <td>0</td>\n      <td>0</td>\n      <td>0</td>\n      <td>0</td>\n      <td>0</td>\n      <td>0</td>\n      <td>...</td>\n      <td>0</td>\n      <td>0</td>\n      <td>1</td>\n      <td>0</td>\n      <td>0</td>\n      <td>0</td>\n      <td>0</td>\n      <td>0</td>\n      <td>0</td>\n      <td>0</td>\n    </tr>\n    <tr>\n      <th>...</th>\n      <td>...</td>\n      <td>...</td>\n      <td>...</td>\n      <td>...</td>\n      <td>...</td>\n      <td>...</td>\n      <td>...</td>\n      <td>...</td>\n      <td>...</td>\n      <td>...</td>\n      <td>...</td>\n      <td>...</td>\n      <td>...</td>\n      <td>...</td>\n      <td>...</td>\n      <td>...</td>\n      <td>...</td>\n      <td>...</td>\n      <td>...</td>\n      <td>...</td>\n      <td>...</td>\n    </tr>\n    <tr>\n      <th>706</th>\n      <td>29.000000</td>\n      <td>0</td>\n      <td>0</td>\n      <td>0</td>\n      <td>0</td>\n      <td>0</td>\n      <td>0</td>\n      <td>0</td>\n      <td>0</td>\n      <td>0</td>\n      <td>...</td>\n      <td>0</td>\n      <td>0</td>\n      <td>0</td>\n      <td>0</td>\n      <td>0</td>\n      <td>0</td>\n      <td>0</td>\n      <td>0</td>\n      <td>0</td>\n      <td>0</td>\n    </tr>\n    <tr>\n      <th>707</th>\n      <td>28.922584</td>\n      <td>0</td>\n      <td>0</td>\n      <td>0</td>\n      <td>0</td>\n      <td>0</td>\n      <td>0</td>\n      <td>0</td>\n      <td>0</td>\n      <td>0</td>\n      <td>...</td>\n      <td>0</td>\n      <td>0</td>\n      <td>0</td>\n      <td>0</td>\n      <td>0</td>\n      <td>0</td>\n      <td>0</td>\n      <td>0</td>\n      <td>0</td>\n      <td>0</td>\n    </tr>\n    <tr>\n      <th>708</th>\n      <td>38.000000</td>\n      <td>0</td>\n      <td>0</td>\n      <td>0</td>\n      <td>0</td>\n      <td>0</td>\n      <td>0</td>\n      <td>0</td>\n      <td>0</td>\n      <td>0</td>\n      <td>...</td>\n      <td>0</td>\n      <td>0</td>\n      <td>0</td>\n      <td>0</td>\n      <td>0</td>\n      <td>0</td>\n      <td>0</td>\n      <td>0</td>\n      <td>0</td>\n      <td>0</td>\n    </tr>\n    <tr>\n      <th>709</th>\n      <td>30.000000</td>\n      <td>0</td>\n      <td>1</td>\n      <td>0</td>\n      <td>0</td>\n      <td>0</td>\n      <td>0</td>\n      <td>0</td>\n      <td>0</td>\n      <td>0</td>\n      <td>...</td>\n      <td>0</td>\n      <td>0</td>\n      <td>0</td>\n      <td>0</td>\n      <td>0</td>\n      <td>0</td>\n      <td>0</td>\n      <td>0</td>\n      <td>0</td>\n      <td>0</td>\n    </tr>\n    <tr>\n      <th>710</th>\n      <td>55.000000</td>\n      <td>0</td>\n      <td>0</td>\n      <td>0</td>\n      <td>0</td>\n      <td>0</td>\n      <td>0</td>\n      <td>0</td>\n      <td>0</td>\n      <td>0</td>\n      <td>...</td>\n      <td>0</td>\n      <td>0</td>\n      <td>0</td>\n      <td>0</td>\n      <td>0</td>\n      <td>0</td>\n      <td>0</td>\n      <td>0</td>\n      <td>0</td>\n      <td>0</td>\n    </tr>\n  </tbody>\n</table>\n<p>711 rows × 125 columns</p>\n</div>"
     },
     "execution_count": 32,
     "metadata": {},
     "output_type": "execute_result"
    }
   ],
   "source": [
    "X = df.drop('book_rating', axis = 1) #Features\n",
    "X"
   ],
   "metadata": {
    "collapsed": false
   }
  },
  {
   "cell_type": "code",
   "execution_count": 33,
   "outputs": [
    {
     "data": {
      "text/plain": "0       7\n1       7\n2       9\n3      10\n4       3\n       ..\n706     9\n707     5\n708     9\n709    10\n710     7\nName: book_rating, Length: 711, dtype: int64"
     },
     "execution_count": 33,
     "metadata": {},
     "output_type": "execute_result"
    }
   ],
   "source": [
    "Y = df['book_rating']   # Target Variables\n",
    "Y"
   ],
   "metadata": {
    "collapsed": false
   }
  },
  {
   "cell_type": "code",
   "execution_count": 34,
   "outputs": [],
   "source": [
    "X_train, X_test, y_train, y_test = train_test_split(X, Y, test_size=0.30, random_state=7)"
   ],
   "metadata": {
    "collapsed": false
   }
  },
  {
   "cell_type": "code",
   "execution_count": 35,
   "outputs": [
    {
     "data": {
      "text/plain": "RandomForestClassifier(min_weight_fraction_leaf=0)",
      "text/html": "<style>#sk-container-id-1 {color: black;background-color: white;}#sk-container-id-1 pre{padding: 0;}#sk-container-id-1 div.sk-toggleable {background-color: white;}#sk-container-id-1 label.sk-toggleable__label {cursor: pointer;display: block;width: 100%;margin-bottom: 0;padding: 0.3em;box-sizing: border-box;text-align: center;}#sk-container-id-1 label.sk-toggleable__label-arrow:before {content: \"▸\";float: left;margin-right: 0.25em;color: #696969;}#sk-container-id-1 label.sk-toggleable__label-arrow:hover:before {color: black;}#sk-container-id-1 div.sk-estimator:hover label.sk-toggleable__label-arrow:before {color: black;}#sk-container-id-1 div.sk-toggleable__content {max-height: 0;max-width: 0;overflow: hidden;text-align: left;background-color: #f0f8ff;}#sk-container-id-1 div.sk-toggleable__content pre {margin: 0.2em;color: black;border-radius: 0.25em;background-color: #f0f8ff;}#sk-container-id-1 input.sk-toggleable__control:checked~div.sk-toggleable__content {max-height: 200px;max-width: 100%;overflow: auto;}#sk-container-id-1 input.sk-toggleable__control:checked~label.sk-toggleable__label-arrow:before {content: \"▾\";}#sk-container-id-1 div.sk-estimator input.sk-toggleable__control:checked~label.sk-toggleable__label {background-color: #d4ebff;}#sk-container-id-1 div.sk-label input.sk-toggleable__control:checked~label.sk-toggleable__label {background-color: #d4ebff;}#sk-container-id-1 input.sk-hidden--visually {border: 0;clip: rect(1px 1px 1px 1px);clip: rect(1px, 1px, 1px, 1px);height: 1px;margin: -1px;overflow: hidden;padding: 0;position: absolute;width: 1px;}#sk-container-id-1 div.sk-estimator {font-family: monospace;background-color: #f0f8ff;border: 1px dotted black;border-radius: 0.25em;box-sizing: border-box;margin-bottom: 0.5em;}#sk-container-id-1 div.sk-estimator:hover {background-color: #d4ebff;}#sk-container-id-1 div.sk-parallel-item::after {content: \"\";width: 100%;border-bottom: 1px solid gray;flex-grow: 1;}#sk-container-id-1 div.sk-label:hover label.sk-toggleable__label {background-color: #d4ebff;}#sk-container-id-1 div.sk-serial::before {content: \"\";position: absolute;border-left: 1px solid gray;box-sizing: border-box;top: 0;bottom: 0;left: 50%;z-index: 0;}#sk-container-id-1 div.sk-serial {display: flex;flex-direction: column;align-items: center;background-color: white;padding-right: 0.2em;padding-left: 0.2em;position: relative;}#sk-container-id-1 div.sk-item {position: relative;z-index: 1;}#sk-container-id-1 div.sk-parallel {display: flex;align-items: stretch;justify-content: center;background-color: white;position: relative;}#sk-container-id-1 div.sk-item::before, #sk-container-id-1 div.sk-parallel-item::before {content: \"\";position: absolute;border-left: 1px solid gray;box-sizing: border-box;top: 0;bottom: 0;left: 50%;z-index: -1;}#sk-container-id-1 div.sk-parallel-item {display: flex;flex-direction: column;z-index: 1;position: relative;background-color: white;}#sk-container-id-1 div.sk-parallel-item:first-child::after {align-self: flex-end;width: 50%;}#sk-container-id-1 div.sk-parallel-item:last-child::after {align-self: flex-start;width: 50%;}#sk-container-id-1 div.sk-parallel-item:only-child::after {width: 0;}#sk-container-id-1 div.sk-dashed-wrapped {border: 1px dashed gray;margin: 0 0.4em 0.5em 0.4em;box-sizing: border-box;padding-bottom: 0.4em;background-color: white;}#sk-container-id-1 div.sk-label label {font-family: monospace;font-weight: bold;display: inline-block;line-height: 1.2em;}#sk-container-id-1 div.sk-label-container {text-align: center;}#sk-container-id-1 div.sk-container {/* jupyter's `normalize.less` sets `[hidden] { display: none; }` but bootstrap.min.css set `[hidden] { display: none !important; }` so we also need the `!important` here to be able to override the default hidden behavior on the sphinx rendered scikit-learn.org. See: https://github.com/scikit-learn/scikit-learn/issues/21755 */display: inline-block !important;position: relative;}#sk-container-id-1 div.sk-text-repr-fallback {display: none;}</style><div id=\"sk-container-id-1\" class=\"sk-top-container\"><div class=\"sk-text-repr-fallback\"><pre>RandomForestClassifier(min_weight_fraction_leaf=0)</pre><b>In a Jupyter environment, please rerun this cell to show the HTML representation or trust the notebook. <br />On GitHub, the HTML representation is unable to render, please try loading this page with nbviewer.org.</b></div><div class=\"sk-container\" hidden><div class=\"sk-item\"><div class=\"sk-estimator sk-toggleable\"><input class=\"sk-toggleable__control sk-hidden--visually\" id=\"sk-estimator-id-1\" type=\"checkbox\" checked><label for=\"sk-estimator-id-1\" class=\"sk-toggleable__label sk-toggleable__label-arrow\">RandomForestClassifier</label><div class=\"sk-toggleable__content\"><pre>RandomForestClassifier(min_weight_fraction_leaf=0)</pre></div></div></div></div></div>"
     },
     "execution_count": 35,
     "metadata": {},
     "output_type": "execute_result"
    }
   ],
   "source": [
    "rfc = RandomForestClassifier(n_estimators=100, min_weight_fraction_leaf= 0)\n",
    "rfc.fit(X_train, y_train)"
   ],
   "metadata": {
    "collapsed": false
   }
  },
  {
   "cell_type": "code",
   "execution_count": 40,
   "outputs": [
    {
     "name": "stdout",
     "output_type": "stream",
     "text": [
      "              precision    recall  f1-score   support\n",
      "\n",
      "           1       0.00      0.00      0.00         1\n",
      "           2       0.00      0.00      0.00         1\n",
      "           3       0.00      0.00      0.00         2\n",
      "           4       0.00      0.00      0.00         2\n",
      "           5       0.00      0.00      0.00         9\n",
      "           6       0.00      0.00      0.00         6\n",
      "           7       0.31      0.25      0.28        40\n",
      "           8       0.29      0.25      0.27        64\n",
      "           9       0.25      0.26      0.25        47\n",
      "          10       0.21      0.26      0.23        42\n",
      "\n",
      "    accuracy                           0.23       214\n",
      "   macro avg       0.11      0.10      0.10       214\n",
      "weighted avg       0.24      0.23      0.23       214\n",
      "\n",
      "22.897196261682243\n"
     ]
    },
    {
     "name": "stderr",
     "output_type": "stream",
     "text": [
      "/home/fab/.local/lib/python3.10/site-packages/sklearn/metrics/_classification.py:1334: UndefinedMetricWarning: Precision and F-score are ill-defined and being set to 0.0 in labels with no predicted samples. Use `zero_division` parameter to control this behavior.\n",
      "  _warn_prf(average, modifier, msg_start, len(result))\n",
      "/home/fab/.local/lib/python3.10/site-packages/sklearn/metrics/_classification.py:1334: UndefinedMetricWarning: Precision and F-score are ill-defined and being set to 0.0 in labels with no predicted samples. Use `zero_division` parameter to control this behavior.\n",
      "  _warn_prf(average, modifier, msg_start, len(result))\n",
      "/home/fab/.local/lib/python3.10/site-packages/sklearn/metrics/_classification.py:1334: UndefinedMetricWarning: Precision and F-score are ill-defined and being set to 0.0 in labels with no predicted samples. Use `zero_division` parameter to control this behavior.\n",
      "  _warn_prf(average, modifier, msg_start, len(result))\n"
     ]
    }
   ],
   "source": [
    "rfc_pred = rfc.predict(X_test)\n",
    "print(classification_report(y_test,rfc_pred))\n",
    "print(accuracy_score(y_test,rfc_pred)*100)"
   ],
   "metadata": {
    "collapsed": false
   }
  }
 ],
 "metadata": {
  "kernelspec": {
   "display_name": "Python 3 (ipykernel)",
   "language": "python",
   "name": "python3"
  },
  "language_info": {
   "codemirror_mode": {
    "name": "ipython",
    "version": 3
   },
   "file_extension": ".py",
   "mimetype": "text/x-python",
   "name": "python",
   "nbconvert_exporter": "python",
   "pygments_lexer": "ipython3",
   "version": "3.10.8"
  }
 },
 "nbformat": 4,
 "nbformat_minor": 5
}
