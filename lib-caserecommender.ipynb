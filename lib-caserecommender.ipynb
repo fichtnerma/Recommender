{
 "cells": [
  {
   "cell_type": "markdown",
   "source": [
    "# CaseRecommender Playground\n",
    "Using the MovieLens 100k Dataset"
   ],
   "metadata": {
    "collapsed": false
   }
  },
  {
   "cell_type": "code",
   "execution_count": 20,
   "outputs": [
    {
     "name": "stdout",
     "output_type": "stream",
     "text": [
      "[Case Recommender: Item Recommendation > ItemKNN Algorithm]\n",
      "\n",
      "train data:: 943 users and 1650 items (80000 interactions) | sparsity:: 94.86%\n",
      "test data:: 459 users and 1410 items (20000 interactions) | sparsity:: 96.91%\n",
      "\n",
      "training_time:: 2.460851 sec\n",
      "prediction_time:: 22.463947 sec\n",
      "\n",
      "\n",
      "Eval:: PREC@1: 0.56427 PREC@3: 0.557734 PREC@5: 0.515904 PREC@10: 0.457081 RECALL@1: 0.02187 RECALL@3: 0.067151 RECALL@5: 0.100582 RECALL@10: 0.164318 MAP@1: 0.56427 MAP@3: 0.671932 MAP@5: 0.665726 MAP@10: 0.627036 NDCG@1: 0.56427 NDCG@3: 0.758062 NDCG@5: 0.753554 NDCG@10: 0.733023 \n"
     ]
    }
   ],
   "source": [
    "# MovieLens Dataset\n",
    "train = 'data/ml-100k/u1.base'\n",
    "test = 'data/ml-100k/u1.test'\n",
    "\n",
    "from caserec.recommenders.item_recommendation.itemknn import ItemKNN\n",
    "ItemKNN(train, test, output_file=\"cr-predictions.csv\").compute()"
   ],
   "metadata": {
    "collapsed": false
   }
  },
  {
   "cell_type": "code",
   "execution_count": 21,
   "outputs": [
    {
     "data": {
      "text/plain": "        0    1          2\n0       1  174  12.265768\n1       1   56  12.070056\n2       1   12  11.606084\n3       1   98  11.118005\n4       1  183  10.904608\n...   ...  ...        ...\n9425  943  550  15.759821\n9426  943  183  15.717520\n9427  943   88  15.670217\n9428  943    4  15.624613\n9429  943   95  15.308058\n\n[9430 rows x 3 columns]",
      "text/html": "<div>\n<style scoped>\n    .dataframe tbody tr th:only-of-type {\n        vertical-align: middle;\n    }\n\n    .dataframe tbody tr th {\n        vertical-align: top;\n    }\n\n    .dataframe thead th {\n        text-align: right;\n    }\n</style>\n<table border=\"1\" class=\"dataframe\">\n  <thead>\n    <tr style=\"text-align: right;\">\n      <th></th>\n      <th>0</th>\n      <th>1</th>\n      <th>2</th>\n    </tr>\n  </thead>\n  <tbody>\n    <tr>\n      <th>0</th>\n      <td>1</td>\n      <td>174</td>\n      <td>12.265768</td>\n    </tr>\n    <tr>\n      <th>1</th>\n      <td>1</td>\n      <td>56</td>\n      <td>12.070056</td>\n    </tr>\n    <tr>\n      <th>2</th>\n      <td>1</td>\n      <td>12</td>\n      <td>11.606084</td>\n    </tr>\n    <tr>\n      <th>3</th>\n      <td>1</td>\n      <td>98</td>\n      <td>11.118005</td>\n    </tr>\n    <tr>\n      <th>4</th>\n      <td>1</td>\n      <td>183</td>\n      <td>10.904608</td>\n    </tr>\n    <tr>\n      <th>...</th>\n      <td>...</td>\n      <td>...</td>\n      <td>...</td>\n    </tr>\n    <tr>\n      <th>9425</th>\n      <td>943</td>\n      <td>550</td>\n      <td>15.759821</td>\n    </tr>\n    <tr>\n      <th>9426</th>\n      <td>943</td>\n      <td>183</td>\n      <td>15.717520</td>\n    </tr>\n    <tr>\n      <th>9427</th>\n      <td>943</td>\n      <td>88</td>\n      <td>15.670217</td>\n    </tr>\n    <tr>\n      <th>9428</th>\n      <td>943</td>\n      <td>4</td>\n      <td>15.624613</td>\n    </tr>\n    <tr>\n      <th>9429</th>\n      <td>943</td>\n      <td>95</td>\n      <td>15.308058</td>\n    </tr>\n  </tbody>\n</table>\n<p>9430 rows × 3 columns</p>\n</div>"
     },
     "execution_count": 21,
     "metadata": {},
     "output_type": "execute_result"
    }
   ],
   "source": [
    "import pandas as pd\n",
    "ratings = pd.read_csv(\"cr-predictions.csv\", header=None, sep='\\t', lineterminator='\\n')\n",
    "ratings"
   ],
   "metadata": {
    "collapsed": false
   }
  }
 ],
 "metadata": {
  "kernelspec": {
   "display_name": "Python 3",
   "language": "python",
   "name": "python3"
  },
  "language_info": {
   "codemirror_mode": {
    "name": "ipython",
    "version": 2
   },
   "file_extension": ".py",
   "mimetype": "text/x-python",
   "name": "python",
   "nbconvert_exporter": "python",
   "pygments_lexer": "ipython2",
   "version": "2.7.6"
  }
 },
 "nbformat": 4,
 "nbformat_minor": 0
}
