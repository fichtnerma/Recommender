{
 "cells": [
  {
   "cell_type": "markdown",
   "source": [
    "# CaseRecommender Playground\n",
    "Using the MovieLens 100k Dataset"
   ],
   "metadata": {
    "collapsed": false
   }
  },
  {
   "cell_type": "code",
   "execution_count": null,
   "outputs": [
    {
     "name": "stdout",
     "output_type": "stream",
     "text": [
      "[Case Recommender: Item Recommendation > ItemKNN Algorithm]\n",
      "\n",
      "train data:: 943 users and 1650 items (80000 interactions) | sparsity:: 94.86%\n",
      "test data:: 459 users and 1410 items (20000 interactions) | sparsity:: 96.91%\n",
      "\n",
      "training_time:: 2.394058 sec\n"
     ]
    }
   ],
   "source": [
    "# MovieLens Dataset\n",
    "train = 'data/ml-100k/u1.base'\n",
    "test = 'data/ml-100k/u1.test'\n",
    "\n",
    "from caserec.recommenders.item_recommendation.itemknn import ItemKNN\n",
    "ItemKNN(train, test).compute()"
   ],
   "metadata": {
    "collapsed": false,
    "pycharm": {
     "is_executing": true
    }
   }
  }
 ],
 "metadata": {
  "kernelspec": {
   "display_name": "Python 3",
   "language": "python",
   "name": "python3"
  },
  "language_info": {
   "codemirror_mode": {
    "name": "ipython",
    "version": 2
   },
   "file_extension": ".py",
   "mimetype": "text/x-python",
   "name": "python",
   "nbconvert_exporter": "python",
   "pygments_lexer": "ipython2",
   "version": "2.7.6"
  }
 },
 "nbformat": 4,
 "nbformat_minor": 0
}
