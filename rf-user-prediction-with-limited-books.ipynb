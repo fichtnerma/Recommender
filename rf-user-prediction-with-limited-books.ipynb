{
 "cells": [
  {
   "cell_type": "markdown",
   "source": [
    "# BibRec: Training Random Forest Model"
   ],
   "metadata": {
    "collapsed": false
   }
  },
  {
   "cell_type": "markdown",
   "source": [
    "### Evaluation API: Predict top rated books for given User with imported model\n",
    "Input for the model is a list of top rated books along with the user information"
   ],
   "metadata": {
    "collapsed": false
   }
  },
  {
   "cell_type": "code",
   "execution_count": 1,
   "outputs": [],
   "source": [
    "# Load the model from the file\n",
    "model_file = \"rf-model.pkl\""
   ],
   "metadata": {
    "collapsed": false
   }
  },
  {
   "cell_type": "code",
   "execution_count": 2,
   "outputs": [
    {
     "name": "stderr",
     "output_type": "stream",
     "text": [
      "/Dev/repos/FH-SBG/MMT1/RES/recommender-systems/bibrec/server/Utils.py:16: DtypeWarning: Columns (3) have mixed types. Specify dtype option on import or set low_memory=False.\n",
      "  df = pd.read_csv(path, sep=\";\", encoding=\"latin-1\")\n",
      "/Dev/repos/FH-SBG/MMT1/RES/recommender-systems/bibrec/server/Utils.py:98: FutureWarning: In a future version of pandas all arguments of StringMethods.split except for the argument 'pat' will be keyword-only.\n",
      "  location_seperated = users.location.str.split(',', 2, expand=True)\n"
     ]
    }
   ],
   "source": [
    "from bibrec.server.Utils import *\n",
    "\n",
    "books, users, ratings = get_normalized_data(books_path='data/normalized_books.csv',\n",
    "                                            users_path='data/normalized_users.csv',\n",
    "                                            ratings_path='data/normalized_ratings.csv')\n",
    "books = books.drop([\"isbn\"], axis=1)\n",
    "ratings = ratings.drop([\"isbn\"], axis=1)"
   ],
   "metadata": {
    "collapsed": false
   }
  },
  {
   "cell_type": "code",
   "execution_count": 3,
   "outputs": [
    {
     "data": {
      "text/plain": "           isbn13\n0   9780316666343\n1   9780971880108\n2   9780385504201\n3   9780312195519\n4   9780060928339\n..            ...\n95   978074323719\n96  9780439064866\n97   978044660899\n98   978038550582\n99  9780553572995\n\n[100 rows x 1 columns]",
      "text/html": "<div>\n<style scoped>\n    .dataframe tbody tr th:only-of-type {\n        vertical-align: middle;\n    }\n\n    .dataframe tbody tr th {\n        vertical-align: top;\n    }\n\n    .dataframe thead th {\n        text-align: right;\n    }\n</style>\n<table border=\"1\" class=\"dataframe\">\n  <thead>\n    <tr style=\"text-align: right;\">\n      <th></th>\n      <th>isbn13</th>\n    </tr>\n  </thead>\n  <tbody>\n    <tr>\n      <th>0</th>\n      <td>9780316666343</td>\n    </tr>\n    <tr>\n      <th>1</th>\n      <td>9780971880108</td>\n    </tr>\n    <tr>\n      <th>2</th>\n      <td>9780385504201</td>\n    </tr>\n    <tr>\n      <th>3</th>\n      <td>9780312195519</td>\n    </tr>\n    <tr>\n      <th>4</th>\n      <td>9780060928339</td>\n    </tr>\n    <tr>\n      <th>...</th>\n      <td>...</td>\n    </tr>\n    <tr>\n      <th>95</th>\n      <td>978074323719</td>\n    </tr>\n    <tr>\n      <th>96</th>\n      <td>9780439064866</td>\n    </tr>\n    <tr>\n      <th>97</th>\n      <td>978044660899</td>\n    </tr>\n    <tr>\n      <th>98</th>\n      <td>978038550582</td>\n    </tr>\n    <tr>\n      <th>99</th>\n      <td>9780553572995</td>\n    </tr>\n  </tbody>\n</table>\n<p>100 rows × 1 columns</p>\n</div>"
     },
     "execution_count": 3,
     "metadata": {},
     "output_type": "execute_result"
    }
   ],
   "source": [
    "# limit data to top-rated books only\n",
    "top_ratings = ratings.groupby('isbn13').user_id.count().sort_values(ascending=False)\n",
    "top_ratings = top_ratings[:100]\n",
    "top_ratings = top_ratings.reset_index()\n",
    "# user_id => nr of ratings\n",
    "top_ratings = top_ratings.drop('user_id', axis=1)\n",
    "top_ratings"
   ],
   "metadata": {
    "collapsed": false
   }
  },
  {
   "cell_type": "code",
   "execution_count": 4,
   "outputs": [
    {
     "data": {
      "text/plain": "                isbn13  normalized_rating  user_id  book_rating\n0        9780316666343           1.000000   277439            7\n1        9780316666343           1.000000   277752            7\n2        9780316666343           1.000000   278633            9\n3        9780316666343           1.000000      638           10\n4        9780316666343           1.000000      709            3\n...                ...                ...      ...          ...\n4391748  9780553572995          -1.891304   274004            9\n4391749  9780553572995          -1.891304   274692            7\n4391750  9780553572995          -1.891304   275519            8\n4391751  9780553572995          -1.891304   276203           10\n4391752  9780553572995          -1.891304   276231            4\n\n[4391753 rows x 4 columns]",
      "text/html": "<div>\n<style scoped>\n    .dataframe tbody tr th:only-of-type {\n        vertical-align: middle;\n    }\n\n    .dataframe tbody tr th {\n        vertical-align: top;\n    }\n\n    .dataframe thead th {\n        text-align: right;\n    }\n</style>\n<table border=\"1\" class=\"dataframe\">\n  <thead>\n    <tr style=\"text-align: right;\">\n      <th></th>\n      <th>isbn13</th>\n      <th>normalized_rating</th>\n      <th>user_id</th>\n      <th>book_rating</th>\n    </tr>\n  </thead>\n  <tbody>\n    <tr>\n      <th>0</th>\n      <td>9780316666343</td>\n      <td>1.000000</td>\n      <td>277439</td>\n      <td>7</td>\n    </tr>\n    <tr>\n      <th>1</th>\n      <td>9780316666343</td>\n      <td>1.000000</td>\n      <td>277752</td>\n      <td>7</td>\n    </tr>\n    <tr>\n      <th>2</th>\n      <td>9780316666343</td>\n      <td>1.000000</td>\n      <td>278633</td>\n      <td>9</td>\n    </tr>\n    <tr>\n      <th>3</th>\n      <td>9780316666343</td>\n      <td>1.000000</td>\n      <td>638</td>\n      <td>10</td>\n    </tr>\n    <tr>\n      <th>4</th>\n      <td>9780316666343</td>\n      <td>1.000000</td>\n      <td>709</td>\n      <td>3</td>\n    </tr>\n    <tr>\n      <th>...</th>\n      <td>...</td>\n      <td>...</td>\n      <td>...</td>\n      <td>...</td>\n    </tr>\n    <tr>\n      <th>4391748</th>\n      <td>9780553572995</td>\n      <td>-1.891304</td>\n      <td>274004</td>\n      <td>9</td>\n    </tr>\n    <tr>\n      <th>4391749</th>\n      <td>9780553572995</td>\n      <td>-1.891304</td>\n      <td>274692</td>\n      <td>7</td>\n    </tr>\n    <tr>\n      <th>4391750</th>\n      <td>9780553572995</td>\n      <td>-1.891304</td>\n      <td>275519</td>\n      <td>8</td>\n    </tr>\n    <tr>\n      <th>4391751</th>\n      <td>9780553572995</td>\n      <td>-1.891304</td>\n      <td>276203</td>\n      <td>10</td>\n    </tr>\n    <tr>\n      <th>4391752</th>\n      <td>9780553572995</td>\n      <td>-1.891304</td>\n      <td>276231</td>\n      <td>4</td>\n    </tr>\n  </tbody>\n</table>\n<p>4391753 rows × 4 columns</p>\n</div>"
     },
     "execution_count": 4,
     "metadata": {},
     "output_type": "execute_result"
    }
   ],
   "source": [
    "explicit_ratings = ratings[ratings.book_rating != 0]\n",
    "top_ratings = top_ratings.merge(explicit_ratings, on='isbn13', how='inner')\n",
    "top_ratings"
   ],
   "metadata": {
    "collapsed": false
   }
  },
  {
   "cell_type": "code",
   "execution_count": 5,
   "outputs": [
    {
     "data": {
      "text/plain": "                                             book_title       book_author  \\\n18                                        The Testament      John Grisham   \n26                                          Wild Animus      Rich Shapero   \n28                                             Timeline  MICHAEL CRICHTON   \n37                                To Kill a Mockingbird        Harper Lee   \n52                                    The Street Lawyer      JOHN GRISHAM   \n...                                                 ...               ...   \n5545                                        The Chamber      John Grisham   \n5607                                 A Walk to Remember   Nicholas Sparks   \n5662                                        The Summons      John Grisham   \n6329  Harry Potter and the Prisoner of Azkaban (Book 3)     J. K. Rowling   \n7498                                The Horse Whisperer    Nicholas Evans   \n\n      year_of_publication         publisher  \\\n18                   1999             other   \n26                   2004             other   \n28                   2000  ballantine_books   \n37                   1988             other   \n52                   1999             other   \n...                   ...               ...   \n5545                 1995             other   \n5607                 2000      warner_books   \n5662                 2002             other   \n6329                 2001        scholastic   \n7498                 1996             other   \n\n                                            image_url_s  \\\n18    http://images.amazon.com/images/P/0440234743.0...   \n26    http://images.amazon.com/images/P/0971880107.0...   \n28    http://images.amazon.com/images/P/0345417623.0...   \n37    http://images.amazon.com/images/P/0446310786.0...   \n52    http://images.amazon.com/images/P/0440225701.0...   \n...                                                 ...   \n5545  http://images.amazon.com/images/P/0440220602.0...   \n5607  http://images.amazon.com/images/P/0446608955.0...   \n5662  http://images.amazon.com/images/P/0440241073.0...   \n6329  http://images.amazon.com/images/P/0439136369.0...   \n7498  http://images.amazon.com/images/P/0440222656.0...   \n\n                                            image_url_m  \\\n18    http://images.amazon.com/images/P/0440234743.0...   \n26    http://images.amazon.com/images/P/0971880107.0...   \n28    http://images.amazon.com/images/P/0345417623.0...   \n37    http://images.amazon.com/images/P/0446310786.0...   \n52    http://images.amazon.com/images/P/0440225701.0...   \n...                                                 ...   \n5545  http://images.amazon.com/images/P/0440220602.0...   \n5607  http://images.amazon.com/images/P/0446608955.0...   \n5662  http://images.amazon.com/images/P/0440241073.0...   \n6329  http://images.amazon.com/images/P/0439136369.0...   \n7498  http://images.amazon.com/images/P/0440222656.0...   \n\n                                            image_url_l         isbn13  \\\n18    http://images.amazon.com/images/P/0440234743.0...  9780440234746   \n26    http://images.amazon.com/images/P/0971880107.0...  9780971880108   \n28    http://images.amazon.com/images/P/0345417623.0...  9780345417626   \n37    http://images.amazon.com/images/P/0446310786.0...  9780446310789   \n52    http://images.amazon.com/images/P/0440225701.0...  9780440225706   \n...                                                 ...            ...   \n5545  http://images.amazon.com/images/P/0440220602.0...  9780440220602   \n5607  http://images.amazon.com/images/P/0446608955.0...   978044660899   \n5662  http://images.amazon.com/images/P/0440241073.0...  9780440241072   \n6329  http://images.amazon.com/images/P/0439136369.0...  9780439136365   \n7498  http://images.amazon.com/images/P/0440222656.0...  9780440222651   \n\n      rating_mean  rating_count  normalized_year_of_publication  \n18       7.694118         170.0                               6  \n26       4.390706         581.0                               1  \n28       7.851282         195.0                               5  \n37       8.943925         214.0                              17  \n52       7.624060         133.0                               6  \n...           ...           ...                             ...  \n5545     7.431507         146.0                              10  \n5607     7.854839         124.0                               5  \n5662     7.285000         200.0                               3  \n6329     9.082707         133.0                               4  \n7498     7.450000         140.0                               9  \n\n[100 rows x 11 columns]",
      "text/html": "<div>\n<style scoped>\n    .dataframe tbody tr th:only-of-type {\n        vertical-align: middle;\n    }\n\n    .dataframe tbody tr th {\n        vertical-align: top;\n    }\n\n    .dataframe thead th {\n        text-align: right;\n    }\n</style>\n<table border=\"1\" class=\"dataframe\">\n  <thead>\n    <tr style=\"text-align: right;\">\n      <th></th>\n      <th>book_title</th>\n      <th>book_author</th>\n      <th>year_of_publication</th>\n      <th>publisher</th>\n      <th>image_url_s</th>\n      <th>image_url_m</th>\n      <th>image_url_l</th>\n      <th>isbn13</th>\n      <th>rating_mean</th>\n      <th>rating_count</th>\n      <th>normalized_year_of_publication</th>\n    </tr>\n  </thead>\n  <tbody>\n    <tr>\n      <th>18</th>\n      <td>The Testament</td>\n      <td>John Grisham</td>\n      <td>1999</td>\n      <td>other</td>\n      <td>http://images.amazon.com/images/P/0440234743.0...</td>\n      <td>http://images.amazon.com/images/P/0440234743.0...</td>\n      <td>http://images.amazon.com/images/P/0440234743.0...</td>\n      <td>9780440234746</td>\n      <td>7.694118</td>\n      <td>170.0</td>\n      <td>6</td>\n    </tr>\n    <tr>\n      <th>26</th>\n      <td>Wild Animus</td>\n      <td>Rich Shapero</td>\n      <td>2004</td>\n      <td>other</td>\n      <td>http://images.amazon.com/images/P/0971880107.0...</td>\n      <td>http://images.amazon.com/images/P/0971880107.0...</td>\n      <td>http://images.amazon.com/images/P/0971880107.0...</td>\n      <td>9780971880108</td>\n      <td>4.390706</td>\n      <td>581.0</td>\n      <td>1</td>\n    </tr>\n    <tr>\n      <th>28</th>\n      <td>Timeline</td>\n      <td>MICHAEL CRICHTON</td>\n      <td>2000</td>\n      <td>ballantine_books</td>\n      <td>http://images.amazon.com/images/P/0345417623.0...</td>\n      <td>http://images.amazon.com/images/P/0345417623.0...</td>\n      <td>http://images.amazon.com/images/P/0345417623.0...</td>\n      <td>9780345417626</td>\n      <td>7.851282</td>\n      <td>195.0</td>\n      <td>5</td>\n    </tr>\n    <tr>\n      <th>37</th>\n      <td>To Kill a Mockingbird</td>\n      <td>Harper Lee</td>\n      <td>1988</td>\n      <td>other</td>\n      <td>http://images.amazon.com/images/P/0446310786.0...</td>\n      <td>http://images.amazon.com/images/P/0446310786.0...</td>\n      <td>http://images.amazon.com/images/P/0446310786.0...</td>\n      <td>9780446310789</td>\n      <td>8.943925</td>\n      <td>214.0</td>\n      <td>17</td>\n    </tr>\n    <tr>\n      <th>52</th>\n      <td>The Street Lawyer</td>\n      <td>JOHN GRISHAM</td>\n      <td>1999</td>\n      <td>other</td>\n      <td>http://images.amazon.com/images/P/0440225701.0...</td>\n      <td>http://images.amazon.com/images/P/0440225701.0...</td>\n      <td>http://images.amazon.com/images/P/0440225701.0...</td>\n      <td>9780440225706</td>\n      <td>7.624060</td>\n      <td>133.0</td>\n      <td>6</td>\n    </tr>\n    <tr>\n      <th>...</th>\n      <td>...</td>\n      <td>...</td>\n      <td>...</td>\n      <td>...</td>\n      <td>...</td>\n      <td>...</td>\n      <td>...</td>\n      <td>...</td>\n      <td>...</td>\n      <td>...</td>\n      <td>...</td>\n    </tr>\n    <tr>\n      <th>5545</th>\n      <td>The Chamber</td>\n      <td>John Grisham</td>\n      <td>1995</td>\n      <td>other</td>\n      <td>http://images.amazon.com/images/P/0440220602.0...</td>\n      <td>http://images.amazon.com/images/P/0440220602.0...</td>\n      <td>http://images.amazon.com/images/P/0440220602.0...</td>\n      <td>9780440220602</td>\n      <td>7.431507</td>\n      <td>146.0</td>\n      <td>10</td>\n    </tr>\n    <tr>\n      <th>5607</th>\n      <td>A Walk to Remember</td>\n      <td>Nicholas Sparks</td>\n      <td>2000</td>\n      <td>warner_books</td>\n      <td>http://images.amazon.com/images/P/0446608955.0...</td>\n      <td>http://images.amazon.com/images/P/0446608955.0...</td>\n      <td>http://images.amazon.com/images/P/0446608955.0...</td>\n      <td>978044660899</td>\n      <td>7.854839</td>\n      <td>124.0</td>\n      <td>5</td>\n    </tr>\n    <tr>\n      <th>5662</th>\n      <td>The Summons</td>\n      <td>John Grisham</td>\n      <td>2002</td>\n      <td>other</td>\n      <td>http://images.amazon.com/images/P/0440241073.0...</td>\n      <td>http://images.amazon.com/images/P/0440241073.0...</td>\n      <td>http://images.amazon.com/images/P/0440241073.0...</td>\n      <td>9780440241072</td>\n      <td>7.285000</td>\n      <td>200.0</td>\n      <td>3</td>\n    </tr>\n    <tr>\n      <th>6329</th>\n      <td>Harry Potter and the Prisoner of Azkaban (Book 3)</td>\n      <td>J. K. Rowling</td>\n      <td>2001</td>\n      <td>scholastic</td>\n      <td>http://images.amazon.com/images/P/0439136369.0...</td>\n      <td>http://images.amazon.com/images/P/0439136369.0...</td>\n      <td>http://images.amazon.com/images/P/0439136369.0...</td>\n      <td>9780439136365</td>\n      <td>9.082707</td>\n      <td>133.0</td>\n      <td>4</td>\n    </tr>\n    <tr>\n      <th>7498</th>\n      <td>The Horse Whisperer</td>\n      <td>Nicholas Evans</td>\n      <td>1996</td>\n      <td>other</td>\n      <td>http://images.amazon.com/images/P/0440222656.0...</td>\n      <td>http://images.amazon.com/images/P/0440222656.0...</td>\n      <td>http://images.amazon.com/images/P/0440222656.0...</td>\n      <td>9780440222651</td>\n      <td>7.450000</td>\n      <td>140.0</td>\n      <td>9</td>\n    </tr>\n  </tbody>\n</table>\n<p>100 rows × 11 columns</p>\n</div>"
     },
     "execution_count": 5,
     "metadata": {},
     "output_type": "execute_result"
    }
   ],
   "source": [
    "filtered_books = books[books.isbn13.isin(top_ratings.isbn13)]\n",
    "filtered_books"
   ],
   "metadata": {
    "collapsed": false
   }
  },
  {
   "cell_type": "code",
   "execution_count": 6,
   "outputs": [
    {
     "name": "stdout",
     "output_type": "stream",
     "text": [
      "hot encoding books\n"
     ]
    },
    {
     "data": {
      "text/plain": "             isbn13  normalized_year_of_publication  publisher_harlequin  \\\n18    9780440234746                               6                    0   \n26    9780971880108                               1                    0   \n28    9780345417626                               5                    0   \n37    9780446310789                              17                    0   \n52    9780440225706                               6                    0   \n...             ...                             ...                  ...   \n5545  9780440220602                              10                    0   \n5607   978044660899                               5                    0   \n5662  9780440241072                               3                    0   \n6329  9780439136365                               4                    0   \n7498  9780440222651                               9                    0   \n\n      publisher_silhouette  publisher_pocket  publisher_ballantine_books  \\\n18                       0                 0                           0   \n26                       0                 0                           0   \n28                       0                 0                           1   \n37                       0                 0                           0   \n52                       0                 0                           0   \n...                    ...               ...                         ...   \n5545                     0                 0                           0   \n5607                     0                 0                           0   \n5662                     0                 0                           0   \n6329                     0                 0                           0   \n7498                     0                 0                           0   \n\n      publisher_bantam_books  publisher_scholastic  \\\n18                         0                     0   \n26                         0                     0   \n28                         0                     0   \n37                         0                     0   \n52                         0                     0   \n...                      ...                   ...   \n5545                       0                     0   \n5607                       0                     0   \n5662                       0                     0   \n6329                       0                     1   \n7498                       0                     0   \n\n      publisher_simon_&amp;_schuster  publisher_penguin_books  ...  \\\n18                                 0                        0  ...   \n26                                 0                        0  ...   \n28                                 0                        0  ...   \n37                                 0                        0  ...   \n52                                 0                        0  ...   \n...                              ...                      ...  ...   \n5545                               0                        0  ...   \n5607                               0                        0  ...   \n5662                               0                        0  ...   \n6329                               0                        0  ...   \n7498                               0                        0  ...   \n\n      publisher_harpercollins  publisher_fawcett_books  publisher_signet_book  \\\n18                          0                        0                      0   \n26                          0                        0                      0   \n28                          0                        0                      0   \n37                          0                        0                      0   \n52                          0                        0                      0   \n...                       ...                      ...                    ...   \n5545                        0                        0                      0   \n5607                        0                        0                      0   \n5662                        0                        0                      0   \n6329                        0                        0                      0   \n7498                        0                        0                      0   \n\n      publisher_random_house_inc  publisher_st_martins_pr  \\\n18                             0                        0   \n26                             0                        0   \n28                             0                        0   \n37                             0                        0   \n52                             0                        0   \n...                          ...                      ...   \n5545                           0                        0   \n5607                           0                        0   \n5662                           0                        0   \n6329                           0                        0   \n7498                           0                        0   \n\n      publisher_st._martin's_press  publisher_tor_books  \\\n18                               0                    0   \n26                               0                    0   \n28                               0                    0   \n37                               0                    0   \n52                               0                    0   \n...                            ...                  ...   \n5545                             0                    0   \n5607                             0                    0   \n5662                             0                    0   \n6329                             0                    0   \n7498                             0                    0   \n\n      publisher_harpercollins_publishers  publisher_zebra_books  \\\n18                                     0                      0   \n26                                     0                      0   \n28                                     0                      0   \n37                                     0                      0   \n52                                     0                      0   \n...                                  ...                    ...   \n5545                                   0                      0   \n5607                                   0                      0   \n5662                                   0                      0   \n6329                                   0                      0   \n7498                                   0                      0   \n\n      publisher_other  \n18                  1  \n26                  1  \n28                  0  \n37                  1  \n52                  1  \n...               ...  \n5545                1  \n5607                0  \n5662                1  \n6329                0  \n7498                1  \n\n[100 rows x 23 columns]",
      "text/html": "<div>\n<style scoped>\n    .dataframe tbody tr th:only-of-type {\n        vertical-align: middle;\n    }\n\n    .dataframe tbody tr th {\n        vertical-align: top;\n    }\n\n    .dataframe thead th {\n        text-align: right;\n    }\n</style>\n<table border=\"1\" class=\"dataframe\">\n  <thead>\n    <tr style=\"text-align: right;\">\n      <th></th>\n      <th>isbn13</th>\n      <th>normalized_year_of_publication</th>\n      <th>publisher_harlequin</th>\n      <th>publisher_silhouette</th>\n      <th>publisher_pocket</th>\n      <th>publisher_ballantine_books</th>\n      <th>publisher_bantam_books</th>\n      <th>publisher_scholastic</th>\n      <th>publisher_simon_&amp;amp;_schuster</th>\n      <th>publisher_penguin_books</th>\n      <th>...</th>\n      <th>publisher_harpercollins</th>\n      <th>publisher_fawcett_books</th>\n      <th>publisher_signet_book</th>\n      <th>publisher_random_house_inc</th>\n      <th>publisher_st_martins_pr</th>\n      <th>publisher_st._martin's_press</th>\n      <th>publisher_tor_books</th>\n      <th>publisher_harpercollins_publishers</th>\n      <th>publisher_zebra_books</th>\n      <th>publisher_other</th>\n    </tr>\n  </thead>\n  <tbody>\n    <tr>\n      <th>18</th>\n      <td>9780440234746</td>\n      <td>6</td>\n      <td>0</td>\n      <td>0</td>\n      <td>0</td>\n      <td>0</td>\n      <td>0</td>\n      <td>0</td>\n      <td>0</td>\n      <td>0</td>\n      <td>...</td>\n      <td>0</td>\n      <td>0</td>\n      <td>0</td>\n      <td>0</td>\n      <td>0</td>\n      <td>0</td>\n      <td>0</td>\n      <td>0</td>\n      <td>0</td>\n      <td>1</td>\n    </tr>\n    <tr>\n      <th>26</th>\n      <td>9780971880108</td>\n      <td>1</td>\n      <td>0</td>\n      <td>0</td>\n      <td>0</td>\n      <td>0</td>\n      <td>0</td>\n      <td>0</td>\n      <td>0</td>\n      <td>0</td>\n      <td>...</td>\n      <td>0</td>\n      <td>0</td>\n      <td>0</td>\n      <td>0</td>\n      <td>0</td>\n      <td>0</td>\n      <td>0</td>\n      <td>0</td>\n      <td>0</td>\n      <td>1</td>\n    </tr>\n    <tr>\n      <th>28</th>\n      <td>9780345417626</td>\n      <td>5</td>\n      <td>0</td>\n      <td>0</td>\n      <td>0</td>\n      <td>1</td>\n      <td>0</td>\n      <td>0</td>\n      <td>0</td>\n      <td>0</td>\n      <td>...</td>\n      <td>0</td>\n      <td>0</td>\n      <td>0</td>\n      <td>0</td>\n      <td>0</td>\n      <td>0</td>\n      <td>0</td>\n      <td>0</td>\n      <td>0</td>\n      <td>0</td>\n    </tr>\n    <tr>\n      <th>37</th>\n      <td>9780446310789</td>\n      <td>17</td>\n      <td>0</td>\n      <td>0</td>\n      <td>0</td>\n      <td>0</td>\n      <td>0</td>\n      <td>0</td>\n      <td>0</td>\n      <td>0</td>\n      <td>...</td>\n      <td>0</td>\n      <td>0</td>\n      <td>0</td>\n      <td>0</td>\n      <td>0</td>\n      <td>0</td>\n      <td>0</td>\n      <td>0</td>\n      <td>0</td>\n      <td>1</td>\n    </tr>\n    <tr>\n      <th>52</th>\n      <td>9780440225706</td>\n      <td>6</td>\n      <td>0</td>\n      <td>0</td>\n      <td>0</td>\n      <td>0</td>\n      <td>0</td>\n      <td>0</td>\n      <td>0</td>\n      <td>0</td>\n      <td>...</td>\n      <td>0</td>\n      <td>0</td>\n      <td>0</td>\n      <td>0</td>\n      <td>0</td>\n      <td>0</td>\n      <td>0</td>\n      <td>0</td>\n      <td>0</td>\n      <td>1</td>\n    </tr>\n    <tr>\n      <th>...</th>\n      <td>...</td>\n      <td>...</td>\n      <td>...</td>\n      <td>...</td>\n      <td>...</td>\n      <td>...</td>\n      <td>...</td>\n      <td>...</td>\n      <td>...</td>\n      <td>...</td>\n      <td>...</td>\n      <td>...</td>\n      <td>...</td>\n      <td>...</td>\n      <td>...</td>\n      <td>...</td>\n      <td>...</td>\n      <td>...</td>\n      <td>...</td>\n      <td>...</td>\n      <td>...</td>\n    </tr>\n    <tr>\n      <th>5545</th>\n      <td>9780440220602</td>\n      <td>10</td>\n      <td>0</td>\n      <td>0</td>\n      <td>0</td>\n      <td>0</td>\n      <td>0</td>\n      <td>0</td>\n      <td>0</td>\n      <td>0</td>\n      <td>...</td>\n      <td>0</td>\n      <td>0</td>\n      <td>0</td>\n      <td>0</td>\n      <td>0</td>\n      <td>0</td>\n      <td>0</td>\n      <td>0</td>\n      <td>0</td>\n      <td>1</td>\n    </tr>\n    <tr>\n      <th>5607</th>\n      <td>978044660899</td>\n      <td>5</td>\n      <td>0</td>\n      <td>0</td>\n      <td>0</td>\n      <td>0</td>\n      <td>0</td>\n      <td>0</td>\n      <td>0</td>\n      <td>0</td>\n      <td>...</td>\n      <td>0</td>\n      <td>0</td>\n      <td>0</td>\n      <td>0</td>\n      <td>0</td>\n      <td>0</td>\n      <td>0</td>\n      <td>0</td>\n      <td>0</td>\n      <td>0</td>\n    </tr>\n    <tr>\n      <th>5662</th>\n      <td>9780440241072</td>\n      <td>3</td>\n      <td>0</td>\n      <td>0</td>\n      <td>0</td>\n      <td>0</td>\n      <td>0</td>\n      <td>0</td>\n      <td>0</td>\n      <td>0</td>\n      <td>...</td>\n      <td>0</td>\n      <td>0</td>\n      <td>0</td>\n      <td>0</td>\n      <td>0</td>\n      <td>0</td>\n      <td>0</td>\n      <td>0</td>\n      <td>0</td>\n      <td>1</td>\n    </tr>\n    <tr>\n      <th>6329</th>\n      <td>9780439136365</td>\n      <td>4</td>\n      <td>0</td>\n      <td>0</td>\n      <td>0</td>\n      <td>0</td>\n      <td>0</td>\n      <td>1</td>\n      <td>0</td>\n      <td>0</td>\n      <td>...</td>\n      <td>0</td>\n      <td>0</td>\n      <td>0</td>\n      <td>0</td>\n      <td>0</td>\n      <td>0</td>\n      <td>0</td>\n      <td>0</td>\n      <td>0</td>\n      <td>0</td>\n    </tr>\n    <tr>\n      <th>7498</th>\n      <td>9780440222651</td>\n      <td>9</td>\n      <td>0</td>\n      <td>0</td>\n      <td>0</td>\n      <td>0</td>\n      <td>0</td>\n      <td>0</td>\n      <td>0</td>\n      <td>0</td>\n      <td>...</td>\n      <td>0</td>\n      <td>0</td>\n      <td>0</td>\n      <td>0</td>\n      <td>0</td>\n      <td>0</td>\n      <td>0</td>\n      <td>0</td>\n      <td>0</td>\n      <td>1</td>\n    </tr>\n  </tbody>\n</table>\n<p>100 rows × 23 columns</p>\n</div>"
     },
     "execution_count": 6,
     "metadata": {},
     "output_type": "execute_result"
    }
   ],
   "source": [
    "encoded_books = hot_encode_books(filtered_books)\n",
    "df_books = encoded_books.filter(regex=\"isbn13|normalized_year_of_publication|publisher_\", axis=1)\n",
    "df_books"
   ],
   "metadata": {
    "collapsed": false
   }
  },
  {
   "cell_type": "code",
   "execution_count": 7,
   "outputs": [
    {
     "data": {
      "text/plain": "   age  country_usa  country_canada  country_united_kingdom  country_germany  \\\n0   20            0               0                       0                0   \n\n   country_spain  country_australia  country_italy  country_france  \\\n0              0                  0              0               0   \n\n   country_portugal  ...  state_ohio  state_michigan  state_oregon  \\\n0                 0  ...           0               0             0   \n\n   state_virginia  state_massachusetts  state_missouri  \\\n0               0                    0               0   \n\n   state_nordrhein-westfalen  state_north_carolina  state_  state_other  \n0                          0                     0       0            1  \n\n[1 rows x 43 columns]",
      "text/html": "<div>\n<style scoped>\n    .dataframe tbody tr th:only-of-type {\n        vertical-align: middle;\n    }\n\n    .dataframe tbody tr th {\n        vertical-align: top;\n    }\n\n    .dataframe thead th {\n        text-align: right;\n    }\n</style>\n<table border=\"1\" class=\"dataframe\">\n  <thead>\n    <tr style=\"text-align: right;\">\n      <th></th>\n      <th>age</th>\n      <th>country_usa</th>\n      <th>country_canada</th>\n      <th>country_united_kingdom</th>\n      <th>country_germany</th>\n      <th>country_spain</th>\n      <th>country_australia</th>\n      <th>country_italy</th>\n      <th>country_france</th>\n      <th>country_portugal</th>\n      <th>...</th>\n      <th>state_ohio</th>\n      <th>state_michigan</th>\n      <th>state_oregon</th>\n      <th>state_virginia</th>\n      <th>state_massachusetts</th>\n      <th>state_missouri</th>\n      <th>state_nordrhein-westfalen</th>\n      <th>state_north_carolina</th>\n      <th>state_</th>\n      <th>state_other</th>\n    </tr>\n  </thead>\n  <tbody>\n    <tr>\n      <th>0</th>\n      <td>20</td>\n      <td>0</td>\n      <td>0</td>\n      <td>0</td>\n      <td>0</td>\n      <td>0</td>\n      <td>0</td>\n      <td>0</td>\n      <td>0</td>\n      <td>0</td>\n      <td>...</td>\n      <td>0</td>\n      <td>0</td>\n      <td>0</td>\n      <td>0</td>\n      <td>0</td>\n      <td>0</td>\n      <td>0</td>\n      <td>0</td>\n      <td>0</td>\n      <td>1</td>\n    </tr>\n  </tbody>\n</table>\n<p>1 rows × 43 columns</p>\n</div>"
     },
     "execution_count": 7,
     "metadata": {},
     "output_type": "execute_result"
    }
   ],
   "source": [
    "df_user = pd.DataFrame([{\n",
    "    'age': 20,\n",
    "    'city': None,\n",
    "    'state': None,\n",
    "    'country': \"something\"\n",
    "}])\n",
    "df_user = normalize_country(df_user, users.country)\n",
    "df_user = normalize_state(df_user)\n",
    "df_user = hot_encode_users(df_user)\n",
    "df_user = df_user.filter(regex=\"age|country_|state_\", axis=1)\n",
    "df_user"
   ],
   "metadata": {
    "collapsed": false
   }
  },
  {
   "cell_type": "code",
   "execution_count": 8,
   "outputs": [
    {
     "data": {
      "text/plain": "             isbn13  normalized_year_of_publication  publisher_harlequin  \\\n18    9780440234746                               6                    0   \n26    9780971880108                               1                    0   \n28    9780345417626                               5                    0   \n37    9780446310789                              17                    0   \n52    9780440225706                               6                    0   \n...             ...                             ...                  ...   \n5545  9780440220602                              10                    0   \n5607   978044660899                               5                    0   \n5662  9780440241072                               3                    0   \n6329  9780439136365                               4                    0   \n7498  9780440222651                               9                    0   \n\n      publisher_silhouette  publisher_pocket  publisher_ballantine_books  \\\n18                       0                 0                           0   \n26                       0                 0                           0   \n28                       0                 0                           1   \n37                       0                 0                           0   \n52                       0                 0                           0   \n...                    ...               ...                         ...   \n5545                     0                 0                           0   \n5607                     0                 0                           0   \n5662                     0                 0                           0   \n6329                     0                 0                           0   \n7498                     0                 0                           0   \n\n      publisher_bantam_books  publisher_scholastic  \\\n18                         0                     0   \n26                         0                     0   \n28                         0                     0   \n37                         0                     0   \n52                         0                     0   \n...                      ...                   ...   \n5545                       0                     0   \n5607                       0                     0   \n5662                       0                     0   \n6329                       0                     1   \n7498                       0                     0   \n\n      publisher_simon_&amp;_schuster  publisher_penguin_books  ...  \\\n18                                 0                        0  ...   \n26                                 0                        0  ...   \n28                                 0                        0  ...   \n37                                 0                        0  ...   \n52                                 0                        0  ...   \n...                              ...                      ...  ...   \n5545                               0                        0  ...   \n5607                               0                        0  ...   \n5662                               0                        0  ...   \n6329                               0                        0  ...   \n7498                               0                        0  ...   \n\n      state_ohio  state_michigan  state_oregon  state_virginia  \\\n18             0               0             0               0   \n26             0               0             0               0   \n28             0               0             0               0   \n37             0               0             0               0   \n52             0               0             0               0   \n...          ...             ...           ...             ...   \n5545           0               0             0               0   \n5607           0               0             0               0   \n5662           0               0             0               0   \n6329           0               0             0               0   \n7498           0               0             0               0   \n\n      state_massachusetts  state_missouri  state_nordrhein-westfalen  \\\n18                      0               0                          0   \n26                      0               0                          0   \n28                      0               0                          0   \n37                      0               0                          0   \n52                      0               0                          0   \n...                   ...             ...                        ...   \n5545                    0               0                          0   \n5607                    0               0                          0   \n5662                    0               0                          0   \n6329                    0               0                          0   \n7498                    0               0                          0   \n\n      state_north_carolina  state_  state_other  \n18                       0       0            1  \n26                       0       0            1  \n28                       0       0            1  \n37                       0       0            1  \n52                       0       0            1  \n...                    ...     ...          ...  \n5545                     0       0            1  \n5607                     0       0            1  \n5662                     0       0            1  \n6329                     0       0            1  \n7498                     0       0            1  \n\n[100 rows x 66 columns]",
      "text/html": "<div>\n<style scoped>\n    .dataframe tbody tr th:only-of-type {\n        vertical-align: middle;\n    }\n\n    .dataframe tbody tr th {\n        vertical-align: top;\n    }\n\n    .dataframe thead th {\n        text-align: right;\n    }\n</style>\n<table border=\"1\" class=\"dataframe\">\n  <thead>\n    <tr style=\"text-align: right;\">\n      <th></th>\n      <th>isbn13</th>\n      <th>normalized_year_of_publication</th>\n      <th>publisher_harlequin</th>\n      <th>publisher_silhouette</th>\n      <th>publisher_pocket</th>\n      <th>publisher_ballantine_books</th>\n      <th>publisher_bantam_books</th>\n      <th>publisher_scholastic</th>\n      <th>publisher_simon_&amp;amp;_schuster</th>\n      <th>publisher_penguin_books</th>\n      <th>...</th>\n      <th>state_ohio</th>\n      <th>state_michigan</th>\n      <th>state_oregon</th>\n      <th>state_virginia</th>\n      <th>state_massachusetts</th>\n      <th>state_missouri</th>\n      <th>state_nordrhein-westfalen</th>\n      <th>state_north_carolina</th>\n      <th>state_</th>\n      <th>state_other</th>\n    </tr>\n  </thead>\n  <tbody>\n    <tr>\n      <th>18</th>\n      <td>9780440234746</td>\n      <td>6</td>\n      <td>0</td>\n      <td>0</td>\n      <td>0</td>\n      <td>0</td>\n      <td>0</td>\n      <td>0</td>\n      <td>0</td>\n      <td>0</td>\n      <td>...</td>\n      <td>0</td>\n      <td>0</td>\n      <td>0</td>\n      <td>0</td>\n      <td>0</td>\n      <td>0</td>\n      <td>0</td>\n      <td>0</td>\n      <td>0</td>\n      <td>1</td>\n    </tr>\n    <tr>\n      <th>26</th>\n      <td>9780971880108</td>\n      <td>1</td>\n      <td>0</td>\n      <td>0</td>\n      <td>0</td>\n      <td>0</td>\n      <td>0</td>\n      <td>0</td>\n      <td>0</td>\n      <td>0</td>\n      <td>...</td>\n      <td>0</td>\n      <td>0</td>\n      <td>0</td>\n      <td>0</td>\n      <td>0</td>\n      <td>0</td>\n      <td>0</td>\n      <td>0</td>\n      <td>0</td>\n      <td>1</td>\n    </tr>\n    <tr>\n      <th>28</th>\n      <td>9780345417626</td>\n      <td>5</td>\n      <td>0</td>\n      <td>0</td>\n      <td>0</td>\n      <td>1</td>\n      <td>0</td>\n      <td>0</td>\n      <td>0</td>\n      <td>0</td>\n      <td>...</td>\n      <td>0</td>\n      <td>0</td>\n      <td>0</td>\n      <td>0</td>\n      <td>0</td>\n      <td>0</td>\n      <td>0</td>\n      <td>0</td>\n      <td>0</td>\n      <td>1</td>\n    </tr>\n    <tr>\n      <th>37</th>\n      <td>9780446310789</td>\n      <td>17</td>\n      <td>0</td>\n      <td>0</td>\n      <td>0</td>\n      <td>0</td>\n      <td>0</td>\n      <td>0</td>\n      <td>0</td>\n      <td>0</td>\n      <td>...</td>\n      <td>0</td>\n      <td>0</td>\n      <td>0</td>\n      <td>0</td>\n      <td>0</td>\n      <td>0</td>\n      <td>0</td>\n      <td>0</td>\n      <td>0</td>\n      <td>1</td>\n    </tr>\n    <tr>\n      <th>52</th>\n      <td>9780440225706</td>\n      <td>6</td>\n      <td>0</td>\n      <td>0</td>\n      <td>0</td>\n      <td>0</td>\n      <td>0</td>\n      <td>0</td>\n      <td>0</td>\n      <td>0</td>\n      <td>...</td>\n      <td>0</td>\n      <td>0</td>\n      <td>0</td>\n      <td>0</td>\n      <td>0</td>\n      <td>0</td>\n      <td>0</td>\n      <td>0</td>\n      <td>0</td>\n      <td>1</td>\n    </tr>\n    <tr>\n      <th>...</th>\n      <td>...</td>\n      <td>...</td>\n      <td>...</td>\n      <td>...</td>\n      <td>...</td>\n      <td>...</td>\n      <td>...</td>\n      <td>...</td>\n      <td>...</td>\n      <td>...</td>\n      <td>...</td>\n      <td>...</td>\n      <td>...</td>\n      <td>...</td>\n      <td>...</td>\n      <td>...</td>\n      <td>...</td>\n      <td>...</td>\n      <td>...</td>\n      <td>...</td>\n      <td>...</td>\n    </tr>\n    <tr>\n      <th>5545</th>\n      <td>9780440220602</td>\n      <td>10</td>\n      <td>0</td>\n      <td>0</td>\n      <td>0</td>\n      <td>0</td>\n      <td>0</td>\n      <td>0</td>\n      <td>0</td>\n      <td>0</td>\n      <td>...</td>\n      <td>0</td>\n      <td>0</td>\n      <td>0</td>\n      <td>0</td>\n      <td>0</td>\n      <td>0</td>\n      <td>0</td>\n      <td>0</td>\n      <td>0</td>\n      <td>1</td>\n    </tr>\n    <tr>\n      <th>5607</th>\n      <td>978044660899</td>\n      <td>5</td>\n      <td>0</td>\n      <td>0</td>\n      <td>0</td>\n      <td>0</td>\n      <td>0</td>\n      <td>0</td>\n      <td>0</td>\n      <td>0</td>\n      <td>...</td>\n      <td>0</td>\n      <td>0</td>\n      <td>0</td>\n      <td>0</td>\n      <td>0</td>\n      <td>0</td>\n      <td>0</td>\n      <td>0</td>\n      <td>0</td>\n      <td>1</td>\n    </tr>\n    <tr>\n      <th>5662</th>\n      <td>9780440241072</td>\n      <td>3</td>\n      <td>0</td>\n      <td>0</td>\n      <td>0</td>\n      <td>0</td>\n      <td>0</td>\n      <td>0</td>\n      <td>0</td>\n      <td>0</td>\n      <td>...</td>\n      <td>0</td>\n      <td>0</td>\n      <td>0</td>\n      <td>0</td>\n      <td>0</td>\n      <td>0</td>\n      <td>0</td>\n      <td>0</td>\n      <td>0</td>\n      <td>1</td>\n    </tr>\n    <tr>\n      <th>6329</th>\n      <td>9780439136365</td>\n      <td>4</td>\n      <td>0</td>\n      <td>0</td>\n      <td>0</td>\n      <td>0</td>\n      <td>0</td>\n      <td>1</td>\n      <td>0</td>\n      <td>0</td>\n      <td>...</td>\n      <td>0</td>\n      <td>0</td>\n      <td>0</td>\n      <td>0</td>\n      <td>0</td>\n      <td>0</td>\n      <td>0</td>\n      <td>0</td>\n      <td>0</td>\n      <td>1</td>\n    </tr>\n    <tr>\n      <th>7498</th>\n      <td>9780440222651</td>\n      <td>9</td>\n      <td>0</td>\n      <td>0</td>\n      <td>0</td>\n      <td>0</td>\n      <td>0</td>\n      <td>0</td>\n      <td>0</td>\n      <td>0</td>\n      <td>...</td>\n      <td>0</td>\n      <td>0</td>\n      <td>0</td>\n      <td>0</td>\n      <td>0</td>\n      <td>0</td>\n      <td>0</td>\n      <td>0</td>\n      <td>0</td>\n      <td>1</td>\n    </tr>\n  </tbody>\n</table>\n<p>100 rows × 66 columns</p>\n</div>"
     },
     "execution_count": 8,
     "metadata": {},
     "output_type": "execute_result"
    }
   ],
   "source": [
    "df_input = df_books.assign(**df_user.iloc[0])\n",
    "df_input"
   ],
   "metadata": {
    "collapsed": false
   }
  },
  {
   "cell_type": "code",
   "execution_count": 9,
   "outputs": [
    {
     "name": "stdout",
     "output_type": "stream",
     "text": [
      "Loading file: rf6.pkl\n"
     ]
    },
    {
     "ename": "FileNotFoundError",
     "evalue": "[Errno 2] No such file or directory: 'rf6.pkl'",
     "output_type": "error",
     "traceback": [
      "\u001B[0;31m---------------------------------------------------------------------------\u001B[0m",
      "\u001B[0;31mFileNotFoundError\u001B[0m                         Traceback (most recent call last)",
      "Cell \u001B[0;32mIn[9], line 8\u001B[0m\n\u001B[1;32m      5\u001B[0m     exit(\u001B[38;5;124m\"\u001B[39m\u001B[38;5;124mNo model found\u001B[39m\u001B[38;5;124m\"\u001B[39m)\n\u001B[1;32m      7\u001B[0m \u001B[38;5;28mprint\u001B[39m(\u001B[38;5;124m\"\u001B[39m\u001B[38;5;124mLoading file:\u001B[39m\u001B[38;5;124m\"\u001B[39m, model_file)\n\u001B[0;32m----> 8\u001B[0m \u001B[38;5;28;01mwith\u001B[39;00m \u001B[38;5;28;43mopen\u001B[39;49m\u001B[43m(\u001B[49m\u001B[43mmodel_file\u001B[49m\u001B[43m,\u001B[49m\u001B[43m \u001B[49m\u001B[38;5;124;43m\"\u001B[39;49m\u001B[38;5;124;43mrb\u001B[39;49m\u001B[38;5;124;43m\"\u001B[39;49m\u001B[43m)\u001B[49m \u001B[38;5;28;01mas\u001B[39;00m file:\n\u001B[1;32m      9\u001B[0m     rfc \u001B[38;5;241m=\u001B[39m pickle\u001B[38;5;241m.\u001B[39mload(file)\n",
      "File \u001B[0;32m/usr/lib/python3.10/site-packages/IPython/core/interactiveshell.py:282\u001B[0m, in \u001B[0;36m_modified_open\u001B[0;34m(file, *args, **kwargs)\u001B[0m\n\u001B[1;32m    275\u001B[0m \u001B[38;5;28;01mif\u001B[39;00m file \u001B[38;5;129;01min\u001B[39;00m {\u001B[38;5;241m0\u001B[39m, \u001B[38;5;241m1\u001B[39m, \u001B[38;5;241m2\u001B[39m}:\n\u001B[1;32m    276\u001B[0m     \u001B[38;5;28;01mraise\u001B[39;00m \u001B[38;5;167;01mValueError\u001B[39;00m(\n\u001B[1;32m    277\u001B[0m         \u001B[38;5;124mf\u001B[39m\u001B[38;5;124m\"\u001B[39m\u001B[38;5;124mIPython won\u001B[39m\u001B[38;5;124m'\u001B[39m\u001B[38;5;124mt let you open fd=\u001B[39m\u001B[38;5;132;01m{\u001B[39;00mfile\u001B[38;5;132;01m}\u001B[39;00m\u001B[38;5;124m by default \u001B[39m\u001B[38;5;124m\"\u001B[39m\n\u001B[1;32m    278\u001B[0m         \u001B[38;5;124m\"\u001B[39m\u001B[38;5;124mas it is likely to crash IPython. If you know what you are doing, \u001B[39m\u001B[38;5;124m\"\u001B[39m\n\u001B[1;32m    279\u001B[0m         \u001B[38;5;124m\"\u001B[39m\u001B[38;5;124myou can use builtins\u001B[39m\u001B[38;5;124m'\u001B[39m\u001B[38;5;124m open.\u001B[39m\u001B[38;5;124m\"\u001B[39m\n\u001B[1;32m    280\u001B[0m     )\n\u001B[0;32m--> 282\u001B[0m \u001B[38;5;28;01mreturn\u001B[39;00m \u001B[43mio_open\u001B[49m\u001B[43m(\u001B[49m\u001B[43mfile\u001B[49m\u001B[43m,\u001B[49m\u001B[43m \u001B[49m\u001B[38;5;241;43m*\u001B[39;49m\u001B[43margs\u001B[49m\u001B[43m,\u001B[49m\u001B[43m \u001B[49m\u001B[38;5;241;43m*\u001B[39;49m\u001B[38;5;241;43m*\u001B[39;49m\u001B[43mkwargs\u001B[49m\u001B[43m)\u001B[49m\n",
      "\u001B[0;31mFileNotFoundError\u001B[0m: [Errno 2] No such file or directory: 'rf6.pkl'"
     ]
    }
   ],
   "source": [
    "from os.path import exists\n",
    "import pickle\n",
    "\n",
    "if not exists(model_file):\n",
    "    exit(\"No model found\")\n",
    "\n",
    "print(\"Loading file:\", model_file)\n",
    "with open(model_file, \"rb\") as file:\n",
    "    rfc = pickle.load(file)\n"
   ],
   "metadata": {
    "collapsed": false
   }
  },
  {
   "cell_type": "code",
   "execution_count": null,
   "outputs": [],
   "source": [
    "rfc_predict = rfc.predict(df_input)\n",
    "pd.DataFrame(rfc_predict)"
   ],
   "metadata": {
    "collapsed": false
   }
  },
  {
   "cell_type": "code",
   "execution_count": null,
   "outputs": [],
   "source": [
    "import seaborn as sns\n",
    "sns.countplot(x = rfc_predict)"
   ],
   "metadata": {
    "collapsed": false
   }
  },
  {
   "cell_type": "code",
   "execution_count": null,
   "outputs": [],
   "source": [
    "predictions = df_books.filter(regex=\"isbn13\", axis=1)\n",
    "predictions = predictions.reset_index()\n",
    "predicted_ratings = pd.DataFrame(rfc_predict, columns=[\"predicted_book_rating\"])\n",
    "predictions = predictions.join(predicted_ratings)\n",
    "predictions"
   ],
   "metadata": {
    "collapsed": false
   }
  },
  {
   "cell_type": "code",
   "execution_count": null,
   "outputs": [],
   "source": [
    "predictions = predictions.sort_values(\"predicted_book_rating\", na_position=\"first\", ascending=False)\n",
    "predictions"
   ],
   "metadata": {
    "collapsed": false
   }
  },
  {
   "cell_type": "code",
   "execution_count": null,
   "outputs": [],
   "source": [
    "predictions.merge(books, on=\"isbn13\", how=\"left\")"
   ],
   "metadata": {
    "collapsed": false
   }
  }
 ],
 "metadata": {
  "kernelspec": {
   "display_name": "Python 3 (ipykernel)",
   "language": "python",
   "name": "python3"
  },
  "language_info": {
   "codemirror_mode": {
    "name": "ipython",
    "version": 3
   },
   "file_extension": ".py",
   "mimetype": "text/x-python",
   "name": "python",
   "nbconvert_exporter": "python",
   "pygments_lexer": "ipython3",
   "version": "3.10.8"
  }
 },
 "nbformat": 4,
 "nbformat_minor": 5
}
