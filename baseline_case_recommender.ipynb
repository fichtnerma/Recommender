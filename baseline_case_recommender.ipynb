{
 "cells": [
  {
   "cell_type": "markdown",
   "metadata": {},
   "source": [
    "# Baseline - Most popular"
   ]
  },
  {
   "cell_type": "markdown",
   "source": [
    "## Case Recommender Implementation"
   ],
   "metadata": {
    "collapsed": false,
    "pycharm": {
     "name": "#%% md\n"
    }
   }
  },
  {
   "cell_type": "code",
   "execution_count": 1,
   "metadata": {},
   "outputs": [
    {
     "name": "stderr",
     "output_type": "stream",
     "text": [
      "/Users/johannes/Studium/MMT/1. Semester/Fächer/Recommender Systems/Abschlussprojekt/code/recommender-systems/bibrec/server/Utils.py:16: DtypeWarning: Columns (3) have mixed types. Specify dtype option on import or set low_memory=False.\n",
      "  df = pd.read_csv(path, sep=\";\", encoding=\"latin-1\")\n"
     ]
    }
   ],
   "source": [
    "import pandas as pd\n",
    "from sklearn.model_selection import train_test_split\n",
    "import bibrec.server.Utils as Utils\n",
    "\n",
    "\n",
    "def prepare_string(string):\n",
    "    return str(string).strip().lower().replace('-', '_')\n",
    "\n",
    "\n",
    "books = Utils.get_books()\n",
    "book_ratings = Utils.get_ratings(books)\n",
    "\n",
    "ratings_dict = {\n",
    "    'userId': book_ratings['user_id'].values,\n",
    "    'isbn13': book_ratings['isbn13'].values,\n",
    "    'book_rating': book_ratings['book_rating'].values\n",
    "}\n",
    "\n",
    "df = pd.DataFrame.from_dict(ratings_dict)\n",
    "\n",
    "train_bx, test_bx = train_test_split(df, test_size=0.2)\n",
    "\n",
    "pd.DataFrame(train_bx).to_csv(\"./data/bx_ratings_train.csv\", index=False, header=False)\n",
    "pd.DataFrame(test_bx).to_csv(\"./data/bx_rating_test.csv\", index=False, header=False)"
   ]
  },
  {
   "cell_type": "code",
   "execution_count": 2,
   "metadata": {},
   "outputs": [
    {
     "name": "stdout",
     "output_type": "stream",
     "text": [
      "[Case Recommender: Item Recommendation > Most Popular]\n",
      "\n",
      "train data:: 15452 users and 48517 items (80000 interactions) | sparsity:: 99.99%\n",
      "test data:: 6679 users and 15554 items (20000 interactions) | sparsity:: 99.98%\n",
      "\n",
      "prediction_time:: 1312.260658 sec\n",
      "\n",
      "\n",
      "Eval:: PREC@1: 0.004342 PREC@3: 0.002845 PREC@5: 0.003174 PREC@10: 0.00271 RECALL@1: 0.001193 RECALL@3: 0.002994 RECALL@5: 0.006785 RECALL@10: 0.011249 MAP@1: 0.004342 MAP@3: 0.006214 MAP@5: 0.007801 MAP@10: 0.009065 NDCG@1: 0.004342 NDCG@3: 0.008037 NDCG@5: 0.011302 NDCG@10: 0.014704 \n"
     ]
    }
   ],
   "source": [
    "from caserec.recommenders.item_recommendation.most_popular import MostPopular\n",
    "\n",
    "MostPopular(\"./data/bx_ratings_train.csv\", \"./data/bx_rating_test.csv\", output_file=\"./data/bx_rating_mp.csv\",\n",
    "            sep=\",\").compute()"
   ]
  },
  {
   "cell_type": "code",
   "execution_count": 6,
   "metadata": {},
   "outputs": [],
   "source": [
    "mp = pd.read_csv(\"./data/bx_rating_mp.csv\", sep=\",\", encoding=\"latin-1\")"
   ]
  },
  {
   "cell_type": "code",
   "execution_count": 7,
   "metadata": {
    "pycharm": {
     "name": "#%%\n"
    }
   },
   "outputs": [
    {
     "name": "stdout",
     "output_type": "stream",
     "text": [
      "PREC@1\tPREC@3\tPREC@5\tPREC@10\tRECALL@1\tRECALL@3\tRECALL@5\tRECALL@10\t\n",
      "0.004342\t0.002845\t0.003174\t0.00271\t0.001193\t0.002994\t0.006785\t0.011249\t\n"
     ]
    }
   ],
   "source": [
    "from caserec.evaluation.item_recommendation import ItemRecommendationEvaluation\n",
    "\n",
    "evaluation = ItemRecommendationEvaluation(n_ranks=[1, 3, 5, 10], metrics=['PREC', 'RECALL'], sep=\",\",\n",
    "                                          as_table=True).evaluate_with_files(\"./data/bx_rating_mp.csv\",\n",
    "                                                                             \"./data/bx_rating_test.csv\")\n"
   ]
  }
 ],
 "metadata": {
  "kernelspec": {
   "display_name": "Python 3.9.14 64-bit",
   "language": "python",
   "name": "python3"
  },
  "language_info": {
   "codemirror_mode": {
    "name": "ipython",
    "version": 3
   },
   "file_extension": ".py",
   "mimetype": "text/x-python",
   "name": "python",
   "nbconvert_exporter": "python",
   "pygments_lexer": "ipython3",
   "version": "3.9.14"
  },
  "orig_nbformat": 4,
  "vscode": {
   "interpreter": {
    "hash": "397704579725e15f5c7cb49fe5f0341eb7531c82d19f2c29d197e8b64ab5776b"
   }
  }
 },
 "nbformat": 4,
 "nbformat_minor": 2
}
