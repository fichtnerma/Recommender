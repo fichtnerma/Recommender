{
 "cells": [
  {
   "cell_type": "markdown",
   "source": [
    "# BibRec"
   ],
   "metadata": {
    "collapsed": false
   }
  },
  {
   "cell_type": "markdown",
   "source": [
    "### RF Features: Country"
   ],
   "metadata": {
    "collapsed": false
   }
  },
  {
   "cell_type": "code",
   "execution_count": 1,
   "outputs": [
    {
     "name": "stderr",
     "output_type": "stream",
     "text": [
      "/run/media/fab/Dev/repos/FH-SBG/MMT1/RES/recommender-systems/bibrec/server/Utils.py:7: DtypeWarning: Columns (3) have mixed types. Specify dtype option on import or set low_memory=False.\n",
      "  books = pd.read_csv(path, sep=\";\", encoding=\"latin-1\")\n",
      "/run/media/fab/Dev/repos/FH-SBG/MMT1/RES/recommender-systems/bibrec/server/Utils.py:24: FutureWarning: In a future version of pandas all arguments of StringMethods.split except for the argument 'pat' will be keyword-only.\n",
      "  location_seperated = users.location.str.split(',', 2, expand=True)\n"
     ]
    }
   ],
   "source": [
    "from bibrec.server.Utils import get_books, get_users, get_ratings\n",
    "\n",
    "books = get_books(\"data/BX-Books.csv\")\n",
    "users = get_users(\"data/BX-Users.csv\")\n",
    "ratings = get_ratings(\"data/BX-Book-Ratings.csv\")"
   ],
   "metadata": {
    "collapsed": false
   }
  },
  {
   "cell_type": "code",
   "execution_count": 2,
   "outputs": [],
   "source": [
    "import pandas as pd\n",
    "import numpy as np\n",
    "from collections import defaultdict\n",
    "from sklearn.model_selection import train_test_split\n",
    "from sklearn.ensemble import RandomForestClassifier\n",
    "from sklearn.metrics import classification_report, accuracy_score"
   ],
   "metadata": {
    "collapsed": false
   }
  },
  {
   "cell_type": "code",
   "execution_count": 3,
   "outputs": [
    {
     "data": {
      "text/plain": "   user_id        isbn  book_rating   age     country             state  \\\n0   276726  0155061224            5   NaN         usa        washington   \n1   276729  052165615X            3  16.0     croatia               n/a   \n2   276729  0521795028            6  16.0     croatia               n/a   \n3   276736  3257224281            8   NaN     austria          salzburg   \n4   276737  0600570967            6  14.0   australia   new south wales   \n\n       city  \n0   seattle  \n1    rijeka  \n2    rijeka  \n3  salzburg  \n4    sydney  ",
      "text/html": "<div>\n<style scoped>\n    .dataframe tbody tr th:only-of-type {\n        vertical-align: middle;\n    }\n\n    .dataframe tbody tr th {\n        vertical-align: top;\n    }\n\n    .dataframe thead th {\n        text-align: right;\n    }\n</style>\n<table border=\"1\" class=\"dataframe\">\n  <thead>\n    <tr style=\"text-align: right;\">\n      <th></th>\n      <th>user_id</th>\n      <th>isbn</th>\n      <th>book_rating</th>\n      <th>age</th>\n      <th>country</th>\n      <th>state</th>\n      <th>city</th>\n    </tr>\n  </thead>\n  <tbody>\n    <tr>\n      <th>0</th>\n      <td>276726</td>\n      <td>0155061224</td>\n      <td>5</td>\n      <td>NaN</td>\n      <td>usa</td>\n      <td>washington</td>\n      <td>seattle</td>\n    </tr>\n    <tr>\n      <th>1</th>\n      <td>276729</td>\n      <td>052165615X</td>\n      <td>3</td>\n      <td>16.0</td>\n      <td>croatia</td>\n      <td>n/a</td>\n      <td>rijeka</td>\n    </tr>\n    <tr>\n      <th>2</th>\n      <td>276729</td>\n      <td>0521795028</td>\n      <td>6</td>\n      <td>16.0</td>\n      <td>croatia</td>\n      <td>n/a</td>\n      <td>rijeka</td>\n    </tr>\n    <tr>\n      <th>3</th>\n      <td>276736</td>\n      <td>3257224281</td>\n      <td>8</td>\n      <td>NaN</td>\n      <td>austria</td>\n      <td>salzburg</td>\n      <td>salzburg</td>\n    </tr>\n    <tr>\n      <th>4</th>\n      <td>276737</td>\n      <td>0600570967</td>\n      <td>6</td>\n      <td>14.0</td>\n      <td>australia</td>\n      <td>new south wales</td>\n      <td>sydney</td>\n    </tr>\n  </tbody>\n</table>\n</div>"
     },
     "execution_count": 3,
     "metadata": {},
     "output_type": "execute_result"
    }
   ],
   "source": [
    "explicit_ratings = ratings[ratings.book_rating != 0]\n",
    "\n",
    "# merge datasets\n",
    "#df =  ratings.merge(books[['isbn', 'book_title']])\n",
    "df =  explicit_ratings.merge(users[['user_id', 'age', 'country', 'state', 'city']])\n",
    "df.head()"
   ],
   "metadata": {
    "collapsed": false
   }
  },
  {
   "cell_type": "code",
   "execution_count": 4,
   "id": "f280c736",
   "metadata": {},
   "outputs": [],
   "source": [
    "country = pd.get_dummies(df['country'],drop_first=True)"
   ]
  },
  {
   "cell_type": "code",
   "execution_count": 5,
   "outputs": [
    {
     "data": {
      "text/plain": "   user_id        isbn  book_rating   age     country             state  \\\n0   276726  0155061224            5   NaN         usa        washington   \n1   276729  052165615X            3  16.0     croatia               n/a   \n2   276729  0521795028            6  16.0     croatia               n/a   \n3   276736  3257224281            8   NaN     austria          salzburg   \n4   276737  0600570967            6  14.0   australia   new south wales   \n\n       city   ,   , portugal   \\\"n/a\\\"\"  ...  , mexico  , netherlands  \\\n0   seattle   0            0          0  ...         0              0   \n1    rijeka   0            0          0  ...         0              0   \n2    rijeka   0            0          0  ...         0              0   \n3  salzburg   0            0          0  ...         0              0   \n4    sydney   0            0          0  ...         0              0   \n\n   , new zealand  , portugal  , the netherlands  , united kingdom  \\\n0              0           0                  0                 0   \n1              0           0                  0                 0   \n2              0           0                  0                 0   \n3              0           0                  0                 0   \n4              0           0                  0                 0   \n\n   block-o,r.k.puram,sector-13,new delhi , india, india  emilia, italy  \\\n0                                                  0                 0   \n1                                                  0                 0   \n2                                                  0                 0   \n3                                                  0                 0   \n4                                                  0                 0   \n\n   quebec, canada  usa, rhode island, usa  \n0               0                       0  \n1               0                       0  \n2               0                       0  \n3               0                       0  \n4               0                       0  \n\n[5 rows x 455 columns]",
      "text/html": "<div>\n<style scoped>\n    .dataframe tbody tr th:only-of-type {\n        vertical-align: middle;\n    }\n\n    .dataframe tbody tr th {\n        vertical-align: top;\n    }\n\n    .dataframe thead th {\n        text-align: right;\n    }\n</style>\n<table border=\"1\" class=\"dataframe\">\n  <thead>\n    <tr style=\"text-align: right;\">\n      <th></th>\n      <th>user_id</th>\n      <th>isbn</th>\n      <th>book_rating</th>\n      <th>age</th>\n      <th>country</th>\n      <th>state</th>\n      <th>city</th>\n      <th>,</th>\n      <th>, portugal</th>\n      <th>\\\"n/a\\\"\"</th>\n      <th>...</th>\n      <th>, mexico</th>\n      <th>, netherlands</th>\n      <th>, new zealand</th>\n      <th>, portugal</th>\n      <th>, the netherlands</th>\n      <th>, united kingdom</th>\n      <th>block-o,r.k.puram,sector-13,new delhi , india, india</th>\n      <th>emilia, italy</th>\n      <th>quebec, canada</th>\n      <th>usa, rhode island, usa</th>\n    </tr>\n  </thead>\n  <tbody>\n    <tr>\n      <th>0</th>\n      <td>276726</td>\n      <td>0155061224</td>\n      <td>5</td>\n      <td>NaN</td>\n      <td>usa</td>\n      <td>washington</td>\n      <td>seattle</td>\n      <td>0</td>\n      <td>0</td>\n      <td>0</td>\n      <td>...</td>\n      <td>0</td>\n      <td>0</td>\n      <td>0</td>\n      <td>0</td>\n      <td>0</td>\n      <td>0</td>\n      <td>0</td>\n      <td>0</td>\n      <td>0</td>\n      <td>0</td>\n    </tr>\n    <tr>\n      <th>1</th>\n      <td>276729</td>\n      <td>052165615X</td>\n      <td>3</td>\n      <td>16.0</td>\n      <td>croatia</td>\n      <td>n/a</td>\n      <td>rijeka</td>\n      <td>0</td>\n      <td>0</td>\n      <td>0</td>\n      <td>...</td>\n      <td>0</td>\n      <td>0</td>\n      <td>0</td>\n      <td>0</td>\n      <td>0</td>\n      <td>0</td>\n      <td>0</td>\n      <td>0</td>\n      <td>0</td>\n      <td>0</td>\n    </tr>\n    <tr>\n      <th>2</th>\n      <td>276729</td>\n      <td>0521795028</td>\n      <td>6</td>\n      <td>16.0</td>\n      <td>croatia</td>\n      <td>n/a</td>\n      <td>rijeka</td>\n      <td>0</td>\n      <td>0</td>\n      <td>0</td>\n      <td>...</td>\n      <td>0</td>\n      <td>0</td>\n      <td>0</td>\n      <td>0</td>\n      <td>0</td>\n      <td>0</td>\n      <td>0</td>\n      <td>0</td>\n      <td>0</td>\n      <td>0</td>\n    </tr>\n    <tr>\n      <th>3</th>\n      <td>276736</td>\n      <td>3257224281</td>\n      <td>8</td>\n      <td>NaN</td>\n      <td>austria</td>\n      <td>salzburg</td>\n      <td>salzburg</td>\n      <td>0</td>\n      <td>0</td>\n      <td>0</td>\n      <td>...</td>\n      <td>0</td>\n      <td>0</td>\n      <td>0</td>\n      <td>0</td>\n      <td>0</td>\n      <td>0</td>\n      <td>0</td>\n      <td>0</td>\n      <td>0</td>\n      <td>0</td>\n    </tr>\n    <tr>\n      <th>4</th>\n      <td>276737</td>\n      <td>0600570967</td>\n      <td>6</td>\n      <td>14.0</td>\n      <td>australia</td>\n      <td>new south wales</td>\n      <td>sydney</td>\n      <td>0</td>\n      <td>0</td>\n      <td>0</td>\n      <td>...</td>\n      <td>0</td>\n      <td>0</td>\n      <td>0</td>\n      <td>0</td>\n      <td>0</td>\n      <td>0</td>\n      <td>0</td>\n      <td>0</td>\n      <td>0</td>\n      <td>0</td>\n    </tr>\n  </tbody>\n</table>\n<p>5 rows × 455 columns</p>\n</div>"
     },
     "execution_count": 5,
     "metadata": {},
     "output_type": "execute_result"
    }
   ],
   "source": [
    "df = pd.concat([df, country], axis = 1)\n",
    "df.head()"
   ],
   "metadata": {
    "collapsed": false
   }
  },
  {
   "cell_type": "code",
   "execution_count": 6,
   "outputs": [],
   "source": [
    "# remove duplicate columns\n",
    "df = df.loc[:,~df.columns.duplicated()]"
   ],
   "metadata": {
    "collapsed": false
   }
  },
  {
   "cell_type": "code",
   "execution_count": 7,
   "outputs": [
    {
     "data": {
      "text/plain": "        book_rating   ,   , portugal   \\\"n/a\\\"\"   \\n/a\\\"\"   \\n/a\\\", greece\"  \\\n0                 5   0            0          0         0                 0   \n1                 3   0            0          0         0                 0   \n2                 6   0            0          0         0                 0   \n3                 8   0            0          0         0                 0   \n4                 6   0            0          0         0                 0   \n...             ...  ..          ...        ...       ...               ...   \n433666            5   0            0          0         0                 0   \n433667            9   0            0          0         0                 0   \n433668           10   0            0          0         0                 0   \n433669           10   0            0          0         0                 0   \n433670            8   0            0          0         0                 0   \n\n         aberdeenshire, united kingdom   afghanistan   alabama, usa   alachua  \\\n0                                    0             0              0         0   \n1                                    0             0              0         0   \n2                                    0             0              0         0   \n3                                    0             0              0         0   \n4                                    0             0              0         0   \n...                                ...           ...            ...       ...   \n433666                               0             0              0         0   \n433667                               0             0              0         0   \n433668                               0             0              0         0   \n433669                               0             0              0         0   \n433670                               0             0              0         0   \n\n        ...  , mexico  , netherlands  , new zealand  , portugal  \\\n0       ...         0              0              0           0   \n1       ...         0              0              0           0   \n2       ...         0              0              0           0   \n3       ...         0              0              0           0   \n4       ...         0              0              0           0   \n...     ...       ...            ...            ...         ...   \n433666  ...         0              0              0           0   \n433667  ...         0              0              0           0   \n433668  ...         0              0              0           0   \n433669  ...         0              0              0           0   \n433670  ...         0              0              0           0   \n\n        , the netherlands  , united kingdom  \\\n0                       0                 0   \n1                       0                 0   \n2                       0                 0   \n3                       0                 0   \n4                       0                 0   \n...                   ...               ...   \n433666                  0                 0   \n433667                  0                 0   \n433668                  0                 0   \n433669                  0                 0   \n433670                  0                 0   \n\n        block-o,r.k.puram,sector-13,new delhi , india, india  emilia, italy  \\\n0                                                       0                 0   \n1                                                       0                 0   \n2                                                       0                 0   \n3                                                       0                 0   \n4                                                       0                 0   \n...                                                   ...               ...   \n433666                                                  0                 0   \n433667                                                  0                 0   \n433668                                                  0                 0   \n433669                                                  0                 0   \n433670                                                  0                 0   \n\n        quebec, canada  usa, rhode island, usa  \n0                    0                       0  \n1                    0                       0  \n2                    0                       0  \n3                    0                       0  \n4                    0                       0  \n...                ...                     ...  \n433666               0                       0  \n433667               0                       0  \n433668               0                       0  \n433669               0                       0  \n433670               0                       0  \n\n[433671 rows x 449 columns]",
      "text/html": "<div>\n<style scoped>\n    .dataframe tbody tr th:only-of-type {\n        vertical-align: middle;\n    }\n\n    .dataframe tbody tr th {\n        vertical-align: top;\n    }\n\n    .dataframe thead th {\n        text-align: right;\n    }\n</style>\n<table border=\"1\" class=\"dataframe\">\n  <thead>\n    <tr style=\"text-align: right;\">\n      <th></th>\n      <th>book_rating</th>\n      <th>,</th>\n      <th>, portugal</th>\n      <th>\\\"n/a\\\"\"</th>\n      <th>\\n/a\\\"\"</th>\n      <th>\\n/a\\\", greece\"</th>\n      <th>aberdeenshire, united kingdom</th>\n      <th>afghanistan</th>\n      <th>alabama, usa</th>\n      <th>alachua</th>\n      <th>...</th>\n      <th>, mexico</th>\n      <th>, netherlands</th>\n      <th>, new zealand</th>\n      <th>, portugal</th>\n      <th>, the netherlands</th>\n      <th>, united kingdom</th>\n      <th>block-o,r.k.puram,sector-13,new delhi , india, india</th>\n      <th>emilia, italy</th>\n      <th>quebec, canada</th>\n      <th>usa, rhode island, usa</th>\n    </tr>\n  </thead>\n  <tbody>\n    <tr>\n      <th>0</th>\n      <td>5</td>\n      <td>0</td>\n      <td>0</td>\n      <td>0</td>\n      <td>0</td>\n      <td>0</td>\n      <td>0</td>\n      <td>0</td>\n      <td>0</td>\n      <td>0</td>\n      <td>...</td>\n      <td>0</td>\n      <td>0</td>\n      <td>0</td>\n      <td>0</td>\n      <td>0</td>\n      <td>0</td>\n      <td>0</td>\n      <td>0</td>\n      <td>0</td>\n      <td>0</td>\n    </tr>\n    <tr>\n      <th>1</th>\n      <td>3</td>\n      <td>0</td>\n      <td>0</td>\n      <td>0</td>\n      <td>0</td>\n      <td>0</td>\n      <td>0</td>\n      <td>0</td>\n      <td>0</td>\n      <td>0</td>\n      <td>...</td>\n      <td>0</td>\n      <td>0</td>\n      <td>0</td>\n      <td>0</td>\n      <td>0</td>\n      <td>0</td>\n      <td>0</td>\n      <td>0</td>\n      <td>0</td>\n      <td>0</td>\n    </tr>\n    <tr>\n      <th>2</th>\n      <td>6</td>\n      <td>0</td>\n      <td>0</td>\n      <td>0</td>\n      <td>0</td>\n      <td>0</td>\n      <td>0</td>\n      <td>0</td>\n      <td>0</td>\n      <td>0</td>\n      <td>...</td>\n      <td>0</td>\n      <td>0</td>\n      <td>0</td>\n      <td>0</td>\n      <td>0</td>\n      <td>0</td>\n      <td>0</td>\n      <td>0</td>\n      <td>0</td>\n      <td>0</td>\n    </tr>\n    <tr>\n      <th>3</th>\n      <td>8</td>\n      <td>0</td>\n      <td>0</td>\n      <td>0</td>\n      <td>0</td>\n      <td>0</td>\n      <td>0</td>\n      <td>0</td>\n      <td>0</td>\n      <td>0</td>\n      <td>...</td>\n      <td>0</td>\n      <td>0</td>\n      <td>0</td>\n      <td>0</td>\n      <td>0</td>\n      <td>0</td>\n      <td>0</td>\n      <td>0</td>\n      <td>0</td>\n      <td>0</td>\n    </tr>\n    <tr>\n      <th>4</th>\n      <td>6</td>\n      <td>0</td>\n      <td>0</td>\n      <td>0</td>\n      <td>0</td>\n      <td>0</td>\n      <td>0</td>\n      <td>0</td>\n      <td>0</td>\n      <td>0</td>\n      <td>...</td>\n      <td>0</td>\n      <td>0</td>\n      <td>0</td>\n      <td>0</td>\n      <td>0</td>\n      <td>0</td>\n      <td>0</td>\n      <td>0</td>\n      <td>0</td>\n      <td>0</td>\n    </tr>\n    <tr>\n      <th>...</th>\n      <td>...</td>\n      <td>...</td>\n      <td>...</td>\n      <td>...</td>\n      <td>...</td>\n      <td>...</td>\n      <td>...</td>\n      <td>...</td>\n      <td>...</td>\n      <td>...</td>\n      <td>...</td>\n      <td>...</td>\n      <td>...</td>\n      <td>...</td>\n      <td>...</td>\n      <td>...</td>\n      <td>...</td>\n      <td>...</td>\n      <td>...</td>\n      <td>...</td>\n      <td>...</td>\n    </tr>\n    <tr>\n      <th>433666</th>\n      <td>5</td>\n      <td>0</td>\n      <td>0</td>\n      <td>0</td>\n      <td>0</td>\n      <td>0</td>\n      <td>0</td>\n      <td>0</td>\n      <td>0</td>\n      <td>0</td>\n      <td>...</td>\n      <td>0</td>\n      <td>0</td>\n      <td>0</td>\n      <td>0</td>\n      <td>0</td>\n      <td>0</td>\n      <td>0</td>\n      <td>0</td>\n      <td>0</td>\n      <td>0</td>\n    </tr>\n    <tr>\n      <th>433667</th>\n      <td>9</td>\n      <td>0</td>\n      <td>0</td>\n      <td>0</td>\n      <td>0</td>\n      <td>0</td>\n      <td>0</td>\n      <td>0</td>\n      <td>0</td>\n      <td>0</td>\n      <td>...</td>\n      <td>0</td>\n      <td>0</td>\n      <td>0</td>\n      <td>0</td>\n      <td>0</td>\n      <td>0</td>\n      <td>0</td>\n      <td>0</td>\n      <td>0</td>\n      <td>0</td>\n    </tr>\n    <tr>\n      <th>433668</th>\n      <td>10</td>\n      <td>0</td>\n      <td>0</td>\n      <td>0</td>\n      <td>0</td>\n      <td>0</td>\n      <td>0</td>\n      <td>0</td>\n      <td>0</td>\n      <td>0</td>\n      <td>...</td>\n      <td>0</td>\n      <td>0</td>\n      <td>0</td>\n      <td>0</td>\n      <td>0</td>\n      <td>0</td>\n      <td>0</td>\n      <td>0</td>\n      <td>0</td>\n      <td>0</td>\n    </tr>\n    <tr>\n      <th>433669</th>\n      <td>10</td>\n      <td>0</td>\n      <td>0</td>\n      <td>0</td>\n      <td>0</td>\n      <td>0</td>\n      <td>0</td>\n      <td>0</td>\n      <td>0</td>\n      <td>0</td>\n      <td>...</td>\n      <td>0</td>\n      <td>0</td>\n      <td>0</td>\n      <td>0</td>\n      <td>0</td>\n      <td>0</td>\n      <td>0</td>\n      <td>0</td>\n      <td>0</td>\n      <td>0</td>\n    </tr>\n    <tr>\n      <th>433670</th>\n      <td>8</td>\n      <td>0</td>\n      <td>0</td>\n      <td>0</td>\n      <td>0</td>\n      <td>0</td>\n      <td>0</td>\n      <td>0</td>\n      <td>0</td>\n      <td>0</td>\n      <td>...</td>\n      <td>0</td>\n      <td>0</td>\n      <td>0</td>\n      <td>0</td>\n      <td>0</td>\n      <td>0</td>\n      <td>0</td>\n      <td>0</td>\n      <td>0</td>\n      <td>0</td>\n    </tr>\n  </tbody>\n</table>\n<p>433671 rows × 449 columns</p>\n</div>"
     },
     "execution_count": 7,
     "metadata": {},
     "output_type": "execute_result"
    }
   ],
   "source": [
    "test = df.drop(['isbn', 'user_id', 'age', 'country', 'state', 'city'], axis = 1)\n",
    "test"
   ],
   "metadata": {
    "collapsed": false
   }
  },
  {
   "cell_type": "code",
   "execution_count": 8,
   "outputs": [],
   "source": [
    "X = test.drop('book_rating', axis = 1) #Features\n",
    "Y = test['book_rating']   # Target Variables"
   ],
   "metadata": {
    "collapsed": false
   }
  },
  {
   "cell_type": "code",
   "execution_count": 9,
   "outputs": [],
   "source": [
    "X_train, X_test, y_train, y_test = train_test_split(X, Y, test_size=0.30, random_state=7)"
   ],
   "metadata": {
    "collapsed": false
   }
  },
  {
   "cell_type": "code",
   "execution_count": 10,
   "id": "7dbdbf68",
   "metadata": {},
   "outputs": [
    {
     "data": {
      "text/plain": "RandomForestClassifier(min_weight_fraction_leaf=0)",
      "text/html": "<style>#sk-container-id-1 {color: black;background-color: white;}#sk-container-id-1 pre{padding: 0;}#sk-container-id-1 div.sk-toggleable {background-color: white;}#sk-container-id-1 label.sk-toggleable__label {cursor: pointer;display: block;width: 100%;margin-bottom: 0;padding: 0.3em;box-sizing: border-box;text-align: center;}#sk-container-id-1 label.sk-toggleable__label-arrow:before {content: \"▸\";float: left;margin-right: 0.25em;color: #696969;}#sk-container-id-1 label.sk-toggleable__label-arrow:hover:before {color: black;}#sk-container-id-1 div.sk-estimator:hover label.sk-toggleable__label-arrow:before {color: black;}#sk-container-id-1 div.sk-toggleable__content {max-height: 0;max-width: 0;overflow: hidden;text-align: left;background-color: #f0f8ff;}#sk-container-id-1 div.sk-toggleable__content pre {margin: 0.2em;color: black;border-radius: 0.25em;background-color: #f0f8ff;}#sk-container-id-1 input.sk-toggleable__control:checked~div.sk-toggleable__content {max-height: 200px;max-width: 100%;overflow: auto;}#sk-container-id-1 input.sk-toggleable__control:checked~label.sk-toggleable__label-arrow:before {content: \"▾\";}#sk-container-id-1 div.sk-estimator input.sk-toggleable__control:checked~label.sk-toggleable__label {background-color: #d4ebff;}#sk-container-id-1 div.sk-label input.sk-toggleable__control:checked~label.sk-toggleable__label {background-color: #d4ebff;}#sk-container-id-1 input.sk-hidden--visually {border: 0;clip: rect(1px 1px 1px 1px);clip: rect(1px, 1px, 1px, 1px);height: 1px;margin: -1px;overflow: hidden;padding: 0;position: absolute;width: 1px;}#sk-container-id-1 div.sk-estimator {font-family: monospace;background-color: #f0f8ff;border: 1px dotted black;border-radius: 0.25em;box-sizing: border-box;margin-bottom: 0.5em;}#sk-container-id-1 div.sk-estimator:hover {background-color: #d4ebff;}#sk-container-id-1 div.sk-parallel-item::after {content: \"\";width: 100%;border-bottom: 1px solid gray;flex-grow: 1;}#sk-container-id-1 div.sk-label:hover label.sk-toggleable__label {background-color: #d4ebff;}#sk-container-id-1 div.sk-serial::before {content: \"\";position: absolute;border-left: 1px solid gray;box-sizing: border-box;top: 0;bottom: 0;left: 50%;z-index: 0;}#sk-container-id-1 div.sk-serial {display: flex;flex-direction: column;align-items: center;background-color: white;padding-right: 0.2em;padding-left: 0.2em;position: relative;}#sk-container-id-1 div.sk-item {position: relative;z-index: 1;}#sk-container-id-1 div.sk-parallel {display: flex;align-items: stretch;justify-content: center;background-color: white;position: relative;}#sk-container-id-1 div.sk-item::before, #sk-container-id-1 div.sk-parallel-item::before {content: \"\";position: absolute;border-left: 1px solid gray;box-sizing: border-box;top: 0;bottom: 0;left: 50%;z-index: -1;}#sk-container-id-1 div.sk-parallel-item {display: flex;flex-direction: column;z-index: 1;position: relative;background-color: white;}#sk-container-id-1 div.sk-parallel-item:first-child::after {align-self: flex-end;width: 50%;}#sk-container-id-1 div.sk-parallel-item:last-child::after {align-self: flex-start;width: 50%;}#sk-container-id-1 div.sk-parallel-item:only-child::after {width: 0;}#sk-container-id-1 div.sk-dashed-wrapped {border: 1px dashed gray;margin: 0 0.4em 0.5em 0.4em;box-sizing: border-box;padding-bottom: 0.4em;background-color: white;}#sk-container-id-1 div.sk-label label {font-family: monospace;font-weight: bold;display: inline-block;line-height: 1.2em;}#sk-container-id-1 div.sk-label-container {text-align: center;}#sk-container-id-1 div.sk-container {/* jupyter's `normalize.less` sets `[hidden] { display: none; }` but bootstrap.min.css set `[hidden] { display: none !important; }` so we also need the `!important` here to be able to override the default hidden behavior on the sphinx rendered scikit-learn.org. See: https://github.com/scikit-learn/scikit-learn/issues/21755 */display: inline-block !important;position: relative;}#sk-container-id-1 div.sk-text-repr-fallback {display: none;}</style><div id=\"sk-container-id-1\" class=\"sk-top-container\"><div class=\"sk-text-repr-fallback\"><pre>RandomForestClassifier(min_weight_fraction_leaf=0)</pre><b>In a Jupyter environment, please rerun this cell to show the HTML representation or trust the notebook. <br />On GitHub, the HTML representation is unable to render, please try loading this page with nbviewer.org.</b></div><div class=\"sk-container\" hidden><div class=\"sk-item\"><div class=\"sk-estimator sk-toggleable\"><input class=\"sk-toggleable__control sk-hidden--visually\" id=\"sk-estimator-id-1\" type=\"checkbox\" checked><label for=\"sk-estimator-id-1\" class=\"sk-toggleable__label sk-toggleable__label-arrow\">RandomForestClassifier</label><div class=\"sk-toggleable__content\"><pre>RandomForestClassifier(min_weight_fraction_leaf=0)</pre></div></div></div></div></div>"
     },
     "execution_count": 10,
     "metadata": {},
     "output_type": "execute_result"
    }
   ],
   "source": [
    "rfc = RandomForestClassifier(n_estimators=100, min_weight_fraction_leaf= 0)\n",
    "rfc.fit(X_train, y_train)"
   ]
  },
  {
   "cell_type": "code",
   "execution_count": 11,
   "outputs": [],
   "source": [
    "rfc_pred = rfc.predict(X_test)"
   ],
   "metadata": {
    "collapsed": false
   }
  },
  {
   "cell_type": "code",
   "execution_count": 12,
   "outputs": [
    {
     "name": "stdout",
     "output_type": "stream",
     "text": [
      "              precision    recall  f1-score   support\n",
      "\n",
      "           1       1.00      0.00      0.00       495\n",
      "           2       0.00      0.00      0.00       822\n",
      "           3       0.00      0.00      0.00      1706\n",
      "           4       0.12      0.00      0.00      2738\n",
      "           5       0.38      0.01      0.01     15342\n",
      "           6       0.15      0.00      0.00     11155\n",
      "           7       0.25      0.05      0.08     23011\n",
      "           8       0.24      0.95      0.38     31185\n",
      "           9       0.16      0.00      0.00     20122\n",
      "          10       0.34      0.02      0.04     23526\n",
      "\n",
      "    accuracy                           0.24    130102\n",
      "   macro avg       0.27      0.10      0.05    130102\n",
      "weighted avg       0.25      0.24      0.12    130102\n",
      "\n"
     ]
    }
   ],
   "source": [
    "print(classification_report(y_test,rfc_pred))"
   ],
   "metadata": {
    "collapsed": false
   }
  },
  {
   "cell_type": "code",
   "execution_count": 13,
   "outputs": [
    {
     "name": "stdout",
     "output_type": "stream",
     "text": [
      "24.243286037109346\n"
     ]
    }
   ],
   "source": [
    "print(accuracy_score(y_test,rfc_pred)*100)"
   ],
   "metadata": {
    "collapsed": false
   }
  }
 ],
 "metadata": {
  "kernelspec": {
   "display_name": "Python 3 (ipykernel)",
   "language": "python",
   "name": "python3"
  },
  "language_info": {
   "codemirror_mode": {
    "name": "ipython",
    "version": 3
   },
   "file_extension": ".py",
   "mimetype": "text/x-python",
   "name": "python",
   "nbconvert_exporter": "python",
   "pygments_lexer": "ipython3",
   "version": "3.10.8"
  }
 },
 "nbformat": 4,
 "nbformat_minor": 5
}
