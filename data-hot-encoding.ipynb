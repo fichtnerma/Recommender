{
 "cells": [
  {
   "cell_type": "markdown",
   "source": [
    "# BibRec: Data Normalization"
   ],
   "metadata": {
    "collapsed": false
   }
  },
  {
   "cell_type": "markdown",
   "source": [
    "## Encode Dataset"
   ],
   "metadata": {
    "collapsed": false
   }
  },
  {
   "cell_type": "code",
   "execution_count": 16,
   "outputs": [],
   "source": [
    "from bibrec.server.Utils import *\n",
    "\n",
    "books = get_books(books_path='data/BX-Books.csv')\n",
    "users = get_users(users_path='data/BX-Users.csv')\n",
    "ratings = get_ratings(books, ratings_path='data/BX-Book-Ratings.csv', explicit_only=False)\n",
    "\n",
    "# normalize data\n",
    "norm_books, norm_users, norm_ratings = normalize_data(books, users, ratings)"
   ],
   "metadata": {
    "collapsed": false
   }
  },
  {
   "cell_type": "code",
   "execution_count": 17,
   "outputs": [
    {
     "data": {
      "text/plain": "(              isbn                                         book_title  \\\n 0       0195153448                                Classical Mythology   \n 1       0002005018                                       Clara Callan   \n 2       0060973129                               Decision in Normandy   \n 3       0374157065  Flu: The Story of the Great Influenza Pandemic...   \n 4       0393045218                             The Mummies of Urumchi   \n ...            ...                                                ...   \n 270939  0440400988                         There's a Bat in Bunk Five   \n 270940  0525447644                            From One to One Hundred   \n 270941  006008667X  Lily Dale : The True Story of the Town that Ta...   \n 270942  0192126040                        Republic (World's Classics)   \n 270943  0767409752  A Guided Tour of Rene Descartes' Meditations o...   \n \n                  book_author  year_of_publication publisher  \\\n 0         Mark P. O. Morford                 2002     other   \n 1       Richard Bruce Wright                 2001     other   \n 2               Carlo D'Este                 1991     other   \n 3           Gina Bari Kolata                 1999     other   \n 4            E. J. W. Barber                 1999     other   \n ...                      ...                  ...       ...   \n 270939        Paula Danziger                 1988     other   \n 270940            Teri Sloat                 1991     other   \n 270941      Christine Wicker                 2004     other   \n 270942                 Plato                 1996     other   \n 270943   Christopher  Biffle                 2000     other   \n \n                                               image_url_s  \\\n 0       http://images.amazon.com/images/P/0195153448.0...   \n 1       http://images.amazon.com/images/P/0002005018.0...   \n 2       http://images.amazon.com/images/P/0060973129.0...   \n 3       http://images.amazon.com/images/P/0374157065.0...   \n 4       http://images.amazon.com/images/P/0393045218.0...   \n ...                                                   ...   \n 270939  http://images.amazon.com/images/P/0440400988.0...   \n 270940  http://images.amazon.com/images/P/0525447644.0...   \n 270941  http://images.amazon.com/images/P/006008667X.0...   \n 270942  http://images.amazon.com/images/P/0192126040.0...   \n 270943  http://images.amazon.com/images/P/0767409752.0...   \n \n                                               image_url_m  \\\n 0       http://images.amazon.com/images/P/0195153448.0...   \n 1       http://images.amazon.com/images/P/0002005018.0...   \n 2       http://images.amazon.com/images/P/0060973129.0...   \n 3       http://images.amazon.com/images/P/0374157065.0...   \n 4       http://images.amazon.com/images/P/0393045218.0...   \n ...                                                   ...   \n 270939  http://images.amazon.com/images/P/0440400988.0...   \n 270940  http://images.amazon.com/images/P/0525447644.0...   \n 270941  http://images.amazon.com/images/P/006008667X.0...   \n 270942  http://images.amazon.com/images/P/0192126040.0...   \n 270943  http://images.amazon.com/images/P/0767409752.0...   \n \n                                               image_url_l         isbn13  \\\n 0       http://images.amazon.com/images/P/0195153448.0...  9780195153446   \n 1       http://images.amazon.com/images/P/0002005018.0...  9780002005012   \n 2       http://images.amazon.com/images/P/0060973129.0...  9780060973124   \n 3       http://images.amazon.com/images/P/0374157065.0...  9780374157067   \n 4       http://images.amazon.com/images/P/0393045218.0...  9780393045215   \n ...                                                   ...            ...   \n 270939  http://images.amazon.com/images/P/0440400988.0...   978044040095   \n 270940  http://images.amazon.com/images/P/0525447644.0...   978052544763   \n 270941  http://images.amazon.com/images/P/006008667X.0...  9780060086671   \n 270942  http://images.amazon.com/images/P/0192126040.0...  9780192126047   \n 270943  http://images.amazon.com/images/P/0767409752.0...  9780767409759   \n \n         rating_mean  rating_count  normalized_year_of_publication  \n 0          0.000000           1.0                               3  \n 1          4.928571          14.0                               4  \n 2          5.000000           3.0                              14  \n 3          4.272727          11.0                               6  \n 4          0.000000           1.0                               6  \n ...             ...           ...                             ...  \n 270939     7.000000           1.0                              17  \n 270940     4.000000           1.0                              14  \n 270941     0.000000           1.0                               1  \n 270942     0.000000           1.0                               9  \n 270943     0.000000           1.0                               5  \n \n [270944 rows x 12 columns],\n         user_id        age         city       state         country  \\\n 0             1  36.539987          nyc    new_york             usa   \n 1             2  18.000000     stockton  california             usa   \n 2             3  41.288048       moscow       other           other   \n 3             4  17.000000        porto       other        portugal   \n 4             5  40.452294  farnborough       other  united_kingdom   \n ...         ...        ...          ...         ...             ...   \n 278853   278854  30.181813     portland      oregon             usa   \n 278854   278855  50.000000       tacoma  washington  united_kingdom   \n 278855   278856  47.979381     brampton     ontario          canada   \n 278856   278857  31.946911    knoxville       other             usa   \n 278857   278858  41.106568       dublin         n/a           other   \n \n         user_mean  user_count  \n 0            0.00         0.0  \n 1            0.00         1.0  \n 2            0.00         0.0  \n 3            0.00         0.0  \n 4            0.00         0.0  \n ...           ...         ...  \n 278853       5.25         8.0  \n 278854       0.00         0.0  \n 278855       0.00         0.0  \n 278856       0.00         0.0  \n 278857       0.00         0.0  \n \n [278858 rows x 7 columns],\n                 isbn13  normalized_rating  user_id        isbn  book_rating\n 0        9780155061224                0.0   276726  0155061224            5\n 1        9780521656153               -1.5   276729  052165615X            3\n 2        9780521795029                1.5   276729  0521795028            6\n 3        9780385501200                0.0   276744  038550120X            7\n 4        9780385501200                0.0    11676  038550120X           10\n ...                ...                ...      ...         ...          ...\n 9444717  9780515107661                0.0   242006  0515107662           10\n 9444718  9780515107661                0.0   249628  0515107662           10\n 9444719  9780515107661                0.0   276709  0515107662           10\n 9444720  9780590442442                0.0   197659  0590442449            8\n 9444721  9780590442442                0.0   276721  0590442449           10\n \n [9444722 rows x 5 columns])"
     },
     "execution_count": 17,
     "metadata": {},
     "output_type": "execute_result"
    }
   ],
   "source": [
    "# export normalized data to CSV Files\n",
    "export_normalized_data(norm_books, norm_users, norm_ratings)"
   ],
   "metadata": {
    "collapsed": false
   }
  },
  {
   "cell_type": "code",
   "execution_count": 18,
   "outputs": [],
   "source": [
    "# load normalized csv files\n",
    "norm_books, norm_users, norm_ratings = get_normalized_data(books_path='data/normalized_books.csv',\n",
    "                                                           users_path='data/normalized_users.csv',\n",
    "                                                           ratings_path='data/normalized_ratings.csv')"
   ],
   "metadata": {
    "collapsed": false
   }
  },
  {
   "cell_type": "markdown",
   "source": [
    "## Hot Encoded Dataset"
   ],
   "metadata": {
    "collapsed": false
   }
  },
  {
   "cell_type": "code",
   "execution_count": null,
   "outputs": [],
   "source": [
    "from bibrec.server.Utils import hot_encode_books, hot_encode_users\n",
    "encoded_books = hot_encode_books(norm_books)\n",
    "encoded_books.to_csv('data/encoded_books.csv')"
   ],
   "metadata": {
    "collapsed": false,
    "pycharm": {
     "is_executing": true
    }
   }
  },
  {
   "cell_type": "code",
   "execution_count": null,
   "outputs": [],
   "source": [
    "encoded_users = hot_encode_users(norm_users)\n",
    "encoded_users.to_csv('data/encoded_users.csv')"
   ],
   "metadata": {
    "collapsed": false,
    "pycharm": {
     "is_executing": true
    }
   }
  },
  {
   "cell_type": "code",
   "execution_count": null,
   "outputs": [],
   "source": [
    "encoded_books.describe()"
   ],
   "metadata": {
    "collapsed": false,
    "pycharm": {
     "is_executing": true
    }
   }
  },
  {
   "cell_type": "code",
   "execution_count": null,
   "outputs": [],
   "source": [
    "encoded_users.describe()"
   ],
   "metadata": {
    "collapsed": false,
    "pycharm": {
     "is_executing": true
    }
   }
  }
 ],
 "metadata": {
  "kernelspec": {
   "display_name": "Python 3 (ipykernel)",
   "language": "python",
   "name": "python3"
  },
  "language_info": {
   "codemirror_mode": {
    "name": "ipython",
    "version": 3
   },
   "file_extension": ".py",
   "mimetype": "text/x-python",
   "name": "python",
   "nbconvert_exporter": "python",
   "pygments_lexer": "ipython3",
   "version": "3.10.8"
  }
 },
 "nbformat": 4,
 "nbformat_minor": 5
}
