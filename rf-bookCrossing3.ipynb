{
 "cells": [
  {
   "cell_type": "markdown",
   "source": [
    "# BibRec"
   ],
   "metadata": {
    "collapsed": false
   }
  },
  {
   "cell_type": "markdown",
   "source": [
    "### RF Features: Country, State, Age"
   ],
   "metadata": {
    "collapsed": false
   }
  },
  {
   "cell_type": "code",
   "execution_count": 33,
   "outputs": [
    {
     "name": "stderr",
     "output_type": "stream",
     "text": [
      "/run/media/fab/Dev/repos/FH-SBG/MMT1/RES/recommender-systems/bibrec/server/Utils.py:7: DtypeWarning: Columns (3) have mixed types. Specify dtype option on import or set low_memory=False.\n",
      "  books = pd.read_csv(path, sep=\";\", encoding=\"latin-1\")\n"
     ]
    },
    {
     "name": "stdout",
     "output_type": "stream",
     "text": [
      "With NaN values 34.862889904962536\n",
      "used mean values 34.90360581785413\n"
     ]
    },
    {
     "name": "stderr",
     "output_type": "stream",
     "text": [
      "/run/media/fab/Dev/repos/FH-SBG/MMT1/RES/recommender-systems/bibrec/server/Utils.py:38: FutureWarning: In a future version of pandas all arguments of StringMethods.split except for the argument 'pat' will be keyword-only.\n",
      "  location_seperated = users.location.str.split(',', 2, expand=True)\n"
     ]
    }
   ],
   "source": [
    "from bibrec.server.Utils import get_books, get_users, get_ratings\n",
    "\n",
    "books = get_books(\"data/BX-Books.csv\")\n",
    "users = get_users(\"data/BX-Users.csv\")\n",
    "ratings = get_ratings(\"data/BX-Book-Ratings.csv\")"
   ],
   "metadata": {
    "collapsed": false
   }
  },
  {
   "cell_type": "code",
   "execution_count": 34,
   "outputs": [],
   "source": [
    "import pandas as pd\n",
    "from sklearn.model_selection import train_test_split\n",
    "from sklearn.ensemble import RandomForestClassifier\n",
    "from sklearn.metrics import classification_report, accuracy_score"
   ],
   "metadata": {
    "collapsed": false
   }
  },
  {
   "cell_type": "code",
   "execution_count": 35,
   "outputs": [
    {
     "data": {
      "text/plain": "         user_id           isbn  book_rating\n1         276726  9780155061224            5\n3         276729  9780521656153            3\n4         276729  9780521795029            6\n6         276736  9783257224283            8\n7         276737  9780600570967            6\n...          ...            ...          ...\n1149771   276704  9780743211383            7\n1149773   276704  9780806917696            5\n1149775   276704  9781563526299            9\n1149777   276709  9780515107661           10\n1149778   276721  9780590442442           10\n\n[429380 rows x 3 columns]",
      "text/html": "<div>\n<style scoped>\n    .dataframe tbody tr th:only-of-type {\n        vertical-align: middle;\n    }\n\n    .dataframe tbody tr th {\n        vertical-align: top;\n    }\n\n    .dataframe thead th {\n        text-align: right;\n    }\n</style>\n<table border=\"1\" class=\"dataframe\">\n  <thead>\n    <tr style=\"text-align: right;\">\n      <th></th>\n      <th>user_id</th>\n      <th>isbn</th>\n      <th>book_rating</th>\n    </tr>\n  </thead>\n  <tbody>\n    <tr>\n      <th>1</th>\n      <td>276726</td>\n      <td>9780155061224</td>\n      <td>5</td>\n    </tr>\n    <tr>\n      <th>3</th>\n      <td>276729</td>\n      <td>9780521656153</td>\n      <td>3</td>\n    </tr>\n    <tr>\n      <th>4</th>\n      <td>276729</td>\n      <td>9780521795029</td>\n      <td>6</td>\n    </tr>\n    <tr>\n      <th>6</th>\n      <td>276736</td>\n      <td>9783257224283</td>\n      <td>8</td>\n    </tr>\n    <tr>\n      <th>7</th>\n      <td>276737</td>\n      <td>9780600570967</td>\n      <td>6</td>\n    </tr>\n    <tr>\n      <th>...</th>\n      <td>...</td>\n      <td>...</td>\n      <td>...</td>\n    </tr>\n    <tr>\n      <th>1149771</th>\n      <td>276704</td>\n      <td>9780743211383</td>\n      <td>7</td>\n    </tr>\n    <tr>\n      <th>1149773</th>\n      <td>276704</td>\n      <td>9780806917696</td>\n      <td>5</td>\n    </tr>\n    <tr>\n      <th>1149775</th>\n      <td>276704</td>\n      <td>9781563526299</td>\n      <td>9</td>\n    </tr>\n    <tr>\n      <th>1149777</th>\n      <td>276709</td>\n      <td>9780515107661</td>\n      <td>10</td>\n    </tr>\n    <tr>\n      <th>1149778</th>\n      <td>276721</td>\n      <td>9780590442442</td>\n      <td>10</td>\n    </tr>\n  </tbody>\n</table>\n<p>429380 rows × 3 columns</p>\n</div>"
     },
     "execution_count": 35,
     "metadata": {},
     "output_type": "execute_result"
    }
   ],
   "source": [
    "explicit_ratings = ratings[ratings.book_rating != 0]\n",
    "explicit_ratings"
   ],
   "metadata": {
    "collapsed": false
   }
  },
  {
   "cell_type": "code",
   "execution_count": 36,
   "outputs": [
    {
     "data": {
      "text/plain": "              isbn\n0    9780316666343\n1    9780971880108\n2    9780385504201\n3    9780312195519\n4    9780679781585\n..             ...\n995   978038000148\n996  9780671695071\n997  9780684853529\n998  9780394223803\n999  9780446679367\n\n[1000 rows x 1 columns]",
      "text/html": "<div>\n<style scoped>\n    .dataframe tbody tr th:only-of-type {\n        vertical-align: middle;\n    }\n\n    .dataframe tbody tr th {\n        vertical-align: top;\n    }\n\n    .dataframe thead th {\n        text-align: right;\n    }\n</style>\n<table border=\"1\" class=\"dataframe\">\n  <thead>\n    <tr style=\"text-align: right;\">\n      <th></th>\n      <th>isbn</th>\n    </tr>\n  </thead>\n  <tbody>\n    <tr>\n      <th>0</th>\n      <td>9780316666343</td>\n    </tr>\n    <tr>\n      <th>1</th>\n      <td>9780971880108</td>\n    </tr>\n    <tr>\n      <th>2</th>\n      <td>9780385504201</td>\n    </tr>\n    <tr>\n      <th>3</th>\n      <td>9780312195519</td>\n    </tr>\n    <tr>\n      <th>4</th>\n      <td>9780679781585</td>\n    </tr>\n    <tr>\n      <th>...</th>\n      <td>...</td>\n    </tr>\n    <tr>\n      <th>995</th>\n      <td>978038000148</td>\n    </tr>\n    <tr>\n      <th>996</th>\n      <td>9780671695071</td>\n    </tr>\n    <tr>\n      <th>997</th>\n      <td>9780684853529</td>\n    </tr>\n    <tr>\n      <th>998</th>\n      <td>9780394223803</td>\n    </tr>\n    <tr>\n      <th>999</th>\n      <td>9780446679367</td>\n    </tr>\n  </tbody>\n</table>\n<p>1000 rows × 1 columns</p>\n</div>"
     },
     "execution_count": 36,
     "metadata": {},
     "output_type": "execute_result"
    }
   ],
   "source": [
    "df_ratings = explicit_ratings.groupby('isbn').user_id.count().sort_values(ascending=False)\n",
    "# df_ratings = explicit_ratings.groupby('isbn').user_id.count().sort_values()\n",
    "df_ratings = df_ratings[:1000]\n",
    "df_ratings = df_ratings.reset_index()\n",
    "# user_id => nr of ratings\n",
    "df_ratings = df_ratings.drop('user_id',axis=1)\n",
    "df_ratings"
   ],
   "metadata": {
    "collapsed": false
   }
  },
  {
   "cell_type": "code",
   "execution_count": 37,
   "outputs": [
    {
     "data": {
      "text/plain": "                isbn  user_id  book_rating\n0      9780316666343   277439            7\n1      9780316666343   277752            7\n2      9780316666343   278633            9\n3      9780316666343      638           10\n4      9780316666343      709            3\n...              ...      ...          ...\n68510  9780446679367   223787            7\n68511  9780446679367   226267            8\n68512  9780446679367   242574            8\n68513  9780446679367   260099            4\n68514  9780446679367   268932            9\n\n[68515 rows x 3 columns]",
      "text/html": "<div>\n<style scoped>\n    .dataframe tbody tr th:only-of-type {\n        vertical-align: middle;\n    }\n\n    .dataframe tbody tr th {\n        vertical-align: top;\n    }\n\n    .dataframe thead th {\n        text-align: right;\n    }\n</style>\n<table border=\"1\" class=\"dataframe\">\n  <thead>\n    <tr style=\"text-align: right;\">\n      <th></th>\n      <th>isbn</th>\n      <th>user_id</th>\n      <th>book_rating</th>\n    </tr>\n  </thead>\n  <tbody>\n    <tr>\n      <th>0</th>\n      <td>9780316666343</td>\n      <td>277439</td>\n      <td>7</td>\n    </tr>\n    <tr>\n      <th>1</th>\n      <td>9780316666343</td>\n      <td>277752</td>\n      <td>7</td>\n    </tr>\n    <tr>\n      <th>2</th>\n      <td>9780316666343</td>\n      <td>278633</td>\n      <td>9</td>\n    </tr>\n    <tr>\n      <th>3</th>\n      <td>9780316666343</td>\n      <td>638</td>\n      <td>10</td>\n    </tr>\n    <tr>\n      <th>4</th>\n      <td>9780316666343</td>\n      <td>709</td>\n      <td>3</td>\n    </tr>\n    <tr>\n      <th>...</th>\n      <td>...</td>\n      <td>...</td>\n      <td>...</td>\n    </tr>\n    <tr>\n      <th>68510</th>\n      <td>9780446679367</td>\n      <td>223787</td>\n      <td>7</td>\n    </tr>\n    <tr>\n      <th>68511</th>\n      <td>9780446679367</td>\n      <td>226267</td>\n      <td>8</td>\n    </tr>\n    <tr>\n      <th>68512</th>\n      <td>9780446679367</td>\n      <td>242574</td>\n      <td>8</td>\n    </tr>\n    <tr>\n      <th>68513</th>\n      <td>9780446679367</td>\n      <td>260099</td>\n      <td>4</td>\n    </tr>\n    <tr>\n      <th>68514</th>\n      <td>9780446679367</td>\n      <td>268932</td>\n      <td>9</td>\n    </tr>\n  </tbody>\n</table>\n<p>68515 rows × 3 columns</p>\n</div>"
     },
     "execution_count": 37,
     "metadata": {},
     "output_type": "execute_result"
    }
   ],
   "source": [
    "df_ratings = df_ratings.merge(explicit_ratings, on='isbn', how='left')\n",
    "# df_ratings = test.merge(explicit_ratings, on='isbn', how='left')\n",
    "df_ratings"
   ],
   "metadata": {
    "collapsed": false
   }
  },
  {
   "cell_type": "code",
   "execution_count": 38,
   "outputs": [
    {
     "data": {
      "text/plain": "                isbn  user_id  book_rating  country              state  \\\n0      9780316666343   277439            7      usa             oregon   \n1      9780671027360   277439            7      usa             oregon   \n2      9780316666343   277752            7      usa          louisiana   \n3      9780679734772   277752            8      usa          louisiana   \n4      9780316666343   278633            9      usa               utah   \n...              ...      ...          ...      ...                ...   \n68510  9780394223803   271077           10   canada   british columbia   \n68511  9780446679367    15783            6      usa            montana   \n68512  9780446679367   129135            8      NaN             oregon   \n68513  9780446679367   204414            9      usa           illinois   \n68514  9780446679367   242574            8      usa           illinois   \n\n             age  \n0      65.000000  \n1      65.000000  \n2      18.000000  \n3      18.000000  \n4      38.965423  \n...          ...  \n68510  49.000000  \n68511  16.032971  \n68512  52.473237  \n68513  42.000000  \n68514  27.899521  \n\n[68515 rows x 6 columns]",
      "text/html": "<div>\n<style scoped>\n    .dataframe tbody tr th:only-of-type {\n        vertical-align: middle;\n    }\n\n    .dataframe tbody tr th {\n        vertical-align: top;\n    }\n\n    .dataframe thead th {\n        text-align: right;\n    }\n</style>\n<table border=\"1\" class=\"dataframe\">\n  <thead>\n    <tr style=\"text-align: right;\">\n      <th></th>\n      <th>isbn</th>\n      <th>user_id</th>\n      <th>book_rating</th>\n      <th>country</th>\n      <th>state</th>\n      <th>age</th>\n    </tr>\n  </thead>\n  <tbody>\n    <tr>\n      <th>0</th>\n      <td>9780316666343</td>\n      <td>277439</td>\n      <td>7</td>\n      <td>usa</td>\n      <td>oregon</td>\n      <td>65.000000</td>\n    </tr>\n    <tr>\n      <th>1</th>\n      <td>9780671027360</td>\n      <td>277439</td>\n      <td>7</td>\n      <td>usa</td>\n      <td>oregon</td>\n      <td>65.000000</td>\n    </tr>\n    <tr>\n      <th>2</th>\n      <td>9780316666343</td>\n      <td>277752</td>\n      <td>7</td>\n      <td>usa</td>\n      <td>louisiana</td>\n      <td>18.000000</td>\n    </tr>\n    <tr>\n      <th>3</th>\n      <td>9780679734772</td>\n      <td>277752</td>\n      <td>8</td>\n      <td>usa</td>\n      <td>louisiana</td>\n      <td>18.000000</td>\n    </tr>\n    <tr>\n      <th>4</th>\n      <td>9780316666343</td>\n      <td>278633</td>\n      <td>9</td>\n      <td>usa</td>\n      <td>utah</td>\n      <td>38.965423</td>\n    </tr>\n    <tr>\n      <th>...</th>\n      <td>...</td>\n      <td>...</td>\n      <td>...</td>\n      <td>...</td>\n      <td>...</td>\n      <td>...</td>\n    </tr>\n    <tr>\n      <th>68510</th>\n      <td>9780394223803</td>\n      <td>271077</td>\n      <td>10</td>\n      <td>canada</td>\n      <td>british columbia</td>\n      <td>49.000000</td>\n    </tr>\n    <tr>\n      <th>68511</th>\n      <td>9780446679367</td>\n      <td>15783</td>\n      <td>6</td>\n      <td>usa</td>\n      <td>montana</td>\n      <td>16.032971</td>\n    </tr>\n    <tr>\n      <th>68512</th>\n      <td>9780446679367</td>\n      <td>129135</td>\n      <td>8</td>\n      <td>NaN</td>\n      <td>oregon</td>\n      <td>52.473237</td>\n    </tr>\n    <tr>\n      <th>68513</th>\n      <td>9780446679367</td>\n      <td>204414</td>\n      <td>9</td>\n      <td>usa</td>\n      <td>illinois</td>\n      <td>42.000000</td>\n    </tr>\n    <tr>\n      <th>68514</th>\n      <td>9780446679367</td>\n      <td>242574</td>\n      <td>8</td>\n      <td>usa</td>\n      <td>illinois</td>\n      <td>27.899521</td>\n    </tr>\n  </tbody>\n</table>\n<p>68515 rows × 6 columns</p>\n</div>"
     },
     "execution_count": 38,
     "metadata": {},
     "output_type": "execute_result"
    }
   ],
   "source": [
    "# merge datasets\n",
    "df = df_ratings.merge(users[['user_id', 'country', 'state', 'age']])\n",
    "df"
   ],
   "metadata": {
    "collapsed": false
   }
  },
  {
   "cell_type": "code",
   "execution_count": 39,
   "outputs": [
    {
     "data": {
      "text/plain": "        \\n/a\\\", greece\"   albania   algeria   antarctica   argentina  \\\n0                     0         0         0            0           0   \n1                     0         0         0            0           0   \n2                     0         0         0            0           0   \n3                     0         0         0            0           0   \n4                     0         0         0            0           0   \n...                 ...       ...       ...          ...         ...   \n68510                 0         0         0            0           0   \n68511                 0         0         0            0           0   \n68512                 0         0         0            0           0   \n68513                 0         0         0            0           0   \n68514                 0         0         0            0           0   \n\n        aroostook   aruba   australia   austria   bahamas  ...   ysa  \\\n0               0       0           0         0         0  ...     0   \n1               0       0           0         0         0  ...     0   \n2               0       0           0         0         0  ...     0   \n3               0       0           0         0         0  ...     0   \n4               0       0           0         0         0  ...     0   \n...           ...     ...         ...       ...       ...  ...   ...   \n68510           0       0           0         0         0  ...     0   \n68511           0       0           0         0         0  ...     0   \n68512           0       0           0         0         0  ...     0   \n68513           0       0           0         0         0  ...     0   \n68514           0       0           0         0         0  ...     0   \n\n        yugoslavia   zambia   zimbabwe  , denmark  , england, united kingdom  \\\n0                0        0          0          0                          0   \n1                0        0          0          0                          0   \n2                0        0          0          0                          0   \n3                0        0          0          0                          0   \n4                0        0          0          0                          0   \n...            ...      ...        ...        ...                        ...   \n68510            0        0          0          0                          0   \n68511            0        0          0          0                          0   \n68512            0        0          0          0                          0   \n68513            0        0          0          0                          0   \n68514            0        0          0          0                          0   \n\n       , malaysia  , mexico  , new zealand  , portugal  \n0               0         0              0           0  \n1               0         0              0           0  \n2               0         0              0           0  \n3               0         0              0           0  \n4               0         0              0           0  \n...           ...       ...            ...         ...  \n68510           0         0              0           0  \n68511           0         0              0           0  \n68512           0         0              0           0  \n68513           0         0              0           0  \n68514           0         0              0           0  \n\n[68515 rows x 178 columns]",
      "text/html": "<div>\n<style scoped>\n    .dataframe tbody tr th:only-of-type {\n        vertical-align: middle;\n    }\n\n    .dataframe tbody tr th {\n        vertical-align: top;\n    }\n\n    .dataframe thead th {\n        text-align: right;\n    }\n</style>\n<table border=\"1\" class=\"dataframe\">\n  <thead>\n    <tr style=\"text-align: right;\">\n      <th></th>\n      <th>\\n/a\\\", greece\"</th>\n      <th>albania</th>\n      <th>algeria</th>\n      <th>antarctica</th>\n      <th>argentina</th>\n      <th>aroostook</th>\n      <th>aruba</th>\n      <th>australia</th>\n      <th>austria</th>\n      <th>bahamas</th>\n      <th>...</th>\n      <th>ysa</th>\n      <th>yugoslavia</th>\n      <th>zambia</th>\n      <th>zimbabwe</th>\n      <th>, denmark</th>\n      <th>, england, united kingdom</th>\n      <th>, malaysia</th>\n      <th>, mexico</th>\n      <th>, new zealand</th>\n      <th>, portugal</th>\n    </tr>\n  </thead>\n  <tbody>\n    <tr>\n      <th>0</th>\n      <td>0</td>\n      <td>0</td>\n      <td>0</td>\n      <td>0</td>\n      <td>0</td>\n      <td>0</td>\n      <td>0</td>\n      <td>0</td>\n      <td>0</td>\n      <td>0</td>\n      <td>...</td>\n      <td>0</td>\n      <td>0</td>\n      <td>0</td>\n      <td>0</td>\n      <td>0</td>\n      <td>0</td>\n      <td>0</td>\n      <td>0</td>\n      <td>0</td>\n      <td>0</td>\n    </tr>\n    <tr>\n      <th>1</th>\n      <td>0</td>\n      <td>0</td>\n      <td>0</td>\n      <td>0</td>\n      <td>0</td>\n      <td>0</td>\n      <td>0</td>\n      <td>0</td>\n      <td>0</td>\n      <td>0</td>\n      <td>...</td>\n      <td>0</td>\n      <td>0</td>\n      <td>0</td>\n      <td>0</td>\n      <td>0</td>\n      <td>0</td>\n      <td>0</td>\n      <td>0</td>\n      <td>0</td>\n      <td>0</td>\n    </tr>\n    <tr>\n      <th>2</th>\n      <td>0</td>\n      <td>0</td>\n      <td>0</td>\n      <td>0</td>\n      <td>0</td>\n      <td>0</td>\n      <td>0</td>\n      <td>0</td>\n      <td>0</td>\n      <td>0</td>\n      <td>...</td>\n      <td>0</td>\n      <td>0</td>\n      <td>0</td>\n      <td>0</td>\n      <td>0</td>\n      <td>0</td>\n      <td>0</td>\n      <td>0</td>\n      <td>0</td>\n      <td>0</td>\n    </tr>\n    <tr>\n      <th>3</th>\n      <td>0</td>\n      <td>0</td>\n      <td>0</td>\n      <td>0</td>\n      <td>0</td>\n      <td>0</td>\n      <td>0</td>\n      <td>0</td>\n      <td>0</td>\n      <td>0</td>\n      <td>...</td>\n      <td>0</td>\n      <td>0</td>\n      <td>0</td>\n      <td>0</td>\n      <td>0</td>\n      <td>0</td>\n      <td>0</td>\n      <td>0</td>\n      <td>0</td>\n      <td>0</td>\n    </tr>\n    <tr>\n      <th>4</th>\n      <td>0</td>\n      <td>0</td>\n      <td>0</td>\n      <td>0</td>\n      <td>0</td>\n      <td>0</td>\n      <td>0</td>\n      <td>0</td>\n      <td>0</td>\n      <td>0</td>\n      <td>...</td>\n      <td>0</td>\n      <td>0</td>\n      <td>0</td>\n      <td>0</td>\n      <td>0</td>\n      <td>0</td>\n      <td>0</td>\n      <td>0</td>\n      <td>0</td>\n      <td>0</td>\n    </tr>\n    <tr>\n      <th>...</th>\n      <td>...</td>\n      <td>...</td>\n      <td>...</td>\n      <td>...</td>\n      <td>...</td>\n      <td>...</td>\n      <td>...</td>\n      <td>...</td>\n      <td>...</td>\n      <td>...</td>\n      <td>...</td>\n      <td>...</td>\n      <td>...</td>\n      <td>...</td>\n      <td>...</td>\n      <td>...</td>\n      <td>...</td>\n      <td>...</td>\n      <td>...</td>\n      <td>...</td>\n      <td>...</td>\n    </tr>\n    <tr>\n      <th>68510</th>\n      <td>0</td>\n      <td>0</td>\n      <td>0</td>\n      <td>0</td>\n      <td>0</td>\n      <td>0</td>\n      <td>0</td>\n      <td>0</td>\n      <td>0</td>\n      <td>0</td>\n      <td>...</td>\n      <td>0</td>\n      <td>0</td>\n      <td>0</td>\n      <td>0</td>\n      <td>0</td>\n      <td>0</td>\n      <td>0</td>\n      <td>0</td>\n      <td>0</td>\n      <td>0</td>\n    </tr>\n    <tr>\n      <th>68511</th>\n      <td>0</td>\n      <td>0</td>\n      <td>0</td>\n      <td>0</td>\n      <td>0</td>\n      <td>0</td>\n      <td>0</td>\n      <td>0</td>\n      <td>0</td>\n      <td>0</td>\n      <td>...</td>\n      <td>0</td>\n      <td>0</td>\n      <td>0</td>\n      <td>0</td>\n      <td>0</td>\n      <td>0</td>\n      <td>0</td>\n      <td>0</td>\n      <td>0</td>\n      <td>0</td>\n    </tr>\n    <tr>\n      <th>68512</th>\n      <td>0</td>\n      <td>0</td>\n      <td>0</td>\n      <td>0</td>\n      <td>0</td>\n      <td>0</td>\n      <td>0</td>\n      <td>0</td>\n      <td>0</td>\n      <td>0</td>\n      <td>...</td>\n      <td>0</td>\n      <td>0</td>\n      <td>0</td>\n      <td>0</td>\n      <td>0</td>\n      <td>0</td>\n      <td>0</td>\n      <td>0</td>\n      <td>0</td>\n      <td>0</td>\n    </tr>\n    <tr>\n      <th>68513</th>\n      <td>0</td>\n      <td>0</td>\n      <td>0</td>\n      <td>0</td>\n      <td>0</td>\n      <td>0</td>\n      <td>0</td>\n      <td>0</td>\n      <td>0</td>\n      <td>0</td>\n      <td>...</td>\n      <td>0</td>\n      <td>0</td>\n      <td>0</td>\n      <td>0</td>\n      <td>0</td>\n      <td>0</td>\n      <td>0</td>\n      <td>0</td>\n      <td>0</td>\n      <td>0</td>\n    </tr>\n    <tr>\n      <th>68514</th>\n      <td>0</td>\n      <td>0</td>\n      <td>0</td>\n      <td>0</td>\n      <td>0</td>\n      <td>0</td>\n      <td>0</td>\n      <td>0</td>\n      <td>0</td>\n      <td>0</td>\n      <td>...</td>\n      <td>0</td>\n      <td>0</td>\n      <td>0</td>\n      <td>0</td>\n      <td>0</td>\n      <td>0</td>\n      <td>0</td>\n      <td>0</td>\n      <td>0</td>\n      <td>0</td>\n    </tr>\n  </tbody>\n</table>\n<p>68515 rows × 178 columns</p>\n</div>"
     },
     "execution_count": 39,
     "metadata": {},
     "output_type": "execute_result"
    }
   ],
   "source": [
    "country = pd.get_dummies(df['country'],drop_first=True)\n",
    "country"
   ],
   "metadata": {
    "collapsed": false
   }
  },
  {
   "cell_type": "code",
   "execution_count": 40,
   "outputs": [
    {
     "data": {
      "text/plain": "        &#322;ódzkie   (alacant)   *   -   .   ...   \\n/a\\\"   \\n/a`   _  \\\n0                  0           0   0   0   0     0        0       0   0   \n1                  0           0   0   0   0     0        0       0   0   \n2                  0           0   0   0   0     0        0       0   0   \n3                  0           0   0   0   0     0        0       0   0   \n4                  0           0   0   0   0     0        0       0   0   \n...              ...         ...  ..  ..  ..   ...      ...     ...  ..   \n68510              0           0   0   0   0     0        0       0   0   \n68511              0           0   0   0   0     0        0       0   0   \n68512              0           0   0   0   0     0        0       0   0   \n68513              0           0   0   0   0     0        0       0   0   \n68514              0           0   0   0   0     0        0       0   0   \n\n        a coruña  ...   zuid-holland   zuidholland   zurich   zürich   álava  \\\n0              0  ...              0             0        0        0       0   \n1              0  ...              0             0        0        0       0   \n2              0  ...              0             0        0        0       0   \n3              0  ...              0             0        0        0       0   \n4              0  ...              0             0        0        0       0   \n...          ...  ...            ...           ...      ...      ...     ...   \n68510          0  ...              0             0        0        0       0   \n68511          0  ...              0             0        0        0       0   \n68512          0  ...              0             0        0        0       0   \n68513          0  ...              0             0        0        0       0   \n68514          0  ...              0             0        0        0       0   \n\n       maryland  new york  or  tn  town of bali  \n0             0         0   0   0             0  \n1             0         0   0   0             0  \n2             0         0   0   0             0  \n3             0         0   0   0             0  \n4             0         0   0   0             0  \n...         ...       ...  ..  ..           ...  \n68510         0         0   0   0             0  \n68511         0         0   0   0             0  \n68512         0         0   0   0             0  \n68513         0         0   0   0             0  \n68514         0         0   0   0             0  \n\n[68515 rows x 688 columns]",
      "text/html": "<div>\n<style scoped>\n    .dataframe tbody tr th:only-of-type {\n        vertical-align: middle;\n    }\n\n    .dataframe tbody tr th {\n        vertical-align: top;\n    }\n\n    .dataframe thead th {\n        text-align: right;\n    }\n</style>\n<table border=\"1\" class=\"dataframe\">\n  <thead>\n    <tr style=\"text-align: right;\">\n      <th></th>\n      <th>&amp;#322;ódzkie</th>\n      <th>(alacant)</th>\n      <th>*</th>\n      <th>-</th>\n      <th>.</th>\n      <th>...</th>\n      <th>\\n/a\\\"</th>\n      <th>\\n/a`</th>\n      <th>_</th>\n      <th>a coruña</th>\n      <th>...</th>\n      <th>zuid-holland</th>\n      <th>zuidholland</th>\n      <th>zurich</th>\n      <th>zürich</th>\n      <th>álava</th>\n      <th>maryland</th>\n      <th>new york</th>\n      <th>or</th>\n      <th>tn</th>\n      <th>town of bali</th>\n    </tr>\n  </thead>\n  <tbody>\n    <tr>\n      <th>0</th>\n      <td>0</td>\n      <td>0</td>\n      <td>0</td>\n      <td>0</td>\n      <td>0</td>\n      <td>0</td>\n      <td>0</td>\n      <td>0</td>\n      <td>0</td>\n      <td>0</td>\n      <td>...</td>\n      <td>0</td>\n      <td>0</td>\n      <td>0</td>\n      <td>0</td>\n      <td>0</td>\n      <td>0</td>\n      <td>0</td>\n      <td>0</td>\n      <td>0</td>\n      <td>0</td>\n    </tr>\n    <tr>\n      <th>1</th>\n      <td>0</td>\n      <td>0</td>\n      <td>0</td>\n      <td>0</td>\n      <td>0</td>\n      <td>0</td>\n      <td>0</td>\n      <td>0</td>\n      <td>0</td>\n      <td>0</td>\n      <td>...</td>\n      <td>0</td>\n      <td>0</td>\n      <td>0</td>\n      <td>0</td>\n      <td>0</td>\n      <td>0</td>\n      <td>0</td>\n      <td>0</td>\n      <td>0</td>\n      <td>0</td>\n    </tr>\n    <tr>\n      <th>2</th>\n      <td>0</td>\n      <td>0</td>\n      <td>0</td>\n      <td>0</td>\n      <td>0</td>\n      <td>0</td>\n      <td>0</td>\n      <td>0</td>\n      <td>0</td>\n      <td>0</td>\n      <td>...</td>\n      <td>0</td>\n      <td>0</td>\n      <td>0</td>\n      <td>0</td>\n      <td>0</td>\n      <td>0</td>\n      <td>0</td>\n      <td>0</td>\n      <td>0</td>\n      <td>0</td>\n    </tr>\n    <tr>\n      <th>3</th>\n      <td>0</td>\n      <td>0</td>\n      <td>0</td>\n      <td>0</td>\n      <td>0</td>\n      <td>0</td>\n      <td>0</td>\n      <td>0</td>\n      <td>0</td>\n      <td>0</td>\n      <td>...</td>\n      <td>0</td>\n      <td>0</td>\n      <td>0</td>\n      <td>0</td>\n      <td>0</td>\n      <td>0</td>\n      <td>0</td>\n      <td>0</td>\n      <td>0</td>\n      <td>0</td>\n    </tr>\n    <tr>\n      <th>4</th>\n      <td>0</td>\n      <td>0</td>\n      <td>0</td>\n      <td>0</td>\n      <td>0</td>\n      <td>0</td>\n      <td>0</td>\n      <td>0</td>\n      <td>0</td>\n      <td>0</td>\n      <td>...</td>\n      <td>0</td>\n      <td>0</td>\n      <td>0</td>\n      <td>0</td>\n      <td>0</td>\n      <td>0</td>\n      <td>0</td>\n      <td>0</td>\n      <td>0</td>\n      <td>0</td>\n    </tr>\n    <tr>\n      <th>...</th>\n      <td>...</td>\n      <td>...</td>\n      <td>...</td>\n      <td>...</td>\n      <td>...</td>\n      <td>...</td>\n      <td>...</td>\n      <td>...</td>\n      <td>...</td>\n      <td>...</td>\n      <td>...</td>\n      <td>...</td>\n      <td>...</td>\n      <td>...</td>\n      <td>...</td>\n      <td>...</td>\n      <td>...</td>\n      <td>...</td>\n      <td>...</td>\n      <td>...</td>\n      <td>...</td>\n    </tr>\n    <tr>\n      <th>68510</th>\n      <td>0</td>\n      <td>0</td>\n      <td>0</td>\n      <td>0</td>\n      <td>0</td>\n      <td>0</td>\n      <td>0</td>\n      <td>0</td>\n      <td>0</td>\n      <td>0</td>\n      <td>...</td>\n      <td>0</td>\n      <td>0</td>\n      <td>0</td>\n      <td>0</td>\n      <td>0</td>\n      <td>0</td>\n      <td>0</td>\n      <td>0</td>\n      <td>0</td>\n      <td>0</td>\n    </tr>\n    <tr>\n      <th>68511</th>\n      <td>0</td>\n      <td>0</td>\n      <td>0</td>\n      <td>0</td>\n      <td>0</td>\n      <td>0</td>\n      <td>0</td>\n      <td>0</td>\n      <td>0</td>\n      <td>0</td>\n      <td>...</td>\n      <td>0</td>\n      <td>0</td>\n      <td>0</td>\n      <td>0</td>\n      <td>0</td>\n      <td>0</td>\n      <td>0</td>\n      <td>0</td>\n      <td>0</td>\n      <td>0</td>\n    </tr>\n    <tr>\n      <th>68512</th>\n      <td>0</td>\n      <td>0</td>\n      <td>0</td>\n      <td>0</td>\n      <td>0</td>\n      <td>0</td>\n      <td>0</td>\n      <td>0</td>\n      <td>0</td>\n      <td>0</td>\n      <td>...</td>\n      <td>0</td>\n      <td>0</td>\n      <td>0</td>\n      <td>0</td>\n      <td>0</td>\n      <td>0</td>\n      <td>0</td>\n      <td>0</td>\n      <td>0</td>\n      <td>0</td>\n    </tr>\n    <tr>\n      <th>68513</th>\n      <td>0</td>\n      <td>0</td>\n      <td>0</td>\n      <td>0</td>\n      <td>0</td>\n      <td>0</td>\n      <td>0</td>\n      <td>0</td>\n      <td>0</td>\n      <td>0</td>\n      <td>...</td>\n      <td>0</td>\n      <td>0</td>\n      <td>0</td>\n      <td>0</td>\n      <td>0</td>\n      <td>0</td>\n      <td>0</td>\n      <td>0</td>\n      <td>0</td>\n      <td>0</td>\n    </tr>\n    <tr>\n      <th>68514</th>\n      <td>0</td>\n      <td>0</td>\n      <td>0</td>\n      <td>0</td>\n      <td>0</td>\n      <td>0</td>\n      <td>0</td>\n      <td>0</td>\n      <td>0</td>\n      <td>0</td>\n      <td>...</td>\n      <td>0</td>\n      <td>0</td>\n      <td>0</td>\n      <td>0</td>\n      <td>0</td>\n      <td>0</td>\n      <td>0</td>\n      <td>0</td>\n      <td>0</td>\n      <td>0</td>\n    </tr>\n  </tbody>\n</table>\n<p>68515 rows × 688 columns</p>\n</div>"
     },
     "execution_count": 40,
     "metadata": {},
     "output_type": "execute_result"
    }
   ],
   "source": [
    "state = pd.get_dummies(df['state'],drop_first=True)\n",
    "state"
   ],
   "metadata": {
    "collapsed": false
   }
  },
  {
   "cell_type": "code",
   "execution_count": 41,
   "outputs": [
    {
     "data": {
      "text/plain": "                isbn  user_id  book_rating  country              state  \\\n0      9780316666343   277439            7      usa             oregon   \n1      9780671027360   277439            7      usa             oregon   \n2      9780316666343   277752            7      usa          louisiana   \n3      9780679734772   277752            8      usa          louisiana   \n4      9780316666343   278633            9      usa               utah   \n...              ...      ...          ...      ...                ...   \n68510  9780394223803   271077           10   canada   british columbia   \n68511  9780446679367    15783            6      usa            montana   \n68512  9780446679367   129135            8      NaN             oregon   \n68513  9780446679367   204414            9      usa           illinois   \n68514  9780446679367   242574            8      usa           illinois   \n\n             age   \\n/a\\\", greece\"   albania   algeria   antarctica  ...  \\\n0      65.000000                 0         0         0            0  ...   \n1      65.000000                 0         0         0            0  ...   \n2      18.000000                 0         0         0            0  ...   \n3      18.000000                 0         0         0            0  ...   \n4      38.965423                 0         0         0            0  ...   \n...          ...               ...       ...       ...          ...  ...   \n68510  49.000000                 0         0         0            0  ...   \n68511  16.032971                 0         0         0            0  ...   \n68512  52.473237                 0         0         0            0  ...   \n68513  42.000000                 0         0         0            0  ...   \n68514  27.899521                 0         0         0            0  ...   \n\n        zuid-holland   zuidholland   zurich   zürich   álava  maryland  \\\n0                  0             0        0        0       0         0   \n1                  0             0        0        0       0         0   \n2                  0             0        0        0       0         0   \n3                  0             0        0        0       0         0   \n4                  0             0        0        0       0         0   \n...              ...           ...      ...      ...     ...       ...   \n68510              0             0        0        0       0         0   \n68511              0             0        0        0       0         0   \n68512              0             0        0        0       0         0   \n68513              0             0        0        0       0         0   \n68514              0             0        0        0       0         0   \n\n       new york  or  tn  town of bali  \n0             0   0   0             0  \n1             0   0   0             0  \n2             0   0   0             0  \n3             0   0   0             0  \n4             0   0   0             0  \n...         ...  ..  ..           ...  \n68510         0   0   0             0  \n68511         0   0   0             0  \n68512         0   0   0             0  \n68513         0   0   0             0  \n68514         0   0   0             0  \n\n[68515 rows x 872 columns]",
      "text/html": "<div>\n<style scoped>\n    .dataframe tbody tr th:only-of-type {\n        vertical-align: middle;\n    }\n\n    .dataframe tbody tr th {\n        vertical-align: top;\n    }\n\n    .dataframe thead th {\n        text-align: right;\n    }\n</style>\n<table border=\"1\" class=\"dataframe\">\n  <thead>\n    <tr style=\"text-align: right;\">\n      <th></th>\n      <th>isbn</th>\n      <th>user_id</th>\n      <th>book_rating</th>\n      <th>country</th>\n      <th>state</th>\n      <th>age</th>\n      <th>\\n/a\\\", greece\"</th>\n      <th>albania</th>\n      <th>algeria</th>\n      <th>antarctica</th>\n      <th>...</th>\n      <th>zuid-holland</th>\n      <th>zuidholland</th>\n      <th>zurich</th>\n      <th>zürich</th>\n      <th>álava</th>\n      <th>maryland</th>\n      <th>new york</th>\n      <th>or</th>\n      <th>tn</th>\n      <th>town of bali</th>\n    </tr>\n  </thead>\n  <tbody>\n    <tr>\n      <th>0</th>\n      <td>9780316666343</td>\n      <td>277439</td>\n      <td>7</td>\n      <td>usa</td>\n      <td>oregon</td>\n      <td>65.000000</td>\n      <td>0</td>\n      <td>0</td>\n      <td>0</td>\n      <td>0</td>\n      <td>...</td>\n      <td>0</td>\n      <td>0</td>\n      <td>0</td>\n      <td>0</td>\n      <td>0</td>\n      <td>0</td>\n      <td>0</td>\n      <td>0</td>\n      <td>0</td>\n      <td>0</td>\n    </tr>\n    <tr>\n      <th>1</th>\n      <td>9780671027360</td>\n      <td>277439</td>\n      <td>7</td>\n      <td>usa</td>\n      <td>oregon</td>\n      <td>65.000000</td>\n      <td>0</td>\n      <td>0</td>\n      <td>0</td>\n      <td>0</td>\n      <td>...</td>\n      <td>0</td>\n      <td>0</td>\n      <td>0</td>\n      <td>0</td>\n      <td>0</td>\n      <td>0</td>\n      <td>0</td>\n      <td>0</td>\n      <td>0</td>\n      <td>0</td>\n    </tr>\n    <tr>\n      <th>2</th>\n      <td>9780316666343</td>\n      <td>277752</td>\n      <td>7</td>\n      <td>usa</td>\n      <td>louisiana</td>\n      <td>18.000000</td>\n      <td>0</td>\n      <td>0</td>\n      <td>0</td>\n      <td>0</td>\n      <td>...</td>\n      <td>0</td>\n      <td>0</td>\n      <td>0</td>\n      <td>0</td>\n      <td>0</td>\n      <td>0</td>\n      <td>0</td>\n      <td>0</td>\n      <td>0</td>\n      <td>0</td>\n    </tr>\n    <tr>\n      <th>3</th>\n      <td>9780679734772</td>\n      <td>277752</td>\n      <td>8</td>\n      <td>usa</td>\n      <td>louisiana</td>\n      <td>18.000000</td>\n      <td>0</td>\n      <td>0</td>\n      <td>0</td>\n      <td>0</td>\n      <td>...</td>\n      <td>0</td>\n      <td>0</td>\n      <td>0</td>\n      <td>0</td>\n      <td>0</td>\n      <td>0</td>\n      <td>0</td>\n      <td>0</td>\n      <td>0</td>\n      <td>0</td>\n    </tr>\n    <tr>\n      <th>4</th>\n      <td>9780316666343</td>\n      <td>278633</td>\n      <td>9</td>\n      <td>usa</td>\n      <td>utah</td>\n      <td>38.965423</td>\n      <td>0</td>\n      <td>0</td>\n      <td>0</td>\n      <td>0</td>\n      <td>...</td>\n      <td>0</td>\n      <td>0</td>\n      <td>0</td>\n      <td>0</td>\n      <td>0</td>\n      <td>0</td>\n      <td>0</td>\n      <td>0</td>\n      <td>0</td>\n      <td>0</td>\n    </tr>\n    <tr>\n      <th>...</th>\n      <td>...</td>\n      <td>...</td>\n      <td>...</td>\n      <td>...</td>\n      <td>...</td>\n      <td>...</td>\n      <td>...</td>\n      <td>...</td>\n      <td>...</td>\n      <td>...</td>\n      <td>...</td>\n      <td>...</td>\n      <td>...</td>\n      <td>...</td>\n      <td>...</td>\n      <td>...</td>\n      <td>...</td>\n      <td>...</td>\n      <td>...</td>\n      <td>...</td>\n      <td>...</td>\n    </tr>\n    <tr>\n      <th>68510</th>\n      <td>9780394223803</td>\n      <td>271077</td>\n      <td>10</td>\n      <td>canada</td>\n      <td>british columbia</td>\n      <td>49.000000</td>\n      <td>0</td>\n      <td>0</td>\n      <td>0</td>\n      <td>0</td>\n      <td>...</td>\n      <td>0</td>\n      <td>0</td>\n      <td>0</td>\n      <td>0</td>\n      <td>0</td>\n      <td>0</td>\n      <td>0</td>\n      <td>0</td>\n      <td>0</td>\n      <td>0</td>\n    </tr>\n    <tr>\n      <th>68511</th>\n      <td>9780446679367</td>\n      <td>15783</td>\n      <td>6</td>\n      <td>usa</td>\n      <td>montana</td>\n      <td>16.032971</td>\n      <td>0</td>\n      <td>0</td>\n      <td>0</td>\n      <td>0</td>\n      <td>...</td>\n      <td>0</td>\n      <td>0</td>\n      <td>0</td>\n      <td>0</td>\n      <td>0</td>\n      <td>0</td>\n      <td>0</td>\n      <td>0</td>\n      <td>0</td>\n      <td>0</td>\n    </tr>\n    <tr>\n      <th>68512</th>\n      <td>9780446679367</td>\n      <td>129135</td>\n      <td>8</td>\n      <td>NaN</td>\n      <td>oregon</td>\n      <td>52.473237</td>\n      <td>0</td>\n      <td>0</td>\n      <td>0</td>\n      <td>0</td>\n      <td>...</td>\n      <td>0</td>\n      <td>0</td>\n      <td>0</td>\n      <td>0</td>\n      <td>0</td>\n      <td>0</td>\n      <td>0</td>\n      <td>0</td>\n      <td>0</td>\n      <td>0</td>\n    </tr>\n    <tr>\n      <th>68513</th>\n      <td>9780446679367</td>\n      <td>204414</td>\n      <td>9</td>\n      <td>usa</td>\n      <td>illinois</td>\n      <td>42.000000</td>\n      <td>0</td>\n      <td>0</td>\n      <td>0</td>\n      <td>0</td>\n      <td>...</td>\n      <td>0</td>\n      <td>0</td>\n      <td>0</td>\n      <td>0</td>\n      <td>0</td>\n      <td>0</td>\n      <td>0</td>\n      <td>0</td>\n      <td>0</td>\n      <td>0</td>\n    </tr>\n    <tr>\n      <th>68514</th>\n      <td>9780446679367</td>\n      <td>242574</td>\n      <td>8</td>\n      <td>usa</td>\n      <td>illinois</td>\n      <td>27.899521</td>\n      <td>0</td>\n      <td>0</td>\n      <td>0</td>\n      <td>0</td>\n      <td>...</td>\n      <td>0</td>\n      <td>0</td>\n      <td>0</td>\n      <td>0</td>\n      <td>0</td>\n      <td>0</td>\n      <td>0</td>\n      <td>0</td>\n      <td>0</td>\n      <td>0</td>\n    </tr>\n  </tbody>\n</table>\n<p>68515 rows × 872 columns</p>\n</div>"
     },
     "execution_count": 41,
     "metadata": {},
     "output_type": "execute_result"
    }
   ],
   "source": [
    "df = pd.concat([df, country, state], axis = 1)\n",
    "df"
   ],
   "metadata": {
    "collapsed": false
   }
  },
  {
   "cell_type": "code",
   "execution_count": 42,
   "outputs": [
    {
     "data": {
      "text/plain": "                isbn  user_id  book_rating  country              state  \\\n0      9780316666343   277439            7      usa             oregon   \n1      9780671027360   277439            7      usa             oregon   \n2      9780316666343   277752            7      usa          louisiana   \n3      9780679734772   277752            8      usa          louisiana   \n4      9780316666343   278633            9      usa               utah   \n...              ...      ...          ...      ...                ...   \n68510  9780394223803   271077           10   canada   british columbia   \n68511  9780446679367    15783            6      usa            montana   \n68512  9780446679367   129135            8      NaN             oregon   \n68513  9780446679367   204414            9      usa           illinois   \n68514  9780446679367   242574            8      usa           illinois   \n\n             age   \\n/a\\\", greece\"   albania   algeria   antarctica  ...  \\\n0      65.000000                 0         0         0            0  ...   \n1      65.000000                 0         0         0            0  ...   \n2      18.000000                 0         0         0            0  ...   \n3      18.000000                 0         0         0            0  ...   \n4      38.965423                 0         0         0            0  ...   \n...          ...               ...       ...       ...          ...  ...   \n68510  49.000000                 0         0         0            0  ...   \n68511  16.032971                 0         0         0            0  ...   \n68512  52.473237                 0         0         0            0  ...   \n68513  42.000000                 0         0         0            0  ...   \n68514  27.899521                 0         0         0            0  ...   \n\n        zuid-holland   zuidholland   zurich   zürich   álava  maryland  \\\n0                  0             0        0        0       0         0   \n1                  0             0        0        0       0         0   \n2                  0             0        0        0       0         0   \n3                  0             0        0        0       0         0   \n4                  0             0        0        0       0         0   \n...              ...           ...      ...      ...     ...       ...   \n68510              0             0        0        0       0         0   \n68511              0             0        0        0       0         0   \n68512              0             0        0        0       0         0   \n68513              0             0        0        0       0         0   \n68514              0             0        0        0       0         0   \n\n       new york  or  tn  town of bali  \n0             0   0   0             0  \n1             0   0   0             0  \n2             0   0   0             0  \n3             0   0   0             0  \n4             0   0   0             0  \n...         ...  ..  ..           ...  \n68510         0   0   0             0  \n68511         0   0   0             0  \n68512         0   0   0             0  \n68513         0   0   0             0  \n68514         0   0   0             0  \n\n[68515 rows x 851 columns]",
      "text/html": "<div>\n<style scoped>\n    .dataframe tbody tr th:only-of-type {\n        vertical-align: middle;\n    }\n\n    .dataframe tbody tr th {\n        vertical-align: top;\n    }\n\n    .dataframe thead th {\n        text-align: right;\n    }\n</style>\n<table border=\"1\" class=\"dataframe\">\n  <thead>\n    <tr style=\"text-align: right;\">\n      <th></th>\n      <th>isbn</th>\n      <th>user_id</th>\n      <th>book_rating</th>\n      <th>country</th>\n      <th>state</th>\n      <th>age</th>\n      <th>\\n/a\\\", greece\"</th>\n      <th>albania</th>\n      <th>algeria</th>\n      <th>antarctica</th>\n      <th>...</th>\n      <th>zuid-holland</th>\n      <th>zuidholland</th>\n      <th>zurich</th>\n      <th>zürich</th>\n      <th>álava</th>\n      <th>maryland</th>\n      <th>new york</th>\n      <th>or</th>\n      <th>tn</th>\n      <th>town of bali</th>\n    </tr>\n  </thead>\n  <tbody>\n    <tr>\n      <th>0</th>\n      <td>9780316666343</td>\n      <td>277439</td>\n      <td>7</td>\n      <td>usa</td>\n      <td>oregon</td>\n      <td>65.000000</td>\n      <td>0</td>\n      <td>0</td>\n      <td>0</td>\n      <td>0</td>\n      <td>...</td>\n      <td>0</td>\n      <td>0</td>\n      <td>0</td>\n      <td>0</td>\n      <td>0</td>\n      <td>0</td>\n      <td>0</td>\n      <td>0</td>\n      <td>0</td>\n      <td>0</td>\n    </tr>\n    <tr>\n      <th>1</th>\n      <td>9780671027360</td>\n      <td>277439</td>\n      <td>7</td>\n      <td>usa</td>\n      <td>oregon</td>\n      <td>65.000000</td>\n      <td>0</td>\n      <td>0</td>\n      <td>0</td>\n      <td>0</td>\n      <td>...</td>\n      <td>0</td>\n      <td>0</td>\n      <td>0</td>\n      <td>0</td>\n      <td>0</td>\n      <td>0</td>\n      <td>0</td>\n      <td>0</td>\n      <td>0</td>\n      <td>0</td>\n    </tr>\n    <tr>\n      <th>2</th>\n      <td>9780316666343</td>\n      <td>277752</td>\n      <td>7</td>\n      <td>usa</td>\n      <td>louisiana</td>\n      <td>18.000000</td>\n      <td>0</td>\n      <td>0</td>\n      <td>0</td>\n      <td>0</td>\n      <td>...</td>\n      <td>0</td>\n      <td>0</td>\n      <td>0</td>\n      <td>0</td>\n      <td>0</td>\n      <td>0</td>\n      <td>0</td>\n      <td>0</td>\n      <td>0</td>\n      <td>0</td>\n    </tr>\n    <tr>\n      <th>3</th>\n      <td>9780679734772</td>\n      <td>277752</td>\n      <td>8</td>\n      <td>usa</td>\n      <td>louisiana</td>\n      <td>18.000000</td>\n      <td>0</td>\n      <td>0</td>\n      <td>0</td>\n      <td>0</td>\n      <td>...</td>\n      <td>0</td>\n      <td>0</td>\n      <td>0</td>\n      <td>0</td>\n      <td>0</td>\n      <td>0</td>\n      <td>0</td>\n      <td>0</td>\n      <td>0</td>\n      <td>0</td>\n    </tr>\n    <tr>\n      <th>4</th>\n      <td>9780316666343</td>\n      <td>278633</td>\n      <td>9</td>\n      <td>usa</td>\n      <td>utah</td>\n      <td>38.965423</td>\n      <td>0</td>\n      <td>0</td>\n      <td>0</td>\n      <td>0</td>\n      <td>...</td>\n      <td>0</td>\n      <td>0</td>\n      <td>0</td>\n      <td>0</td>\n      <td>0</td>\n      <td>0</td>\n      <td>0</td>\n      <td>0</td>\n      <td>0</td>\n      <td>0</td>\n    </tr>\n    <tr>\n      <th>...</th>\n      <td>...</td>\n      <td>...</td>\n      <td>...</td>\n      <td>...</td>\n      <td>...</td>\n      <td>...</td>\n      <td>...</td>\n      <td>...</td>\n      <td>...</td>\n      <td>...</td>\n      <td>...</td>\n      <td>...</td>\n      <td>...</td>\n      <td>...</td>\n      <td>...</td>\n      <td>...</td>\n      <td>...</td>\n      <td>...</td>\n      <td>...</td>\n      <td>...</td>\n      <td>...</td>\n    </tr>\n    <tr>\n      <th>68510</th>\n      <td>9780394223803</td>\n      <td>271077</td>\n      <td>10</td>\n      <td>canada</td>\n      <td>british columbia</td>\n      <td>49.000000</td>\n      <td>0</td>\n      <td>0</td>\n      <td>0</td>\n      <td>0</td>\n      <td>...</td>\n      <td>0</td>\n      <td>0</td>\n      <td>0</td>\n      <td>0</td>\n      <td>0</td>\n      <td>0</td>\n      <td>0</td>\n      <td>0</td>\n      <td>0</td>\n      <td>0</td>\n    </tr>\n    <tr>\n      <th>68511</th>\n      <td>9780446679367</td>\n      <td>15783</td>\n      <td>6</td>\n      <td>usa</td>\n      <td>montana</td>\n      <td>16.032971</td>\n      <td>0</td>\n      <td>0</td>\n      <td>0</td>\n      <td>0</td>\n      <td>...</td>\n      <td>0</td>\n      <td>0</td>\n      <td>0</td>\n      <td>0</td>\n      <td>0</td>\n      <td>0</td>\n      <td>0</td>\n      <td>0</td>\n      <td>0</td>\n      <td>0</td>\n    </tr>\n    <tr>\n      <th>68512</th>\n      <td>9780446679367</td>\n      <td>129135</td>\n      <td>8</td>\n      <td>NaN</td>\n      <td>oregon</td>\n      <td>52.473237</td>\n      <td>0</td>\n      <td>0</td>\n      <td>0</td>\n      <td>0</td>\n      <td>...</td>\n      <td>0</td>\n      <td>0</td>\n      <td>0</td>\n      <td>0</td>\n      <td>0</td>\n      <td>0</td>\n      <td>0</td>\n      <td>0</td>\n      <td>0</td>\n      <td>0</td>\n    </tr>\n    <tr>\n      <th>68513</th>\n      <td>9780446679367</td>\n      <td>204414</td>\n      <td>9</td>\n      <td>usa</td>\n      <td>illinois</td>\n      <td>42.000000</td>\n      <td>0</td>\n      <td>0</td>\n      <td>0</td>\n      <td>0</td>\n      <td>...</td>\n      <td>0</td>\n      <td>0</td>\n      <td>0</td>\n      <td>0</td>\n      <td>0</td>\n      <td>0</td>\n      <td>0</td>\n      <td>0</td>\n      <td>0</td>\n      <td>0</td>\n    </tr>\n    <tr>\n      <th>68514</th>\n      <td>9780446679367</td>\n      <td>242574</td>\n      <td>8</td>\n      <td>usa</td>\n      <td>illinois</td>\n      <td>27.899521</td>\n      <td>0</td>\n      <td>0</td>\n      <td>0</td>\n      <td>0</td>\n      <td>...</td>\n      <td>0</td>\n      <td>0</td>\n      <td>0</td>\n      <td>0</td>\n      <td>0</td>\n      <td>0</td>\n      <td>0</td>\n      <td>0</td>\n      <td>0</td>\n      <td>0</td>\n    </tr>\n  </tbody>\n</table>\n<p>68515 rows × 851 columns</p>\n</div>"
     },
     "execution_count": 42,
     "metadata": {},
     "output_type": "execute_result"
    }
   ],
   "source": [
    "df = df.loc[:,~df.columns.duplicated()]\n",
    "df"
   ],
   "metadata": {
    "collapsed": false
   }
  },
  {
   "cell_type": "code",
   "execution_count": 43,
   "outputs": [
    {
     "data": {
      "text/plain": "       book_rating        age   \\n/a\\\", greece\"   albania   algeria  \\\n0                7  65.000000                 0         0         0   \n1                7  65.000000                 0         0         0   \n2                7  18.000000                 0         0         0   \n3                8  18.000000                 0         0         0   \n4                9  38.965423                 0         0         0   \n...            ...        ...               ...       ...       ...   \n68510           10  49.000000                 0         0         0   \n68511            6  16.032971                 0         0         0   \n68512            8  52.473237                 0         0         0   \n68513            9  42.000000                 0         0         0   \n68514            8  27.899521                 0         0         0   \n\n        antarctica   argentina   aroostook   aruba   australia  ...  \\\n0                0           0           0       0           0  ...   \n1                0           0           0       0           0  ...   \n2                0           0           0       0           0  ...   \n3                0           0           0       0           0  ...   \n4                0           0           0       0           0  ...   \n...            ...         ...         ...     ...         ...  ...   \n68510            0           0           0       0           0  ...   \n68511            0           0           0       0           0  ...   \n68512            0           0           0       0           0  ...   \n68513            0           0           0       0           0  ...   \n68514            0           0           0       0           0  ...   \n\n        zuid-holland   zuidholland   zurich   zürich   álava  maryland  \\\n0                  0             0        0        0       0         0   \n1                  0             0        0        0       0         0   \n2                  0             0        0        0       0         0   \n3                  0             0        0        0       0         0   \n4                  0             0        0        0       0         0   \n...              ...           ...      ...      ...     ...       ...   \n68510              0             0        0        0       0         0   \n68511              0             0        0        0       0         0   \n68512              0             0        0        0       0         0   \n68513              0             0        0        0       0         0   \n68514              0             0        0        0       0         0   \n\n       new york  or  tn  town of bali  \n0             0   0   0             0  \n1             0   0   0             0  \n2             0   0   0             0  \n3             0   0   0             0  \n4             0   0   0             0  \n...         ...  ..  ..           ...  \n68510         0   0   0             0  \n68511         0   0   0             0  \n68512         0   0   0             0  \n68513         0   0   0             0  \n68514         0   0   0             0  \n\n[68515 rows x 847 columns]",
      "text/html": "<div>\n<style scoped>\n    .dataframe tbody tr th:only-of-type {\n        vertical-align: middle;\n    }\n\n    .dataframe tbody tr th {\n        vertical-align: top;\n    }\n\n    .dataframe thead th {\n        text-align: right;\n    }\n</style>\n<table border=\"1\" class=\"dataframe\">\n  <thead>\n    <tr style=\"text-align: right;\">\n      <th></th>\n      <th>book_rating</th>\n      <th>age</th>\n      <th>\\n/a\\\", greece\"</th>\n      <th>albania</th>\n      <th>algeria</th>\n      <th>antarctica</th>\n      <th>argentina</th>\n      <th>aroostook</th>\n      <th>aruba</th>\n      <th>australia</th>\n      <th>...</th>\n      <th>zuid-holland</th>\n      <th>zuidholland</th>\n      <th>zurich</th>\n      <th>zürich</th>\n      <th>álava</th>\n      <th>maryland</th>\n      <th>new york</th>\n      <th>or</th>\n      <th>tn</th>\n      <th>town of bali</th>\n    </tr>\n  </thead>\n  <tbody>\n    <tr>\n      <th>0</th>\n      <td>7</td>\n      <td>65.000000</td>\n      <td>0</td>\n      <td>0</td>\n      <td>0</td>\n      <td>0</td>\n      <td>0</td>\n      <td>0</td>\n      <td>0</td>\n      <td>0</td>\n      <td>...</td>\n      <td>0</td>\n      <td>0</td>\n      <td>0</td>\n      <td>0</td>\n      <td>0</td>\n      <td>0</td>\n      <td>0</td>\n      <td>0</td>\n      <td>0</td>\n      <td>0</td>\n    </tr>\n    <tr>\n      <th>1</th>\n      <td>7</td>\n      <td>65.000000</td>\n      <td>0</td>\n      <td>0</td>\n      <td>0</td>\n      <td>0</td>\n      <td>0</td>\n      <td>0</td>\n      <td>0</td>\n      <td>0</td>\n      <td>...</td>\n      <td>0</td>\n      <td>0</td>\n      <td>0</td>\n      <td>0</td>\n      <td>0</td>\n      <td>0</td>\n      <td>0</td>\n      <td>0</td>\n      <td>0</td>\n      <td>0</td>\n    </tr>\n    <tr>\n      <th>2</th>\n      <td>7</td>\n      <td>18.000000</td>\n      <td>0</td>\n      <td>0</td>\n      <td>0</td>\n      <td>0</td>\n      <td>0</td>\n      <td>0</td>\n      <td>0</td>\n      <td>0</td>\n      <td>...</td>\n      <td>0</td>\n      <td>0</td>\n      <td>0</td>\n      <td>0</td>\n      <td>0</td>\n      <td>0</td>\n      <td>0</td>\n      <td>0</td>\n      <td>0</td>\n      <td>0</td>\n    </tr>\n    <tr>\n      <th>3</th>\n      <td>8</td>\n      <td>18.000000</td>\n      <td>0</td>\n      <td>0</td>\n      <td>0</td>\n      <td>0</td>\n      <td>0</td>\n      <td>0</td>\n      <td>0</td>\n      <td>0</td>\n      <td>...</td>\n      <td>0</td>\n      <td>0</td>\n      <td>0</td>\n      <td>0</td>\n      <td>0</td>\n      <td>0</td>\n      <td>0</td>\n      <td>0</td>\n      <td>0</td>\n      <td>0</td>\n    </tr>\n    <tr>\n      <th>4</th>\n      <td>9</td>\n      <td>38.965423</td>\n      <td>0</td>\n      <td>0</td>\n      <td>0</td>\n      <td>0</td>\n      <td>0</td>\n      <td>0</td>\n      <td>0</td>\n      <td>0</td>\n      <td>...</td>\n      <td>0</td>\n      <td>0</td>\n      <td>0</td>\n      <td>0</td>\n      <td>0</td>\n      <td>0</td>\n      <td>0</td>\n      <td>0</td>\n      <td>0</td>\n      <td>0</td>\n    </tr>\n    <tr>\n      <th>...</th>\n      <td>...</td>\n      <td>...</td>\n      <td>...</td>\n      <td>...</td>\n      <td>...</td>\n      <td>...</td>\n      <td>...</td>\n      <td>...</td>\n      <td>...</td>\n      <td>...</td>\n      <td>...</td>\n      <td>...</td>\n      <td>...</td>\n      <td>...</td>\n      <td>...</td>\n      <td>...</td>\n      <td>...</td>\n      <td>...</td>\n      <td>...</td>\n      <td>...</td>\n      <td>...</td>\n    </tr>\n    <tr>\n      <th>68510</th>\n      <td>10</td>\n      <td>49.000000</td>\n      <td>0</td>\n      <td>0</td>\n      <td>0</td>\n      <td>0</td>\n      <td>0</td>\n      <td>0</td>\n      <td>0</td>\n      <td>0</td>\n      <td>...</td>\n      <td>0</td>\n      <td>0</td>\n      <td>0</td>\n      <td>0</td>\n      <td>0</td>\n      <td>0</td>\n      <td>0</td>\n      <td>0</td>\n      <td>0</td>\n      <td>0</td>\n    </tr>\n    <tr>\n      <th>68511</th>\n      <td>6</td>\n      <td>16.032971</td>\n      <td>0</td>\n      <td>0</td>\n      <td>0</td>\n      <td>0</td>\n      <td>0</td>\n      <td>0</td>\n      <td>0</td>\n      <td>0</td>\n      <td>...</td>\n      <td>0</td>\n      <td>0</td>\n      <td>0</td>\n      <td>0</td>\n      <td>0</td>\n      <td>0</td>\n      <td>0</td>\n      <td>0</td>\n      <td>0</td>\n      <td>0</td>\n    </tr>\n    <tr>\n      <th>68512</th>\n      <td>8</td>\n      <td>52.473237</td>\n      <td>0</td>\n      <td>0</td>\n      <td>0</td>\n      <td>0</td>\n      <td>0</td>\n      <td>0</td>\n      <td>0</td>\n      <td>0</td>\n      <td>...</td>\n      <td>0</td>\n      <td>0</td>\n      <td>0</td>\n      <td>0</td>\n      <td>0</td>\n      <td>0</td>\n      <td>0</td>\n      <td>0</td>\n      <td>0</td>\n      <td>0</td>\n    </tr>\n    <tr>\n      <th>68513</th>\n      <td>9</td>\n      <td>42.000000</td>\n      <td>0</td>\n      <td>0</td>\n      <td>0</td>\n      <td>0</td>\n      <td>0</td>\n      <td>0</td>\n      <td>0</td>\n      <td>0</td>\n      <td>...</td>\n      <td>0</td>\n      <td>0</td>\n      <td>0</td>\n      <td>0</td>\n      <td>0</td>\n      <td>0</td>\n      <td>0</td>\n      <td>0</td>\n      <td>0</td>\n      <td>0</td>\n    </tr>\n    <tr>\n      <th>68514</th>\n      <td>8</td>\n      <td>27.899521</td>\n      <td>0</td>\n      <td>0</td>\n      <td>0</td>\n      <td>0</td>\n      <td>0</td>\n      <td>0</td>\n      <td>0</td>\n      <td>0</td>\n      <td>...</td>\n      <td>0</td>\n      <td>0</td>\n      <td>0</td>\n      <td>0</td>\n      <td>0</td>\n      <td>0</td>\n      <td>0</td>\n      <td>0</td>\n      <td>0</td>\n      <td>0</td>\n    </tr>\n  </tbody>\n</table>\n<p>68515 rows × 847 columns</p>\n</div>"
     },
     "execution_count": 43,
     "metadata": {},
     "output_type": "execute_result"
    }
   ],
   "source": [
    "df = df.drop(['isbn', 'user_id', 'country', 'state'], axis = 1)\n",
    "df"
   ],
   "metadata": {
    "collapsed": false
   }
  },
  {
   "cell_type": "code",
   "execution_count": 44,
   "outputs": [
    {
     "data": {
      "text/plain": "             age   \\n/a\\\", greece\"   albania   algeria   antarctica  \\\n0      65.000000                 0         0         0            0   \n1      65.000000                 0         0         0            0   \n2      18.000000                 0         0         0            0   \n3      18.000000                 0         0         0            0   \n4      38.965423                 0         0         0            0   \n...          ...               ...       ...       ...          ...   \n68510  49.000000                 0         0         0            0   \n68511  16.032971                 0         0         0            0   \n68512  52.473237                 0         0         0            0   \n68513  42.000000                 0         0         0            0   \n68514  27.899521                 0         0         0            0   \n\n        argentina   aroostook   aruba   australia   austria  ...  \\\n0               0           0       0           0         0  ...   \n1               0           0       0           0         0  ...   \n2               0           0       0           0         0  ...   \n3               0           0       0           0         0  ...   \n4               0           0       0           0         0  ...   \n...           ...         ...     ...         ...       ...  ...   \n68510           0           0       0           0         0  ...   \n68511           0           0       0           0         0  ...   \n68512           0           0       0           0         0  ...   \n68513           0           0       0           0         0  ...   \n68514           0           0       0           0         0  ...   \n\n        zuid-holland   zuidholland   zurich   zürich   álava  maryland  \\\n0                  0             0        0        0       0         0   \n1                  0             0        0        0       0         0   \n2                  0             0        0        0       0         0   \n3                  0             0        0        0       0         0   \n4                  0             0        0        0       0         0   \n...              ...           ...      ...      ...     ...       ...   \n68510              0             0        0        0       0         0   \n68511              0             0        0        0       0         0   \n68512              0             0        0        0       0         0   \n68513              0             0        0        0       0         0   \n68514              0             0        0        0       0         0   \n\n       new york  or  tn  town of bali  \n0             0   0   0             0  \n1             0   0   0             0  \n2             0   0   0             0  \n3             0   0   0             0  \n4             0   0   0             0  \n...         ...  ..  ..           ...  \n68510         0   0   0             0  \n68511         0   0   0             0  \n68512         0   0   0             0  \n68513         0   0   0             0  \n68514         0   0   0             0  \n\n[68515 rows x 846 columns]",
      "text/html": "<div>\n<style scoped>\n    .dataframe tbody tr th:only-of-type {\n        vertical-align: middle;\n    }\n\n    .dataframe tbody tr th {\n        vertical-align: top;\n    }\n\n    .dataframe thead th {\n        text-align: right;\n    }\n</style>\n<table border=\"1\" class=\"dataframe\">\n  <thead>\n    <tr style=\"text-align: right;\">\n      <th></th>\n      <th>age</th>\n      <th>\\n/a\\\", greece\"</th>\n      <th>albania</th>\n      <th>algeria</th>\n      <th>antarctica</th>\n      <th>argentina</th>\n      <th>aroostook</th>\n      <th>aruba</th>\n      <th>australia</th>\n      <th>austria</th>\n      <th>...</th>\n      <th>zuid-holland</th>\n      <th>zuidholland</th>\n      <th>zurich</th>\n      <th>zürich</th>\n      <th>álava</th>\n      <th>maryland</th>\n      <th>new york</th>\n      <th>or</th>\n      <th>tn</th>\n      <th>town of bali</th>\n    </tr>\n  </thead>\n  <tbody>\n    <tr>\n      <th>0</th>\n      <td>65.000000</td>\n      <td>0</td>\n      <td>0</td>\n      <td>0</td>\n      <td>0</td>\n      <td>0</td>\n      <td>0</td>\n      <td>0</td>\n      <td>0</td>\n      <td>0</td>\n      <td>...</td>\n      <td>0</td>\n      <td>0</td>\n      <td>0</td>\n      <td>0</td>\n      <td>0</td>\n      <td>0</td>\n      <td>0</td>\n      <td>0</td>\n      <td>0</td>\n      <td>0</td>\n    </tr>\n    <tr>\n      <th>1</th>\n      <td>65.000000</td>\n      <td>0</td>\n      <td>0</td>\n      <td>0</td>\n      <td>0</td>\n      <td>0</td>\n      <td>0</td>\n      <td>0</td>\n      <td>0</td>\n      <td>0</td>\n      <td>...</td>\n      <td>0</td>\n      <td>0</td>\n      <td>0</td>\n      <td>0</td>\n      <td>0</td>\n      <td>0</td>\n      <td>0</td>\n      <td>0</td>\n      <td>0</td>\n      <td>0</td>\n    </tr>\n    <tr>\n      <th>2</th>\n      <td>18.000000</td>\n      <td>0</td>\n      <td>0</td>\n      <td>0</td>\n      <td>0</td>\n      <td>0</td>\n      <td>0</td>\n      <td>0</td>\n      <td>0</td>\n      <td>0</td>\n      <td>...</td>\n      <td>0</td>\n      <td>0</td>\n      <td>0</td>\n      <td>0</td>\n      <td>0</td>\n      <td>0</td>\n      <td>0</td>\n      <td>0</td>\n      <td>0</td>\n      <td>0</td>\n    </tr>\n    <tr>\n      <th>3</th>\n      <td>18.000000</td>\n      <td>0</td>\n      <td>0</td>\n      <td>0</td>\n      <td>0</td>\n      <td>0</td>\n      <td>0</td>\n      <td>0</td>\n      <td>0</td>\n      <td>0</td>\n      <td>...</td>\n      <td>0</td>\n      <td>0</td>\n      <td>0</td>\n      <td>0</td>\n      <td>0</td>\n      <td>0</td>\n      <td>0</td>\n      <td>0</td>\n      <td>0</td>\n      <td>0</td>\n    </tr>\n    <tr>\n      <th>4</th>\n      <td>38.965423</td>\n      <td>0</td>\n      <td>0</td>\n      <td>0</td>\n      <td>0</td>\n      <td>0</td>\n      <td>0</td>\n      <td>0</td>\n      <td>0</td>\n      <td>0</td>\n      <td>...</td>\n      <td>0</td>\n      <td>0</td>\n      <td>0</td>\n      <td>0</td>\n      <td>0</td>\n      <td>0</td>\n      <td>0</td>\n      <td>0</td>\n      <td>0</td>\n      <td>0</td>\n    </tr>\n    <tr>\n      <th>...</th>\n      <td>...</td>\n      <td>...</td>\n      <td>...</td>\n      <td>...</td>\n      <td>...</td>\n      <td>...</td>\n      <td>...</td>\n      <td>...</td>\n      <td>...</td>\n      <td>...</td>\n      <td>...</td>\n      <td>...</td>\n      <td>...</td>\n      <td>...</td>\n      <td>...</td>\n      <td>...</td>\n      <td>...</td>\n      <td>...</td>\n      <td>...</td>\n      <td>...</td>\n      <td>...</td>\n    </tr>\n    <tr>\n      <th>68510</th>\n      <td>49.000000</td>\n      <td>0</td>\n      <td>0</td>\n      <td>0</td>\n      <td>0</td>\n      <td>0</td>\n      <td>0</td>\n      <td>0</td>\n      <td>0</td>\n      <td>0</td>\n      <td>...</td>\n      <td>0</td>\n      <td>0</td>\n      <td>0</td>\n      <td>0</td>\n      <td>0</td>\n      <td>0</td>\n      <td>0</td>\n      <td>0</td>\n      <td>0</td>\n      <td>0</td>\n    </tr>\n    <tr>\n      <th>68511</th>\n      <td>16.032971</td>\n      <td>0</td>\n      <td>0</td>\n      <td>0</td>\n      <td>0</td>\n      <td>0</td>\n      <td>0</td>\n      <td>0</td>\n      <td>0</td>\n      <td>0</td>\n      <td>...</td>\n      <td>0</td>\n      <td>0</td>\n      <td>0</td>\n      <td>0</td>\n      <td>0</td>\n      <td>0</td>\n      <td>0</td>\n      <td>0</td>\n      <td>0</td>\n      <td>0</td>\n    </tr>\n    <tr>\n      <th>68512</th>\n      <td>52.473237</td>\n      <td>0</td>\n      <td>0</td>\n      <td>0</td>\n      <td>0</td>\n      <td>0</td>\n      <td>0</td>\n      <td>0</td>\n      <td>0</td>\n      <td>0</td>\n      <td>...</td>\n      <td>0</td>\n      <td>0</td>\n      <td>0</td>\n      <td>0</td>\n      <td>0</td>\n      <td>0</td>\n      <td>0</td>\n      <td>0</td>\n      <td>0</td>\n      <td>0</td>\n    </tr>\n    <tr>\n      <th>68513</th>\n      <td>42.000000</td>\n      <td>0</td>\n      <td>0</td>\n      <td>0</td>\n      <td>0</td>\n      <td>0</td>\n      <td>0</td>\n      <td>0</td>\n      <td>0</td>\n      <td>0</td>\n      <td>...</td>\n      <td>0</td>\n      <td>0</td>\n      <td>0</td>\n      <td>0</td>\n      <td>0</td>\n      <td>0</td>\n      <td>0</td>\n      <td>0</td>\n      <td>0</td>\n      <td>0</td>\n    </tr>\n    <tr>\n      <th>68514</th>\n      <td>27.899521</td>\n      <td>0</td>\n      <td>0</td>\n      <td>0</td>\n      <td>0</td>\n      <td>0</td>\n      <td>0</td>\n      <td>0</td>\n      <td>0</td>\n      <td>0</td>\n      <td>...</td>\n      <td>0</td>\n      <td>0</td>\n      <td>0</td>\n      <td>0</td>\n      <td>0</td>\n      <td>0</td>\n      <td>0</td>\n      <td>0</td>\n      <td>0</td>\n      <td>0</td>\n    </tr>\n  </tbody>\n</table>\n<p>68515 rows × 846 columns</p>\n</div>"
     },
     "execution_count": 44,
     "metadata": {},
     "output_type": "execute_result"
    }
   ],
   "source": [
    "X = df.drop('book_rating', axis = 1) #Features\n",
    "X"
   ],
   "metadata": {
    "collapsed": false
   }
  },
  {
   "cell_type": "code",
   "execution_count": 45,
   "outputs": [
    {
     "data": {
      "text/plain": "0         7\n1         7\n2         7\n3         8\n4         9\n         ..\n68510    10\n68511     6\n68512     8\n68513     9\n68514     8\nName: book_rating, Length: 68515, dtype: int64"
     },
     "execution_count": 45,
     "metadata": {},
     "output_type": "execute_result"
    }
   ],
   "source": [
    "Y = df['book_rating']   # Target Variables\n",
    "Y"
   ],
   "metadata": {
    "collapsed": false
   }
  },
  {
   "cell_type": "code",
   "execution_count": 46,
   "outputs": [],
   "source": [
    "X_train, X_test, y_train, y_test = train_test_split(X, Y, test_size=0.30, random_state=7)"
   ],
   "metadata": {
    "collapsed": false
   }
  },
  {
   "cell_type": "code",
   "execution_count": 47,
   "outputs": [
    {
     "data": {
      "text/plain": "RandomForestClassifier(min_weight_fraction_leaf=0)",
      "text/html": "<style>#sk-container-id-3 {color: black;background-color: white;}#sk-container-id-3 pre{padding: 0;}#sk-container-id-3 div.sk-toggleable {background-color: white;}#sk-container-id-3 label.sk-toggleable__label {cursor: pointer;display: block;width: 100%;margin-bottom: 0;padding: 0.3em;box-sizing: border-box;text-align: center;}#sk-container-id-3 label.sk-toggleable__label-arrow:before {content: \"▸\";float: left;margin-right: 0.25em;color: #696969;}#sk-container-id-3 label.sk-toggleable__label-arrow:hover:before {color: black;}#sk-container-id-3 div.sk-estimator:hover label.sk-toggleable__label-arrow:before {color: black;}#sk-container-id-3 div.sk-toggleable__content {max-height: 0;max-width: 0;overflow: hidden;text-align: left;background-color: #f0f8ff;}#sk-container-id-3 div.sk-toggleable__content pre {margin: 0.2em;color: black;border-radius: 0.25em;background-color: #f0f8ff;}#sk-container-id-3 input.sk-toggleable__control:checked~div.sk-toggleable__content {max-height: 200px;max-width: 100%;overflow: auto;}#sk-container-id-3 input.sk-toggleable__control:checked~label.sk-toggleable__label-arrow:before {content: \"▾\";}#sk-container-id-3 div.sk-estimator input.sk-toggleable__control:checked~label.sk-toggleable__label {background-color: #d4ebff;}#sk-container-id-3 div.sk-label input.sk-toggleable__control:checked~label.sk-toggleable__label {background-color: #d4ebff;}#sk-container-id-3 input.sk-hidden--visually {border: 0;clip: rect(1px 1px 1px 1px);clip: rect(1px, 1px, 1px, 1px);height: 1px;margin: -1px;overflow: hidden;padding: 0;position: absolute;width: 1px;}#sk-container-id-3 div.sk-estimator {font-family: monospace;background-color: #f0f8ff;border: 1px dotted black;border-radius: 0.25em;box-sizing: border-box;margin-bottom: 0.5em;}#sk-container-id-3 div.sk-estimator:hover {background-color: #d4ebff;}#sk-container-id-3 div.sk-parallel-item::after {content: \"\";width: 100%;border-bottom: 1px solid gray;flex-grow: 1;}#sk-container-id-3 div.sk-label:hover label.sk-toggleable__label {background-color: #d4ebff;}#sk-container-id-3 div.sk-serial::before {content: \"\";position: absolute;border-left: 1px solid gray;box-sizing: border-box;top: 0;bottom: 0;left: 50%;z-index: 0;}#sk-container-id-3 div.sk-serial {display: flex;flex-direction: column;align-items: center;background-color: white;padding-right: 0.2em;padding-left: 0.2em;position: relative;}#sk-container-id-3 div.sk-item {position: relative;z-index: 1;}#sk-container-id-3 div.sk-parallel {display: flex;align-items: stretch;justify-content: center;background-color: white;position: relative;}#sk-container-id-3 div.sk-item::before, #sk-container-id-3 div.sk-parallel-item::before {content: \"\";position: absolute;border-left: 1px solid gray;box-sizing: border-box;top: 0;bottom: 0;left: 50%;z-index: -1;}#sk-container-id-3 div.sk-parallel-item {display: flex;flex-direction: column;z-index: 1;position: relative;background-color: white;}#sk-container-id-3 div.sk-parallel-item:first-child::after {align-self: flex-end;width: 50%;}#sk-container-id-3 div.sk-parallel-item:last-child::after {align-self: flex-start;width: 50%;}#sk-container-id-3 div.sk-parallel-item:only-child::after {width: 0;}#sk-container-id-3 div.sk-dashed-wrapped {border: 1px dashed gray;margin: 0 0.4em 0.5em 0.4em;box-sizing: border-box;padding-bottom: 0.4em;background-color: white;}#sk-container-id-3 div.sk-label label {font-family: monospace;font-weight: bold;display: inline-block;line-height: 1.2em;}#sk-container-id-3 div.sk-label-container {text-align: center;}#sk-container-id-3 div.sk-container {/* jupyter's `normalize.less` sets `[hidden] { display: none; }` but bootstrap.min.css set `[hidden] { display: none !important; }` so we also need the `!important` here to be able to override the default hidden behavior on the sphinx rendered scikit-learn.org. See: https://github.com/scikit-learn/scikit-learn/issues/21755 */display: inline-block !important;position: relative;}#sk-container-id-3 div.sk-text-repr-fallback {display: none;}</style><div id=\"sk-container-id-3\" class=\"sk-top-container\"><div class=\"sk-text-repr-fallback\"><pre>RandomForestClassifier(min_weight_fraction_leaf=0)</pre><b>In a Jupyter environment, please rerun this cell to show the HTML representation or trust the notebook. <br />On GitHub, the HTML representation is unable to render, please try loading this page with nbviewer.org.</b></div><div class=\"sk-container\" hidden><div class=\"sk-item\"><div class=\"sk-estimator sk-toggleable\"><input class=\"sk-toggleable__control sk-hidden--visually\" id=\"sk-estimator-id-3\" type=\"checkbox\" checked><label for=\"sk-estimator-id-3\" class=\"sk-toggleable__label sk-toggleable__label-arrow\">RandomForestClassifier</label><div class=\"sk-toggleable__content\"><pre>RandomForestClassifier(min_weight_fraction_leaf=0)</pre></div></div></div></div></div>"
     },
     "execution_count": 47,
     "metadata": {},
     "output_type": "execute_result"
    }
   ],
   "source": [
    "rfc = RandomForestClassifier(n_estimators=100, min_weight_fraction_leaf= 0)\n",
    "rfc.fit(X_train, y_train)"
   ],
   "metadata": {
    "collapsed": false
   }
  },
  {
   "cell_type": "code",
   "execution_count": 48,
   "outputs": [
    {
     "name": "stdout",
     "output_type": "stream",
     "text": [
      "              precision    recall  f1-score   support\n",
      "\n",
      "           1       0.00      0.00      0.00        91\n",
      "           2       0.00      0.00      0.00       118\n",
      "           3       0.02      0.01      0.01       267\n",
      "           4       0.02      0.01      0.01       384\n",
      "           5       0.26      0.16      0.20      1767\n",
      "           6       0.09      0.04      0.06      1523\n",
      "           7       0.20      0.18      0.19      3345\n",
      "           8       0.29      0.41      0.34      5230\n",
      "           9       0.24      0.22      0.23      3829\n",
      "          10       0.32      0.38      0.35      4001\n",
      "\n",
      "    accuracy                           0.27     20555\n",
      "   macro avg       0.14      0.14      0.14     20555\n",
      "weighted avg       0.24      0.27      0.25     20555\n",
      "\n",
      "26.52882510338117\n"
     ]
    }
   ],
   "source": [
    "rfc_pred = rfc.predict(X_test)\n",
    "print(classification_report(y_test,rfc_pred))\n",
    "print(accuracy_score(y_test,rfc_pred)*100)"
   ],
   "metadata": {
    "collapsed": false
   }
  }
 ],
 "metadata": {
  "kernelspec": {
   "display_name": "Python 3 (ipykernel)",
   "language": "python",
   "name": "python3"
  },
  "language_info": {
   "codemirror_mode": {
    "name": "ipython",
    "version": 3
   },
   "file_extension": ".py",
   "mimetype": "text/x-python",
   "name": "python",
   "nbconvert_exporter": "python",
   "pygments_lexer": "ipython3",
   "version": "3.10.8"
  }
 },
 "nbformat": 4,
 "nbformat_minor": 5
}
