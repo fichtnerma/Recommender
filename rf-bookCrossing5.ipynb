{
 "cells": [
  {
   "cell_type": "markdown",
   "source": [
    "# BibRec: Training Random Forest Model"
   ],
   "metadata": {
    "collapsed": false
   }
  },
  {
   "cell_type": "markdown",
   "source": [
    "### Train Random Forest Model on all ratings\n",
    "RF Features: Country, State, Age, Year-of-Publication, Publisher\n"
   ],
   "metadata": {
    "collapsed": false
   }
  },
  {
   "cell_type": "code",
   "execution_count": 1,
   "outputs": [],
   "source": [
    "# Specify where to save the model\n",
    "model_file = \"rf6-ex6.pkl\""
   ],
   "metadata": {
    "collapsed": false
   }
  },
  {
   "cell_type": "code",
   "execution_count": 2,
   "outputs": [],
   "source": [
    "from bibrec.server.Utils import *\n",
    "from sklearn.model_selection import train_test_split\n",
    "from sklearn.ensemble import RandomForestClassifier\n",
    "from sklearn.metrics import classification_report, accuracy_score\n",
    "\n",
    "books, users, ratings = get_normalized_data(books_path='data/normalized_books.csv',\n",
    "                                            users_path='data/normalized_users.csv',\n",
    "                                            ratings_path='data/normalized_ratings.csv')"
   ],
   "metadata": {
    "collapsed": false
   }
  },
  {
   "cell_type": "code",
   "execution_count": 3,
   "outputs": [
    {
     "data": {
      "text/plain": "        Unnamed: 0  user_id        age         city       state  \\\n0                0        1  29.211585          nyc    new_york   \n1                1        2  18.000000     stockton  california   \n2                2        3  29.482966       moscow       other   \n3                3        4  17.000000        porto       other   \n4                4        5  61.303176  farnborough       other   \n...            ...      ...        ...          ...         ...   \n278853      278853   278854  24.011737     portland      oregon   \n278854      278854   278855  50.000000       tacoma  washington   \n278855      278855   278856  46.690675     brampton     ontario   \n278856      278856   278857  59.526554    knoxville       other   \n278857      278857   278858  38.431999       dublin         NaN   \n\n               country  user_mean  user_count  \n0                  usa        0.0         0.0  \n1                  usa        0.0         0.0  \n2                other        0.0         0.0  \n3             portugal        0.0         0.0  \n4       united_kingdom        0.0         0.0  \n...                ...        ...         ...  \n278853             usa        7.0         6.0  \n278854  united_kingdom        0.0         0.0  \n278855          canada        0.0         0.0  \n278856             usa        0.0         0.0  \n278857           other        0.0         0.0  \n\n[278858 rows x 8 columns]",
      "text/html": "<div>\n<style scoped>\n    .dataframe tbody tr th:only-of-type {\n        vertical-align: middle;\n    }\n\n    .dataframe tbody tr th {\n        vertical-align: top;\n    }\n\n    .dataframe thead th {\n        text-align: right;\n    }\n</style>\n<table border=\"1\" class=\"dataframe\">\n  <thead>\n    <tr style=\"text-align: right;\">\n      <th></th>\n      <th>Unnamed: 0</th>\n      <th>user_id</th>\n      <th>age</th>\n      <th>city</th>\n      <th>state</th>\n      <th>country</th>\n      <th>user_mean</th>\n      <th>user_count</th>\n    </tr>\n  </thead>\n  <tbody>\n    <tr>\n      <th>0</th>\n      <td>0</td>\n      <td>1</td>\n      <td>29.211585</td>\n      <td>nyc</td>\n      <td>new_york</td>\n      <td>usa</td>\n      <td>0.0</td>\n      <td>0.0</td>\n    </tr>\n    <tr>\n      <th>1</th>\n      <td>1</td>\n      <td>2</td>\n      <td>18.000000</td>\n      <td>stockton</td>\n      <td>california</td>\n      <td>usa</td>\n      <td>0.0</td>\n      <td>0.0</td>\n    </tr>\n    <tr>\n      <th>2</th>\n      <td>2</td>\n      <td>3</td>\n      <td>29.482966</td>\n      <td>moscow</td>\n      <td>other</td>\n      <td>other</td>\n      <td>0.0</td>\n      <td>0.0</td>\n    </tr>\n    <tr>\n      <th>3</th>\n      <td>3</td>\n      <td>4</td>\n      <td>17.000000</td>\n      <td>porto</td>\n      <td>other</td>\n      <td>portugal</td>\n      <td>0.0</td>\n      <td>0.0</td>\n    </tr>\n    <tr>\n      <th>4</th>\n      <td>4</td>\n      <td>5</td>\n      <td>61.303176</td>\n      <td>farnborough</td>\n      <td>other</td>\n      <td>united_kingdom</td>\n      <td>0.0</td>\n      <td>0.0</td>\n    </tr>\n    <tr>\n      <th>...</th>\n      <td>...</td>\n      <td>...</td>\n      <td>...</td>\n      <td>...</td>\n      <td>...</td>\n      <td>...</td>\n      <td>...</td>\n      <td>...</td>\n    </tr>\n    <tr>\n      <th>278853</th>\n      <td>278853</td>\n      <td>278854</td>\n      <td>24.011737</td>\n      <td>portland</td>\n      <td>oregon</td>\n      <td>usa</td>\n      <td>7.0</td>\n      <td>6.0</td>\n    </tr>\n    <tr>\n      <th>278854</th>\n      <td>278854</td>\n      <td>278855</td>\n      <td>50.000000</td>\n      <td>tacoma</td>\n      <td>washington</td>\n      <td>united_kingdom</td>\n      <td>0.0</td>\n      <td>0.0</td>\n    </tr>\n    <tr>\n      <th>278855</th>\n      <td>278855</td>\n      <td>278856</td>\n      <td>46.690675</td>\n      <td>brampton</td>\n      <td>ontario</td>\n      <td>canada</td>\n      <td>0.0</td>\n      <td>0.0</td>\n    </tr>\n    <tr>\n      <th>278856</th>\n      <td>278856</td>\n      <td>278857</td>\n      <td>59.526554</td>\n      <td>knoxville</td>\n      <td>other</td>\n      <td>usa</td>\n      <td>0.0</td>\n      <td>0.0</td>\n    </tr>\n    <tr>\n      <th>278857</th>\n      <td>278857</td>\n      <td>278858</td>\n      <td>38.431999</td>\n      <td>dublin</td>\n      <td>NaN</td>\n      <td>other</td>\n      <td>0.0</td>\n      <td>0.0</td>\n    </tr>\n  </tbody>\n</table>\n<p>278858 rows × 8 columns</p>\n</div>"
     },
     "execution_count": 3,
     "metadata": {},
     "output_type": "execute_result"
    }
   ],
   "source": [
    "users"
   ],
   "metadata": {
    "collapsed": false
   }
  },
  {
   "cell_type": "code",
   "execution_count": 4,
   "outputs": [
    {
     "data": {
      "text/plain": "        Unnamed: 0                                         book_title  \\\n0                0                                Classical Mythology   \n1                1                                       Clara Callan   \n2                2                               Decision in Normandy   \n3                3  Flu: The Story of the Great Influenza Pandemic...   \n4                4                             The Mummies of Urumchi   \n...            ...                                                ...   \n270939      270939                         There's a Bat in Bunk Five   \n270940      270940                            From One to One Hundred   \n270941      270941  Lily Dale : The True Story of the Town that Ta...   \n270942      270942                        Republic (World's Classics)   \n270943      270943  A Guided Tour of Rene Descartes' Meditations o...   \n\n                 book_author  year_of_publication publisher  \\\n0         Mark P. O. Morford                 2002     other   \n1       Richard Bruce Wright                 2001     other   \n2               Carlo D'Este                 1991     other   \n3           Gina Bari Kolata                 1999     other   \n4            E. J. W. Barber                 1999     other   \n...                      ...                  ...       ...   \n270939        Paula Danziger                 1988     other   \n270940            Teri Sloat                 1991     other   \n270941      Christine Wicker                 2004     other   \n270942                 Plato                 1996     other   \n270943   Christopher  Biffle                 2000     other   \n\n                                              image_url_s  \\\n0       http://images.amazon.com/images/P/0195153448.0...   \n1       http://images.amazon.com/images/P/0002005018.0...   \n2       http://images.amazon.com/images/P/0060973129.0...   \n3       http://images.amazon.com/images/P/0374157065.0...   \n4       http://images.amazon.com/images/P/0393045218.0...   \n...                                                   ...   \n270939  http://images.amazon.com/images/P/0440400988.0...   \n270940  http://images.amazon.com/images/P/0525447644.0...   \n270941  http://images.amazon.com/images/P/006008667X.0...   \n270942  http://images.amazon.com/images/P/0192126040.0...   \n270943  http://images.amazon.com/images/P/0767409752.0...   \n\n                                              image_url_m  \\\n0       http://images.amazon.com/images/P/0195153448.0...   \n1       http://images.amazon.com/images/P/0002005018.0...   \n2       http://images.amazon.com/images/P/0060973129.0...   \n3       http://images.amazon.com/images/P/0374157065.0...   \n4       http://images.amazon.com/images/P/0393045218.0...   \n...                                                   ...   \n270939  http://images.amazon.com/images/P/0440400988.0...   \n270940  http://images.amazon.com/images/P/0525447644.0...   \n270941  http://images.amazon.com/images/P/006008667X.0...   \n270942  http://images.amazon.com/images/P/0192126040.0...   \n270943  http://images.amazon.com/images/P/0767409752.0...   \n\n                                              image_url_l         isbn13  \\\n0       http://images.amazon.com/images/P/0195153448.0...  9780195153446   \n1       http://images.amazon.com/images/P/0002005018.0...  9780002005012   \n2       http://images.amazon.com/images/P/0060973129.0...  9780060973124   \n3       http://images.amazon.com/images/P/0374157065.0...  9780374157067   \n4       http://images.amazon.com/images/P/0393045218.0...  9780393045215   \n...                                                   ...            ...   \n270939  http://images.amazon.com/images/P/0440400988.0...   978044040095   \n270940  http://images.amazon.com/images/P/0525447644.0...   978052544763   \n270941  http://images.amazon.com/images/P/006008667X.0...  9780060086671   \n270942  http://images.amazon.com/images/P/0192126040.0...  9780192126047   \n270943  http://images.amazon.com/images/P/0767409752.0...  9780767409759   \n\n        rating_mean  rating_count  normalized_year_of_publication  \n0          0.000000           0.0                               3  \n1          7.666667           9.0                               4  \n2          7.500000           2.0                              14  \n3          7.833333           6.0                               6  \n4          0.000000           0.0                               6  \n...             ...           ...                             ...  \n270939     7.000000           1.0                              17  \n270940     4.000000           1.0                              14  \n270941     0.000000           0.0                               1  \n270942     0.000000           0.0                               9  \n270943     0.000000           0.0                               5  \n\n[270944 rows x 12 columns]",
      "text/html": "<div>\n<style scoped>\n    .dataframe tbody tr th:only-of-type {\n        vertical-align: middle;\n    }\n\n    .dataframe tbody tr th {\n        vertical-align: top;\n    }\n\n    .dataframe thead th {\n        text-align: right;\n    }\n</style>\n<table border=\"1\" class=\"dataframe\">\n  <thead>\n    <tr style=\"text-align: right;\">\n      <th></th>\n      <th>Unnamed: 0</th>\n      <th>book_title</th>\n      <th>book_author</th>\n      <th>year_of_publication</th>\n      <th>publisher</th>\n      <th>image_url_s</th>\n      <th>image_url_m</th>\n      <th>image_url_l</th>\n      <th>isbn13</th>\n      <th>rating_mean</th>\n      <th>rating_count</th>\n      <th>normalized_year_of_publication</th>\n    </tr>\n  </thead>\n  <tbody>\n    <tr>\n      <th>0</th>\n      <td>0</td>\n      <td>Classical Mythology</td>\n      <td>Mark P. O. Morford</td>\n      <td>2002</td>\n      <td>other</td>\n      <td>http://images.amazon.com/images/P/0195153448.0...</td>\n      <td>http://images.amazon.com/images/P/0195153448.0...</td>\n      <td>http://images.amazon.com/images/P/0195153448.0...</td>\n      <td>9780195153446</td>\n      <td>0.000000</td>\n      <td>0.0</td>\n      <td>3</td>\n    </tr>\n    <tr>\n      <th>1</th>\n      <td>1</td>\n      <td>Clara Callan</td>\n      <td>Richard Bruce Wright</td>\n      <td>2001</td>\n      <td>other</td>\n      <td>http://images.amazon.com/images/P/0002005018.0...</td>\n      <td>http://images.amazon.com/images/P/0002005018.0...</td>\n      <td>http://images.amazon.com/images/P/0002005018.0...</td>\n      <td>9780002005012</td>\n      <td>7.666667</td>\n      <td>9.0</td>\n      <td>4</td>\n    </tr>\n    <tr>\n      <th>2</th>\n      <td>2</td>\n      <td>Decision in Normandy</td>\n      <td>Carlo D'Este</td>\n      <td>1991</td>\n      <td>other</td>\n      <td>http://images.amazon.com/images/P/0060973129.0...</td>\n      <td>http://images.amazon.com/images/P/0060973129.0...</td>\n      <td>http://images.amazon.com/images/P/0060973129.0...</td>\n      <td>9780060973124</td>\n      <td>7.500000</td>\n      <td>2.0</td>\n      <td>14</td>\n    </tr>\n    <tr>\n      <th>3</th>\n      <td>3</td>\n      <td>Flu: The Story of the Great Influenza Pandemic...</td>\n      <td>Gina Bari Kolata</td>\n      <td>1999</td>\n      <td>other</td>\n      <td>http://images.amazon.com/images/P/0374157065.0...</td>\n      <td>http://images.amazon.com/images/P/0374157065.0...</td>\n      <td>http://images.amazon.com/images/P/0374157065.0...</td>\n      <td>9780374157067</td>\n      <td>7.833333</td>\n      <td>6.0</td>\n      <td>6</td>\n    </tr>\n    <tr>\n      <th>4</th>\n      <td>4</td>\n      <td>The Mummies of Urumchi</td>\n      <td>E. J. W. Barber</td>\n      <td>1999</td>\n      <td>other</td>\n      <td>http://images.amazon.com/images/P/0393045218.0...</td>\n      <td>http://images.amazon.com/images/P/0393045218.0...</td>\n      <td>http://images.amazon.com/images/P/0393045218.0...</td>\n      <td>9780393045215</td>\n      <td>0.000000</td>\n      <td>0.0</td>\n      <td>6</td>\n    </tr>\n    <tr>\n      <th>...</th>\n      <td>...</td>\n      <td>...</td>\n      <td>...</td>\n      <td>...</td>\n      <td>...</td>\n      <td>...</td>\n      <td>...</td>\n      <td>...</td>\n      <td>...</td>\n      <td>...</td>\n      <td>...</td>\n      <td>...</td>\n    </tr>\n    <tr>\n      <th>270939</th>\n      <td>270939</td>\n      <td>There's a Bat in Bunk Five</td>\n      <td>Paula Danziger</td>\n      <td>1988</td>\n      <td>other</td>\n      <td>http://images.amazon.com/images/P/0440400988.0...</td>\n      <td>http://images.amazon.com/images/P/0440400988.0...</td>\n      <td>http://images.amazon.com/images/P/0440400988.0...</td>\n      <td>978044040095</td>\n      <td>7.000000</td>\n      <td>1.0</td>\n      <td>17</td>\n    </tr>\n    <tr>\n      <th>270940</th>\n      <td>270940</td>\n      <td>From One to One Hundred</td>\n      <td>Teri Sloat</td>\n      <td>1991</td>\n      <td>other</td>\n      <td>http://images.amazon.com/images/P/0525447644.0...</td>\n      <td>http://images.amazon.com/images/P/0525447644.0...</td>\n      <td>http://images.amazon.com/images/P/0525447644.0...</td>\n      <td>978052544763</td>\n      <td>4.000000</td>\n      <td>1.0</td>\n      <td>14</td>\n    </tr>\n    <tr>\n      <th>270941</th>\n      <td>270941</td>\n      <td>Lily Dale : The True Story of the Town that Ta...</td>\n      <td>Christine Wicker</td>\n      <td>2004</td>\n      <td>other</td>\n      <td>http://images.amazon.com/images/P/006008667X.0...</td>\n      <td>http://images.amazon.com/images/P/006008667X.0...</td>\n      <td>http://images.amazon.com/images/P/006008667X.0...</td>\n      <td>9780060086671</td>\n      <td>0.000000</td>\n      <td>0.0</td>\n      <td>1</td>\n    </tr>\n    <tr>\n      <th>270942</th>\n      <td>270942</td>\n      <td>Republic (World's Classics)</td>\n      <td>Plato</td>\n      <td>1996</td>\n      <td>other</td>\n      <td>http://images.amazon.com/images/P/0192126040.0...</td>\n      <td>http://images.amazon.com/images/P/0192126040.0...</td>\n      <td>http://images.amazon.com/images/P/0192126040.0...</td>\n      <td>9780192126047</td>\n      <td>0.000000</td>\n      <td>0.0</td>\n      <td>9</td>\n    </tr>\n    <tr>\n      <th>270943</th>\n      <td>270943</td>\n      <td>A Guided Tour of Rene Descartes' Meditations o...</td>\n      <td>Christopher  Biffle</td>\n      <td>2000</td>\n      <td>other</td>\n      <td>http://images.amazon.com/images/P/0767409752.0...</td>\n      <td>http://images.amazon.com/images/P/0767409752.0...</td>\n      <td>http://images.amazon.com/images/P/0767409752.0...</td>\n      <td>9780767409759</td>\n      <td>0.000000</td>\n      <td>0.0</td>\n      <td>5</td>\n    </tr>\n  </tbody>\n</table>\n<p>270944 rows × 12 columns</p>\n</div>"
     },
     "execution_count": 4,
     "metadata": {},
     "output_type": "execute_result"
    }
   ],
   "source": [
    "books = books.drop([\"isbn\"], axis=1)\n",
    "books"
   ],
   "metadata": {
    "collapsed": false
   }
  },
  {
   "cell_type": "code",
   "execution_count": 5,
   "outputs": [
    {
     "data": {
      "text/plain": "         Unnamed: 0         isbn13  normalized_rating  user_id  book_rating\n0                 0  9780155061224                0.0   276726            5\n1                 1  9780521656153               -1.5   276729            3\n2                 2  9780521795029                1.5   276729            6\n3                 3  9780385501200                0.0   276744            7\n4                 4  9780385501200                0.0    11676           10\n...             ...            ...                ...      ...          ...\n9444717     9444717  9780515107661                0.0   242006           10\n9444718     9444718  9780515107661                0.0   249628           10\n9444719     9444719  9780515107661                0.0   276709           10\n9444720     9444720  9780590442442                0.0   197659            8\n9444721     9444721  9780590442442                0.0   276721           10\n\n[9444722 rows x 5 columns]",
      "text/html": "<div>\n<style scoped>\n    .dataframe tbody tr th:only-of-type {\n        vertical-align: middle;\n    }\n\n    .dataframe tbody tr th {\n        vertical-align: top;\n    }\n\n    .dataframe thead th {\n        text-align: right;\n    }\n</style>\n<table border=\"1\" class=\"dataframe\">\n  <thead>\n    <tr style=\"text-align: right;\">\n      <th></th>\n      <th>Unnamed: 0</th>\n      <th>isbn13</th>\n      <th>normalized_rating</th>\n      <th>user_id</th>\n      <th>book_rating</th>\n    </tr>\n  </thead>\n  <tbody>\n    <tr>\n      <th>0</th>\n      <td>0</td>\n      <td>9780155061224</td>\n      <td>0.0</td>\n      <td>276726</td>\n      <td>5</td>\n    </tr>\n    <tr>\n      <th>1</th>\n      <td>1</td>\n      <td>9780521656153</td>\n      <td>-1.5</td>\n      <td>276729</td>\n      <td>3</td>\n    </tr>\n    <tr>\n      <th>2</th>\n      <td>2</td>\n      <td>9780521795029</td>\n      <td>1.5</td>\n      <td>276729</td>\n      <td>6</td>\n    </tr>\n    <tr>\n      <th>3</th>\n      <td>3</td>\n      <td>9780385501200</td>\n      <td>0.0</td>\n      <td>276744</td>\n      <td>7</td>\n    </tr>\n    <tr>\n      <th>4</th>\n      <td>4</td>\n      <td>9780385501200</td>\n      <td>0.0</td>\n      <td>11676</td>\n      <td>10</td>\n    </tr>\n    <tr>\n      <th>...</th>\n      <td>...</td>\n      <td>...</td>\n      <td>...</td>\n      <td>...</td>\n      <td>...</td>\n    </tr>\n    <tr>\n      <th>9444717</th>\n      <td>9444717</td>\n      <td>9780515107661</td>\n      <td>0.0</td>\n      <td>242006</td>\n      <td>10</td>\n    </tr>\n    <tr>\n      <th>9444718</th>\n      <td>9444718</td>\n      <td>9780515107661</td>\n      <td>0.0</td>\n      <td>249628</td>\n      <td>10</td>\n    </tr>\n    <tr>\n      <th>9444719</th>\n      <td>9444719</td>\n      <td>9780515107661</td>\n      <td>0.0</td>\n      <td>276709</td>\n      <td>10</td>\n    </tr>\n    <tr>\n      <th>9444720</th>\n      <td>9444720</td>\n      <td>9780590442442</td>\n      <td>0.0</td>\n      <td>197659</td>\n      <td>8</td>\n    </tr>\n    <tr>\n      <th>9444721</th>\n      <td>9444721</td>\n      <td>9780590442442</td>\n      <td>0.0</td>\n      <td>276721</td>\n      <td>10</td>\n    </tr>\n  </tbody>\n</table>\n<p>9444722 rows × 5 columns</p>\n</div>"
     },
     "execution_count": 5,
     "metadata": {},
     "output_type": "execute_result"
    }
   ],
   "source": [
    "ratings = ratings.drop([\"isbn\"], axis=1)\n",
    "ratings"
   ],
   "metadata": {
    "collapsed": false
   }
  },
  {
   "cell_type": "code",
   "execution_count": 6,
   "outputs": [
    {
     "name": "stderr",
     "output_type": "stream",
     "text": [
      "/tmp/ipykernel_39447/1946061310.py:3: FutureWarning: The behavior of `series[i:j]` with an integer-dtype index is deprecated. In a future version, this will be treated as *label-based* indexing, consistent with e.g. `series[i]` lookups. To retain the old behavior, use `series.iloc[i:j]`. To get the future behavior, use `series.loc[i:j]`.\n",
      "  top_ratings = top_ratings[:50]\n"
     ]
    },
    {
     "data": {
      "text/plain": "           isbn13\n0   9780316666343\n1   9780971880108\n2   9780385504201\n3   9780312195519\n4   9780060928339\n5   9780590353427\n6   9780142001745\n7    978044667227\n8   9780440237228\n9   9780452282155\n10  9780316601955\n11  9780671027360\n12  9780679764021\n13  9780786868711\n14  9780316769488\n15  9780743418171\n16  9780345337665\n17  9780375727344\n18  9780312278588\n19  9780156027328\n20  9780060930530\n21  9780671021009\n22  9780446310789\n23  9780440226437\n24  9780440211457\n25   978067100378\n26  9780439358064\n27  9780446605236\n28  9780385484510\n29  9780345370778\n30  9780440241072\n31  9780345417626\n32  9780804106306\n33  9780440211723\n34  9780439064873\n35  9780060976842\n36  9781400034772\n37  9780345361790\n38  9780446610032\n39  9780440214045\n40   978031628495\n41  9780440234746\n42  9780312291631\n43  9780440206156\n44  9780060502256\n45  9780140293241\n46  9780345342966\n47  9780385335485\n48  9780345339683\n49  9780316776967",
      "text/html": "<div>\n<style scoped>\n    .dataframe tbody tr th:only-of-type {\n        vertical-align: middle;\n    }\n\n    .dataframe tbody tr th {\n        vertical-align: top;\n    }\n\n    .dataframe thead th {\n        text-align: right;\n    }\n</style>\n<table border=\"1\" class=\"dataframe\">\n  <thead>\n    <tr style=\"text-align: right;\">\n      <th></th>\n      <th>isbn13</th>\n    </tr>\n  </thead>\n  <tbody>\n    <tr>\n      <th>0</th>\n      <td>9780316666343</td>\n    </tr>\n    <tr>\n      <th>1</th>\n      <td>9780971880108</td>\n    </tr>\n    <tr>\n      <th>2</th>\n      <td>9780385504201</td>\n    </tr>\n    <tr>\n      <th>3</th>\n      <td>9780312195519</td>\n    </tr>\n    <tr>\n      <th>4</th>\n      <td>9780060928339</td>\n    </tr>\n    <tr>\n      <th>5</th>\n      <td>9780590353427</td>\n    </tr>\n    <tr>\n      <th>6</th>\n      <td>9780142001745</td>\n    </tr>\n    <tr>\n      <th>7</th>\n      <td>978044667227</td>\n    </tr>\n    <tr>\n      <th>8</th>\n      <td>9780440237228</td>\n    </tr>\n    <tr>\n      <th>9</th>\n      <td>9780452282155</td>\n    </tr>\n    <tr>\n      <th>10</th>\n      <td>9780316601955</td>\n    </tr>\n    <tr>\n      <th>11</th>\n      <td>9780671027360</td>\n    </tr>\n    <tr>\n      <th>12</th>\n      <td>9780679764021</td>\n    </tr>\n    <tr>\n      <th>13</th>\n      <td>9780786868711</td>\n    </tr>\n    <tr>\n      <th>14</th>\n      <td>9780316769488</td>\n    </tr>\n    <tr>\n      <th>15</th>\n      <td>9780743418171</td>\n    </tr>\n    <tr>\n      <th>16</th>\n      <td>9780345337665</td>\n    </tr>\n    <tr>\n      <th>17</th>\n      <td>9780375727344</td>\n    </tr>\n    <tr>\n      <th>18</th>\n      <td>9780312278588</td>\n    </tr>\n    <tr>\n      <th>19</th>\n      <td>9780156027328</td>\n    </tr>\n    <tr>\n      <th>20</th>\n      <td>9780060930530</td>\n    </tr>\n    <tr>\n      <th>21</th>\n      <td>9780671021009</td>\n    </tr>\n    <tr>\n      <th>22</th>\n      <td>9780446310789</td>\n    </tr>\n    <tr>\n      <th>23</th>\n      <td>9780440226437</td>\n    </tr>\n    <tr>\n      <th>24</th>\n      <td>9780440211457</td>\n    </tr>\n    <tr>\n      <th>25</th>\n      <td>978067100378</td>\n    </tr>\n    <tr>\n      <th>26</th>\n      <td>9780439358064</td>\n    </tr>\n    <tr>\n      <th>27</th>\n      <td>9780446605236</td>\n    </tr>\n    <tr>\n      <th>28</th>\n      <td>9780385484510</td>\n    </tr>\n    <tr>\n      <th>29</th>\n      <td>9780345370778</td>\n    </tr>\n    <tr>\n      <th>30</th>\n      <td>9780440241072</td>\n    </tr>\n    <tr>\n      <th>31</th>\n      <td>9780345417626</td>\n    </tr>\n    <tr>\n      <th>32</th>\n      <td>9780804106306</td>\n    </tr>\n    <tr>\n      <th>33</th>\n      <td>9780440211723</td>\n    </tr>\n    <tr>\n      <th>34</th>\n      <td>9780439064873</td>\n    </tr>\n    <tr>\n      <th>35</th>\n      <td>9780060976842</td>\n    </tr>\n    <tr>\n      <th>36</th>\n      <td>9781400034772</td>\n    </tr>\n    <tr>\n      <th>37</th>\n      <td>9780345361790</td>\n    </tr>\n    <tr>\n      <th>38</th>\n      <td>9780446610032</td>\n    </tr>\n    <tr>\n      <th>39</th>\n      <td>9780440214045</td>\n    </tr>\n    <tr>\n      <th>40</th>\n      <td>978031628495</td>\n    </tr>\n    <tr>\n      <th>41</th>\n      <td>9780440234746</td>\n    </tr>\n    <tr>\n      <th>42</th>\n      <td>9780312291631</td>\n    </tr>\n    <tr>\n      <th>43</th>\n      <td>9780440206156</td>\n    </tr>\n    <tr>\n      <th>44</th>\n      <td>9780060502256</td>\n    </tr>\n    <tr>\n      <th>45</th>\n      <td>9780140293241</td>\n    </tr>\n    <tr>\n      <th>46</th>\n      <td>9780345342966</td>\n    </tr>\n    <tr>\n      <th>47</th>\n      <td>9780385335485</td>\n    </tr>\n    <tr>\n      <th>48</th>\n      <td>9780345339683</td>\n    </tr>\n    <tr>\n      <th>49</th>\n      <td>9780316776967</td>\n    </tr>\n  </tbody>\n</table>\n</div>"
     },
     "execution_count": 6,
     "metadata": {},
     "output_type": "execute_result"
    }
   ],
   "source": [
    "# limit data to top-rated books only\n",
    "top_ratings = ratings.groupby('isbn13').user_id.count().sort_values(ascending=False)\n",
    "top_ratings = top_ratings[:50]\n",
    "top_ratings = top_ratings.reset_index()\n",
    "# user_id => nr of ratings\n",
    "top_ratings = top_ratings.drop('user_id', axis=1)\n",
    "top_ratings"
   ],
   "metadata": {
    "collapsed": false
   }
  },
  {
   "cell_type": "code",
   "execution_count": 7,
   "outputs": [
    {
     "data": {
      "text/plain": "                isbn13  Unnamed: 0  normalized_rating  user_id  book_rating\n0        9780316666343       12796           1.000000   277439            7\n1        9780316666343       12797           1.000000   277752            7\n2        9780316666343       12798           1.000000   278633            9\n3        9780316666343       12799           1.000000      638           10\n4        9780316666343       12800           1.000000      709            3\n...                ...         ...                ...      ...          ...\n3425283  9780316776967     9244582          -0.957198   262940            9\n3425284  9780316776967     9244583          -0.957198   264321            6\n3425285  9780316776967     9244584          -0.957198   266588            7\n3425286  9780316776967     9244585          -0.957198   268622            7\n3425287  9780316776967     9244586          -0.957198   270713            7\n\n[3425288 rows x 5 columns]",
      "text/html": "<div>\n<style scoped>\n    .dataframe tbody tr th:only-of-type {\n        vertical-align: middle;\n    }\n\n    .dataframe tbody tr th {\n        vertical-align: top;\n    }\n\n    .dataframe thead th {\n        text-align: right;\n    }\n</style>\n<table border=\"1\" class=\"dataframe\">\n  <thead>\n    <tr style=\"text-align: right;\">\n      <th></th>\n      <th>isbn13</th>\n      <th>Unnamed: 0</th>\n      <th>normalized_rating</th>\n      <th>user_id</th>\n      <th>book_rating</th>\n    </tr>\n  </thead>\n  <tbody>\n    <tr>\n      <th>0</th>\n      <td>9780316666343</td>\n      <td>12796</td>\n      <td>1.000000</td>\n      <td>277439</td>\n      <td>7</td>\n    </tr>\n    <tr>\n      <th>1</th>\n      <td>9780316666343</td>\n      <td>12797</td>\n      <td>1.000000</td>\n      <td>277752</td>\n      <td>7</td>\n    </tr>\n    <tr>\n      <th>2</th>\n      <td>9780316666343</td>\n      <td>12798</td>\n      <td>1.000000</td>\n      <td>278633</td>\n      <td>9</td>\n    </tr>\n    <tr>\n      <th>3</th>\n      <td>9780316666343</td>\n      <td>12799</td>\n      <td>1.000000</td>\n      <td>638</td>\n      <td>10</td>\n    </tr>\n    <tr>\n      <th>4</th>\n      <td>9780316666343</td>\n      <td>12800</td>\n      <td>1.000000</td>\n      <td>709</td>\n      <td>3</td>\n    </tr>\n    <tr>\n      <th>...</th>\n      <td>...</td>\n      <td>...</td>\n      <td>...</td>\n      <td>...</td>\n      <td>...</td>\n    </tr>\n    <tr>\n      <th>3425283</th>\n      <td>9780316776967</td>\n      <td>9244582</td>\n      <td>-0.957198</td>\n      <td>262940</td>\n      <td>9</td>\n    </tr>\n    <tr>\n      <th>3425284</th>\n      <td>9780316776967</td>\n      <td>9244583</td>\n      <td>-0.957198</td>\n      <td>264321</td>\n      <td>6</td>\n    </tr>\n    <tr>\n      <th>3425285</th>\n      <td>9780316776967</td>\n      <td>9244584</td>\n      <td>-0.957198</td>\n      <td>266588</td>\n      <td>7</td>\n    </tr>\n    <tr>\n      <th>3425286</th>\n      <td>9780316776967</td>\n      <td>9244585</td>\n      <td>-0.957198</td>\n      <td>268622</td>\n      <td>7</td>\n    </tr>\n    <tr>\n      <th>3425287</th>\n      <td>9780316776967</td>\n      <td>9244586</td>\n      <td>-0.957198</td>\n      <td>270713</td>\n      <td>7</td>\n    </tr>\n  </tbody>\n</table>\n<p>3425288 rows × 5 columns</p>\n</div>"
     },
     "execution_count": 7,
     "metadata": {},
     "output_type": "execute_result"
    }
   ],
   "source": [
    "top_ratings = top_ratings.merge(ratings, on='isbn13', how='inner')\n",
    "top_ratings"
   ],
   "metadata": {
    "collapsed": false
   }
  },
  {
   "cell_type": "code",
   "execution_count": 8,
   "outputs": [
    {
     "name": "stdout",
     "output_type": "stream",
     "text": [
      "hot encoding books\n"
     ]
    },
    {
     "data": {
      "text/plain": "        Unnamed: 0                                         book_title  \\\n0                0                                Classical Mythology   \n1                1                                       Clara Callan   \n2                2                               Decision in Normandy   \n3                3  Flu: The Story of the Great Influenza Pandemic...   \n4                4                             The Mummies of Urumchi   \n...            ...                                                ...   \n270939      270939                         There's a Bat in Bunk Five   \n270940      270940                            From One to One Hundred   \n270941      270941  Lily Dale : The True Story of the Town that Ta...   \n270942      270942                        Republic (World's Classics)   \n270943      270943  A Guided Tour of Rene Descartes' Meditations o...   \n\n                 book_author  year_of_publication  \\\n0         Mark P. O. Morford                 2002   \n1       Richard Bruce Wright                 2001   \n2               Carlo D'Este                 1991   \n3           Gina Bari Kolata                 1999   \n4            E. J. W. Barber                 1999   \n...                      ...                  ...   \n270939        Paula Danziger                 1988   \n270940            Teri Sloat                 1991   \n270941      Christine Wicker                 2004   \n270942                 Plato                 1996   \n270943   Christopher  Biffle                 2000   \n\n                                              image_url_s  \\\n0       http://images.amazon.com/images/P/0195153448.0...   \n1       http://images.amazon.com/images/P/0002005018.0...   \n2       http://images.amazon.com/images/P/0060973129.0...   \n3       http://images.amazon.com/images/P/0374157065.0...   \n4       http://images.amazon.com/images/P/0393045218.0...   \n...                                                   ...   \n270939  http://images.amazon.com/images/P/0440400988.0...   \n270940  http://images.amazon.com/images/P/0525447644.0...   \n270941  http://images.amazon.com/images/P/006008667X.0...   \n270942  http://images.amazon.com/images/P/0192126040.0...   \n270943  http://images.amazon.com/images/P/0767409752.0...   \n\n                                              image_url_m  \\\n0       http://images.amazon.com/images/P/0195153448.0...   \n1       http://images.amazon.com/images/P/0002005018.0...   \n2       http://images.amazon.com/images/P/0060973129.0...   \n3       http://images.amazon.com/images/P/0374157065.0...   \n4       http://images.amazon.com/images/P/0393045218.0...   \n...                                                   ...   \n270939  http://images.amazon.com/images/P/0440400988.0...   \n270940  http://images.amazon.com/images/P/0525447644.0...   \n270941  http://images.amazon.com/images/P/006008667X.0...   \n270942  http://images.amazon.com/images/P/0192126040.0...   \n270943  http://images.amazon.com/images/P/0767409752.0...   \n\n                                              image_url_l         isbn13  \\\n0       http://images.amazon.com/images/P/0195153448.0...  9780195153446   \n1       http://images.amazon.com/images/P/0002005018.0...  9780002005012   \n2       http://images.amazon.com/images/P/0060973129.0...  9780060973124   \n3       http://images.amazon.com/images/P/0374157065.0...  9780374157067   \n4       http://images.amazon.com/images/P/0393045218.0...  9780393045215   \n...                                                   ...            ...   \n270939  http://images.amazon.com/images/P/0440400988.0...   978044040095   \n270940  http://images.amazon.com/images/P/0525447644.0...   978052544763   \n270941  http://images.amazon.com/images/P/006008667X.0...  9780060086671   \n270942  http://images.amazon.com/images/P/0192126040.0...  9780192126047   \n270943  http://images.amazon.com/images/P/0767409752.0...  9780767409759   \n\n        rating_mean  rating_count  ...  publisher_random_house_inc  \\\n0          0.000000           0.0  ...                           0   \n1          7.666667           9.0  ...                           0   \n2          7.500000           2.0  ...                           0   \n3          7.833333           6.0  ...                           0   \n4          0.000000           0.0  ...                           0   \n...             ...           ...  ...                         ...   \n270939     7.000000           1.0  ...                           0   \n270940     4.000000           1.0  ...                           0   \n270941     0.000000           0.0  ...                           0   \n270942     0.000000           0.0  ...                           0   \n270943     0.000000           0.0  ...                           0   \n\n        publisher_scholastic  publisher_signet_book  publisher_silhouette  \\\n0                          0                      0                     0   \n1                          0                      0                     0   \n2                          0                      0                     0   \n3                          0                      0                     0   \n4                          0                      0                     0   \n...                      ...                    ...                   ...   \n270939                     0                      0                     0   \n270940                     0                      0                     0   \n270941                     0                      0                     0   \n270942                     0                      0                     0   \n270943                     0                      0                     0   \n\n        publisher_simon_&amp;_schuster  publisher_st._martin's_press  \\\n0                                    0                             0   \n1                                    0                             0   \n2                                    0                             0   \n3                                    0                             0   \n4                                    0                             0   \n...                                ...                           ...   \n270939                               0                             0   \n270940                               0                             0   \n270941                               0                             0   \n270942                               0                             0   \n270943                               0                             0   \n\n        publisher_st_martins_pr  publisher_tor_books  publisher_warner_books  \\\n0                             0                    0                       0   \n1                             0                    0                       0   \n2                             0                    0                       0   \n3                             0                    0                       0   \n4                             0                    0                       0   \n...                         ...                  ...                     ...   \n270939                        0                    0                       0   \n270940                        0                    0                       0   \n270941                        0                    0                       0   \n270942                        0                    0                       0   \n270943                        0                    0                       0   \n\n        publisher_zebra_books  \n0                           0  \n1                           0  \n2                           0  \n3                           0  \n4                           0  \n...                       ...  \n270939                      0  \n270940                      0  \n270941                      0  \n270942                      0  \n270943                      0  \n\n[270944 rows x 32 columns]",
      "text/html": "<div>\n<style scoped>\n    .dataframe tbody tr th:only-of-type {\n        vertical-align: middle;\n    }\n\n    .dataframe tbody tr th {\n        vertical-align: top;\n    }\n\n    .dataframe thead th {\n        text-align: right;\n    }\n</style>\n<table border=\"1\" class=\"dataframe\">\n  <thead>\n    <tr style=\"text-align: right;\">\n      <th></th>\n      <th>Unnamed: 0</th>\n      <th>book_title</th>\n      <th>book_author</th>\n      <th>year_of_publication</th>\n      <th>image_url_s</th>\n      <th>image_url_m</th>\n      <th>image_url_l</th>\n      <th>isbn13</th>\n      <th>rating_mean</th>\n      <th>rating_count</th>\n      <th>...</th>\n      <th>publisher_random_house_inc</th>\n      <th>publisher_scholastic</th>\n      <th>publisher_signet_book</th>\n      <th>publisher_silhouette</th>\n      <th>publisher_simon_&amp;amp;_schuster</th>\n      <th>publisher_st._martin's_press</th>\n      <th>publisher_st_martins_pr</th>\n      <th>publisher_tor_books</th>\n      <th>publisher_warner_books</th>\n      <th>publisher_zebra_books</th>\n    </tr>\n  </thead>\n  <tbody>\n    <tr>\n      <th>0</th>\n      <td>0</td>\n      <td>Classical Mythology</td>\n      <td>Mark P. O. Morford</td>\n      <td>2002</td>\n      <td>http://images.amazon.com/images/P/0195153448.0...</td>\n      <td>http://images.amazon.com/images/P/0195153448.0...</td>\n      <td>http://images.amazon.com/images/P/0195153448.0...</td>\n      <td>9780195153446</td>\n      <td>0.000000</td>\n      <td>0.0</td>\n      <td>...</td>\n      <td>0</td>\n      <td>0</td>\n      <td>0</td>\n      <td>0</td>\n      <td>0</td>\n      <td>0</td>\n      <td>0</td>\n      <td>0</td>\n      <td>0</td>\n      <td>0</td>\n    </tr>\n    <tr>\n      <th>1</th>\n      <td>1</td>\n      <td>Clara Callan</td>\n      <td>Richard Bruce Wright</td>\n      <td>2001</td>\n      <td>http://images.amazon.com/images/P/0002005018.0...</td>\n      <td>http://images.amazon.com/images/P/0002005018.0...</td>\n      <td>http://images.amazon.com/images/P/0002005018.0...</td>\n      <td>9780002005012</td>\n      <td>7.666667</td>\n      <td>9.0</td>\n      <td>...</td>\n      <td>0</td>\n      <td>0</td>\n      <td>0</td>\n      <td>0</td>\n      <td>0</td>\n      <td>0</td>\n      <td>0</td>\n      <td>0</td>\n      <td>0</td>\n      <td>0</td>\n    </tr>\n    <tr>\n      <th>2</th>\n      <td>2</td>\n      <td>Decision in Normandy</td>\n      <td>Carlo D'Este</td>\n      <td>1991</td>\n      <td>http://images.amazon.com/images/P/0060973129.0...</td>\n      <td>http://images.amazon.com/images/P/0060973129.0...</td>\n      <td>http://images.amazon.com/images/P/0060973129.0...</td>\n      <td>9780060973124</td>\n      <td>7.500000</td>\n      <td>2.0</td>\n      <td>...</td>\n      <td>0</td>\n      <td>0</td>\n      <td>0</td>\n      <td>0</td>\n      <td>0</td>\n      <td>0</td>\n      <td>0</td>\n      <td>0</td>\n      <td>0</td>\n      <td>0</td>\n    </tr>\n    <tr>\n      <th>3</th>\n      <td>3</td>\n      <td>Flu: The Story of the Great Influenza Pandemic...</td>\n      <td>Gina Bari Kolata</td>\n      <td>1999</td>\n      <td>http://images.amazon.com/images/P/0374157065.0...</td>\n      <td>http://images.amazon.com/images/P/0374157065.0...</td>\n      <td>http://images.amazon.com/images/P/0374157065.0...</td>\n      <td>9780374157067</td>\n      <td>7.833333</td>\n      <td>6.0</td>\n      <td>...</td>\n      <td>0</td>\n      <td>0</td>\n      <td>0</td>\n      <td>0</td>\n      <td>0</td>\n      <td>0</td>\n      <td>0</td>\n      <td>0</td>\n      <td>0</td>\n      <td>0</td>\n    </tr>\n    <tr>\n      <th>4</th>\n      <td>4</td>\n      <td>The Mummies of Urumchi</td>\n      <td>E. J. W. Barber</td>\n      <td>1999</td>\n      <td>http://images.amazon.com/images/P/0393045218.0...</td>\n      <td>http://images.amazon.com/images/P/0393045218.0...</td>\n      <td>http://images.amazon.com/images/P/0393045218.0...</td>\n      <td>9780393045215</td>\n      <td>0.000000</td>\n      <td>0.0</td>\n      <td>...</td>\n      <td>0</td>\n      <td>0</td>\n      <td>0</td>\n      <td>0</td>\n      <td>0</td>\n      <td>0</td>\n      <td>0</td>\n      <td>0</td>\n      <td>0</td>\n      <td>0</td>\n    </tr>\n    <tr>\n      <th>...</th>\n      <td>...</td>\n      <td>...</td>\n      <td>...</td>\n      <td>...</td>\n      <td>...</td>\n      <td>...</td>\n      <td>...</td>\n      <td>...</td>\n      <td>...</td>\n      <td>...</td>\n      <td>...</td>\n      <td>...</td>\n      <td>...</td>\n      <td>...</td>\n      <td>...</td>\n      <td>...</td>\n      <td>...</td>\n      <td>...</td>\n      <td>...</td>\n      <td>...</td>\n      <td>...</td>\n    </tr>\n    <tr>\n      <th>270939</th>\n      <td>270939</td>\n      <td>There's a Bat in Bunk Five</td>\n      <td>Paula Danziger</td>\n      <td>1988</td>\n      <td>http://images.amazon.com/images/P/0440400988.0...</td>\n      <td>http://images.amazon.com/images/P/0440400988.0...</td>\n      <td>http://images.amazon.com/images/P/0440400988.0...</td>\n      <td>978044040095</td>\n      <td>7.000000</td>\n      <td>1.0</td>\n      <td>...</td>\n      <td>0</td>\n      <td>0</td>\n      <td>0</td>\n      <td>0</td>\n      <td>0</td>\n      <td>0</td>\n      <td>0</td>\n      <td>0</td>\n      <td>0</td>\n      <td>0</td>\n    </tr>\n    <tr>\n      <th>270940</th>\n      <td>270940</td>\n      <td>From One to One Hundred</td>\n      <td>Teri Sloat</td>\n      <td>1991</td>\n      <td>http://images.amazon.com/images/P/0525447644.0...</td>\n      <td>http://images.amazon.com/images/P/0525447644.0...</td>\n      <td>http://images.amazon.com/images/P/0525447644.0...</td>\n      <td>978052544763</td>\n      <td>4.000000</td>\n      <td>1.0</td>\n      <td>...</td>\n      <td>0</td>\n      <td>0</td>\n      <td>0</td>\n      <td>0</td>\n      <td>0</td>\n      <td>0</td>\n      <td>0</td>\n      <td>0</td>\n      <td>0</td>\n      <td>0</td>\n    </tr>\n    <tr>\n      <th>270941</th>\n      <td>270941</td>\n      <td>Lily Dale : The True Story of the Town that Ta...</td>\n      <td>Christine Wicker</td>\n      <td>2004</td>\n      <td>http://images.amazon.com/images/P/006008667X.0...</td>\n      <td>http://images.amazon.com/images/P/006008667X.0...</td>\n      <td>http://images.amazon.com/images/P/006008667X.0...</td>\n      <td>9780060086671</td>\n      <td>0.000000</td>\n      <td>0.0</td>\n      <td>...</td>\n      <td>0</td>\n      <td>0</td>\n      <td>0</td>\n      <td>0</td>\n      <td>0</td>\n      <td>0</td>\n      <td>0</td>\n      <td>0</td>\n      <td>0</td>\n      <td>0</td>\n    </tr>\n    <tr>\n      <th>270942</th>\n      <td>270942</td>\n      <td>Republic (World's Classics)</td>\n      <td>Plato</td>\n      <td>1996</td>\n      <td>http://images.amazon.com/images/P/0192126040.0...</td>\n      <td>http://images.amazon.com/images/P/0192126040.0...</td>\n      <td>http://images.amazon.com/images/P/0192126040.0...</td>\n      <td>9780192126047</td>\n      <td>0.000000</td>\n      <td>0.0</td>\n      <td>...</td>\n      <td>0</td>\n      <td>0</td>\n      <td>0</td>\n      <td>0</td>\n      <td>0</td>\n      <td>0</td>\n      <td>0</td>\n      <td>0</td>\n      <td>0</td>\n      <td>0</td>\n    </tr>\n    <tr>\n      <th>270943</th>\n      <td>270943</td>\n      <td>A Guided Tour of Rene Descartes' Meditations o...</td>\n      <td>Christopher  Biffle</td>\n      <td>2000</td>\n      <td>http://images.amazon.com/images/P/0767409752.0...</td>\n      <td>http://images.amazon.com/images/P/0767409752.0...</td>\n      <td>http://images.amazon.com/images/P/0767409752.0...</td>\n      <td>9780767409759</td>\n      <td>0.000000</td>\n      <td>0.0</td>\n      <td>...</td>\n      <td>0</td>\n      <td>0</td>\n      <td>0</td>\n      <td>0</td>\n      <td>0</td>\n      <td>0</td>\n      <td>0</td>\n      <td>0</td>\n      <td>0</td>\n      <td>0</td>\n    </tr>\n  </tbody>\n</table>\n<p>270944 rows × 32 columns</p>\n</div>"
     },
     "execution_count": 8,
     "metadata": {},
     "output_type": "execute_result"
    }
   ],
   "source": [
    "encoded_books = hot_encode_books(books)\n",
    "encoded_books"
   ],
   "metadata": {
    "collapsed": false
   }
  },
  {
   "cell_type": "code",
   "execution_count": 9,
   "outputs": [
    {
     "data": {
      "text/plain": "        Unnamed: 0  user_id        age         city  user_mean  user_count  \\\n0                0        1  29.211585          nyc        0.0         0.0   \n1                1        2  18.000000     stockton        0.0         0.0   \n2                2        3  29.482966       moscow        0.0         0.0   \n3                3        4  17.000000        porto        0.0         0.0   \n4                4        5  61.303176  farnborough        0.0         0.0   \n...            ...      ...        ...          ...        ...         ...   \n278853      278853   278854  24.011737     portland        7.0         6.0   \n278854      278854   278855  50.000000       tacoma        0.0         0.0   \n278855      278855   278856  46.690675     brampton        0.0         0.0   \n278856      278856   278857  59.526554    knoxville        0.0         0.0   \n278857      278857   278858  38.431999       dublin        0.0         0.0   \n\n        country_argentina  country_australia  country_austria  country_brazil  \\\n0                       0                  0                0               0   \n1                       0                  0                0               0   \n2                       0                  0                0               0   \n3                       0                  0                0               0   \n4                       0                  0                0               0   \n...                   ...                ...              ...             ...   \n278853                  0                  0                0               0   \n278854                  0                  0                0               0   \n278855                  0                  0                0               0   \n278856                  0                  0                0               0   \n278857                  0                  0                0               0   \n\n        ...  state_nordrhein-westfalen  state_north_carolina  state_ohio  \\\n0       ...                          0                     0           0   \n1       ...                          0                     0           0   \n2       ...                          0                     0           0   \n3       ...                          0                     0           0   \n4       ...                          0                     0           0   \n...     ...                        ...                   ...         ...   \n278853  ...                          0                     0           0   \n278854  ...                          0                     0           0   \n278855  ...                          0                     0           0   \n278856  ...                          0                     0           0   \n278857  ...                          0                     0           0   \n\n        state_ontario  state_oregon  state_other  state_pennsylvania  \\\n0                   0             0            0                   0   \n1                   0             0            0                   0   \n2                   0             0            1                   0   \n3                   0             0            1                   0   \n4                   0             0            1                   0   \n...               ...           ...          ...                 ...   \n278853              0             1            0                   0   \n278854              0             0            0                   0   \n278855              1             0            0                   0   \n278856              0             0            1                   0   \n278857              0             0            0                   0   \n\n        state_texas  state_virginia  state_washington  \n0                 0               0                 0  \n1                 0               0                 0  \n2                 0               0                 0  \n3                 0               0                 0  \n4                 0               0                 0  \n...             ...             ...               ...  \n278853            0               0                 0  \n278854            0               0                 1  \n278855            0               0                 0  \n278856            0               0                 0  \n278857            0               0                 0  \n\n[278858 rows x 46 columns]",
      "text/html": "<div>\n<style scoped>\n    .dataframe tbody tr th:only-of-type {\n        vertical-align: middle;\n    }\n\n    .dataframe tbody tr th {\n        vertical-align: top;\n    }\n\n    .dataframe thead th {\n        text-align: right;\n    }\n</style>\n<table border=\"1\" class=\"dataframe\">\n  <thead>\n    <tr style=\"text-align: right;\">\n      <th></th>\n      <th>Unnamed: 0</th>\n      <th>user_id</th>\n      <th>age</th>\n      <th>city</th>\n      <th>user_mean</th>\n      <th>user_count</th>\n      <th>country_argentina</th>\n      <th>country_australia</th>\n      <th>country_austria</th>\n      <th>country_brazil</th>\n      <th>...</th>\n      <th>state_nordrhein-westfalen</th>\n      <th>state_north_carolina</th>\n      <th>state_ohio</th>\n      <th>state_ontario</th>\n      <th>state_oregon</th>\n      <th>state_other</th>\n      <th>state_pennsylvania</th>\n      <th>state_texas</th>\n      <th>state_virginia</th>\n      <th>state_washington</th>\n    </tr>\n  </thead>\n  <tbody>\n    <tr>\n      <th>0</th>\n      <td>0</td>\n      <td>1</td>\n      <td>29.211585</td>\n      <td>nyc</td>\n      <td>0.0</td>\n      <td>0.0</td>\n      <td>0</td>\n      <td>0</td>\n      <td>0</td>\n      <td>0</td>\n      <td>...</td>\n      <td>0</td>\n      <td>0</td>\n      <td>0</td>\n      <td>0</td>\n      <td>0</td>\n      <td>0</td>\n      <td>0</td>\n      <td>0</td>\n      <td>0</td>\n      <td>0</td>\n    </tr>\n    <tr>\n      <th>1</th>\n      <td>1</td>\n      <td>2</td>\n      <td>18.000000</td>\n      <td>stockton</td>\n      <td>0.0</td>\n      <td>0.0</td>\n      <td>0</td>\n      <td>0</td>\n      <td>0</td>\n      <td>0</td>\n      <td>...</td>\n      <td>0</td>\n      <td>0</td>\n      <td>0</td>\n      <td>0</td>\n      <td>0</td>\n      <td>0</td>\n      <td>0</td>\n      <td>0</td>\n      <td>0</td>\n      <td>0</td>\n    </tr>\n    <tr>\n      <th>2</th>\n      <td>2</td>\n      <td>3</td>\n      <td>29.482966</td>\n      <td>moscow</td>\n      <td>0.0</td>\n      <td>0.0</td>\n      <td>0</td>\n      <td>0</td>\n      <td>0</td>\n      <td>0</td>\n      <td>...</td>\n      <td>0</td>\n      <td>0</td>\n      <td>0</td>\n      <td>0</td>\n      <td>0</td>\n      <td>1</td>\n      <td>0</td>\n      <td>0</td>\n      <td>0</td>\n      <td>0</td>\n    </tr>\n    <tr>\n      <th>3</th>\n      <td>3</td>\n      <td>4</td>\n      <td>17.000000</td>\n      <td>porto</td>\n      <td>0.0</td>\n      <td>0.0</td>\n      <td>0</td>\n      <td>0</td>\n      <td>0</td>\n      <td>0</td>\n      <td>...</td>\n      <td>0</td>\n      <td>0</td>\n      <td>0</td>\n      <td>0</td>\n      <td>0</td>\n      <td>1</td>\n      <td>0</td>\n      <td>0</td>\n      <td>0</td>\n      <td>0</td>\n    </tr>\n    <tr>\n      <th>4</th>\n      <td>4</td>\n      <td>5</td>\n      <td>61.303176</td>\n      <td>farnborough</td>\n      <td>0.0</td>\n      <td>0.0</td>\n      <td>0</td>\n      <td>0</td>\n      <td>0</td>\n      <td>0</td>\n      <td>...</td>\n      <td>0</td>\n      <td>0</td>\n      <td>0</td>\n      <td>0</td>\n      <td>0</td>\n      <td>1</td>\n      <td>0</td>\n      <td>0</td>\n      <td>0</td>\n      <td>0</td>\n    </tr>\n    <tr>\n      <th>...</th>\n      <td>...</td>\n      <td>...</td>\n      <td>...</td>\n      <td>...</td>\n      <td>...</td>\n      <td>...</td>\n      <td>...</td>\n      <td>...</td>\n      <td>...</td>\n      <td>...</td>\n      <td>...</td>\n      <td>...</td>\n      <td>...</td>\n      <td>...</td>\n      <td>...</td>\n      <td>...</td>\n      <td>...</td>\n      <td>...</td>\n      <td>...</td>\n      <td>...</td>\n      <td>...</td>\n    </tr>\n    <tr>\n      <th>278853</th>\n      <td>278853</td>\n      <td>278854</td>\n      <td>24.011737</td>\n      <td>portland</td>\n      <td>7.0</td>\n      <td>6.0</td>\n      <td>0</td>\n      <td>0</td>\n      <td>0</td>\n      <td>0</td>\n      <td>...</td>\n      <td>0</td>\n      <td>0</td>\n      <td>0</td>\n      <td>0</td>\n      <td>1</td>\n      <td>0</td>\n      <td>0</td>\n      <td>0</td>\n      <td>0</td>\n      <td>0</td>\n    </tr>\n    <tr>\n      <th>278854</th>\n      <td>278854</td>\n      <td>278855</td>\n      <td>50.000000</td>\n      <td>tacoma</td>\n      <td>0.0</td>\n      <td>0.0</td>\n      <td>0</td>\n      <td>0</td>\n      <td>0</td>\n      <td>0</td>\n      <td>...</td>\n      <td>0</td>\n      <td>0</td>\n      <td>0</td>\n      <td>0</td>\n      <td>0</td>\n      <td>0</td>\n      <td>0</td>\n      <td>0</td>\n      <td>0</td>\n      <td>1</td>\n    </tr>\n    <tr>\n      <th>278855</th>\n      <td>278855</td>\n      <td>278856</td>\n      <td>46.690675</td>\n      <td>brampton</td>\n      <td>0.0</td>\n      <td>0.0</td>\n      <td>0</td>\n      <td>0</td>\n      <td>0</td>\n      <td>0</td>\n      <td>...</td>\n      <td>0</td>\n      <td>0</td>\n      <td>0</td>\n      <td>1</td>\n      <td>0</td>\n      <td>0</td>\n      <td>0</td>\n      <td>0</td>\n      <td>0</td>\n      <td>0</td>\n    </tr>\n    <tr>\n      <th>278856</th>\n      <td>278856</td>\n      <td>278857</td>\n      <td>59.526554</td>\n      <td>knoxville</td>\n      <td>0.0</td>\n      <td>0.0</td>\n      <td>0</td>\n      <td>0</td>\n      <td>0</td>\n      <td>0</td>\n      <td>...</td>\n      <td>0</td>\n      <td>0</td>\n      <td>0</td>\n      <td>0</td>\n      <td>0</td>\n      <td>1</td>\n      <td>0</td>\n      <td>0</td>\n      <td>0</td>\n      <td>0</td>\n    </tr>\n    <tr>\n      <th>278857</th>\n      <td>278857</td>\n      <td>278858</td>\n      <td>38.431999</td>\n      <td>dublin</td>\n      <td>0.0</td>\n      <td>0.0</td>\n      <td>0</td>\n      <td>0</td>\n      <td>0</td>\n      <td>0</td>\n      <td>...</td>\n      <td>0</td>\n      <td>0</td>\n      <td>0</td>\n      <td>0</td>\n      <td>0</td>\n      <td>0</td>\n      <td>0</td>\n      <td>0</td>\n      <td>0</td>\n      <td>0</td>\n    </tr>\n  </tbody>\n</table>\n<p>278858 rows × 46 columns</p>\n</div>"
     },
     "execution_count": 9,
     "metadata": {},
     "output_type": "execute_result"
    }
   ],
   "source": [
    "encoded_users = hot_encode_users(users)\n",
    "encoded_users"
   ],
   "metadata": {
    "collapsed": false
   }
  },
  {
   "cell_type": "code",
   "execution_count": 10,
   "outputs": [
    {
     "data": {
      "text/plain": "               isbn13  normalized_year_of_publication  \\\n0       9780195153446                               3   \n1       9780002005012                               4   \n2       9780060973124                              14   \n3       9780374157067                               6   \n4       9780393045215                               6   \n...               ...                             ...   \n270939   978044040095                              17   \n270940   978052544763                              14   \n270941  9780060086671                               1   \n270942  9780192126047                               9   \n270943  9780767409759                               5   \n\n        publisher_ballantine_books  publisher_bantam_books  \\\n0                                0                       0   \n1                                0                       0   \n2                                0                       0   \n3                                0                       0   \n4                                0                       0   \n...                            ...                     ...   \n270939                           0                       0   \n270940                           0                       0   \n270941                           0                       0   \n270942                           0                       0   \n270943                           0                       0   \n\n        publisher_berkley_publishing_group  publisher_fawcett_books  \\\n0                                        0                        0   \n1                                        0                        0   \n2                                        0                        0   \n3                                        0                        0   \n4                                        0                        0   \n...                                    ...                      ...   \n270939                                   0                        0   \n270940                                   0                        0   \n270941                                   0                        0   \n270942                                   0                        0   \n270943                                   0                        0   \n\n        publisher_harlequin  publisher_harpercollins  \\\n0                         0                        0   \n1                         0                        0   \n2                         0                        0   \n3                         0                        0   \n4                         0                        0   \n...                     ...                      ...   \n270939                    0                        0   \n270940                    0                        0   \n270941                    0                        0   \n270942                    0                        0   \n270943                    0                        0   \n\n        publisher_harpercollins_publishers  publisher_other  ...  \\\n0                                        0                1  ...   \n1                                        0                1  ...   \n2                                        0                1  ...   \n3                                        0                1  ...   \n4                                        0                1  ...   \n...                                    ...              ...  ...   \n270939                                   0                1  ...   \n270940                                   0                1  ...   \n270941                                   0                1  ...   \n270942                                   0                1  ...   \n270943                                   0                1  ...   \n\n        publisher_random_house_inc  publisher_scholastic  \\\n0                                0                     0   \n1                                0                     0   \n2                                0                     0   \n3                                0                     0   \n4                                0                     0   \n...                            ...                   ...   \n270939                           0                     0   \n270940                           0                     0   \n270941                           0                     0   \n270942                           0                     0   \n270943                           0                     0   \n\n        publisher_signet_book  publisher_silhouette  \\\n0                           0                     0   \n1                           0                     0   \n2                           0                     0   \n3                           0                     0   \n4                           0                     0   \n...                       ...                   ...   \n270939                      0                     0   \n270940                      0                     0   \n270941                      0                     0   \n270942                      0                     0   \n270943                      0                     0   \n\n        publisher_simon_&amp;_schuster  publisher_st._martin's_press  \\\n0                                    0                             0   \n1                                    0                             0   \n2                                    0                             0   \n3                                    0                             0   \n4                                    0                             0   \n...                                ...                           ...   \n270939                               0                             0   \n270940                               0                             0   \n270941                               0                             0   \n270942                               0                             0   \n270943                               0                             0   \n\n        publisher_st_martins_pr  publisher_tor_books  publisher_warner_books  \\\n0                             0                    0                       0   \n1                             0                    0                       0   \n2                             0                    0                       0   \n3                             0                    0                       0   \n4                             0                    0                       0   \n...                         ...                  ...                     ...   \n270939                        0                    0                       0   \n270940                        0                    0                       0   \n270941                        0                    0                       0   \n270942                        0                    0                       0   \n270943                        0                    0                       0   \n\n        publisher_zebra_books  \n0                           0  \n1                           0  \n2                           0  \n3                           0  \n4                           0  \n...                       ...  \n270939                      0  \n270940                      0  \n270941                      0  \n270942                      0  \n270943                      0  \n\n[270944 rows x 23 columns]",
      "text/html": "<div>\n<style scoped>\n    .dataframe tbody tr th:only-of-type {\n        vertical-align: middle;\n    }\n\n    .dataframe tbody tr th {\n        vertical-align: top;\n    }\n\n    .dataframe thead th {\n        text-align: right;\n    }\n</style>\n<table border=\"1\" class=\"dataframe\">\n  <thead>\n    <tr style=\"text-align: right;\">\n      <th></th>\n      <th>isbn13</th>\n      <th>normalized_year_of_publication</th>\n      <th>publisher_ballantine_books</th>\n      <th>publisher_bantam_books</th>\n      <th>publisher_berkley_publishing_group</th>\n      <th>publisher_fawcett_books</th>\n      <th>publisher_harlequin</th>\n      <th>publisher_harpercollins</th>\n      <th>publisher_harpercollins_publishers</th>\n      <th>publisher_other</th>\n      <th>...</th>\n      <th>publisher_random_house_inc</th>\n      <th>publisher_scholastic</th>\n      <th>publisher_signet_book</th>\n      <th>publisher_silhouette</th>\n      <th>publisher_simon_&amp;amp;_schuster</th>\n      <th>publisher_st._martin's_press</th>\n      <th>publisher_st_martins_pr</th>\n      <th>publisher_tor_books</th>\n      <th>publisher_warner_books</th>\n      <th>publisher_zebra_books</th>\n    </tr>\n  </thead>\n  <tbody>\n    <tr>\n      <th>0</th>\n      <td>9780195153446</td>\n      <td>3</td>\n      <td>0</td>\n      <td>0</td>\n      <td>0</td>\n      <td>0</td>\n      <td>0</td>\n      <td>0</td>\n      <td>0</td>\n      <td>1</td>\n      <td>...</td>\n      <td>0</td>\n      <td>0</td>\n      <td>0</td>\n      <td>0</td>\n      <td>0</td>\n      <td>0</td>\n      <td>0</td>\n      <td>0</td>\n      <td>0</td>\n      <td>0</td>\n    </tr>\n    <tr>\n      <th>1</th>\n      <td>9780002005012</td>\n      <td>4</td>\n      <td>0</td>\n      <td>0</td>\n      <td>0</td>\n      <td>0</td>\n      <td>0</td>\n      <td>0</td>\n      <td>0</td>\n      <td>1</td>\n      <td>...</td>\n      <td>0</td>\n      <td>0</td>\n      <td>0</td>\n      <td>0</td>\n      <td>0</td>\n      <td>0</td>\n      <td>0</td>\n      <td>0</td>\n      <td>0</td>\n      <td>0</td>\n    </tr>\n    <tr>\n      <th>2</th>\n      <td>9780060973124</td>\n      <td>14</td>\n      <td>0</td>\n      <td>0</td>\n      <td>0</td>\n      <td>0</td>\n      <td>0</td>\n      <td>0</td>\n      <td>0</td>\n      <td>1</td>\n      <td>...</td>\n      <td>0</td>\n      <td>0</td>\n      <td>0</td>\n      <td>0</td>\n      <td>0</td>\n      <td>0</td>\n      <td>0</td>\n      <td>0</td>\n      <td>0</td>\n      <td>0</td>\n    </tr>\n    <tr>\n      <th>3</th>\n      <td>9780374157067</td>\n      <td>6</td>\n      <td>0</td>\n      <td>0</td>\n      <td>0</td>\n      <td>0</td>\n      <td>0</td>\n      <td>0</td>\n      <td>0</td>\n      <td>1</td>\n      <td>...</td>\n      <td>0</td>\n      <td>0</td>\n      <td>0</td>\n      <td>0</td>\n      <td>0</td>\n      <td>0</td>\n      <td>0</td>\n      <td>0</td>\n      <td>0</td>\n      <td>0</td>\n    </tr>\n    <tr>\n      <th>4</th>\n      <td>9780393045215</td>\n      <td>6</td>\n      <td>0</td>\n      <td>0</td>\n      <td>0</td>\n      <td>0</td>\n      <td>0</td>\n      <td>0</td>\n      <td>0</td>\n      <td>1</td>\n      <td>...</td>\n      <td>0</td>\n      <td>0</td>\n      <td>0</td>\n      <td>0</td>\n      <td>0</td>\n      <td>0</td>\n      <td>0</td>\n      <td>0</td>\n      <td>0</td>\n      <td>0</td>\n    </tr>\n    <tr>\n      <th>...</th>\n      <td>...</td>\n      <td>...</td>\n      <td>...</td>\n      <td>...</td>\n      <td>...</td>\n      <td>...</td>\n      <td>...</td>\n      <td>...</td>\n      <td>...</td>\n      <td>...</td>\n      <td>...</td>\n      <td>...</td>\n      <td>...</td>\n      <td>...</td>\n      <td>...</td>\n      <td>...</td>\n      <td>...</td>\n      <td>...</td>\n      <td>...</td>\n      <td>...</td>\n      <td>...</td>\n    </tr>\n    <tr>\n      <th>270939</th>\n      <td>978044040095</td>\n      <td>17</td>\n      <td>0</td>\n      <td>0</td>\n      <td>0</td>\n      <td>0</td>\n      <td>0</td>\n      <td>0</td>\n      <td>0</td>\n      <td>1</td>\n      <td>...</td>\n      <td>0</td>\n      <td>0</td>\n      <td>0</td>\n      <td>0</td>\n      <td>0</td>\n      <td>0</td>\n      <td>0</td>\n      <td>0</td>\n      <td>0</td>\n      <td>0</td>\n    </tr>\n    <tr>\n      <th>270940</th>\n      <td>978052544763</td>\n      <td>14</td>\n      <td>0</td>\n      <td>0</td>\n      <td>0</td>\n      <td>0</td>\n      <td>0</td>\n      <td>0</td>\n      <td>0</td>\n      <td>1</td>\n      <td>...</td>\n      <td>0</td>\n      <td>0</td>\n      <td>0</td>\n      <td>0</td>\n      <td>0</td>\n      <td>0</td>\n      <td>0</td>\n      <td>0</td>\n      <td>0</td>\n      <td>0</td>\n    </tr>\n    <tr>\n      <th>270941</th>\n      <td>9780060086671</td>\n      <td>1</td>\n      <td>0</td>\n      <td>0</td>\n      <td>0</td>\n      <td>0</td>\n      <td>0</td>\n      <td>0</td>\n      <td>0</td>\n      <td>1</td>\n      <td>...</td>\n      <td>0</td>\n      <td>0</td>\n      <td>0</td>\n      <td>0</td>\n      <td>0</td>\n      <td>0</td>\n      <td>0</td>\n      <td>0</td>\n      <td>0</td>\n      <td>0</td>\n    </tr>\n    <tr>\n      <th>270942</th>\n      <td>9780192126047</td>\n      <td>9</td>\n      <td>0</td>\n      <td>0</td>\n      <td>0</td>\n      <td>0</td>\n      <td>0</td>\n      <td>0</td>\n      <td>0</td>\n      <td>1</td>\n      <td>...</td>\n      <td>0</td>\n      <td>0</td>\n      <td>0</td>\n      <td>0</td>\n      <td>0</td>\n      <td>0</td>\n      <td>0</td>\n      <td>0</td>\n      <td>0</td>\n      <td>0</td>\n    </tr>\n    <tr>\n      <th>270943</th>\n      <td>9780767409759</td>\n      <td>5</td>\n      <td>0</td>\n      <td>0</td>\n      <td>0</td>\n      <td>0</td>\n      <td>0</td>\n      <td>0</td>\n      <td>0</td>\n      <td>1</td>\n      <td>...</td>\n      <td>0</td>\n      <td>0</td>\n      <td>0</td>\n      <td>0</td>\n      <td>0</td>\n      <td>0</td>\n      <td>0</td>\n      <td>0</td>\n      <td>0</td>\n      <td>0</td>\n    </tr>\n  </tbody>\n</table>\n<p>270944 rows × 23 columns</p>\n</div>"
     },
     "execution_count": 10,
     "metadata": {},
     "output_type": "execute_result"
    }
   ],
   "source": [
    "# RF Features: Country, State, Age, Year-of-Publication, Publisher\n",
    "df_books = encoded_books.filter(regex=\"isbn13|normalized_year_of_publication|publisher_\", axis=1)\n",
    "df_books"
   ],
   "metadata": {
    "collapsed": false
   }
  },
  {
   "cell_type": "code",
   "execution_count": 11,
   "outputs": [
    {
     "data": {
      "text/plain": "        user_id        age  country_argentina  country_australia  \\\n0             1  29.211585                  0                  0   \n1             2  18.000000                  0                  0   \n2             3  29.482966                  0                  0   \n3             4  17.000000                  0                  0   \n4             5  61.303176                  0                  0   \n...         ...        ...                ...                ...   \n278853   278854  24.011737                  0                  0   \n278854   278855  50.000000                  0                  0   \n278855   278856  46.690675                  0                  0   \n278856   278857  59.526554                  0                  0   \n278857   278858  38.431999                  0                  0   \n\n        country_austria  country_brazil  country_canada  country_china  \\\n0                     0               0               0              0   \n1                     0               0               0              0   \n2                     0               0               0              0   \n3                     0               0               0              0   \n4                     0               0               0              0   \n...                 ...             ...             ...            ...   \n278853                0               0               0              0   \n278854                0               0               0              0   \n278855                0               0               1              0   \n278856                0               0               0              0   \n278857                0               0               0              0   \n\n        country_france  country_germany  ...  state_nordrhein-westfalen  \\\n0                    0                0  ...                          0   \n1                    0                0  ...                          0   \n2                    0                0  ...                          0   \n3                    0                0  ...                          0   \n4                    0                0  ...                          0   \n...                ...              ...  ...                        ...   \n278853               0                0  ...                          0   \n278854               0                0  ...                          0   \n278855               0                0  ...                          0   \n278856               0                0  ...                          0   \n278857               0                0  ...                          0   \n\n        state_north_carolina  state_ohio  state_ontario  state_oregon  \\\n0                          0           0              0             0   \n1                          0           0              0             0   \n2                          0           0              0             0   \n3                          0           0              0             0   \n4                          0           0              0             0   \n...                      ...         ...            ...           ...   \n278853                     0           0              0             1   \n278854                     0           0              0             0   \n278855                     0           0              1             0   \n278856                     0           0              0             0   \n278857                     0           0              0             0   \n\n        state_other  state_pennsylvania  state_texas  state_virginia  \\\n0                 0                   0            0               0   \n1                 0                   0            0               0   \n2                 1                   0            0               0   \n3                 1                   0            0               0   \n4                 1                   0            0               0   \n...             ...                 ...          ...             ...   \n278853            0                   0            0               0   \n278854            0                   0            0               0   \n278855            0                   0            0               0   \n278856            1                   0            0               0   \n278857            0                   0            0               0   \n\n        state_washington  \n0                      0  \n1                      0  \n2                      0  \n3                      0  \n4                      0  \n...                  ...  \n278853                 0  \n278854                 1  \n278855                 0  \n278856                 0  \n278857                 0  \n\n[278858 rows x 42 columns]",
      "text/html": "<div>\n<style scoped>\n    .dataframe tbody tr th:only-of-type {\n        vertical-align: middle;\n    }\n\n    .dataframe tbody tr th {\n        vertical-align: top;\n    }\n\n    .dataframe thead th {\n        text-align: right;\n    }\n</style>\n<table border=\"1\" class=\"dataframe\">\n  <thead>\n    <tr style=\"text-align: right;\">\n      <th></th>\n      <th>user_id</th>\n      <th>age</th>\n      <th>country_argentina</th>\n      <th>country_australia</th>\n      <th>country_austria</th>\n      <th>country_brazil</th>\n      <th>country_canada</th>\n      <th>country_china</th>\n      <th>country_france</th>\n      <th>country_germany</th>\n      <th>...</th>\n      <th>state_nordrhein-westfalen</th>\n      <th>state_north_carolina</th>\n      <th>state_ohio</th>\n      <th>state_ontario</th>\n      <th>state_oregon</th>\n      <th>state_other</th>\n      <th>state_pennsylvania</th>\n      <th>state_texas</th>\n      <th>state_virginia</th>\n      <th>state_washington</th>\n    </tr>\n  </thead>\n  <tbody>\n    <tr>\n      <th>0</th>\n      <td>1</td>\n      <td>29.211585</td>\n      <td>0</td>\n      <td>0</td>\n      <td>0</td>\n      <td>0</td>\n      <td>0</td>\n      <td>0</td>\n      <td>0</td>\n      <td>0</td>\n      <td>...</td>\n      <td>0</td>\n      <td>0</td>\n      <td>0</td>\n      <td>0</td>\n      <td>0</td>\n      <td>0</td>\n      <td>0</td>\n      <td>0</td>\n      <td>0</td>\n      <td>0</td>\n    </tr>\n    <tr>\n      <th>1</th>\n      <td>2</td>\n      <td>18.000000</td>\n      <td>0</td>\n      <td>0</td>\n      <td>0</td>\n      <td>0</td>\n      <td>0</td>\n      <td>0</td>\n      <td>0</td>\n      <td>0</td>\n      <td>...</td>\n      <td>0</td>\n      <td>0</td>\n      <td>0</td>\n      <td>0</td>\n      <td>0</td>\n      <td>0</td>\n      <td>0</td>\n      <td>0</td>\n      <td>0</td>\n      <td>0</td>\n    </tr>\n    <tr>\n      <th>2</th>\n      <td>3</td>\n      <td>29.482966</td>\n      <td>0</td>\n      <td>0</td>\n      <td>0</td>\n      <td>0</td>\n      <td>0</td>\n      <td>0</td>\n      <td>0</td>\n      <td>0</td>\n      <td>...</td>\n      <td>0</td>\n      <td>0</td>\n      <td>0</td>\n      <td>0</td>\n      <td>0</td>\n      <td>1</td>\n      <td>0</td>\n      <td>0</td>\n      <td>0</td>\n      <td>0</td>\n    </tr>\n    <tr>\n      <th>3</th>\n      <td>4</td>\n      <td>17.000000</td>\n      <td>0</td>\n      <td>0</td>\n      <td>0</td>\n      <td>0</td>\n      <td>0</td>\n      <td>0</td>\n      <td>0</td>\n      <td>0</td>\n      <td>...</td>\n      <td>0</td>\n      <td>0</td>\n      <td>0</td>\n      <td>0</td>\n      <td>0</td>\n      <td>1</td>\n      <td>0</td>\n      <td>0</td>\n      <td>0</td>\n      <td>0</td>\n    </tr>\n    <tr>\n      <th>4</th>\n      <td>5</td>\n      <td>61.303176</td>\n      <td>0</td>\n      <td>0</td>\n      <td>0</td>\n      <td>0</td>\n      <td>0</td>\n      <td>0</td>\n      <td>0</td>\n      <td>0</td>\n      <td>...</td>\n      <td>0</td>\n      <td>0</td>\n      <td>0</td>\n      <td>0</td>\n      <td>0</td>\n      <td>1</td>\n      <td>0</td>\n      <td>0</td>\n      <td>0</td>\n      <td>0</td>\n    </tr>\n    <tr>\n      <th>...</th>\n      <td>...</td>\n      <td>...</td>\n      <td>...</td>\n      <td>...</td>\n      <td>...</td>\n      <td>...</td>\n      <td>...</td>\n      <td>...</td>\n      <td>...</td>\n      <td>...</td>\n      <td>...</td>\n      <td>...</td>\n      <td>...</td>\n      <td>...</td>\n      <td>...</td>\n      <td>...</td>\n      <td>...</td>\n      <td>...</td>\n      <td>...</td>\n      <td>...</td>\n      <td>...</td>\n    </tr>\n    <tr>\n      <th>278853</th>\n      <td>278854</td>\n      <td>24.011737</td>\n      <td>0</td>\n      <td>0</td>\n      <td>0</td>\n      <td>0</td>\n      <td>0</td>\n      <td>0</td>\n      <td>0</td>\n      <td>0</td>\n      <td>...</td>\n      <td>0</td>\n      <td>0</td>\n      <td>0</td>\n      <td>0</td>\n      <td>1</td>\n      <td>0</td>\n      <td>0</td>\n      <td>0</td>\n      <td>0</td>\n      <td>0</td>\n    </tr>\n    <tr>\n      <th>278854</th>\n      <td>278855</td>\n      <td>50.000000</td>\n      <td>0</td>\n      <td>0</td>\n      <td>0</td>\n      <td>0</td>\n      <td>0</td>\n      <td>0</td>\n      <td>0</td>\n      <td>0</td>\n      <td>...</td>\n      <td>0</td>\n      <td>0</td>\n      <td>0</td>\n      <td>0</td>\n      <td>0</td>\n      <td>0</td>\n      <td>0</td>\n      <td>0</td>\n      <td>0</td>\n      <td>1</td>\n    </tr>\n    <tr>\n      <th>278855</th>\n      <td>278856</td>\n      <td>46.690675</td>\n      <td>0</td>\n      <td>0</td>\n      <td>0</td>\n      <td>0</td>\n      <td>1</td>\n      <td>0</td>\n      <td>0</td>\n      <td>0</td>\n      <td>...</td>\n      <td>0</td>\n      <td>0</td>\n      <td>0</td>\n      <td>1</td>\n      <td>0</td>\n      <td>0</td>\n      <td>0</td>\n      <td>0</td>\n      <td>0</td>\n      <td>0</td>\n    </tr>\n    <tr>\n      <th>278856</th>\n      <td>278857</td>\n      <td>59.526554</td>\n      <td>0</td>\n      <td>0</td>\n      <td>0</td>\n      <td>0</td>\n      <td>0</td>\n      <td>0</td>\n      <td>0</td>\n      <td>0</td>\n      <td>...</td>\n      <td>0</td>\n      <td>0</td>\n      <td>0</td>\n      <td>0</td>\n      <td>0</td>\n      <td>1</td>\n      <td>0</td>\n      <td>0</td>\n      <td>0</td>\n      <td>0</td>\n    </tr>\n    <tr>\n      <th>278857</th>\n      <td>278858</td>\n      <td>38.431999</td>\n      <td>0</td>\n      <td>0</td>\n      <td>0</td>\n      <td>0</td>\n      <td>0</td>\n      <td>0</td>\n      <td>0</td>\n      <td>0</td>\n      <td>...</td>\n      <td>0</td>\n      <td>0</td>\n      <td>0</td>\n      <td>0</td>\n      <td>0</td>\n      <td>0</td>\n      <td>0</td>\n      <td>0</td>\n      <td>0</td>\n      <td>0</td>\n    </tr>\n  </tbody>\n</table>\n<p>278858 rows × 42 columns</p>\n</div>"
     },
     "execution_count": 11,
     "metadata": {},
     "output_type": "execute_result"
    }
   ],
   "source": [
    "df_users = encoded_users.filter(regex=\"user_id|age|country_|state_\", axis=1)\n",
    "df_users"
   ],
   "metadata": {
    "collapsed": false
   }
  },
  {
   "cell_type": "code",
   "execution_count": 12,
   "outputs": [
    {
     "data": {
      "text/plain": "                isbn13  user_id  book_rating\n0        9780316666343   277439            7\n1        9780316666343   277752            7\n2        9780316666343   278633            9\n3        9780316666343      638           10\n4        9780316666343      709            3\n...                ...      ...          ...\n3425283  9780316776967   262940            9\n3425284  9780316776967   264321            6\n3425285  9780316776967   266588            7\n3425286  9780316776967   268622            7\n3425287  9780316776967   270713            7\n\n[3425288 rows x 3 columns]",
      "text/html": "<div>\n<style scoped>\n    .dataframe tbody tr th:only-of-type {\n        vertical-align: middle;\n    }\n\n    .dataframe tbody tr th {\n        vertical-align: top;\n    }\n\n    .dataframe thead th {\n        text-align: right;\n    }\n</style>\n<table border=\"1\" class=\"dataframe\">\n  <thead>\n    <tr style=\"text-align: right;\">\n      <th></th>\n      <th>isbn13</th>\n      <th>user_id</th>\n      <th>book_rating</th>\n    </tr>\n  </thead>\n  <tbody>\n    <tr>\n      <th>0</th>\n      <td>9780316666343</td>\n      <td>277439</td>\n      <td>7</td>\n    </tr>\n    <tr>\n      <th>1</th>\n      <td>9780316666343</td>\n      <td>277752</td>\n      <td>7</td>\n    </tr>\n    <tr>\n      <th>2</th>\n      <td>9780316666343</td>\n      <td>278633</td>\n      <td>9</td>\n    </tr>\n    <tr>\n      <th>3</th>\n      <td>9780316666343</td>\n      <td>638</td>\n      <td>10</td>\n    </tr>\n    <tr>\n      <th>4</th>\n      <td>9780316666343</td>\n      <td>709</td>\n      <td>3</td>\n    </tr>\n    <tr>\n      <th>...</th>\n      <td>...</td>\n      <td>...</td>\n      <td>...</td>\n    </tr>\n    <tr>\n      <th>3425283</th>\n      <td>9780316776967</td>\n      <td>262940</td>\n      <td>9</td>\n    </tr>\n    <tr>\n      <th>3425284</th>\n      <td>9780316776967</td>\n      <td>264321</td>\n      <td>6</td>\n    </tr>\n    <tr>\n      <th>3425285</th>\n      <td>9780316776967</td>\n      <td>266588</td>\n      <td>7</td>\n    </tr>\n    <tr>\n      <th>3425286</th>\n      <td>9780316776967</td>\n      <td>268622</td>\n      <td>7</td>\n    </tr>\n    <tr>\n      <th>3425287</th>\n      <td>9780316776967</td>\n      <td>270713</td>\n      <td>7</td>\n    </tr>\n  </tbody>\n</table>\n<p>3425288 rows × 3 columns</p>\n</div>"
     },
     "execution_count": 12,
     "metadata": {},
     "output_type": "execute_result"
    }
   ],
   "source": [
    "# TODO: normalized_rating doesn't make sense yet\n",
    "# df = df_ratings.filter(regex=\"isbn13|user_id|normalized_rating\", axis=1)\n",
    "df_ratings = top_ratings.filter(regex=\"isbn13|user_id|book_rating\", axis=1)\n",
    "df_ratings"
   ],
   "metadata": {
    "collapsed": false
   }
  },
  {
   "cell_type": "code",
   "execution_count": 13,
   "outputs": [
    {
     "data": {
      "text/plain": "                isbn13  user_id  book_rating  normalized_year_of_publication  \\\n0        9780316666343   277439            7                               3   \n1        9780316666343   277752            7                               3   \n2        9780316666343   278633            9                               3   \n3        9780316666343      638           10                               3   \n4        9780316666343      709            3                               3   \n...                ...      ...          ...                             ...   \n3425283  9780316776967   262940            9                               4   \n3425284  9780316776967   264321            6                               4   \n3425285  9780316776967   266588            7                               4   \n3425286  9780316776967   268622            7                               4   \n3425287  9780316776967   270713            7                               4   \n\n         publisher_ballantine_books  publisher_bantam_books  \\\n0                                 0                       0   \n1                                 0                       0   \n2                                 0                       0   \n3                                 0                       0   \n4                                 0                       0   \n...                             ...                     ...   \n3425283                           0                       0   \n3425284                           0                       0   \n3425285                           0                       0   \n3425286                           0                       0   \n3425287                           0                       0   \n\n         publisher_berkley_publishing_group  publisher_fawcett_books  \\\n0                                         0                        0   \n1                                         0                        0   \n2                                         0                        0   \n3                                         0                        0   \n4                                         0                        0   \n...                                     ...                      ...   \n3425283                                   0                        0   \n3425284                                   0                        0   \n3425285                                   0                        0   \n3425286                                   0                        0   \n3425287                                   0                        0   \n\n         publisher_harlequin  publisher_harpercollins  ...  \\\n0                          0                        0  ...   \n1                          0                        0  ...   \n2                          0                        0  ...   \n3                          0                        0  ...   \n4                          0                        0  ...   \n...                      ...                      ...  ...   \n3425283                    0                        0  ...   \n3425284                    0                        0  ...   \n3425285                    0                        0  ...   \n3425286                    0                        0  ...   \n3425287                    0                        0  ...   \n\n         state_nordrhein-westfalen  state_north_carolina  state_ohio  \\\n0                                0                     0           0   \n1                                0                     0           0   \n2                                0                     0           0   \n3                                0                     0           0   \n4                                0                     0           0   \n...                            ...                   ...         ...   \n3425283                          0                     0           0   \n3425284                          0                     0           0   \n3425285                          0                     0           0   \n3425286                          0                     0           0   \n3425287                          0                     0           0   \n\n         state_ontario  state_oregon  state_other  state_pennsylvania  \\\n0                    0             1            0                   0   \n1                    0             0            1                   0   \n2                    0             0            1                   0   \n3                    0             0            0                   0   \n4                    0             0            0                   0   \n...                ...           ...          ...                 ...   \n3425283              0             0            0                   0   \n3425284              1             0            0                   0   \n3425285              1             0            0                   0   \n3425286              0             0            1                   0   \n3425287              1             0            0                   0   \n\n         state_texas  state_virginia  state_washington  \n0                  0               0                 0  \n1                  0               0                 0  \n2                  0               0                 0  \n3                  0               0                 0  \n4                  0               1                 0  \n...              ...             ...               ...  \n3425283            0               0                 0  \n3425284            0               0                 0  \n3425285            0               0                 0  \n3425286            0               0                 0  \n3425287            0               0                 0  \n\n[3425288 rows x 66 columns]",
      "text/html": "<div>\n<style scoped>\n    .dataframe tbody tr th:only-of-type {\n        vertical-align: middle;\n    }\n\n    .dataframe tbody tr th {\n        vertical-align: top;\n    }\n\n    .dataframe thead th {\n        text-align: right;\n    }\n</style>\n<table border=\"1\" class=\"dataframe\">\n  <thead>\n    <tr style=\"text-align: right;\">\n      <th></th>\n      <th>isbn13</th>\n      <th>user_id</th>\n      <th>book_rating</th>\n      <th>normalized_year_of_publication</th>\n      <th>publisher_ballantine_books</th>\n      <th>publisher_bantam_books</th>\n      <th>publisher_berkley_publishing_group</th>\n      <th>publisher_fawcett_books</th>\n      <th>publisher_harlequin</th>\n      <th>publisher_harpercollins</th>\n      <th>...</th>\n      <th>state_nordrhein-westfalen</th>\n      <th>state_north_carolina</th>\n      <th>state_ohio</th>\n      <th>state_ontario</th>\n      <th>state_oregon</th>\n      <th>state_other</th>\n      <th>state_pennsylvania</th>\n      <th>state_texas</th>\n      <th>state_virginia</th>\n      <th>state_washington</th>\n    </tr>\n  </thead>\n  <tbody>\n    <tr>\n      <th>0</th>\n      <td>9780316666343</td>\n      <td>277439</td>\n      <td>7</td>\n      <td>3</td>\n      <td>0</td>\n      <td>0</td>\n      <td>0</td>\n      <td>0</td>\n      <td>0</td>\n      <td>0</td>\n      <td>...</td>\n      <td>0</td>\n      <td>0</td>\n      <td>0</td>\n      <td>0</td>\n      <td>1</td>\n      <td>0</td>\n      <td>0</td>\n      <td>0</td>\n      <td>0</td>\n      <td>0</td>\n    </tr>\n    <tr>\n      <th>1</th>\n      <td>9780316666343</td>\n      <td>277752</td>\n      <td>7</td>\n      <td>3</td>\n      <td>0</td>\n      <td>0</td>\n      <td>0</td>\n      <td>0</td>\n      <td>0</td>\n      <td>0</td>\n      <td>...</td>\n      <td>0</td>\n      <td>0</td>\n      <td>0</td>\n      <td>0</td>\n      <td>0</td>\n      <td>1</td>\n      <td>0</td>\n      <td>0</td>\n      <td>0</td>\n      <td>0</td>\n    </tr>\n    <tr>\n      <th>2</th>\n      <td>9780316666343</td>\n      <td>278633</td>\n      <td>9</td>\n      <td>3</td>\n      <td>0</td>\n      <td>0</td>\n      <td>0</td>\n      <td>0</td>\n      <td>0</td>\n      <td>0</td>\n      <td>...</td>\n      <td>0</td>\n      <td>0</td>\n      <td>0</td>\n      <td>0</td>\n      <td>0</td>\n      <td>1</td>\n      <td>0</td>\n      <td>0</td>\n      <td>0</td>\n      <td>0</td>\n    </tr>\n    <tr>\n      <th>3</th>\n      <td>9780316666343</td>\n      <td>638</td>\n      <td>10</td>\n      <td>3</td>\n      <td>0</td>\n      <td>0</td>\n      <td>0</td>\n      <td>0</td>\n      <td>0</td>\n      <td>0</td>\n      <td>...</td>\n      <td>0</td>\n      <td>0</td>\n      <td>0</td>\n      <td>0</td>\n      <td>0</td>\n      <td>0</td>\n      <td>0</td>\n      <td>0</td>\n      <td>0</td>\n      <td>0</td>\n    </tr>\n    <tr>\n      <th>4</th>\n      <td>9780316666343</td>\n      <td>709</td>\n      <td>3</td>\n      <td>3</td>\n      <td>0</td>\n      <td>0</td>\n      <td>0</td>\n      <td>0</td>\n      <td>0</td>\n      <td>0</td>\n      <td>...</td>\n      <td>0</td>\n      <td>0</td>\n      <td>0</td>\n      <td>0</td>\n      <td>0</td>\n      <td>0</td>\n      <td>0</td>\n      <td>0</td>\n      <td>1</td>\n      <td>0</td>\n    </tr>\n    <tr>\n      <th>...</th>\n      <td>...</td>\n      <td>...</td>\n      <td>...</td>\n      <td>...</td>\n      <td>...</td>\n      <td>...</td>\n      <td>...</td>\n      <td>...</td>\n      <td>...</td>\n      <td>...</td>\n      <td>...</td>\n      <td>...</td>\n      <td>...</td>\n      <td>...</td>\n      <td>...</td>\n      <td>...</td>\n      <td>...</td>\n      <td>...</td>\n      <td>...</td>\n      <td>...</td>\n      <td>...</td>\n    </tr>\n    <tr>\n      <th>3425283</th>\n      <td>9780316776967</td>\n      <td>262940</td>\n      <td>9</td>\n      <td>4</td>\n      <td>0</td>\n      <td>0</td>\n      <td>0</td>\n      <td>0</td>\n      <td>0</td>\n      <td>0</td>\n      <td>...</td>\n      <td>0</td>\n      <td>0</td>\n      <td>0</td>\n      <td>0</td>\n      <td>0</td>\n      <td>0</td>\n      <td>0</td>\n      <td>0</td>\n      <td>0</td>\n      <td>0</td>\n    </tr>\n    <tr>\n      <th>3425284</th>\n      <td>9780316776967</td>\n      <td>264321</td>\n      <td>6</td>\n      <td>4</td>\n      <td>0</td>\n      <td>0</td>\n      <td>0</td>\n      <td>0</td>\n      <td>0</td>\n      <td>0</td>\n      <td>...</td>\n      <td>0</td>\n      <td>0</td>\n      <td>0</td>\n      <td>1</td>\n      <td>0</td>\n      <td>0</td>\n      <td>0</td>\n      <td>0</td>\n      <td>0</td>\n      <td>0</td>\n    </tr>\n    <tr>\n      <th>3425285</th>\n      <td>9780316776967</td>\n      <td>266588</td>\n      <td>7</td>\n      <td>4</td>\n      <td>0</td>\n      <td>0</td>\n      <td>0</td>\n      <td>0</td>\n      <td>0</td>\n      <td>0</td>\n      <td>...</td>\n      <td>0</td>\n      <td>0</td>\n      <td>0</td>\n      <td>1</td>\n      <td>0</td>\n      <td>0</td>\n      <td>0</td>\n      <td>0</td>\n      <td>0</td>\n      <td>0</td>\n    </tr>\n    <tr>\n      <th>3425286</th>\n      <td>9780316776967</td>\n      <td>268622</td>\n      <td>7</td>\n      <td>4</td>\n      <td>0</td>\n      <td>0</td>\n      <td>0</td>\n      <td>0</td>\n      <td>0</td>\n      <td>0</td>\n      <td>...</td>\n      <td>0</td>\n      <td>0</td>\n      <td>0</td>\n      <td>0</td>\n      <td>0</td>\n      <td>1</td>\n      <td>0</td>\n      <td>0</td>\n      <td>0</td>\n      <td>0</td>\n    </tr>\n    <tr>\n      <th>3425287</th>\n      <td>9780316776967</td>\n      <td>270713</td>\n      <td>7</td>\n      <td>4</td>\n      <td>0</td>\n      <td>0</td>\n      <td>0</td>\n      <td>0</td>\n      <td>0</td>\n      <td>0</td>\n      <td>...</td>\n      <td>0</td>\n      <td>0</td>\n      <td>0</td>\n      <td>1</td>\n      <td>0</td>\n      <td>0</td>\n      <td>0</td>\n      <td>0</td>\n      <td>0</td>\n      <td>0</td>\n    </tr>\n  </tbody>\n</table>\n<p>3425288 rows × 66 columns</p>\n</div>"
     },
     "execution_count": 13,
     "metadata": {},
     "output_type": "execute_result"
    }
   ],
   "source": [
    "df = df_ratings\n",
    "df = df.merge(df_books, on=\"isbn13\", how=\"left\")\n",
    "df = df.merge(df_users, on=\"user_id\", how=\"left\")\n",
    "df"
   ],
   "metadata": {
    "collapsed": false
   }
  },
  {
   "cell_type": "code",
   "execution_count": 14,
   "outputs": [],
   "source": [
    "# Features\n",
    "# X = df.drop(['user_id', 'isbn13', 'book_rating'], axis=1)\n",
    "X = df.drop(['user_id', 'book_rating'], axis=1)\n",
    "# Prediction\n",
    "Y = df['book_rating']"
   ],
   "metadata": {
    "collapsed": false
   }
  },
  {
   "cell_type": "code",
   "execution_count": 15,
   "outputs": [
    {
     "data": {
      "text/plain": "                isbn13  normalized_year_of_publication  \\\n0        9780316666343                               3   \n1        9780316666343                               3   \n2        9780316666343                               3   \n3        9780316666343                               3   \n4        9780316666343                               3   \n...                ...                             ...   \n3425283  9780316776967                               4   \n3425284  9780316776967                               4   \n3425285  9780316776967                               4   \n3425286  9780316776967                               4   \n3425287  9780316776967                               4   \n\n         publisher_ballantine_books  publisher_bantam_books  \\\n0                                 0                       0   \n1                                 0                       0   \n2                                 0                       0   \n3                                 0                       0   \n4                                 0                       0   \n...                             ...                     ...   \n3425283                           0                       0   \n3425284                           0                       0   \n3425285                           0                       0   \n3425286                           0                       0   \n3425287                           0                       0   \n\n         publisher_berkley_publishing_group  publisher_fawcett_books  \\\n0                                         0                        0   \n1                                         0                        0   \n2                                         0                        0   \n3                                         0                        0   \n4                                         0                        0   \n...                                     ...                      ...   \n3425283                                   0                        0   \n3425284                                   0                        0   \n3425285                                   0                        0   \n3425286                                   0                        0   \n3425287                                   0                        0   \n\n         publisher_harlequin  publisher_harpercollins  \\\n0                          0                        0   \n1                          0                        0   \n2                          0                        0   \n3                          0                        0   \n4                          0                        0   \n...                      ...                      ...   \n3425283                    0                        0   \n3425284                    0                        0   \n3425285                    0                        0   \n3425286                    0                        0   \n3425287                    0                        0   \n\n         publisher_harpercollins_publishers  publisher_other  ...  \\\n0                                         0                1  ...   \n1                                         0                1  ...   \n2                                         0                1  ...   \n3                                         0                1  ...   \n4                                         0                1  ...   \n...                                     ...              ...  ...   \n3425283                                   0                1  ...   \n3425284                                   0                1  ...   \n3425285                                   0                1  ...   \n3425286                                   0                1  ...   \n3425287                                   0                1  ...   \n\n         state_nordrhein-westfalen  state_north_carolina  state_ohio  \\\n0                                0                     0           0   \n1                                0                     0           0   \n2                                0                     0           0   \n3                                0                     0           0   \n4                                0                     0           0   \n...                            ...                   ...         ...   \n3425283                          0                     0           0   \n3425284                          0                     0           0   \n3425285                          0                     0           0   \n3425286                          0                     0           0   \n3425287                          0                     0           0   \n\n         state_ontario  state_oregon  state_other  state_pennsylvania  \\\n0                    0             1            0                   0   \n1                    0             0            1                   0   \n2                    0             0            1                   0   \n3                    0             0            0                   0   \n4                    0             0            0                   0   \n...                ...           ...          ...                 ...   \n3425283              0             0            0                   0   \n3425284              1             0            0                   0   \n3425285              1             0            0                   0   \n3425286              0             0            1                   0   \n3425287              1             0            0                   0   \n\n         state_texas  state_virginia  state_washington  \n0                  0               0                 0  \n1                  0               0                 0  \n2                  0               0                 0  \n3                  0               0                 0  \n4                  0               1                 0  \n...              ...             ...               ...  \n3425283            0               0                 0  \n3425284            0               0                 0  \n3425285            0               0                 0  \n3425286            0               0                 0  \n3425287            0               0                 0  \n\n[3425288 rows x 64 columns]",
      "text/html": "<div>\n<style scoped>\n    .dataframe tbody tr th:only-of-type {\n        vertical-align: middle;\n    }\n\n    .dataframe tbody tr th {\n        vertical-align: top;\n    }\n\n    .dataframe thead th {\n        text-align: right;\n    }\n</style>\n<table border=\"1\" class=\"dataframe\">\n  <thead>\n    <tr style=\"text-align: right;\">\n      <th></th>\n      <th>isbn13</th>\n      <th>normalized_year_of_publication</th>\n      <th>publisher_ballantine_books</th>\n      <th>publisher_bantam_books</th>\n      <th>publisher_berkley_publishing_group</th>\n      <th>publisher_fawcett_books</th>\n      <th>publisher_harlequin</th>\n      <th>publisher_harpercollins</th>\n      <th>publisher_harpercollins_publishers</th>\n      <th>publisher_other</th>\n      <th>...</th>\n      <th>state_nordrhein-westfalen</th>\n      <th>state_north_carolina</th>\n      <th>state_ohio</th>\n      <th>state_ontario</th>\n      <th>state_oregon</th>\n      <th>state_other</th>\n      <th>state_pennsylvania</th>\n      <th>state_texas</th>\n      <th>state_virginia</th>\n      <th>state_washington</th>\n    </tr>\n  </thead>\n  <tbody>\n    <tr>\n      <th>0</th>\n      <td>9780316666343</td>\n      <td>3</td>\n      <td>0</td>\n      <td>0</td>\n      <td>0</td>\n      <td>0</td>\n      <td>0</td>\n      <td>0</td>\n      <td>0</td>\n      <td>1</td>\n      <td>...</td>\n      <td>0</td>\n      <td>0</td>\n      <td>0</td>\n      <td>0</td>\n      <td>1</td>\n      <td>0</td>\n      <td>0</td>\n      <td>0</td>\n      <td>0</td>\n      <td>0</td>\n    </tr>\n    <tr>\n      <th>1</th>\n      <td>9780316666343</td>\n      <td>3</td>\n      <td>0</td>\n      <td>0</td>\n      <td>0</td>\n      <td>0</td>\n      <td>0</td>\n      <td>0</td>\n      <td>0</td>\n      <td>1</td>\n      <td>...</td>\n      <td>0</td>\n      <td>0</td>\n      <td>0</td>\n      <td>0</td>\n      <td>0</td>\n      <td>1</td>\n      <td>0</td>\n      <td>0</td>\n      <td>0</td>\n      <td>0</td>\n    </tr>\n    <tr>\n      <th>2</th>\n      <td>9780316666343</td>\n      <td>3</td>\n      <td>0</td>\n      <td>0</td>\n      <td>0</td>\n      <td>0</td>\n      <td>0</td>\n      <td>0</td>\n      <td>0</td>\n      <td>1</td>\n      <td>...</td>\n      <td>0</td>\n      <td>0</td>\n      <td>0</td>\n      <td>0</td>\n      <td>0</td>\n      <td>1</td>\n      <td>0</td>\n      <td>0</td>\n      <td>0</td>\n      <td>0</td>\n    </tr>\n    <tr>\n      <th>3</th>\n      <td>9780316666343</td>\n      <td>3</td>\n      <td>0</td>\n      <td>0</td>\n      <td>0</td>\n      <td>0</td>\n      <td>0</td>\n      <td>0</td>\n      <td>0</td>\n      <td>1</td>\n      <td>...</td>\n      <td>0</td>\n      <td>0</td>\n      <td>0</td>\n      <td>0</td>\n      <td>0</td>\n      <td>0</td>\n      <td>0</td>\n      <td>0</td>\n      <td>0</td>\n      <td>0</td>\n    </tr>\n    <tr>\n      <th>4</th>\n      <td>9780316666343</td>\n      <td>3</td>\n      <td>0</td>\n      <td>0</td>\n      <td>0</td>\n      <td>0</td>\n      <td>0</td>\n      <td>0</td>\n      <td>0</td>\n      <td>1</td>\n      <td>...</td>\n      <td>0</td>\n      <td>0</td>\n      <td>0</td>\n      <td>0</td>\n      <td>0</td>\n      <td>0</td>\n      <td>0</td>\n      <td>0</td>\n      <td>1</td>\n      <td>0</td>\n    </tr>\n    <tr>\n      <th>...</th>\n      <td>...</td>\n      <td>...</td>\n      <td>...</td>\n      <td>...</td>\n      <td>...</td>\n      <td>...</td>\n      <td>...</td>\n      <td>...</td>\n      <td>...</td>\n      <td>...</td>\n      <td>...</td>\n      <td>...</td>\n      <td>...</td>\n      <td>...</td>\n      <td>...</td>\n      <td>...</td>\n      <td>...</td>\n      <td>...</td>\n      <td>...</td>\n      <td>...</td>\n      <td>...</td>\n    </tr>\n    <tr>\n      <th>3425283</th>\n      <td>9780316776967</td>\n      <td>4</td>\n      <td>0</td>\n      <td>0</td>\n      <td>0</td>\n      <td>0</td>\n      <td>0</td>\n      <td>0</td>\n      <td>0</td>\n      <td>1</td>\n      <td>...</td>\n      <td>0</td>\n      <td>0</td>\n      <td>0</td>\n      <td>0</td>\n      <td>0</td>\n      <td>0</td>\n      <td>0</td>\n      <td>0</td>\n      <td>0</td>\n      <td>0</td>\n    </tr>\n    <tr>\n      <th>3425284</th>\n      <td>9780316776967</td>\n      <td>4</td>\n      <td>0</td>\n      <td>0</td>\n      <td>0</td>\n      <td>0</td>\n      <td>0</td>\n      <td>0</td>\n      <td>0</td>\n      <td>1</td>\n      <td>...</td>\n      <td>0</td>\n      <td>0</td>\n      <td>0</td>\n      <td>1</td>\n      <td>0</td>\n      <td>0</td>\n      <td>0</td>\n      <td>0</td>\n      <td>0</td>\n      <td>0</td>\n    </tr>\n    <tr>\n      <th>3425285</th>\n      <td>9780316776967</td>\n      <td>4</td>\n      <td>0</td>\n      <td>0</td>\n      <td>0</td>\n      <td>0</td>\n      <td>0</td>\n      <td>0</td>\n      <td>0</td>\n      <td>1</td>\n      <td>...</td>\n      <td>0</td>\n      <td>0</td>\n      <td>0</td>\n      <td>1</td>\n      <td>0</td>\n      <td>0</td>\n      <td>0</td>\n      <td>0</td>\n      <td>0</td>\n      <td>0</td>\n    </tr>\n    <tr>\n      <th>3425286</th>\n      <td>9780316776967</td>\n      <td>4</td>\n      <td>0</td>\n      <td>0</td>\n      <td>0</td>\n      <td>0</td>\n      <td>0</td>\n      <td>0</td>\n      <td>0</td>\n      <td>1</td>\n      <td>...</td>\n      <td>0</td>\n      <td>0</td>\n      <td>0</td>\n      <td>0</td>\n      <td>0</td>\n      <td>1</td>\n      <td>0</td>\n      <td>0</td>\n      <td>0</td>\n      <td>0</td>\n    </tr>\n    <tr>\n      <th>3425287</th>\n      <td>9780316776967</td>\n      <td>4</td>\n      <td>0</td>\n      <td>0</td>\n      <td>0</td>\n      <td>0</td>\n      <td>0</td>\n      <td>0</td>\n      <td>0</td>\n      <td>1</td>\n      <td>...</td>\n      <td>0</td>\n      <td>0</td>\n      <td>0</td>\n      <td>1</td>\n      <td>0</td>\n      <td>0</td>\n      <td>0</td>\n      <td>0</td>\n      <td>0</td>\n      <td>0</td>\n    </tr>\n  </tbody>\n</table>\n<p>3425288 rows × 64 columns</p>\n</div>"
     },
     "execution_count": 15,
     "metadata": {},
     "output_type": "execute_result"
    }
   ],
   "source": [
    "X"
   ],
   "metadata": {
    "collapsed": false
   }
  },
  {
   "cell_type": "code",
   "execution_count": 16,
   "outputs": [
    {
     "data": {
      "text/plain": "0           7\n1           7\n2           9\n3          10\n4           3\n           ..\n3425283     9\n3425284     6\n3425285     7\n3425286     7\n3425287     7\nName: book_rating, Length: 3425288, dtype: int64"
     },
     "execution_count": 16,
     "metadata": {},
     "output_type": "execute_result"
    }
   ],
   "source": [
    "Y"
   ],
   "metadata": {
    "collapsed": false
   }
  },
  {
   "cell_type": "code",
   "execution_count": 17,
   "outputs": [],
   "source": [
    "X_train, X_test, y_train, y_test = train_test_split(X, Y, test_size=0.30, random_state=7)"
   ],
   "metadata": {
    "collapsed": false
   }
  },
  {
   "cell_type": "code",
   "execution_count": 18,
   "outputs": [
    {
     "name": "stdout",
     "output_type": "stream",
     "text": [
      "Loading file: rf6-ex6.pkl\n"
     ]
    }
   ],
   "source": [
    "from os.path import exists\n",
    "import pickle\n",
    "\n",
    "if exists(model_file):\n",
    "    print(\"Loading file:\", model_file)\n",
    "    with open(model_file, \"rb\") as file:\n",
    "        rfc = pickle.load(file)\n",
    "else:\n",
    "    print(\"Creating new model:\", model_file)\n",
    "    rfc = RandomForestClassifier(n_estimators=100, min_weight_fraction_leaf=0, n_jobs=3, random_state=1, verbose=10)"
   ],
   "metadata": {
    "collapsed": false
   }
  },
  {
   "cell_type": "code",
   "execution_count": null,
   "outputs": [
    {
     "name": "stderr",
     "output_type": "stream",
     "text": [
      "[Parallel(n_jobs=3)]: Using backend ThreadingBackend with 3 concurrent workers.\n"
     ]
    },
    {
     "name": "stdout",
     "output_type": "stream",
     "text": [
      "building tree 1 of 100\n",
      "building tree 2 of 100\n",
      "building tree 3 of 100\n",
      "building tree 4 of 100\n",
      "building tree 5 of 100\n"
     ]
    },
    {
     "name": "stderr",
     "output_type": "stream",
     "text": [
      "[Parallel(n_jobs=3)]: Done   2 tasks      | elapsed:    7.6s\n"
     ]
    },
    {
     "name": "stdout",
     "output_type": "stream",
     "text": [
      "building tree 6 of 100\n",
      "building tree 7 of 100\n",
      "building tree 8 of 100\n",
      "building tree 9 of 100\n",
      "building tree 10 of 100\n"
     ]
    },
    {
     "name": "stderr",
     "output_type": "stream",
     "text": [
      "[Parallel(n_jobs=3)]: Done   7 tasks      | elapsed:   21.1s\n"
     ]
    },
    {
     "name": "stdout",
     "output_type": "stream",
     "text": [
      "building tree 11 of 100\n",
      "building tree 12 of 100\n",
      "building tree 13 of 100\n",
      "building tree 14 of 100\n",
      "building tree 15 of 100\n"
     ]
    },
    {
     "name": "stderr",
     "output_type": "stream",
     "text": [
      "[Parallel(n_jobs=3)]: Done  12 tasks      | elapsed:   33.4s\n"
     ]
    },
    {
     "name": "stdout",
     "output_type": "stream",
     "text": [
      "building tree 16 of 100\n",
      "building tree 17 of 100\n",
      "building tree 18 of 100\n",
      "building tree 19 of 100\n",
      "building tree 20 of 100\n",
      "building tree 21 of 100\n",
      "building tree 22 of 100\n"
     ]
    },
    {
     "name": "stderr",
     "output_type": "stream",
     "text": [
      "[Parallel(n_jobs=3)]: Done  19 tasks      | elapsed:   47.7s\n"
     ]
    },
    {
     "name": "stdout",
     "output_type": "stream",
     "text": [
      "building tree 23 of 100\n",
      "building tree 24 of 100\n",
      "building tree 25 of 100\n",
      "building tree 26 of 100\n",
      "building tree 27 of 100\n",
      "building tree 28 of 100\n",
      "building tree 29 of 100\n"
     ]
    },
    {
     "name": "stderr",
     "output_type": "stream",
     "text": [
      "[Parallel(n_jobs=3)]: Done  26 tasks      | elapsed:  1.1min\n"
     ]
    },
    {
     "name": "stdout",
     "output_type": "stream",
     "text": [
      "building tree 30 of 100\n",
      "building tree 31 of 100\n",
      "building tree 32 of 100\n",
      "building tree 33 of 100\n",
      "building tree 34 of 100\n",
      "building tree 35 of 100\n",
      "building tree 36 of 100\n",
      "building tree 37 of 100\n",
      "building tree 38 of 100\n"
     ]
    },
    {
     "name": "stderr",
     "output_type": "stream",
     "text": [
      "[Parallel(n_jobs=3)]: Done  35 tasks      | elapsed:  1.4min\n"
     ]
    },
    {
     "name": "stdout",
     "output_type": "stream",
     "text": [
      "building tree 39 of 100\n",
      "building tree 40 of 100\n",
      "building tree 41 of 100\n",
      "building tree 42 of 100\n",
      "building tree 43 of 100\n",
      "building tree 44 of 100\n",
      "building tree 45 of 100\n",
      "building tree 46 of 100\n",
      "building tree 47 of 100\n"
     ]
    },
    {
     "name": "stderr",
     "output_type": "stream",
     "text": [
      "[Parallel(n_jobs=3)]: Done  44 tasks      | elapsed:  1.9min\n"
     ]
    },
    {
     "name": "stdout",
     "output_type": "stream",
     "text": [
      "building tree 48 of 100\n",
      "building tree 49 of 100\n",
      "building tree 50 of 100\n",
      "building tree 51 of 100\n",
      "building tree 52 of 100\n",
      "building tree 53 of 100\n",
      "building tree 54 of 100\n",
      "building tree 55 of 100\n",
      "building tree 56 of 100\n",
      "building tree 57 of 100\n",
      "building tree 58 of 100\n"
     ]
    },
    {
     "name": "stderr",
     "output_type": "stream",
     "text": [
      "[Parallel(n_jobs=3)]: Done  55 tasks      | elapsed:  2.3min\n"
     ]
    },
    {
     "name": "stdout",
     "output_type": "stream",
     "text": [
      "building tree 59 of 100\n",
      "building tree 60 of 100\n",
      "building tree 61 of 100\n",
      "building tree 62 of 100\n",
      "building tree 63 of 100\n"
     ]
    }
   ],
   "source": [
    "rfc.fit(X_train, y_train)"
   ],
   "metadata": {
    "collapsed": false,
    "pycharm": {
     "is_executing": true
    }
   }
  },
  {
   "cell_type": "code",
   "execution_count": null,
   "outputs": [],
   "source": [
    "import pickle\n",
    "\n",
    "# Save the model to a file\n",
    "with open(model_file, \"wb\") as file:\n",
    "    pickle.dump(rfc, file)"
   ],
   "metadata": {
    "collapsed": false,
    "pycharm": {
     "is_executing": true
    }
   }
  },
  {
   "cell_type": "code",
   "execution_count": null,
   "outputs": [],
   "source": [
    "rfc_pred = rfc.predict(X_test)\n",
    "rfc_pred"
   ],
   "metadata": {
    "collapsed": false,
    "pycharm": {
     "is_executing": true
    }
   }
  },
  {
   "cell_type": "code",
   "execution_count": null,
   "outputs": [],
   "source": [
    "print(classification_report(y_test, rfc_pred))\n",
    "print(accuracy_score(y_test, rfc_pred) * 100)"
   ],
   "metadata": {
    "collapsed": false,
    "pycharm": {
     "is_executing": true
    }
   }
  },
  {
   "cell_type": "code",
   "execution_count": null,
   "outputs": [],
   "source": [
    "import numpy as np\n",
    "import pandas as pd\n",
    "import matplotlib.pyplot as plt\n",
    "from sklearn.metrics import ConfusionMatrixDisplay\n",
    "\n",
    "classifier = rfc\n",
    "\n",
    "np.set_printoptions(precision=2)\n",
    "\n",
    "# Plot non-normalized confusion matrix\n",
    "titles_options = [\n",
    "    (\"Confusion matrix, without normalization\", None),\n",
    "    (\"Normalized confusion matrix\", \"true\"),\n",
    "]\n",
    "for title, normalize in titles_options:\n",
    "    disp = ConfusionMatrixDisplay.from_estimator(\n",
    "        classifier,\n",
    "        X_test,\n",
    "        y_test,\n",
    "        # display_labels=class_names,\n",
    "        cmap=plt.cm.Blues,\n",
    "        normalize=normalize,\n",
    "    )\n",
    "    disp.ax_.set_title(title)\n",
    "\n",
    "    print(title)\n",
    "    print(disp.confusion_matrix)\n",
    "\n",
    "plt.show()"
   ],
   "metadata": {
    "collapsed": false,
    "pycharm": {
     "is_executing": true
    }
   }
  },
  {
   "cell_type": "code",
   "execution_count": null,
   "outputs": [],
   "source": [
    "rfc.score(X_train, y_train)"
   ],
   "metadata": {
    "collapsed": false,
    "pycharm": {
     "is_executing": true
    }
   }
  },
  {
   "cell_type": "code",
   "execution_count": null,
   "outputs": [],
   "source": [
    "feature_importance = pd.DataFrame({'Feature_names': X.columns, 'Importances': rfc.feature_importances_})\n",
    "feature_importance = feature_importance.sort_values(by='Importances', ascending=False)\n",
    "feature_importance"
   ],
   "metadata": {
    "collapsed": false,
    "pycharm": {
     "is_executing": true
    }
   }
  },
  {
   "cell_type": "code",
   "execution_count": null,
   "outputs": [],
   "source": [
    "plt.bar(feature_importance['Feature_names'], feature_importance['Importances'])\n",
    "plt.show()"
   ],
   "metadata": {
    "collapsed": false,
    "pycharm": {
     "is_executing": true
    }
   }
  },
  {
   "cell_type": "code",
   "execution_count": null,
   "outputs": [],
   "source": [
    "country_importance = feature_importance.loc[lambda x: x['Feature_names'].str.contains(\"^country\", regex=True)]\n",
    "country_importance"
   ],
   "metadata": {
    "collapsed": false,
    "pycharm": {
     "is_executing": true
    }
   }
  },
  {
   "cell_type": "code",
   "execution_count": null,
   "outputs": [],
   "source": [
    "state_importance = feature_importance.loc[lambda x: x['Feature_names'].str.contains(\"^state\", regex=True)]\n",
    "state_importance"
   ],
   "metadata": {
    "collapsed": false,
    "pycharm": {
     "is_executing": true
    }
   }
  },
  {
   "cell_type": "code",
   "execution_count": null,
   "outputs": [],
   "source": [
    "publisher_importance = feature_importance.loc[lambda x: x['Feature_names'].str.contains(\"^publisher\", regex=True)]\n",
    "publisher_importance"
   ],
   "metadata": {
    "collapsed": false,
    "pycharm": {
     "is_executing": true
    }
   }
  },
  {
   "cell_type": "code",
   "execution_count": null,
   "outputs": [],
   "source": [
    "age_importance = feature_importance.loc[lambda x: x['Feature_names'].str.contains(\"age\", regex=True)][\"Importances\"]\n",
    "print(\"age:\", age_importance)\n",
    "print(\"country_importance:\", country_importance[\"Importances\"].sum())\n",
    "print(\"state_importance:\", state_importance[\"Importances\"].sum())\n",
    "print(\"publisher_importance:\", publisher_importance[\"Importances\"].sum())"
   ],
   "metadata": {
    "collapsed": false,
    "pycharm": {
     "is_executing": true
    }
   }
  }
 ],
 "metadata": {
  "kernelspec": {
   "display_name": "Python 3 (ipykernel)",
   "language": "python",
   "name": "python3"
  },
  "language_info": {
   "codemirror_mode": {
    "name": "ipython",
    "version": 3
   },
   "file_extension": ".py",
   "mimetype": "text/x-python",
   "name": "python",
   "nbconvert_exporter": "python",
   "pygments_lexer": "ipython3",
   "version": "3.10.8"
  }
 },
 "nbformat": 4,
 "nbformat_minor": 5
}
