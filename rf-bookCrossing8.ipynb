{
 "cells": [
  {
   "cell_type": "markdown",
   "source": [
    "# BibRec: Training Random Forest Model"
   ],
   "metadata": {
    "collapsed": false
   }
  },
  {
   "cell_type": "markdown",
   "source": [
    "### Evaluation API: All params\n",
    "WIP"
   ],
   "metadata": {
    "collapsed": false
   }
  },
  {
   "cell_type": "code",
   "execution_count": 66,
   "outputs": [
    {
     "name": "stderr",
     "output_type": "stream",
     "text": [
      "/Dev/repos/FH-SBG/MMT1/RES/recommender-systems/bibrec/server/Utils.py:8: DtypeWarning: Columns (3) have mixed types. Specify dtype option on import or set low_memory=False.\n",
      "  books = pd.read_csv(path, sep=\";\", encoding=\"latin-1\")\n"
     ]
    },
    {
     "name": "stdout",
     "output_type": "stream",
     "text": [
      "With NaN values 34.862889904962536\n",
      "used mean values 34.84723582290389\n"
     ]
    },
    {
     "name": "stderr",
     "output_type": "stream",
     "text": [
      "/Dev/repos/FH-SBG/MMT1/RES/recommender-systems/bibrec/server/Utils.py:40: FutureWarning: In a future version of pandas all arguments of StringMethods.split except for the argument 'pat' will be keyword-only.\n",
      "  location_seperated = users.location.str.split(',', 2, expand=True)\n"
     ]
    }
   ],
   "source": [
    "from bibrec.server.Utils import *\n",
    "\n",
    "books, users, ratings = get_normalized_data(books_path='data/normalized_books.csv',\n",
    "                                            users_path='data/normalized_users.csv',\n",
    "                                            ratings_path='data/normalized_ratings.csv')"
   ],
   "metadata": {
    "collapsed": false
   }
  },
  {
   "cell_type": "code",
   "execution_count": 25,
   "outputs": [
    {
     "name": "stdout",
     "output_type": "stream",
     "text": [
      "Loading file: rf5.pkl\n"
     ]
    }
   ],
   "source": [
    "from os.path import exists\n",
    "import pickle\n",
    "\n",
    "# Load the model from the file\n",
    "model_file = \"rf5.pkl\"\n",
    "\n",
    "if not exists(model_file):\n",
    "    exit(\"No model found\")\n",
    "\n",
    "print(\"Loading file:\", model_file)\n",
    "with open(model_file, \"rb\") as file:\n",
    "    rfc = pickle.load(file)"
   ],
   "metadata": {
    "collapsed": false
   }
  },
  {
   "cell_type": "code",
   "execution_count": 43,
   "outputs": [
    {
     "data": {
      "text/plain": "   user_id  age  country_usa  country_canada  country_united_kingdom  \\\n0        1   20            0               0                       0   \n\n   country_germany  country_spain  country_australia  country_italy  \\\n0                0              0                  0              0   \n\n   country_france  ...  state_ohio  state_michigan  state_oregon  \\\n0               0  ...           0               0             0   \n\n   state_virginia  state_massachusetts  state_missouri  \\\n0               0                    0               0   \n\n   state_nordrhein-westfalen  state_north_carolina  state_  state_other  \n0                          0                     0       0            1  \n\n[1 rows x 44 columns]",
      "text/html": "<div>\n<style scoped>\n    .dataframe tbody tr th:only-of-type {\n        vertical-align: middle;\n    }\n\n    .dataframe tbody tr th {\n        vertical-align: top;\n    }\n\n    .dataframe thead th {\n        text-align: right;\n    }\n</style>\n<table border=\"1\" class=\"dataframe\">\n  <thead>\n    <tr style=\"text-align: right;\">\n      <th></th>\n      <th>user_id</th>\n      <th>age</th>\n      <th>country_usa</th>\n      <th>country_canada</th>\n      <th>country_united_kingdom</th>\n      <th>country_germany</th>\n      <th>country_spain</th>\n      <th>country_australia</th>\n      <th>country_italy</th>\n      <th>country_france</th>\n      <th>...</th>\n      <th>state_ohio</th>\n      <th>state_michigan</th>\n      <th>state_oregon</th>\n      <th>state_virginia</th>\n      <th>state_massachusetts</th>\n      <th>state_missouri</th>\n      <th>state_nordrhein-westfalen</th>\n      <th>state_north_carolina</th>\n      <th>state_</th>\n      <th>state_other</th>\n    </tr>\n  </thead>\n  <tbody>\n    <tr>\n      <th>0</th>\n      <td>1</td>\n      <td>20</td>\n      <td>0</td>\n      <td>0</td>\n      <td>0</td>\n      <td>0</td>\n      <td>0</td>\n      <td>0</td>\n      <td>0</td>\n      <td>0</td>\n      <td>...</td>\n      <td>0</td>\n      <td>0</td>\n      <td>0</td>\n      <td>0</td>\n      <td>0</td>\n      <td>0</td>\n      <td>0</td>\n      <td>0</td>\n      <td>0</td>\n      <td>1</td>\n    </tr>\n  </tbody>\n</table>\n<p>1 rows × 44 columns</p>\n</div>"
     },
     "execution_count": 43,
     "metadata": {},
     "output_type": "execute_result"
    }
   ],
   "source": [
    "userId = 1\n",
    "age = 20\n",
    "locationCity = None\n",
    "locationState = None\n",
    "locationCountry = \"asldörfja\"\n",
    "df_user = pd.DataFrame([{\n",
    "    'user_id': userId,\n",
    "    'age': age,\n",
    "    'city': locationCity,\n",
    "    'state': locationState,\n",
    "    'country': locationCountry\n",
    "}])\n",
    "df_user = normalize_country(df_user, users.country)\n",
    "df_user = normalize_state(df_user)\n",
    "df_user = hot_encode_users(df_user)\n",
    "df_user = df_user.filter(regex=\"user_id|age|country_|state_\", axis=1)\n",
    "df_user"
   ],
   "metadata": {
    "collapsed": false
   }
  },
  {
   "cell_type": "code",
   "execution_count": 45,
   "outputs": [
    {
     "data": {
      "text/plain": "   isbn13  year_of_publication  normalized_year_of_publication  \\\n0       1                 2002                               3   \n\n   publisher_harlequin  publisher_silhouette  publisher_pocket  \\\n0                    0                     0                 0   \n\n   publisher_ballantine_books  publisher_bantam_books  publisher_scholastic  \\\n0                           0                       0                     0   \n\n   publisher_simon_&amp;_schuster  ...  publisher_harpercollins  \\\n0                               0  ...                        0   \n\n   publisher_fawcett_books  publisher_signet_book  publisher_random_house_inc  \\\n0                        0                      0                           0   \n\n   publisher_st_martins_pr  publisher_st._martin's_press  publisher_tor_books  \\\n0                        0                             0                    0   \n\n   publisher_harpercollins_publishers  publisher_zebra_books  publisher_other  \n0                                   0                      0                1  \n\n[1 rows x 24 columns]",
      "text/html": "<div>\n<style scoped>\n    .dataframe tbody tr th:only-of-type {\n        vertical-align: middle;\n    }\n\n    .dataframe tbody tr th {\n        vertical-align: top;\n    }\n\n    .dataframe thead th {\n        text-align: right;\n    }\n</style>\n<table border=\"1\" class=\"dataframe\">\n  <thead>\n    <tr style=\"text-align: right;\">\n      <th></th>\n      <th>isbn13</th>\n      <th>year_of_publication</th>\n      <th>normalized_year_of_publication</th>\n      <th>publisher_harlequin</th>\n      <th>publisher_silhouette</th>\n      <th>publisher_pocket</th>\n      <th>publisher_ballantine_books</th>\n      <th>publisher_bantam_books</th>\n      <th>publisher_scholastic</th>\n      <th>publisher_simon_&amp;amp;_schuster</th>\n      <th>...</th>\n      <th>publisher_harpercollins</th>\n      <th>publisher_fawcett_books</th>\n      <th>publisher_signet_book</th>\n      <th>publisher_random_house_inc</th>\n      <th>publisher_st_martins_pr</th>\n      <th>publisher_st._martin's_press</th>\n      <th>publisher_tor_books</th>\n      <th>publisher_harpercollins_publishers</th>\n      <th>publisher_zebra_books</th>\n      <th>publisher_other</th>\n    </tr>\n  </thead>\n  <tbody>\n    <tr>\n      <th>0</th>\n      <td>1</td>\n      <td>2002</td>\n      <td>3</td>\n      <td>0</td>\n      <td>0</td>\n      <td>0</td>\n      <td>0</td>\n      <td>0</td>\n      <td>0</td>\n      <td>0</td>\n      <td>...</td>\n      <td>0</td>\n      <td>0</td>\n      <td>0</td>\n      <td>0</td>\n      <td>0</td>\n      <td>0</td>\n      <td>0</td>\n      <td>0</td>\n      <td>0</td>\n      <td>1</td>\n    </tr>\n  </tbody>\n</table>\n<p>1 rows × 24 columns</p>\n</div>"
     },
     "execution_count": 45,
     "metadata": {},
     "output_type": "execute_result"
    }
   ],
   "source": [
    "itemId=1\n",
    "publisher = \"SomeUnkownPublisher\"\n",
    "year_of_publication = 2002\n",
    "df_book = pd.DataFrame([{\n",
    "    'isbn13':itemId,\n",
    "    'year_of_publication': year_of_publication,\n",
    "    'publisher': publisher\n",
    "}])\n",
    "df_book = normalize_year_of_publication(df_book)\n",
    "df_book = normalize_publisher(df_book)\n",
    "df_book = hot_encode_books(df_book)\n",
    "df_books = df_book.filter(regex=\"isbn13|normalized_year_of_publication|publisher_\", axis=1)\n",
    "df_book"
   ],
   "metadata": {
    "collapsed": false
   }
  },
  {
   "cell_type": "code",
   "execution_count": 63,
   "outputs": [
    {
     "data": {
      "text/plain": "   age  country_usa  country_canada  country_united_kingdom  country_germany  \\\n0   20            0               0                       0                0   \n\n   country_spain  country_australia  country_italy  country_france  \\\n0              0                  0              0               0   \n\n   country_portugal  ...  publisher_harpercollins  publisher_fawcett_books  \\\n0                 0  ...                        0                        0   \n\n   publisher_signet_book  publisher_random_house_inc  publisher_st_martins_pr  \\\n0                      0                           0                        0   \n\n   publisher_st._martin's_press  publisher_tor_books  \\\n0                             0                    0   \n\n   publisher_harpercollins_publishers  publisher_zebra_books  publisher_other  \n0                                   0                      0                1  \n\n[1 rows x 66 columns]",
      "text/html": "<div>\n<style scoped>\n    .dataframe tbody tr th:only-of-type {\n        vertical-align: middle;\n    }\n\n    .dataframe tbody tr th {\n        vertical-align: top;\n    }\n\n    .dataframe thead th {\n        text-align: right;\n    }\n</style>\n<table border=\"1\" class=\"dataframe\">\n  <thead>\n    <tr style=\"text-align: right;\">\n      <th></th>\n      <th>age</th>\n      <th>country_usa</th>\n      <th>country_canada</th>\n      <th>country_united_kingdom</th>\n      <th>country_germany</th>\n      <th>country_spain</th>\n      <th>country_australia</th>\n      <th>country_italy</th>\n      <th>country_france</th>\n      <th>country_portugal</th>\n      <th>...</th>\n      <th>publisher_harpercollins</th>\n      <th>publisher_fawcett_books</th>\n      <th>publisher_signet_book</th>\n      <th>publisher_random_house_inc</th>\n      <th>publisher_st_martins_pr</th>\n      <th>publisher_st._martin's_press</th>\n      <th>publisher_tor_books</th>\n      <th>publisher_harpercollins_publishers</th>\n      <th>publisher_zebra_books</th>\n      <th>publisher_other</th>\n    </tr>\n  </thead>\n  <tbody>\n    <tr>\n      <th>0</th>\n      <td>20</td>\n      <td>0</td>\n      <td>0</td>\n      <td>0</td>\n      <td>0</td>\n      <td>0</td>\n      <td>0</td>\n      <td>0</td>\n      <td>0</td>\n      <td>0</td>\n      <td>...</td>\n      <td>0</td>\n      <td>0</td>\n      <td>0</td>\n      <td>0</td>\n      <td>0</td>\n      <td>0</td>\n      <td>0</td>\n      <td>0</td>\n      <td>0</td>\n      <td>1</td>\n    </tr>\n  </tbody>\n</table>\n<p>1 rows × 66 columns</p>\n</div>"
     },
     "execution_count": 63,
     "metadata": {},
     "output_type": "execute_result"
    }
   ],
   "source": [
    "# df_input = pd.concat([df_user.drop(\"user_id\"), df_book.drop(\"isbn13\")], axis=1)\n",
    "# df_input\n",
    "df_input = pd.concat([df_user, df_book], axis=1)\n",
    "df_input = df_input.drop(['user_id', 'year_of_publication'], axis=1)\n",
    "df_input"
   ],
   "metadata": {
    "collapsed": false
   }
  },
  {
   "cell_type": "code",
   "execution_count": 65,
   "outputs": [
    {
     "name": "stderr",
     "output_type": "stream",
     "text": [
      "/home/fab/.local/lib/python3.10/site-packages/sklearn/base.py:493: FutureWarning: The feature names should match those that were passed during fit. Starting version 1.2, an error will be raised.\n",
      "Feature names must be in the same order as they were in fit.\n",
      "\n",
      "  warnings.warn(message, FutureWarning)\n"
     ]
    },
    {
     "data": {
      "text/plain": "array([8])"
     },
     "execution_count": 65,
     "metadata": {},
     "output_type": "execute_result"
    }
   ],
   "source": [
    "rfc.predict(df_input)"
   ],
   "metadata": {
    "collapsed": false
   }
  }
 ],
 "metadata": {
  "kernelspec": {
   "display_name": "Python 3 (ipykernel)",
   "language": "python",
   "name": "python3"
  },
  "language_info": {
   "codemirror_mode": {
    "name": "ipython",
    "version": 3
   },
   "file_extension": ".py",
   "mimetype": "text/x-python",
   "name": "python",
   "nbconvert_exporter": "python",
   "pygments_lexer": "ipython3",
   "version": "3.10.8"
  }
 },
 "nbformat": 4,
 "nbformat_minor": 5
}
