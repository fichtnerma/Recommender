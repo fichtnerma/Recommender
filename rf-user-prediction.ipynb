{
 "cells": [
  {
   "cell_type": "markdown",
   "metadata": {
    "collapsed": false
   },
   "source": [
    "# BibRec: Prediction Showcase for Random Forest Model"
   ]
  },
  {
   "cell_type": "markdown",
   "metadata": {
    "collapsed": false
   },
   "source": [
    "### Prediction with given Country & Age\n",
    "This predicts the rating for all available books based on country & age."
   ]
  },
  {
   "cell_type": "code",
   "execution_count": 1,
   "metadata": {
    "collapsed": false
   },
   "outputs": [
    {
     "data": {
      "text/plain": "  userId  age  city state country\n0   None   20  None  None     usa",
      "text/html": "<div>\n<style scoped>\n    .dataframe tbody tr th:only-of-type {\n        vertical-align: middle;\n    }\n\n    .dataframe tbody tr th {\n        vertical-align: top;\n    }\n\n    .dataframe thead th {\n        text-align: right;\n    }\n</style>\n<table border=\"1\" class=\"dataframe\">\n  <thead>\n    <tr style=\"text-align: right;\">\n      <th></th>\n      <th>userId</th>\n      <th>age</th>\n      <th>city</th>\n      <th>state</th>\n      <th>country</th>\n    </tr>\n  </thead>\n  <tbody>\n    <tr>\n      <th>0</th>\n      <td>None</td>\n      <td>20</td>\n      <td>None</td>\n      <td>None</td>\n      <td>usa</td>\n    </tr>\n  </tbody>\n</table>\n</div>"
     },
     "execution_count": 1,
     "metadata": {},
     "output_type": "execute_result"
    }
   ],
   "source": [
    "from bibrec.server.Utils import *\n",
    "\n",
    "# input user\n",
    "user = pd.DataFrame([{\n",
    "    'userId': None,\n",
    "    'age': 20,\n",
    "    'city': None,\n",
    "    'state': None,\n",
    "    'country': \"usa\"\n",
    "}])\n",
    "user"
   ]
  },
  {
   "cell_type": "code",
   "execution_count": 2,
   "id": "7d8519e4",
   "metadata": {
    "collapsed": false
   },
   "outputs": [
    {
     "name": "stderr",
     "output_type": "stream",
     "text": [
      "/run/media/fab/Dev/repos/FH-SBG/MMT1/RES/recommender-systems/bibrec/server/Utils.py:396: DtypeWarning: Columns (4) have mixed types. Specify dtype option on import or set low_memory=False.\n",
      "  ratings = pd.read_csv(ratings_path, sep=\",\", encoding=\"utf-8\", na_filter=False)\n"
     ]
    }
   ],
   "source": [
    "books, users, ratings = get_normalized_data(books_path='data/normalized_books.csv',\n",
    "                                            users_path='data/normalized_users.csv',\n",
    "                                            ratings_path='data/normalized_ratings.csv')"
   ]
  },
  {
   "cell_type": "code",
   "execution_count": 3,
   "id": "71edc9fd",
   "metadata": {
    "collapsed": false
   },
   "outputs": [
    {
     "data": {
      "text/plain": "   age  country_usa  country_other  country_canada  country_united_kingdom  \\\n0   20            1              0               0                       0   \n\n   country_germany  country_spain  country_australia  country_italy  \\\n0                0              0                  0              0   \n\n   country_france  ...  state_british_columbia  state_ohio  state_michigan  \\\n0               0  ...                       0           0               0   \n\n   state_oregon  state_virginia  state_massachusetts  state_missouri  \\\n0             0               0                    0               0   \n\n   state_nordrhein-westfalen  state_north_carolina  state_  \n0                          0                     0       0  \n\n[1 rows x 43 columns]",
      "text/html": "<div>\n<style scoped>\n    .dataframe tbody tr th:only-of-type {\n        vertical-align: middle;\n    }\n\n    .dataframe tbody tr th {\n        vertical-align: top;\n    }\n\n    .dataframe thead th {\n        text-align: right;\n    }\n</style>\n<table border=\"1\" class=\"dataframe\">\n  <thead>\n    <tr style=\"text-align: right;\">\n      <th></th>\n      <th>age</th>\n      <th>country_usa</th>\n      <th>country_other</th>\n      <th>country_canada</th>\n      <th>country_united_kingdom</th>\n      <th>country_germany</th>\n      <th>country_spain</th>\n      <th>country_australia</th>\n      <th>country_italy</th>\n      <th>country_france</th>\n      <th>...</th>\n      <th>state_british_columbia</th>\n      <th>state_ohio</th>\n      <th>state_michigan</th>\n      <th>state_oregon</th>\n      <th>state_virginia</th>\n      <th>state_massachusetts</th>\n      <th>state_missouri</th>\n      <th>state_nordrhein-westfalen</th>\n      <th>state_north_carolina</th>\n      <th>state_</th>\n    </tr>\n  </thead>\n  <tbody>\n    <tr>\n      <th>0</th>\n      <td>20</td>\n      <td>1</td>\n      <td>0</td>\n      <td>0</td>\n      <td>0</td>\n      <td>0</td>\n      <td>0</td>\n      <td>0</td>\n      <td>0</td>\n      <td>0</td>\n      <td>...</td>\n      <td>0</td>\n      <td>0</td>\n      <td>0</td>\n      <td>0</td>\n      <td>0</td>\n      <td>0</td>\n      <td>0</td>\n      <td>0</td>\n      <td>0</td>\n      <td>0</td>\n    </tr>\n  </tbody>\n</table>\n<p>1 rows × 43 columns</p>\n</div>"
     },
     "execution_count": 3,
     "metadata": {},
     "output_type": "execute_result"
    }
   ],
   "source": [
    "df_user = user\n",
    "df_user = normalize_country(df_user)\n",
    "df_user = normalize_state(df_user)\n",
    "df_user = hot_encode_users(df_user)\n",
    "df_user = df_user.filter(regex=\"age|country_|state_\", axis=1)\n",
    "df_user"
   ]
  },
  {
   "cell_type": "code",
   "execution_count": 4,
   "metadata": {
    "collapsed": false
   },
   "outputs": [
    {
     "data": {
      "text/plain": "               isbn13  normalized_year_of_publication  \\\n0       9780195153446                               3   \n1       9780002005012                               4   \n2       9780060973124                              14   \n3       9780374157067                               6   \n4       9780393045215                               6   \n...               ...                             ...   \n270939   978044040095                              17   \n270940   978052544763                              14   \n270941  9780060086671                               1   \n270942  9780192126047                               9   \n270943  9780767409759                               5   \n\n        publisher_ballantine_books  publisher_bantam_books  \\\n0                                0                       0   \n1                                0                       0   \n2                                0                       0   \n3                                0                       0   \n4                                0                       0   \n...                            ...                     ...   \n270939                           0                       0   \n270940                           0                       0   \n270941                           0                       0   \n270942                           0                       0   \n270943                           0                       0   \n\n        publisher_berkley_publishing_group  publisher_fawcett_books  \\\n0                                        0                        0   \n1                                        0                        0   \n2                                        0                        0   \n3                                        0                        0   \n4                                        0                        0   \n...                                    ...                      ...   \n270939                                   0                        0   \n270940                                   0                        0   \n270941                                   0                        0   \n270942                                   0                        0   \n270943                                   0                        0   \n\n        publisher_harlequin  publisher_harpercollins  \\\n0                         0                        0   \n1                         0                        0   \n2                         0                        0   \n3                         0                        0   \n4                         0                        0   \n...                     ...                      ...   \n270939                    0                        0   \n270940                    0                        0   \n270941                    0                        0   \n270942                    0                        0   \n270943                    0                        0   \n\n        publisher_harpercollins_publishers  publisher_other  ...  \\\n0                                        0                1  ...   \n1                                        0                1  ...   \n2                                        0                1  ...   \n3                                        0                1  ...   \n4                                        0                1  ...   \n...                                    ...              ...  ...   \n270939                                   0                1  ...   \n270940                                   0                1  ...   \n270941                                   0                1  ...   \n270942                                   0                1  ...   \n270943                                   0                1  ...   \n\n        state_british_columbia  state_ohio  state_michigan  state_oregon  \\\n0                            0           0               0             0   \n1                            0           0               0             0   \n2                            0           0               0             0   \n3                            0           0               0             0   \n4                            0           0               0             0   \n...                        ...         ...             ...           ...   \n270939                       0           0               0             0   \n270940                       0           0               0             0   \n270941                       0           0               0             0   \n270942                       0           0               0             0   \n270943                       0           0               0             0   \n\n        state_virginia  state_massachusetts  state_missouri  \\\n0                    0                    0               0   \n1                    0                    0               0   \n2                    0                    0               0   \n3                    0                    0               0   \n4                    0                    0               0   \n...                ...                  ...             ...   \n270939               0                    0               0   \n270940               0                    0               0   \n270941               0                    0               0   \n270942               0                    0               0   \n270943               0                    0               0   \n\n        state_nordrhein-westfalen  state_north_carolina  state_  \n0                               0                     0       0  \n1                               0                     0       0  \n2                               0                     0       0  \n3                               0                     0       0  \n4                               0                     0       0  \n...                           ...                   ...     ...  \n270939                          0                     0       0  \n270940                          0                     0       0  \n270941                          0                     0       0  \n270942                          0                     0       0  \n270943                          0                     0       0  \n\n[270944 rows x 66 columns]",
      "text/html": "<div>\n<style scoped>\n    .dataframe tbody tr th:only-of-type {\n        vertical-align: middle;\n    }\n\n    .dataframe tbody tr th {\n        vertical-align: top;\n    }\n\n    .dataframe thead th {\n        text-align: right;\n    }\n</style>\n<table border=\"1\" class=\"dataframe\">\n  <thead>\n    <tr style=\"text-align: right;\">\n      <th></th>\n      <th>isbn13</th>\n      <th>normalized_year_of_publication</th>\n      <th>publisher_ballantine_books</th>\n      <th>publisher_bantam_books</th>\n      <th>publisher_berkley_publishing_group</th>\n      <th>publisher_fawcett_books</th>\n      <th>publisher_harlequin</th>\n      <th>publisher_harpercollins</th>\n      <th>publisher_harpercollins_publishers</th>\n      <th>publisher_other</th>\n      <th>...</th>\n      <th>state_british_columbia</th>\n      <th>state_ohio</th>\n      <th>state_michigan</th>\n      <th>state_oregon</th>\n      <th>state_virginia</th>\n      <th>state_massachusetts</th>\n      <th>state_missouri</th>\n      <th>state_nordrhein-westfalen</th>\n      <th>state_north_carolina</th>\n      <th>state_</th>\n    </tr>\n  </thead>\n  <tbody>\n    <tr>\n      <th>0</th>\n      <td>9780195153446</td>\n      <td>3</td>\n      <td>0</td>\n      <td>0</td>\n      <td>0</td>\n      <td>0</td>\n      <td>0</td>\n      <td>0</td>\n      <td>0</td>\n      <td>1</td>\n      <td>...</td>\n      <td>0</td>\n      <td>0</td>\n      <td>0</td>\n      <td>0</td>\n      <td>0</td>\n      <td>0</td>\n      <td>0</td>\n      <td>0</td>\n      <td>0</td>\n      <td>0</td>\n    </tr>\n    <tr>\n      <th>1</th>\n      <td>9780002005012</td>\n      <td>4</td>\n      <td>0</td>\n      <td>0</td>\n      <td>0</td>\n      <td>0</td>\n      <td>0</td>\n      <td>0</td>\n      <td>0</td>\n      <td>1</td>\n      <td>...</td>\n      <td>0</td>\n      <td>0</td>\n      <td>0</td>\n      <td>0</td>\n      <td>0</td>\n      <td>0</td>\n      <td>0</td>\n      <td>0</td>\n      <td>0</td>\n      <td>0</td>\n    </tr>\n    <tr>\n      <th>2</th>\n      <td>9780060973124</td>\n      <td>14</td>\n      <td>0</td>\n      <td>0</td>\n      <td>0</td>\n      <td>0</td>\n      <td>0</td>\n      <td>0</td>\n      <td>0</td>\n      <td>1</td>\n      <td>...</td>\n      <td>0</td>\n      <td>0</td>\n      <td>0</td>\n      <td>0</td>\n      <td>0</td>\n      <td>0</td>\n      <td>0</td>\n      <td>0</td>\n      <td>0</td>\n      <td>0</td>\n    </tr>\n    <tr>\n      <th>3</th>\n      <td>9780374157067</td>\n      <td>6</td>\n      <td>0</td>\n      <td>0</td>\n      <td>0</td>\n      <td>0</td>\n      <td>0</td>\n      <td>0</td>\n      <td>0</td>\n      <td>1</td>\n      <td>...</td>\n      <td>0</td>\n      <td>0</td>\n      <td>0</td>\n      <td>0</td>\n      <td>0</td>\n      <td>0</td>\n      <td>0</td>\n      <td>0</td>\n      <td>0</td>\n      <td>0</td>\n    </tr>\n    <tr>\n      <th>4</th>\n      <td>9780393045215</td>\n      <td>6</td>\n      <td>0</td>\n      <td>0</td>\n      <td>0</td>\n      <td>0</td>\n      <td>0</td>\n      <td>0</td>\n      <td>0</td>\n      <td>1</td>\n      <td>...</td>\n      <td>0</td>\n      <td>0</td>\n      <td>0</td>\n      <td>0</td>\n      <td>0</td>\n      <td>0</td>\n      <td>0</td>\n      <td>0</td>\n      <td>0</td>\n      <td>0</td>\n    </tr>\n    <tr>\n      <th>...</th>\n      <td>...</td>\n      <td>...</td>\n      <td>...</td>\n      <td>...</td>\n      <td>...</td>\n      <td>...</td>\n      <td>...</td>\n      <td>...</td>\n      <td>...</td>\n      <td>...</td>\n      <td>...</td>\n      <td>...</td>\n      <td>...</td>\n      <td>...</td>\n      <td>...</td>\n      <td>...</td>\n      <td>...</td>\n      <td>...</td>\n      <td>...</td>\n      <td>...</td>\n      <td>...</td>\n    </tr>\n    <tr>\n      <th>270939</th>\n      <td>978044040095</td>\n      <td>17</td>\n      <td>0</td>\n      <td>0</td>\n      <td>0</td>\n      <td>0</td>\n      <td>0</td>\n      <td>0</td>\n      <td>0</td>\n      <td>1</td>\n      <td>...</td>\n      <td>0</td>\n      <td>0</td>\n      <td>0</td>\n      <td>0</td>\n      <td>0</td>\n      <td>0</td>\n      <td>0</td>\n      <td>0</td>\n      <td>0</td>\n      <td>0</td>\n    </tr>\n    <tr>\n      <th>270940</th>\n      <td>978052544763</td>\n      <td>14</td>\n      <td>0</td>\n      <td>0</td>\n      <td>0</td>\n      <td>0</td>\n      <td>0</td>\n      <td>0</td>\n      <td>0</td>\n      <td>1</td>\n      <td>...</td>\n      <td>0</td>\n      <td>0</td>\n      <td>0</td>\n      <td>0</td>\n      <td>0</td>\n      <td>0</td>\n      <td>0</td>\n      <td>0</td>\n      <td>0</td>\n      <td>0</td>\n    </tr>\n    <tr>\n      <th>270941</th>\n      <td>9780060086671</td>\n      <td>1</td>\n      <td>0</td>\n      <td>0</td>\n      <td>0</td>\n      <td>0</td>\n      <td>0</td>\n      <td>0</td>\n      <td>0</td>\n      <td>1</td>\n      <td>...</td>\n      <td>0</td>\n      <td>0</td>\n      <td>0</td>\n      <td>0</td>\n      <td>0</td>\n      <td>0</td>\n      <td>0</td>\n      <td>0</td>\n      <td>0</td>\n      <td>0</td>\n    </tr>\n    <tr>\n      <th>270942</th>\n      <td>9780192126047</td>\n      <td>9</td>\n      <td>0</td>\n      <td>0</td>\n      <td>0</td>\n      <td>0</td>\n      <td>0</td>\n      <td>0</td>\n      <td>0</td>\n      <td>1</td>\n      <td>...</td>\n      <td>0</td>\n      <td>0</td>\n      <td>0</td>\n      <td>0</td>\n      <td>0</td>\n      <td>0</td>\n      <td>0</td>\n      <td>0</td>\n      <td>0</td>\n      <td>0</td>\n    </tr>\n    <tr>\n      <th>270943</th>\n      <td>9780767409759</td>\n      <td>5</td>\n      <td>0</td>\n      <td>0</td>\n      <td>0</td>\n      <td>0</td>\n      <td>0</td>\n      <td>0</td>\n      <td>0</td>\n      <td>1</td>\n      <td>...</td>\n      <td>0</td>\n      <td>0</td>\n      <td>0</td>\n      <td>0</td>\n      <td>0</td>\n      <td>0</td>\n      <td>0</td>\n      <td>0</td>\n      <td>0</td>\n      <td>0</td>\n    </tr>\n  </tbody>\n</table>\n<p>270944 rows × 66 columns</p>\n</div>"
     },
     "execution_count": 4,
     "metadata": {},
     "output_type": "execute_result"
    }
   ],
   "source": [
    "# predict based on all available books\n",
    "encoded_books = get_encoded_books(\"data/encoded_books.csv\")\n",
    "df_books = encoded_books.filter(regex=\"isbn13|normalized_year_of_publication|publisher_\", axis=1)\n",
    "# add user features to encoded books\n",
    "df_input = df_books.assign(**df_user.iloc[0])\n",
    "df_input"
   ]
  },
  {
   "cell_type": "code",
   "execution_count": 5,
   "metadata": {
    "collapsed": false
   },
   "outputs": [
    {
     "name": "stdout",
     "output_type": "stream",
     "text": [
      "train model with pre-encoded files\n"
     ]
    },
    {
     "name": "stderr",
     "output_type": "stream",
     "text": [
      "[Parallel(n_jobs=3)]: Using backend ThreadingBackend with 3 concurrent workers.\n"
     ]
    },
    {
     "name": "stdout",
     "output_type": "stream",
     "text": [
      "building tree 1 of 100\n",
      "building tree 2 of 100\n",
      "building tree 3 of 100\n",
      "building tree 4 of 100\n",
      "building tree 5 of 100\n",
      "building tree 6 of 100\n"
     ]
    },
    {
     "name": "stderr",
     "output_type": "stream",
     "text": [
      "[Parallel(n_jobs=3)]: Done   2 tasks      | elapsed:    1.2s\n"
     ]
    },
    {
     "name": "stdout",
     "output_type": "stream",
     "text": [
      "building tree 7 of 100\n",
      "building tree 8 of 100\n",
      "building tree 9 of 100\n",
      "building tree 10 of 100\n"
     ]
    },
    {
     "name": "stderr",
     "output_type": "stream",
     "text": [
      "[Parallel(n_jobs=3)]: Done   7 tasks      | elapsed:    3.3s\n"
     ]
    },
    {
     "name": "stdout",
     "output_type": "stream",
     "text": [
      "building tree 11 of 100\n",
      "building tree 12 of 100\n",
      "building tree 13 of 100\n",
      "building tree 14 of 100\n",
      "building tree 15 of 100\n"
     ]
    },
    {
     "name": "stderr",
     "output_type": "stream",
     "text": [
      "[Parallel(n_jobs=3)]: Done  12 tasks      | elapsed:    5.0s\n"
     ]
    },
    {
     "name": "stdout",
     "output_type": "stream",
     "text": [
      "building tree 16 of 100\n",
      "building tree 17 of 100\n",
      "building tree 18 of 100\n",
      "building tree 19 of 100\n",
      "building tree 20 of 100\n",
      "building tree 21 of 100\n",
      "building tree 22 of 100\n",
      "building tree 23 of 100\n"
     ]
    },
    {
     "name": "stderr",
     "output_type": "stream",
     "text": [
      "[Parallel(n_jobs=3)]: Done  19 tasks      | elapsed:    8.1s\n"
     ]
    },
    {
     "name": "stdout",
     "output_type": "stream",
     "text": [
      "building tree 24 of 100\n",
      "building tree 25 of 100\n",
      "building tree 26 of 100\n",
      "building tree 27 of 100\n",
      "building tree 28 of 100\n",
      "building tree 29 of 100\n"
     ]
    },
    {
     "name": "stderr",
     "output_type": "stream",
     "text": [
      "[Parallel(n_jobs=3)]: Done  26 tasks      | elapsed:   11.0s\n"
     ]
    },
    {
     "name": "stdout",
     "output_type": "stream",
     "text": [
      "building tree 30 of 100\n",
      "building tree 31 of 100\n",
      "building tree 32 of 100\n",
      "building tree 33 of 100\n",
      "building tree 34 of 100\n",
      "building tree 35 of 100\n",
      "building tree 36 of 100\n",
      "building tree 37 of 100\n",
      "building tree 38 of 100\n"
     ]
    },
    {
     "name": "stderr",
     "output_type": "stream",
     "text": [
      "[Parallel(n_jobs=3)]: Done  35 tasks      | elapsed:   15.5s\n"
     ]
    },
    {
     "name": "stdout",
     "output_type": "stream",
     "text": [
      "building tree 39 of 100\n",
      "building tree 40 of 100\n",
      "building tree 41 of 100\n",
      "building tree 42 of 100\n",
      "building tree 43 of 100\n",
      "building tree 44 of 100\n",
      "building tree 45 of 100\n",
      "building tree 46 of 100\n",
      "building tree 47 of 100\n",
      "building tree 48 of 100\n"
     ]
    },
    {
     "name": "stderr",
     "output_type": "stream",
     "text": [
      "[Parallel(n_jobs=3)]: Done  44 tasks      | elapsed:   18.7s\n"
     ]
    },
    {
     "name": "stdout",
     "output_type": "stream",
     "text": [
      "building tree 49 of 100\n",
      "building tree 50 of 100\n",
      "building tree 51 of 100\n",
      "building tree 52 of 100\n",
      "building tree 53 of 100\n",
      "building tree 54 of 100\n",
      "building tree 55 of 100\n",
      "building tree 56 of 100\n",
      "building tree 57 of 100\n",
      "building tree 58 of 100\n",
      "building tree 59 of 100\n",
      "building tree 60 of 100\n"
     ]
    },
    {
     "name": "stderr",
     "output_type": "stream",
     "text": [
      "[Parallel(n_jobs=3)]: Done  55 tasks      | elapsed:   23.3s\n"
     ]
    },
    {
     "name": "stdout",
     "output_type": "stream",
     "text": [
      "building tree 61 of 100\n",
      "building tree 62 of 100\n",
      "building tree 63 of 100\n",
      "building tree 64 of 100\n",
      "building tree 65 of 100\n",
      "building tree 66 of 100\n",
      "building tree 67 of 100\n",
      "building tree 68 of 100\n",
      "building tree 69 of 100\n"
     ]
    },
    {
     "name": "stderr",
     "output_type": "stream",
     "text": [
      "[Parallel(n_jobs=3)]: Done  66 tasks      | elapsed:   27.1s\n"
     ]
    },
    {
     "name": "stdout",
     "output_type": "stream",
     "text": [
      "building tree 70 of 100\n",
      "building tree 71 of 100\n",
      "building tree 72 of 100\n",
      "building tree 73 of 100\n",
      "building tree 74 of 100\n",
      "building tree 75 of 100\n",
      "building tree 76 of 100\n",
      "building tree 77 of 100\n",
      "building tree 78 of 100\n",
      "building tree 79 of 100\n",
      "building tree 80 of 100\n",
      "building tree 81 of 100\n",
      "building tree 82 of 100\n"
     ]
    },
    {
     "name": "stderr",
     "output_type": "stream",
     "text": [
      "[Parallel(n_jobs=3)]: Done  79 tasks      | elapsed:   33.0s\n"
     ]
    },
    {
     "name": "stdout",
     "output_type": "stream",
     "text": [
      "building tree 83 of 100\n",
      "building tree 84 of 100\n",
      "building tree 85 of 100\n",
      "building tree 86 of 100\n",
      "building tree 87 of 100\n",
      "building tree 88 of 100\n",
      "building tree 89 of 100\n",
      "building tree 90 of 100\n",
      "building tree 91 of 100\n",
      "building tree 92 of 100\n",
      "building tree 93 of 100\n",
      "building tree 94 of 100\n",
      "building tree 95 of 100\n",
      "building tree 96 of 100\n"
     ]
    },
    {
     "name": "stderr",
     "output_type": "stream",
     "text": [
      "[Parallel(n_jobs=3)]: Done  92 tasks      | elapsed:   40.6s\n"
     ]
    },
    {
     "name": "stdout",
     "output_type": "stream",
     "text": [
      "building tree 97 of 100\n",
      "building tree 98 of 100\n",
      "building tree 99 of 100\n",
      "building tree 100 of 100\n"
     ]
    },
    {
     "name": "stderr",
     "output_type": "stream",
     "text": [
      "[Parallel(n_jobs=3)]: Done 100 out of 100 | elapsed:   44.2s finished\n"
     ]
    }
   ],
   "source": [
    "print(\"train model with pre-encoded files\")\n",
    "encoded_books = get_encoded_books()\n",
    "encoded_users = get_encoded_users()\n",
    "rfc = train_model_rf_encoded(encoded_books, encoded_users, ratings)"
   ]
  },
  {
   "cell_type": "code",
   "execution_count": 6,
   "metadata": {
    "collapsed": false
   },
   "outputs": [
    {
     "name": "stderr",
     "output_type": "stream",
     "text": [
      "/home/fab/.local/lib/python3.10/site-packages/sklearn/base.py:493: FutureWarning: The feature names should match those that were passed during fit. Starting version 1.2, an error will be raised.\n",
      "Feature names must be in the same order as they were in fit.\n",
      "\n",
      "  warnings.warn(message, FutureWarning)\n",
      "[Parallel(n_jobs=3)]: Using backend ThreadingBackend with 3 concurrent workers.\n",
      "[Parallel(n_jobs=3)]: Done   2 tasks      | elapsed:    0.1s\n",
      "[Parallel(n_jobs=3)]: Done   7 tasks      | elapsed:    0.3s\n",
      "[Parallel(n_jobs=3)]: Done  12 tasks      | elapsed:    0.4s\n",
      "[Parallel(n_jobs=3)]: Done  19 tasks      | elapsed:    0.6s\n",
      "[Parallel(n_jobs=3)]: Done  26 tasks      | elapsed:    0.9s\n",
      "[Parallel(n_jobs=3)]: Done  35 tasks      | elapsed:    1.2s\n",
      "[Parallel(n_jobs=3)]: Done  44 tasks      | elapsed:    1.4s\n",
      "[Parallel(n_jobs=3)]: Done  55 tasks      | elapsed:    1.8s\n",
      "[Parallel(n_jobs=3)]: Done  66 tasks      | elapsed:    2.1s\n",
      "[Parallel(n_jobs=3)]: Done  79 tasks      | elapsed:    2.5s\n",
      "[Parallel(n_jobs=3)]: Done  92 tasks      | elapsed:    2.9s\n",
      "[Parallel(n_jobs=3)]: Done 100 out of 100 | elapsed:    3.1s finished\n"
     ]
    },
    {
     "data": {
      "text/plain": "         0\n0        8\n1        7\n2        8\n3        9\n4        9\n...     ..\n270939  10\n270940   8\n270941   8\n270942   8\n270943   9\n\n[270944 rows x 1 columns]",
      "text/html": "<div>\n<style scoped>\n    .dataframe tbody tr th:only-of-type {\n        vertical-align: middle;\n    }\n\n    .dataframe tbody tr th {\n        vertical-align: top;\n    }\n\n    .dataframe thead th {\n        text-align: right;\n    }\n</style>\n<table border=\"1\" class=\"dataframe\">\n  <thead>\n    <tr style=\"text-align: right;\">\n      <th></th>\n      <th>0</th>\n    </tr>\n  </thead>\n  <tbody>\n    <tr>\n      <th>0</th>\n      <td>8</td>\n    </tr>\n    <tr>\n      <th>1</th>\n      <td>7</td>\n    </tr>\n    <tr>\n      <th>2</th>\n      <td>8</td>\n    </tr>\n    <tr>\n      <th>3</th>\n      <td>9</td>\n    </tr>\n    <tr>\n      <th>4</th>\n      <td>9</td>\n    </tr>\n    <tr>\n      <th>...</th>\n      <td>...</td>\n    </tr>\n    <tr>\n      <th>270939</th>\n      <td>10</td>\n    </tr>\n    <tr>\n      <th>270940</th>\n      <td>8</td>\n    </tr>\n    <tr>\n      <th>270941</th>\n      <td>8</td>\n    </tr>\n    <tr>\n      <th>270942</th>\n      <td>8</td>\n    </tr>\n    <tr>\n      <th>270943</th>\n      <td>9</td>\n    </tr>\n  </tbody>\n</table>\n<p>270944 rows × 1 columns</p>\n</div>"
     },
     "execution_count": 6,
     "metadata": {},
     "output_type": "execute_result"
    }
   ],
   "source": [
    "rfc_predict = rfc.predict(df_input)\n",
    "pd.DataFrame(rfc_predict)"
   ]
  },
  {
   "cell_type": "code",
   "execution_count": 7,
   "metadata": {
    "collapsed": false
   },
   "outputs": [
    {
     "data": {
      "text/plain": "<AxesSubplot: ylabel='count'>"
     },
     "execution_count": 7,
     "metadata": {},
     "output_type": "execute_result"
    },
    {
     "data": {
      "text/plain": "<Figure size 640x480 with 1 Axes>",
      "image/png": "[encoded data removed]"
     },
     "metadata": {},
     "output_type": "display_data"
    }
   ],
   "source": [
    "import seaborn as sns\n",
    "sns.countplot(x = rfc_predict)"
   ]
  },
  {
   "cell_type": "code",
   "execution_count": 8,
   "metadata": {
    "collapsed": false
   },
   "outputs": [
    {
     "data": {
      "text/plain": "         index         isbn13  predicted_book_rating\n0            0  9780195153446                      8\n1            1  9780002005012                      7\n2            2  9780060973124                      8\n3            3  9780374157067                      9\n4            4  9780393045215                      9\n...        ...            ...                    ...\n270939  270939   978044040095                     10\n270940  270940   978052544763                      8\n270941  270941  9780060086671                      8\n270942  270942  9780192126047                      8\n270943  270943  9780767409759                      9\n\n[270944 rows x 3 columns]",
      "text/html": "<div>\n<style scoped>\n    .dataframe tbody tr th:only-of-type {\n        vertical-align: middle;\n    }\n\n    .dataframe tbody tr th {\n        vertical-align: top;\n    }\n\n    .dataframe thead th {\n        text-align: right;\n    }\n</style>\n<table border=\"1\" class=\"dataframe\">\n  <thead>\n    <tr style=\"text-align: right;\">\n      <th></th>\n      <th>index</th>\n      <th>isbn13</th>\n      <th>predicted_book_rating</th>\n    </tr>\n  </thead>\n  <tbody>\n    <tr>\n      <th>0</th>\n      <td>0</td>\n      <td>9780195153446</td>\n      <td>8</td>\n    </tr>\n    <tr>\n      <th>1</th>\n      <td>1</td>\n      <td>9780002005012</td>\n      <td>7</td>\n    </tr>\n    <tr>\n      <th>2</th>\n      <td>2</td>\n      <td>9780060973124</td>\n      <td>8</td>\n    </tr>\n    <tr>\n      <th>3</th>\n      <td>3</td>\n      <td>9780374157067</td>\n      <td>9</td>\n    </tr>\n    <tr>\n      <th>4</th>\n      <td>4</td>\n      <td>9780393045215</td>\n      <td>9</td>\n    </tr>\n    <tr>\n      <th>...</th>\n      <td>...</td>\n      <td>...</td>\n      <td>...</td>\n    </tr>\n    <tr>\n      <th>270939</th>\n      <td>270939</td>\n      <td>978044040095</td>\n      <td>10</td>\n    </tr>\n    <tr>\n      <th>270940</th>\n      <td>270940</td>\n      <td>978052544763</td>\n      <td>8</td>\n    </tr>\n    <tr>\n      <th>270941</th>\n      <td>270941</td>\n      <td>9780060086671</td>\n      <td>8</td>\n    </tr>\n    <tr>\n      <th>270942</th>\n      <td>270942</td>\n      <td>9780192126047</td>\n      <td>8</td>\n    </tr>\n    <tr>\n      <th>270943</th>\n      <td>270943</td>\n      <td>9780767409759</td>\n      <td>9</td>\n    </tr>\n  </tbody>\n</table>\n<p>270944 rows × 3 columns</p>\n</div>"
     },
     "execution_count": 8,
     "metadata": {},
     "output_type": "execute_result"
    }
   ],
   "source": [
    "predictions = df_books.filter(regex=\"isbn13\", axis=1)\n",
    "predictions = predictions.reset_index()\n",
    "predicted_ratings = pd.DataFrame(rfc_predict, columns=[\"predicted_book_rating\"])\n",
    "predictions = predictions.join(predicted_ratings)\n",
    "predictions"
   ]
  },
  {
   "cell_type": "code",
   "execution_count": 9,
   "metadata": {
    "collapsed": false
   },
   "outputs": [
    {
     "data": {
      "text/plain": "         index         isbn13  predicted_book_rating\n113786  113786  9781555837808                     10\n28630    28630  9780966918816                     10\n109622  109622  9780140622683                     10\n109621  109621  9780525241249                     10\n230381  230381  9780486232317                     10\n...        ...            ...                    ...\n64454    64454  9780373257133                      2\n64455    64455  9780373257126                      2\n139926  139926  9780373288762                      2\n99571    99571  9780373223862                      2\n196216  196216  9780373289196                      2\n\n[270944 rows x 3 columns]",
      "text/html": "<div>\n<style scoped>\n    .dataframe tbody tr th:only-of-type {\n        vertical-align: middle;\n    }\n\n    .dataframe tbody tr th {\n        vertical-align: top;\n    }\n\n    .dataframe thead th {\n        text-align: right;\n    }\n</style>\n<table border=\"1\" class=\"dataframe\">\n  <thead>\n    <tr style=\"text-align: right;\">\n      <th></th>\n      <th>index</th>\n      <th>isbn13</th>\n      <th>predicted_book_rating</th>\n    </tr>\n  </thead>\n  <tbody>\n    <tr>\n      <th>113786</th>\n      <td>113786</td>\n      <td>9781555837808</td>\n      <td>10</td>\n    </tr>\n    <tr>\n      <th>28630</th>\n      <td>28630</td>\n      <td>9780966918816</td>\n      <td>10</td>\n    </tr>\n    <tr>\n      <th>109622</th>\n      <td>109622</td>\n      <td>9780140622683</td>\n      <td>10</td>\n    </tr>\n    <tr>\n      <th>109621</th>\n      <td>109621</td>\n      <td>9780525241249</td>\n      <td>10</td>\n    </tr>\n    <tr>\n      <th>230381</th>\n      <td>230381</td>\n      <td>9780486232317</td>\n      <td>10</td>\n    </tr>\n    <tr>\n      <th>...</th>\n      <td>...</td>\n      <td>...</td>\n      <td>...</td>\n    </tr>\n    <tr>\n      <th>64454</th>\n      <td>64454</td>\n      <td>9780373257133</td>\n      <td>2</td>\n    </tr>\n    <tr>\n      <th>64455</th>\n      <td>64455</td>\n      <td>9780373257126</td>\n      <td>2</td>\n    </tr>\n    <tr>\n      <th>139926</th>\n      <td>139926</td>\n      <td>9780373288762</td>\n      <td>2</td>\n    </tr>\n    <tr>\n      <th>99571</th>\n      <td>99571</td>\n      <td>9780373223862</td>\n      <td>2</td>\n    </tr>\n    <tr>\n      <th>196216</th>\n      <td>196216</td>\n      <td>9780373289196</td>\n      <td>2</td>\n    </tr>\n  </tbody>\n</table>\n<p>270944 rows × 3 columns</p>\n</div>"
     },
     "execution_count": 9,
     "metadata": {},
     "output_type": "execute_result"
    }
   ],
   "source": [
    "predictions = predictions.sort_values(\"predicted_book_rating\", na_position=\"first\", ascending=False)\n",
    "predictions"
   ]
  },
  {
   "cell_type": "code",
   "execution_count": 10,
   "metadata": {
    "collapsed": false
   },
   "outputs": [
    {
     "name": "stdout",
     "output_type": "stream",
     "text": [
      "Predictions for:\n",
      "  userId  age  city state country\n",
      "0   None   20  None  None     usa\n"
     ]
    },
    {
     "data": {
      "text/plain": "         index         isbn13  predicted_book_rating        isbn  \\\n0       113786  9781555837808                     10  1555837808   \n1        28630  9780966918816                     10  0966918819   \n2       109622  9780140622683                     10  0140622683   \n3       109621  9780525241249                     10  0525241248   \n4       230381  9780486232317                     10  048623231X   \n...        ...            ...                    ...         ...   \n270941   64454  9780373257133                      2  0373257139   \n270942   64455  9780373257126                      2  0373257120   \n270943  139926  9780373288762                      2  037328876X   \n270944   99571  9780373223862                      2  0373223862   \n270945  196216  9780373289196                      2  0373289197   \n\n                                               book_title  \\\n0                         Hero of Flight 93: Mark Bingham   \n1                     The Donkey Show (Commonplace Jernt)   \n2           The Arabian Nights (Penguin Popular Classics)   \n3                                             Tao of Pooh   \n4        The Dore Illustrations for Dante's Divine Comedy   \n...                                                   ...   \n270941  Ambushed (The Men Of Whiskey River) (Harlequin...   \n270942  Some Kind Of Hero  (Mail Order Men) (Harlequin...   \n270943     Once A Maverick (Harlequin Historical, No 276)   \n270944  Tell Me No Lies  (The Mckenna Legacy) (Harlequ...   \n270945      Battered Bride (Harlequin Historical, No 319)   \n\n                  book_author  year_of_publication  publisher  \\\n0                 Jon Barrett                 2002      other   \n1       Michael Patrick Welch                 2003      other   \n2                  Jack Zipes                 1960      other   \n3               Benjamin Hoff                 1982      other   \n4                Gustave Dore                 1976      other   \n...                       ...                  ...        ...   \n270941              Alex Ross                 1996  harlequin   \n270942            Sandy Steen                 1996  harlequin   \n270943          Fern Michaels                 1995  harlequin   \n270944      Patricia Rosemoor                 1996  harlequin   \n270945          Cheryl Reavis                 1996  harlequin   \n\n                                              image_url_s  \\\n0       http://images.amazon.com/images/P/1555837808.0...   \n1       http://images.amazon.com/images/P/0966918819.0...   \n2       http://images.amazon.com/images/P/0140622683.0...   \n3       http://images.amazon.com/images/P/0525241248.0...   \n4       http://images.amazon.com/images/P/048623231X.0...   \n...                                                   ...   \n270941  http://images.amazon.com/images/P/0373257139.0...   \n270942  http://images.amazon.com/images/P/0373257120.0...   \n270943  http://images.amazon.com/images/P/037328876X.0...   \n270944  http://images.amazon.com/images/P/0373223862.0...   \n270945  http://images.amazon.com/images/P/0373289197.0...   \n\n                                              image_url_m  \\\n0       http://images.amazon.com/images/P/1555837808.0...   \n1       http://images.amazon.com/images/P/0966918819.0...   \n2       http://images.amazon.com/images/P/0140622683.0...   \n3       http://images.amazon.com/images/P/0525241248.0...   \n4       http://images.amazon.com/images/P/048623231X.0...   \n...                                                   ...   \n270941  http://images.amazon.com/images/P/0373257139.0...   \n270942  http://images.amazon.com/images/P/0373257120.0...   \n270943  http://images.amazon.com/images/P/037328876X.0...   \n270944  http://images.amazon.com/images/P/0373223862.0...   \n270945  http://images.amazon.com/images/P/0373289197.0...   \n\n                                              image_url_l  rating_mean  \\\n0       http://images.amazon.com/images/P/1555837808.0...          0.0   \n1       http://images.amazon.com/images/P/0966918819.0...          0.0   \n2       http://images.amazon.com/images/P/0140622683.0...          2.6   \n3       http://images.amazon.com/images/P/0525241248.0...         10.0   \n4       http://images.amazon.com/images/P/048623231X.0...          5.0   \n...                                                   ...          ...   \n270941  http://images.amazon.com/images/P/0373257139.0...          0.0   \n270942  http://images.amazon.com/images/P/0373257120.0...          2.5   \n270943  http://images.amazon.com/images/P/037328876X.0...          0.0   \n270944  http://images.amazon.com/images/P/0373223862.0...          0.0   \n270945  http://images.amazon.com/images/P/0373289197.0...          0.0   \n\n        rating_count  normalized_year_of_publication  \n0                2.0                               3  \n1                1.0                               2  \n2                5.0                              45  \n3                1.0                              23  \n4                2.0                              29  \n...              ...                             ...  \n270941           3.0                               9  \n270942           4.0                               9  \n270943           1.0                              10  \n270944           1.0                               9  \n270945           3.0                               9  \n\n[270946 rows x 14 columns]",
      "text/html": "<div>\n<style scoped>\n    .dataframe tbody tr th:only-of-type {\n        vertical-align: middle;\n    }\n\n    .dataframe tbody tr th {\n        vertical-align: top;\n    }\n\n    .dataframe thead th {\n        text-align: right;\n    }\n</style>\n<table border=\"1\" class=\"dataframe\">\n  <thead>\n    <tr style=\"text-align: right;\">\n      <th></th>\n      <th>index</th>\n      <th>isbn13</th>\n      <th>predicted_book_rating</th>\n      <th>isbn</th>\n      <th>book_title</th>\n      <th>book_author</th>\n      <th>year_of_publication</th>\n      <th>publisher</th>\n      <th>image_url_s</th>\n      <th>image_url_m</th>\n      <th>image_url_l</th>\n      <th>rating_mean</th>\n      <th>rating_count</th>\n      <th>normalized_year_of_publication</th>\n    </tr>\n  </thead>\n  <tbody>\n    <tr>\n      <th>0</th>\n      <td>113786</td>\n      <td>9781555837808</td>\n      <td>10</td>\n      <td>1555837808</td>\n      <td>Hero of Flight 93: Mark Bingham</td>\n      <td>Jon Barrett</td>\n      <td>2002</td>\n      <td>other</td>\n      <td>http://images.amazon.com/images/P/1555837808.0...</td>\n      <td>http://images.amazon.com/images/P/1555837808.0...</td>\n      <td>http://images.amazon.com/images/P/1555837808.0...</td>\n      <td>0.0</td>\n      <td>2.0</td>\n      <td>3</td>\n    </tr>\n    <tr>\n      <th>1</th>\n      <td>28630</td>\n      <td>9780966918816</td>\n      <td>10</td>\n      <td>0966918819</td>\n      <td>The Donkey Show (Commonplace Jernt)</td>\n      <td>Michael Patrick Welch</td>\n      <td>2003</td>\n      <td>other</td>\n      <td>http://images.amazon.com/images/P/0966918819.0...</td>\n      <td>http://images.amazon.com/images/P/0966918819.0...</td>\n      <td>http://images.amazon.com/images/P/0966918819.0...</td>\n      <td>0.0</td>\n      <td>1.0</td>\n      <td>2</td>\n    </tr>\n    <tr>\n      <th>2</th>\n      <td>109622</td>\n      <td>9780140622683</td>\n      <td>10</td>\n      <td>0140622683</td>\n      <td>The Arabian Nights (Penguin Popular Classics)</td>\n      <td>Jack Zipes</td>\n      <td>1960</td>\n      <td>other</td>\n      <td>http://images.amazon.com/images/P/0140622683.0...</td>\n      <td>http://images.amazon.com/images/P/0140622683.0...</td>\n      <td>http://images.amazon.com/images/P/0140622683.0...</td>\n      <td>2.6</td>\n      <td>5.0</td>\n      <td>45</td>\n    </tr>\n    <tr>\n      <th>3</th>\n      <td>109621</td>\n      <td>9780525241249</td>\n      <td>10</td>\n      <td>0525241248</td>\n      <td>Tao of Pooh</td>\n      <td>Benjamin Hoff</td>\n      <td>1982</td>\n      <td>other</td>\n      <td>http://images.amazon.com/images/P/0525241248.0...</td>\n      <td>http://images.amazon.com/images/P/0525241248.0...</td>\n      <td>http://images.amazon.com/images/P/0525241248.0...</td>\n      <td>10.0</td>\n      <td>1.0</td>\n      <td>23</td>\n    </tr>\n    <tr>\n      <th>4</th>\n      <td>230381</td>\n      <td>9780486232317</td>\n      <td>10</td>\n      <td>048623231X</td>\n      <td>The Dore Illustrations for Dante's Divine Comedy</td>\n      <td>Gustave Dore</td>\n      <td>1976</td>\n      <td>other</td>\n      <td>http://images.amazon.com/images/P/048623231X.0...</td>\n      <td>http://images.amazon.com/images/P/048623231X.0...</td>\n      <td>http://images.amazon.com/images/P/048623231X.0...</td>\n      <td>5.0</td>\n      <td>2.0</td>\n      <td>29</td>\n    </tr>\n    <tr>\n      <th>...</th>\n      <td>...</td>\n      <td>...</td>\n      <td>...</td>\n      <td>...</td>\n      <td>...</td>\n      <td>...</td>\n      <td>...</td>\n      <td>...</td>\n      <td>...</td>\n      <td>...</td>\n      <td>...</td>\n      <td>...</td>\n      <td>...</td>\n      <td>...</td>\n    </tr>\n    <tr>\n      <th>270941</th>\n      <td>64454</td>\n      <td>9780373257133</td>\n      <td>2</td>\n      <td>0373257139</td>\n      <td>Ambushed (The Men Of Whiskey River) (Harlequin...</td>\n      <td>Alex Ross</td>\n      <td>1996</td>\n      <td>harlequin</td>\n      <td>http://images.amazon.com/images/P/0373257139.0...</td>\n      <td>http://images.amazon.com/images/P/0373257139.0...</td>\n      <td>http://images.amazon.com/images/P/0373257139.0...</td>\n      <td>0.0</td>\n      <td>3.0</td>\n      <td>9</td>\n    </tr>\n    <tr>\n      <th>270942</th>\n      <td>64455</td>\n      <td>9780373257126</td>\n      <td>2</td>\n      <td>0373257120</td>\n      <td>Some Kind Of Hero  (Mail Order Men) (Harlequin...</td>\n      <td>Sandy Steen</td>\n      <td>1996</td>\n      <td>harlequin</td>\n      <td>http://images.amazon.com/images/P/0373257120.0...</td>\n      <td>http://images.amazon.com/images/P/0373257120.0...</td>\n      <td>http://images.amazon.com/images/P/0373257120.0...</td>\n      <td>2.5</td>\n      <td>4.0</td>\n      <td>9</td>\n    </tr>\n    <tr>\n      <th>270943</th>\n      <td>139926</td>\n      <td>9780373288762</td>\n      <td>2</td>\n      <td>037328876X</td>\n      <td>Once A Maverick (Harlequin Historical, No 276)</td>\n      <td>Fern Michaels</td>\n      <td>1995</td>\n      <td>harlequin</td>\n      <td>http://images.amazon.com/images/P/037328876X.0...</td>\n      <td>http://images.amazon.com/images/P/037328876X.0...</td>\n      <td>http://images.amazon.com/images/P/037328876X.0...</td>\n      <td>0.0</td>\n      <td>1.0</td>\n      <td>10</td>\n    </tr>\n    <tr>\n      <th>270944</th>\n      <td>99571</td>\n      <td>9780373223862</td>\n      <td>2</td>\n      <td>0373223862</td>\n      <td>Tell Me No Lies  (The Mckenna Legacy) (Harlequ...</td>\n      <td>Patricia Rosemoor</td>\n      <td>1996</td>\n      <td>harlequin</td>\n      <td>http://images.amazon.com/images/P/0373223862.0...</td>\n      <td>http://images.amazon.com/images/P/0373223862.0...</td>\n      <td>http://images.amazon.com/images/P/0373223862.0...</td>\n      <td>0.0</td>\n      <td>1.0</td>\n      <td>9</td>\n    </tr>\n    <tr>\n      <th>270945</th>\n      <td>196216</td>\n      <td>9780373289196</td>\n      <td>2</td>\n      <td>0373289197</td>\n      <td>Battered Bride (Harlequin Historical, No 319)</td>\n      <td>Cheryl Reavis</td>\n      <td>1996</td>\n      <td>harlequin</td>\n      <td>http://images.amazon.com/images/P/0373289197.0...</td>\n      <td>http://images.amazon.com/images/P/0373289197.0...</td>\n      <td>http://images.amazon.com/images/P/0373289197.0...</td>\n      <td>0.0</td>\n      <td>3.0</td>\n      <td>9</td>\n    </tr>\n  </tbody>\n</table>\n<p>270946 rows × 14 columns</p>\n</div>"
     },
     "execution_count": 10,
     "metadata": {},
     "output_type": "execute_result"
    }
   ],
   "source": [
    "print(\"Predictions for:\")\n",
    "print(user)\n",
    "predictions.merge(books, on=\"isbn13\", how=\"left\")"
   ]
  }
 ],
 "metadata": {
  "kernelspec": {
   "display_name": "Python 3",
   "language": "python",
   "name": "python3"
  },
  "language_info": {
   "codemirror_mode": {
    "name": "ipython",
    "version": 3
   },
   "file_extension": ".py",
   "mimetype": "text/x-python",
   "name": "python",
   "nbconvert_exporter": "python",
   "pygments_lexer": "ipython3",
   "version": "3.10.8"
  },
  "vscode": {
   "interpreter": {
    "hash": "e7370f93d1d0cde622a1f8e1c04877d8463912d04d973331ad4851f04de6915a"
   }
  }
 },
 "nbformat": 4,
 "nbformat_minor": 5
}
